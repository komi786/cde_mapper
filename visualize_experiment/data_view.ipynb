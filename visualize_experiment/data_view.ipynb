{
 "cells": [
  {
   "cell_type": "code",
   "execution_count": 20,
   "metadata": {},
   "outputs": [
    {
     "name": "stdout",
     "output_type": "stream",
     "text": [
      "\n",
      "Total Queries:\n",
      "3593 total queries\n",
      "\n",
      "Number of Common Queries (with Similarity >= 0.8): 1529\n",
      "\n",
      "Unique Queries per File:\n",
      "/workspace/mapping_tool/data/eval_datasets/icare4cvd_reference/references_v3.txt: 294 unique queries\n",
      "/workspace/mapping_tool/data/eval_datasets/original_miid/mimic_mention.txt: 868 unique queries\n",
      "/workspace/mapping_tool/data/eval_datasets/original_bc5cdr-disease/combined_test_queries.txt: 637 unique queries\n",
      "/workspace/mapping_tool/data/eval_datasets/original_ncbi-disease/combined_test_queries.txt: 186 unique queries\n"
     ]
    }
   ],
   "source": [
    "from collections import defaultdict\n",
    "from difflib import SequenceMatcher\n",
    "\n",
    "# Define file paths\n",
    "files = [\n",
    "    \"/workspace/mapping_tool/data/eval_datasets/icare4cvd_reference/references_v3.txt\",\n",
    "    \"/workspace/mapping_tool/data/eval_datasets/original_miid/mimic_mention.txt\",\n",
    "    \"/workspace/mapping_tool/data/eval_datasets/original_bc5cdr-disease/combined_test_queries.txt\",\n",
    "    \"/workspace/mapping_tool/data/eval_datasets/original_ncbi-disease/combined_test_queries.txt\",\n",
    "]\n",
    "\n",
    "# Dictionary to store CUI and query names from each file\n",
    "file_queries = defaultdict(set)\n",
    "all_queries = []\n",
    "all_queries_unique = set()\n",
    "\n",
    "# Helper function to calculate similarity\n",
    "def is_similar(query1, query2, threshold=0.8):\n",
    "    return SequenceMatcher(None, query1, query2).ratio() >= threshold\n",
    "\n",
    "# Collect queries from each file\n",
    "for file in files:\n",
    "    with open(file, \"r\") as f:\n",
    "        lines = f.readlines()\n",
    "        for line in lines:\n",
    "            line_parts = str(line).strip().lower().split(\"||\")\n",
    "            if len(line_parts) >= 2:  # Handle lines with at least 2 parts\n",
    "                cui = line_parts[0].strip()\n",
    "                name = line_parts[1].strip()\n",
    "                query = name\n",
    "                file_queries[file].add(query)\n",
    "                all_queries.append(query)\n",
    "                all_queries_unique.add(query)\n",
    "\n",
    "# Check for common queries with similarity threshold\n",
    "common_queries = set()\n",
    "for query1 in all_queries_unique:\n",
    "    for query2 in all_queries_unique:\n",
    "        if query1 != query2 and is_similar(query1, query2):\n",
    "            common_queries.add(query1)\n",
    "            common_queries.add(query2)\n",
    "\n",
    "# Find unique queries for each file\n",
    "unique_queries = {\n",
    "    file: queries - common_queries for file, queries in file_queries.items()\n",
    "}\n",
    "\n",
    "# Display results\n",
    "print(\"\\nTotal Queries:\")\n",
    "print(f\"{len(all_queries)} total queries\")\n",
    "\n",
    "print(f\"\\nNumber of Common Queries (with Similarity >= 0.8): {len(common_queries)}\")\n",
    "print(\"\\nUnique Queries per File:\")\n",
    "for file, queries in unique_queries.items():\n",
    "    print(f\"{file}: {len(queries)} unique queries\")\n"
   ]
  },
  {
   "cell_type": "code",
   "execution_count": 21,
   "metadata": {},
   "outputs": [],
   "source": [
    "# now we have four dictionaries and we need to check wether the cuis for queries are referrning to same label or not\n"
   ]
  },
  {
   "cell_type": "code",
   "execution_count": 22,
   "metadata": {},
   "outputs": [
    {
     "name": "stdout",
     "output_type": "stream",
     "text": [
      "all queries: 2931\n",
      "\n",
      "Common Queries:\n",
      "0 common queries\n",
      "\n",
      "Unique Queries per File:\n",
      "/workspace/mapping_tool/data/eval_datasets/icare4cvd_reference/references_v3.txt: 515 unique queries\n",
      "/workspace/mapping_tool/data/eval_datasets/original_miid/mimic_mention.txt: 1566 unique queries\n",
      "/workspace/mapping_tool/data/eval_datasets/original_bc5cdr-disease/combined_test_queries.txt: 686 unique queries\n",
      "/workspace/mapping_tool/data/eval_datasets/original_ncbi-disease/combined_test_queries.txt: 230 unique queries\n"
     ]
    }
   ],
   "source": [
    "# Collect queries from each file\n",
    "file_queries = defaultdict(set)\n",
    "all_queries = set()\n",
    "for file in files:\n",
    "    with open(file, \"r\") as f:\n",
    "        lines = f.readlines()\n",
    "        for line in lines:\n",
    "            line_parts = str(line).strip().lower().split(\"||\")\n",
    "            if len(line_parts) >= 2:  # Handle lines with at least 2 parts\n",
    "                cui = line_parts[0].strip()\n",
    "                name = line_parts[1].strip()\n",
    "                cuis = cui.split(\"|\")\n",
    "                for cui in cuis:\n",
    "                    file_queries[file].add(cui)\n",
    "                    all_queries.add(cui)\n",
    "\n",
    "print(f\"all queries: {len(all_queries)}\")\n",
    "# Find common and unique queries\n",
    "common_queries = set.intersection(*file_queries.values())\n",
    "unique_queries = {\n",
    "    file: queries - common_queries for file, queries in file_queries.items()\n",
    "}\n",
    "# show common quueries\n",
    "print(\"\\nCommon Queries:\")\n",
    "print(f\"{len(common_queries)} common queries\")\n",
    "\n",
    "print(\"\\nUnique Queries per File:\")\n",
    "for file, queries in unique_queries.items():\n",
    "    print(f\"{file}: {len(queries)} unique queries\")"
   ]
  },
  {
   "cell_type": "code",
   "execution_count": null,
   "metadata": {},
   "outputs": [],
   "source": []
  }
 ],
 "metadata": {
  "kernelspec": {
   "display_name": "Python 3",
   "language": "python",
   "name": "python3"
  },
  "language_info": {
   "codemirror_mode": {
    "name": "ipython",
    "version": 3
   },
   "file_extension": ".py",
   "mimetype": "text/x-python",
   "name": "python",
   "nbconvert_exporter": "python",
   "pygments_lexer": "ipython3",
   "version": "3.10.12"
  }
 },
 "nbformat": 4,
 "nbformat_minor": 2
}
