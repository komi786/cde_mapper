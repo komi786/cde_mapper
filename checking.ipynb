{
 "cells": [
  {
   "cell_type": "code",
   "execution_count": 7,
   "id": "106d31e8",
   "metadata": {},
   "outputs": [],
   "source": [
    "\n",
    "from langchain_qdrant import FastEmbedSparse, RetrievalMode\n",
    "from qdrant_client import QdrantClient\n",
    "from qdrant_client.http.models import Distance\n",
    "import qdrant_client.http.models as rest\n",
    "from rag.param import VECTOR_PATH, QDRANT_PORT, EMB_MODEL_NAME, LLM_ID\n",
    "import time\n",
    "from rag.qdrant import CustomQdrantVectorStore\n",
    "from rag.llm_chain import pass_to_chat_llm_chain\n",
    "from rag.athena_api_retriever import RetrieverAthenaAPI, AthenaFilters\n",
    "from langchain_community.retrievers import BM25Retriever\n",
    "\n",
    "def check_collection_exists(collection_name:str):\n",
    "    \"\"\"Check if a collection exists in Qdrant.\"\"\"\n",
    "    client = QdrantClient(url=VECTOR_PATH, port=QDRANT_PORT, https=False, timeout=300)\n",
    "    try:\n",
    "        exists = client.collection_exists(collection_name)\n",
    "        collections = client.get_collections()\n",
    "        print(f\"Available collections: {[col.name for col in collections]}\")\n",
    "        print(f\"Collection '{collection_name}' exists: {exists}\")\n",
    "        return exists\n",
    "    except Exception as e:\n",
    "        print(f\"Error checking collection existence: {e}\")\n",
    "        return False\n"
   ]
  },
  {
   "cell_type": "code",
   "execution_count": 8,
   "id": "7f4adb87",
   "metadata": {},
   "outputs": [
    {
     "name": "stdout",
     "output_type": "stream",
     "text": [
      "Error checking collection existence: Unexpected Response: 400 (Bad Request)\n",
      "Raw response content:\n",
      "b'<html>\\r\\n<head><title>400 The plain HTTP request was sent to HTTPS port</title></head>\\r\\n<body>\\r\\n<center><h1>400 Bad Request</h1></center>\\r\\n<center>The plain HTTP request was sent to HTTPS port</cent ...'\n"
     ]
    },
    {
     "name": "stderr",
     "output_type": "stream",
     "text": [
      "/var/folders/x_/61j81pd10cz3p2817k0pxdj00000gn/T/ipykernel_3529/2872742042.py:14: UserWarning: Failed to obtain server version. Unable to check client-server compatibility. Set check_compatibility=False to skip version check.\n",
      "  client = QdrantClient(url=VECTOR_PATH, port=QDRANT_PORT, https=False, timeout=300)\n"
     ]
    },
    {
     "data": {
      "text/plain": [
       "False"
      ]
     },
     "execution_count": 8,
     "metadata": {},
     "output_type": "execute_result"
    }
   ],
   "source": [
    "check_collection_exists(\"concept_mapping_1\")"
   ]
  }
 ],
 "metadata": {
  "kernelspec": {
   "display_name": "cde-mapper-py3.10",
   "language": "python",
   "name": "python3"
  },
  "language_info": {
   "codemirror_mode": {
    "name": "ipython",
    "version": 3
   },
   "file_extension": ".py",
   "mimetype": "text/x-python",
   "name": "python",
   "nbconvert_exporter": "python",
   "pygments_lexer": "ipython3",
   "version": "3.10.17"
  }
 },
 "nbformat": 4,
 "nbformat_minor": 5
}
