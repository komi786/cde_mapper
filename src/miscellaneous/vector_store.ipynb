{
 "cells": [
  {
   "cell_type": "code",
   "execution_count": 1,
   "metadata": {},
   "outputs": [
    {
     "name": "stderr",
     "output_type": "stream",
     "text": [
      "/usr/local/lib/python3.10/dist-packages/transformers/tokenization_utils_base.py:1601: FutureWarning: `clean_up_tokenization_spaces` was not set. It will be set to `True` by default. This behavior will be depracted in transformers v4.45, and will be then set to `False` by default. For more details check this issue: https://github.com/huggingface/transformers/issues/31884\n",
      "  warnings.warn(\n",
      "2024-09-06 20:08:12,349 - rag.utils - INFO - Semantic Type: True\n"
     ]
    }
   ],
   "source": [
    "# import faiss\n",
    "# from langchain_community.docstore.in_memory import InMemoryDocstore\n",
    "# from langchain_community.vectorstores.faiss import FAISS\n",
    "import sys\n",
    "sys.path.append('/workspace/mapping_tool')  # Assuming this is the root directory\n",
    "from rag.bi_encoder import SAPEmbeddings\n",
    "embeddings = SAPEmbeddings()\n",
    "# index = faiss.IndexFlatL2(len(embeddings.embed_query(\"hello worlds\")))\n",
    "\n",
    "# vector_store = FAISS(\n",
    "#     embedding_function=embeddings,\n",
    "#     index=index,\n",
    "#     docstore=InMemoryDocstore(),\n",
    "#     index_to_docstore_id={},\n",
    "# )"
   ]
  },
  {
   "cell_type": "code",
   "execution_count": 2,
   "metadata": {},
   "outputs": [
    {
     "name": "stdout",
     "output_type": "stream",
     "text": [
      "Opening file...\n"
     ]
    },
    {
     "name": "stderr",
     "output_type": "stream",
     "text": [
      "Loading Documents: 1000it [00:00, 1146.48it/s]"
     ]
    },
    {
     "name": "stdout",
     "output_type": "stream",
     "text": [
      "Total Unique Documents: 1000\n",
      "\n",
      "page_content='concept name:alimentary tract and metabolism, synonyms:, domain:drug, concept Class:atc 1st, vocabulary:atc' metadata={'label': 'alimentary tract and metabolism', 'domain': 'drug', 'concept_class': 'atc 1st', 'vocab': 'atc', 'parent_term': '', 'scode': 'A', 'sid': '21600001', 'synonyms': '', 'has_answers': '', 'is_standard': 'C', 'vector': [[0.055979568511247635, -0.29887762665748596, 0.44734054803848267, -0.2205943465232849, 0.22514361143112183, -0.16349554061889648, 0.29436439275741577, 0.3582160770893097, -0.10512715578079224, 0.3218802809715271, -0.2537801265716553, -0.2312815934419632, 0.4727074205875397, 0.08076423406600952, -1.3948839902877808, 0.1963689774274826, -0.10144656896591187, -0.06201427802443504, 0.17835527658462524, 0.305111825466156, 0.11926195025444031, 0.21886682510375977, -0.33678650856018066, -0.5477790832519531, -0.3273129463195801, -0.2729000151157379, -0.24795779585838318, 0.07131101191043854, -0.03796863555908203, -0.20839238166809082, 0.47266972064971924, 0.32677286863327026, 0.02321099489927292, 0.470431923866272, 0.3219035267829895, -0.3457314670085907, 0.25644633173942566, 0.34543949365615845, -0.03198184072971344, 0.2795325815677643, 0.027605995535850525, -0.19407419860363007, -0.15370938181877136, -0.08307354897260666, -0.013073958456516266, 0.2369321584701538, 0.21678847074508667, 0.2496025711297989, 0.04709412157535553, 0.11771677434444427, 0.8719683885574341, -0.4617854356765747, 0.16195708513259888, -0.3102058172225952, 0.6485127210617065, 0.1393144428730011, 0.34871941804885864, 0.057700298726558685, -0.4329559803009033, 0.08635502308607101, -0.4066666066646576, 0.1522044837474823, -0.32424187660217285, -0.2832762598991394, 0.27975553274154663, -0.24386711418628693, -0.6078788042068481, 0.019298791885375977, -0.3144769072532654, -0.3526766896247864, 0.6130643486976624, -0.09801359474658966, -0.23416538536548615, 0.22468048334121704, -0.024939924478530884, 0.026283089071512222, 0.341781347990036, -0.615828812122345, 0.5923384428024292, -0.07122208923101425, -0.4180755615234375, 0.1430129110813141, -0.5230331420898438, 0.22546657919883728, -0.8937298059463501, 0.09277689456939697, 0.0032452940940856934, 0.2068590521812439, -0.3228546977043152, 0.4307098686695099, 0.4083307981491089, -0.0389079749584198, -0.6667635440826416, 0.023354873061180115, 0.08707289397716522, -0.2882944941520691, -0.18361693620681763, 0.009824320673942566, -0.014938943088054657, -0.23880596458911896, -0.6843146681785583, 0.19183818995952606, 0.13577450811862946, 0.216571643948555, -0.8233131170272827, 0.09081238508224487, 0.455254465341568, 0.03576244041323662, -0.9462567567825317, -0.47930699586868286, 0.5877424478530884, -0.9304051399230957, -0.46849125623703003, 0.45979443192481995, -0.6128175258636475, 0.8058874607086182, 0.1620793342590332, -0.03117997944355011, -0.5432199239730835, 0.5420427918434143, -0.958063006401062, 0.4892400801181793, -0.24261273443698883, -0.1595190018415451, -0.169610857963562, -0.1271456778049469, 0.12169155478477478, 0.04127413034439087, -0.6622632145881653, 0.6306124925613403, 0.2244831919670105, -0.9053388237953186, 0.32587653398513794, -0.18374617397785187, -0.5982618927955627, 0.09605059027671814, 0.09687106311321259, 0.2822199761867523, -0.32416051626205444, 0.2232133001089096, -0.6234409213066101, 0.07140031456947327, -0.28771984577178955, -0.0763992965221405, -0.2828601598739624, -0.9091426730155945, -0.474412739276886, 0.2238088995218277, 0.059077609330415726, -0.12225580960512161, -0.05435652285814285, -0.3288397192955017, -0.6907073259353638, -0.1829664707183838, 0.31019237637519836, 0.34926077723503113, -0.6102843284606934, 0.6094857454299927, -0.6032783389091492, -0.1096971333026886, 0.573651909828186, -0.21627171337604523, 0.34797146916389465, 0.22769296169281006, -0.22299346327781677, 0.601925253868103, -0.16577312350273132, -0.6268705129623413, -0.7149078845977783, -0.16073206067085266, -0.2583230137825012, 0.1270158290863037, -0.22429035604000092, 0.298936665058136, -0.0157456174492836, -0.223631352186203, -0.0953812301158905, 0.06301310658454895, -0.41696298122406006, 0.18080975115299225, -0.2890685200691223, -0.48113399744033813, 0.017295606434345245, -0.6899420619010925, 0.15175600349903107, -0.6968432664871216, -0.6234042644500732, 0.03401990234851837, 0.07460038363933563, 0.07947301864624023, 0.28631407022476196, 0.2208075225353241, -0.557517409324646, -0.32568657398223877, -0.681856632232666, -0.2148856669664383, 0.25050151348114014, 0.792624831199646, 0.7109423875808716, 0.3100205063819885, -0.20159609615802765, 0.341381698846817, -0.8235955238342285, -0.43195635080337524, 0.07015485316514969, -0.2668748199939728, 0.9613333940505981, 0.03896409273147583, 0.24694927036762238, -0.1370762437582016, -0.09058129787445068, 0.6547113656997681, -0.06613478064537048, -0.11639738082885742, 0.11648312956094742, -0.0642261654138565, 0.5036960244178772, 0.49365872144699097, 0.07696846127510071, -0.05038268864154816, -0.09446888417005539, -0.6861947774887085, -0.04273995757102966, -0.19521178305149078, 0.05461117625236511, 0.019991669803857803, -0.3097466826438904, -0.024595685303211212, -0.09991329908370972, 0.03118406981229782, -0.3998417854309082, -0.7362319231033325, -0.17523795366287231, 0.6653837561607361, 0.2861522436141968, 0.35288387537002563, -1.1081658601760864, 0.7775778770446777, -0.07847078889608383, 0.19743259251117706, 0.4732118546962738, -0.6772875189781189, -0.24812360107898712, 0.1820400059223175, 0.07526885718107224, 0.348410427570343, 0.9789630174636841, -0.17499476671218872, -1.130997657775879, -0.09181791543960571, -0.06951027363538742, 0.10825757682323456, 0.3005121946334839, -0.7254077792167664, 0.14171111583709717, 0.472992479801178, -0.21039313077926636, -0.9811775088310242, 0.3392421305179596, 0.11847992241382599, -0.13483089208602905, -0.06820150464773178, -0.23018231987953186, 0.4983624219894409, 0.6216660141944885, -0.032075073570013046, -0.014493763446807861, -0.0012976229190826416, -0.5855234861373901, -0.6589557528495789, -0.08285154402256012, 0.362488329410553, 0.7536672353744507, -0.28372442722320557, -0.10245873034000397, -0.7410688996315002, -0.32135021686553955, -0.9457149505615234, 0.05711949244141579, -1.0274550914764404, 0.2189904898405075, 0.6464012861251831, -0.37326666712760925, -0.02889275550842285, 0.24072498083114624, 0.6066639423370361, 0.08583786338567734, -0.2558329105377197, -0.7271353006362915, -0.10178742557764053, -0.11162802577018738, -0.08248624205589294, -0.028387486934661865, 0.48661938309669495, 0.4349369406700134, -0.4975356161594391, -0.23021173477172852, 0.5444194078445435, 0.01576601341366768, 0.10042218863964081, 0.3484771251678467, -0.7278611660003662, 0.28314685821533203, 0.01564132422208786, 0.5395137667655945, 0.03458689525723457, -0.7817518711090088, 0.36091092228889465, 0.04199764132499695, -0.062439508736133575, 0.04983590543270111, 0.19953367114067078, 0.14634156227111816, 0.9933232665061951, -0.19956916570663452, 0.1434863954782486, 0.17814838886260986, -0.19462943077087402, -0.22512094676494598, 0.0025341957807540894, -0.21946918964385986, -0.15950064361095428, 0.050844527781009674, -0.032474227249622345, -0.3788723945617676, -0.043558038771152496, -0.28588756918907166, -0.6312697529792786, 0.19856368005275726, -0.16836853325366974, 0.5629567503929138, 0.17176596820354462, 0.3344026505947113, -0.3281686305999756, -0.09612727165222168, 0.42871224880218506, -0.3197600841522217, 0.37946581840515137, 0.6483813524246216, 0.18422472476959229, 0.08554583787918091, 1.092372179031372, 0.4463522136211395, 0.5077607035636902, -0.14344197511672974, -0.1703798770904541, -0.19700738787651062, -0.30001482367515564, 0.093668133020401, -0.014484201557934284, 0.34368714690208435, -0.2089402973651886, -0.45429787039756775, -0.11133067309856415, 0.1215059757232666, 0.43111878633499146, -0.6813279390335083, -0.4408676028251648, -0.27697157859802246, 0.11699248850345612, 0.006867788732051849, 0.043049156665802, 0.17818482220172882, 0.40006023645401, 0.3820483982563019, -0.18194788694381714, 0.01630854606628418, -0.3370038568973541, -0.060496166348457336, -0.575968861579895, -0.4599645137786865, 0.2325727641582489, 0.2596200108528137, 0.37604159116744995, 0.28737151622772217, 0.2629217505455017, 0.2649635672569275, -0.12149176001548767, -0.08598850667476654, -0.19084466993808746, 1.1438554525375366, -0.05139092728495598, 0.3289101719856262, 0.5185786485671997, 0.7964463829994202, -0.11184817552566528, -0.05263090133666992, -0.35877954959869385, 0.030383864417672157, -0.6084526181221008, -1.4627094268798828, 0.6627998352050781, -0.012329768389463425, 0.32887712121009827, -0.35424625873565674, -0.8313363790512085, -0.12599217891693115, 0.2302822470664978, -0.05037161707878113, -0.07126946747303009, 0.14633232355117798, 0.10898125171661377, 0.36672157049179077, 0.0738983228802681, -0.06771907210350037, 0.09898456931114197, 0.5637212991714478, 0.33179956674575806, -0.33627501130104065, 0.4733070731163025, -0.0239401888102293, 0.5412242412567139, 0.2894933223724365, 0.23387554287910461, -0.22012490034103394, 0.23590655624866486, -0.16999347507953644, 0.7856754064559937, -0.7965188026428223, -0.5262760519981384, 0.7643119692802429, -0.09408443421125412, -0.37972521781921387, 0.08467245101928711, -5.911953449249268, 0.021251142024993896, 0.04266979917883873, -0.12027700245380402, 0.09052358567714691, 0.3929397463798523, -0.15193051099777222, 0.8530153036117554, -0.21119332313537598, 0.12041956186294556, 0.29263627529144287, 0.3591235876083374, -0.24455887079238892, -0.302458256483078, -0.3718140125274658, -0.16572120785713196, 0.39551469683647156, 0.17124953866004944, -0.3392602801322937, 0.059792228043079376, 0.042565420269966125, 0.433538556098938, -0.21455219388008118, -0.39150744676589966, 0.03141148388385773, -0.40512460470199585, 0.39358580112457275, 0.41609078645706177, -0.3769017457962036, 0.38651418685913086, 0.15118589997291565, 0.5396642088890076, -0.5806807279586792, -0.5710201263427734, 0.19703859090805054, 0.1712169051170349, 0.0073098838329315186, -0.540370523929596, -0.3112906217575073, -0.39755481481552124, 0.2918711006641388, 0.4625796675682068, 0.4458421468734741, 0.27273809909820557, -0.13119255006313324, -0.4032078683376312, -0.4161316454410553, -1.0666054487228394, -0.5799804925918579, -0.27939456701278687, 0.5854097008705139, -0.07498357445001602, 0.5331909656524658, -0.7737603783607483, -1.0174747705459595, 0.07869592308998108, 0.7121602296829224, -0.3337032198905945, -0.04205993935465813, 0.22877150774002075, -0.2858791947364807, -0.6528607606887817, 0.18606145679950714, -0.002531975507736206, 0.23807308077812195, -0.4336864650249481, -0.35214897990226746, -0.305520236492157, 0.07278139144182205, 0.09643501788377762, 0.1326037049293518, 0.3168480396270752, 0.3764476478099823, 0.6704927682876587, 0.058821238577365875, 0.4579737186431885, -0.41977572441101074, -0.04551537707448006, 1.4296472072601318, -0.4654410481452942, 0.1903916448354721, -0.2600594758987427, -0.6079299449920654, 0.4107961058616638, 0.15375378727912903, -0.22062374651432037, 0.3659425377845764, -0.6238313913345337, 0.38846731185913086, 0.31184130907058716, 0.3027535676956177, 0.10258431732654572, -0.8957492113113403, 0.32087671756744385, 0.14676305651664734, -0.7739238142967224, 0.3174440264701843, 0.11337614059448242, -0.008752793073654175, 0.3499325215816498, -0.44620341062545776, -0.2477627396583557, -0.3795066773891449, 0.09128139168024063, 0.393404096364975, -0.8455832600593567, 0.42928364872932434, 0.4253597855567932, 0.049781329929828644, 0.004043594002723694, 0.16984957456588745, 0.3084943890571594, -0.12441558390855789, -0.12477034330368042, -0.04851368069648743, -0.2998356819152832, -0.10565195232629776, -0.3726916015148163, -0.15072762966156006, 0.2570512592792511, -0.1553950309753418, 0.6634300947189331, -0.794028639793396, -0.6875505447387695, 0.04139968752861023, 0.7760411500930786, 0.17504172027111053, -0.2613644003868103, 1.257204294204712, -0.888458788394928, -0.2891984283924103, 0.5013675689697266, -0.713909387588501, 1.1036027669906616, -0.13385522365570068, -0.04755398631095886, -0.4717619717121124, -0.34221604466438293, 0.12959718704223633, -0.1931752860546112, -0.2005344033241272, 0.43349704146385193, -0.00404570996761322, 1.340561866760254, -0.30584287643432617, -0.7897770404815674, 0.4848519563674927, -0.1716827154159546, -0.14446516335010529, 0.22249288856983185, -0.15942591428756714, -0.5988030433654785, 0.10526781529188156, 0.6984716653823853, -0.0011008977890014648, -0.3254932463169098, 0.17446579039096832, -1.130331039428711, -0.19679422676563263, 0.026882272213697433, -0.043009161949157715, -0.1446782499551773, -0.0604204386472702, 0.8550271987915039, -0.43607404828071594, 0.8545483350753784, 0.5882936120033264, -0.5410410761833191, 0.11499817669391632, 0.48111265897750854, 0.8586175441741943, -0.4988299608230591, -0.08532232791185379, -0.3725971579551697, 0.022063935175538063, -0.3160208761692047, -0.22342245280742645, -0.08700321614742279, -0.5585231184959412, -0.5360560417175293, -0.2834174335002899, 0.7828921675682068, -0.0993940532207489, -0.27267569303512573, -0.048208124935626984, -0.34028592705726624, -0.6309592127799988, 0.5940203666687012, 0.5955176949501038, -0.009478770196437836, 0.08984609693288803, 0.40744665265083313, -0.06285134702920914, -0.9093496203422546, 0.17697548866271973, 0.46719247102737427, 0.5837330222129822, 0.16570760309696198, -0.6111623048782349, -0.087232306599617, 0.16925963759422302, -0.1970941722393036, -0.2723434865474701, -0.2694387435913086, 0.21333763003349304, 0.5423793792724609, -0.628150224685669, 0.7460473775863647, 0.15787456929683685, 0.1180199533700943, 0.01593206822872162, 0.013111494481563568, -0.10192304849624634, -0.2806036174297333, -0.2909906804561615, -0.5335814952850342, 0.003883328288793564, 0.2569655179977417, -0.6218522191047668, -0.2531612813472748, 0.3762779235839844, 0.25010356307029724, 0.2958325147628784, 0.18818415701389313, -0.36756205558776855, 1.188969612121582, 0.2435336410999298, 0.09168992936611176, -0.1911899447441101, -0.1146891862154007, 0.2829192280769348, -0.3902184069156647, 0.15582120418548584, 0.3441772162914276, 0.37062129378318787, 0.28694015741348267, -0.23705743253231049, -0.08961130678653717, 0.16220006346702576, -0.22205564379692078, -0.23915213346481323, -0.14865344762802124, -0.19808830320835114, 0.12036949396133423, 0.44562768936157227, 0.5030288696289062, -0.5068864822387695, -0.3185969591140747, -0.2425658255815506, 0.1046743243932724, -0.05979616567492485, -0.47243285179138184, -0.42476388812065125, -0.7263894081115723, -0.3125153183937073, 0.3977782726287842, 0.3445141911506653, -0.2326761782169342, 0.4294393062591553, -0.4909222722053528, -0.8298884034156799, -0.2425512671470642, 0.6044754981994629, -0.18510770797729492, -0.3638254702091217, 0.044219039380550385, 0.25804609060287476, 0.38632434606552124, 0.4132939577102661, 0.4412097930908203, -0.6421245336532593, -0.5108829140663147, 0.17424413561820984, 0.4196888208389282, 0.40426963567733765, -0.0589044950902462, -0.1325945109128952, 0.24347266554832458, 0.19919854402542114, -0.2406492829322815, -0.20406147837638855, 0.2973563075065613, 0.18568924069404602, 0.023957252502441406, 0.2045305073261261, -0.34324198961257935, 0.13039548695087433, 0.07005073130130768, -0.23149028420448303, -0.7410596609115601, -0.4404052495956421, -0.06636063754558563, 0.28649401664733887, -0.5335102677345276, -0.08331526815891266, 0.6778018474578857, -0.15311262011528015, 1.0967687368392944, -0.2130124270915985, 0.5879903435707092, 0.30785977840423584, 0.13969433307647705, 0.15393275022506714, -0.002279818058013916, 0.5767356753349304, -0.27939295768737793, -0.04308237135410309, -0.6174602508544922, 0.2436523139476776, 1.2578250169754028, 0.2998322546482086, -0.6074566841125488, -0.11569945514202118, -0.4515652656555176, -0.21490567922592163, -0.021817050874233246, -0.8293631076812744, 0.2789539396762848, -0.2364565134048462, 0.0796428769826889, 0.6537368297576904, 0.569108247756958, 0.3820646405220032, -0.0589715950191021, 0.1831478476524353, 0.6408451795578003, -0.21257419884204865, -0.40289655327796936, -0.528916597366333, -0.3392798900604248, -0.11629093438386917, -0.23268267512321472, -0.25376513600349426, 0.842057466506958, -0.44383716583251953, -0.1491224765777588, 0.23016151785850525, -0.17537516355514526, -0.4918963313102722, 0.4095397889614105, -0.3022014796733856, 0.36830735206604004, 1.1072919368743896, 0.4111403822898865]]}\n"
     ]
    },
    {
     "name": "stderr",
     "output_type": "stream",
     "text": [
      "\n"
     ]
    }
   ],
   "source": [
    "from rag.utils import load_docs_from_jsonl\n",
    "from uuid import uuid4\n",
    "docs = load_docs_from_jsonl('/workspace/mapping_tool/data/output/sapbert_emb_docs_json.jsonl')\n",
    "print(docs[0])\n",
    "\n"
   ]
  },
  {
   "cell_type": "code",
   "execution_count": 3,
   "metadata": {},
   "outputs": [
    {
     "data": {
      "application/vnd.jupyter.widget-view+json": {
       "model_id": "5c5539cd7fa74e76b461c1a1fdad0511",
       "version_major": 2,
       "version_minor": 0
      },
      "text/plain": [
       "Fetching 6 files:   0%|          | 0/6 [00:00<?, ?it/s]"
      ]
     },
     "metadata": {},
     "output_type": "display_data"
    },
    {
     "name": "stderr",
     "output_type": "stream",
     "text": [
      "Embedding Documents:   0%|          | 0/1 [00:00<?, ?doc/s]2024-09-06 20:08:13,979 - rag.utils - INFO - embed documents\n",
      "Embedding Documents: 100%|██████████| 1/1 [00:00<00:00,  7.41doc/s]\n"
     ]
    },
    {
     "name": "stdout",
     "output_type": "stream",
     "text": [
      "entity=dummy_text, synonyms=None, parent_term=None\n"
     ]
    },
    {
     "name": "stderr",
     "output_type": "stream",
     "text": [
      "0it [00:00, ?it/s]2024-09-06 20:08:14,599 - rag.utils - INFO - embed documents\n",
      "\n"
     ]
    },
    {
     "name": "stdout",
     "output_type": "stream",
     "text": [
      "entity=alimentary tract and metabolism, synonyms=None, parent_term=drug\n",
      "entity=caries prophylactic agents, synonyms=None, parent_term=drug\n",
      "entity=sodium fluoride; oral, local oral (caries prophylactic agents), synonyms=['domiphen / sodium chloride / sodium fluoride toothpaste', 'monofluorophosphate / sodium fluoride oral gel', 'hydrofluoric acid / sodium fluoride oral gel', 'sodium fluoride oral gel', 'carbamide peroxide / sodium fluoride oral gel', 'calcium carbonate / sodium fluoride oral tablet', 'calcium fluoride / sodium fluoride oral suspension', 'sodium fluoride oral solution', 'sodium fluoride / xylitol mouthwash', 'ascorbic acid / folic acid / niacinamide / riboflavin / sodium fluoride / thiamine / vitamin a / vitamin b 12 / vitamin b6 / vitamin d / vitamin e oral tablet'], parent_term=drug\n",
      "entity=sodium monofluorophosphate; oral, local oral (caries prophylactic agents), synonyms=None, parent_term=drug\n",
      "entity=olaflur; oral, local oral, synonyms=None, parent_term=drug\n",
      "entity=stannous fluoride; oral, local oral, synonyms=['stannous fluoride paste', 'stannous fluoride oral powder', 'hydrofluoric acid / sodium fluoride / stannous fluoride oral solution', 'stannous fluoride topical gel', 'stannous fluoride oral gel', 'stannous fluoride topical solution', 'sodium fluoride / stannous fluoride mouthwash', 'stannous fluoride toothpaste', 'stannous fluoride oral solution', 'stannous fluoride oral cream'], parent_term=drug\n",
      "entity=combinations; oral, local oral (caries prophylactic agents), synonyms=None, parent_term=drug\n",
      "entity=sodium fluoride, combinations; oral, local oral, synonyms=None, parent_term=drug\n"
     ]
    },
    {
     "name": "stderr",
     "output_type": "stream",
     "text": [
      "Embedding Documents:  12%|█▎        | 8/64 [00:00<00:01, 41.28doc/s]\u001b[A"
     ]
    },
    {
     "name": "stdout",
     "output_type": "stream",
     "text": [
      "entity=antiinfectives and antiseptics for local oral treatment, synonyms=None, parent_term=drug\n",
      "entity=hydrogen peroxide; local oral, synonyms=['hydrogen peroxide mouthwash', 'hydrogen peroxide 60 mg oral product', 'hydrogen peroxide / sodium bicarbonate oral gel', 'hydrogen peroxide', 'chlorhexidine / ethanol / hydrogen peroxide oral solution', 'acetic acid / hydrogen peroxide oral solution', 'hydrogen peroxide oral solution', 'edetic acid / hydrogen peroxide / urea oral gel', 'hydrogen peroxide oral gel', 'hydrogen peroxide / povidone-iodine mouthwash'], parent_term=drug\n",
      "entity=chlorhexidine; oral, local oral (stomatological prep.), synonyms=None, parent_term=drug\n",
      "entity=amphotericin b; local oral, synonyms=None, parent_term=drug\n",
      "entity=polynoxylin; local oral, synonyms=None, parent_term=drug\n",
      "entity=domiphen; local oral, synonyms=None, parent_term=drug\n",
      "entity=neomycin; local oral, synonyms=None, parent_term=drug\n",
      "entity=miconazole; local oral, synonyms=None, parent_term=drug\n",
      "entity=natamycin; local oral, synonyms=None, parent_term=drug\n",
      "entity=hexetidine; local oral, synonyms=None, parent_term=drug\n",
      "entity=tetracycline; local oral, synonyms=None, parent_term=drug\n",
      "entity=benzoxonium chloride; local oral, synonyms=None, parent_term=drug\n",
      "entity=tibezonium iodide; local oral, synonyms=None, parent_term=drug\n"
     ]
    },
    {
     "name": "stderr",
     "output_type": "stream",
     "text": []
    },
    {
     "name": "stdout",
     "output_type": "stream",
     "text": [
      "entity=mepartricin; local oral, synonyms=None, parent_term=drug\n",
      "entity=metronidazole; local oral, synonyms=None, parent_term=drug\n",
      "entity=clotrimazole; local oral, synonyms=None, parent_term=drug\n",
      "entity=sodium perborate; local oral, synonyms=['sodium bitartrate / sodium perborate powder for oral solution', 'antiinfectives and antiseptics for local oral treatment', 'sodium perborate', 'sodium perborate mouthwash', 'sodium / sodium perborate oral powder', 'sodium bitartrate / sodium perborate oral solution'], parent_term=drug\n",
      "entity=chlortetracycline; local oral, synonyms=None, parent_term=drug\n",
      "entity=doxycycline; local oral, synonyms=None, parent_term=drug\n",
      "entity=minocycline; local oral, synonyms=None, parent_term=drug\n",
      "entity=corticosteroids for local oral treatment, synonyms=None, parent_term=drug\n",
      "entity=triamcinolone; local oral, synonyms=None, parent_term=drug\n",
      "entity=dexamethasone; local oral, synonyms=None, parent_term=drug\n",
      "entity=hydrocortisone; local oral, synonyms=None, parent_term=drug\n",
      "entity=prednisolone, combinations; local oral, synonyms=None, parent_term=drug\n",
      "entity=other agents for local oral treatment, synonyms=None, parent_term=drug\n"
     ]
    },
    {
     "name": "stderr",
     "output_type": "stream",
     "text": []
    },
    {
     "name": "stdout",
     "output_type": "stream",
     "text": [
      "entity=epinephrine; local oral, synonyms=['activated charcoal / araneus diadematus preparation / barberry extract / burdock root extract / calcium sulfide / canada goldenrod pollen extract / conium maculatum preparation / epinephrine / glycyrrhiza glabra extract / ... oral solution', 'activated charcoal / astragalus preparation / candida parapsilosis / echinacea angustifolia extract / epinephrine / hydrastis canadensis whole preparation / iodine / lycopodium clavatum preparation / phosphoric acid / ... oral solution', 'activated charcoal / dibasic potassium phosphate / epinephrine / glycyrrhiza glabra extract / iodine / lycopodium clavatum preparation / oats preparation / phosphoric acid / sarsaparilla preparation / sodium chloride oral solution', 'activated charcoal / astragalus preparation / baptisia tinctoria extract / belladonna extract, usp / echinacea angustifolia extract / epinephrine / ferrous phosphate / hydrastis canadensis whole preparation / ... oral solution', 'actaea racemosa whole extract / activated charcoal / bos taurus ovary preparation / epinephrine / fucus vesiculosus extract / glycyrrhiza glabra extract / iodine / juniperus sabina leaf / murex purpurea / posterior pituitary hormones / ... oral solution', 'activated charcoal / barberry extract / belladonna extract, usp / burdock root extract / croton eluteria bark extract / elymus repens whole extract / epinephrine / glycerin / glycyrrhiza glabra extract / iodine / liverwort / ... oral solution', 'canada goldenrod pollen extract / epinephrine / euphrasia officinalis preparation / histamine / liverwort / phosphorus / potassium iodide / pulsatilla koreana whole extract / silver ragweed pollen extract / sulfur oral solution', 'activated charcoal / araneus diadematus preparation / barberry extract / burdock root extract / calcium sulfide / conium maculatum preparation / epinephrine / greater celandine / hydrastis canadensis whole preparation / ... oral solution', 'astragalus preparation / echinacea angustifolia extract / epinephrine / hexafluorosilicate / juniper berry oil / oats preparation / phosphoric acid / picrate / pulsatilla koreana whole extract / saw palmetto extract / selenium / ... oral solution', 'epinephrine oral solution'], parent_term=drug\n",
      "entity=epinephrine; local oral, synonyms=['activated charcoal / araneus diadematus preparation / barberry extract / burdock root extract / calcium sulfide / canada goldenrod pollen extract / conium maculatum preparation / epinephrine / glycyrrhiza glabra extract / ... oral solution', 'activated charcoal / astragalus preparation / candida parapsilosis / echinacea angustifolia extract / epinephrine / hydrastis canadensis whole preparation / iodine / lycopodium clavatum preparation / phosphoric acid / ... oral solution', 'activated charcoal / dibasic potassium phosphate / epinephrine / glycyrrhiza glabra extract / iodine / lycopodium clavatum preparation / oats preparation / phosphoric acid / sarsaparilla preparation / sodium chloride oral solution', 'activated charcoal / astragalus preparation / baptisia tinctoria extract / belladonna extract, usp / echinacea angustifolia extract / epinephrine / ferrous phosphate / hydrastis canadensis whole preparation / ... oral solution', 'actaea racemosa whole extract / activated charcoal / bos taurus ovary preparation / epinephrine / fucus vesiculosus extract / glycyrrhiza glabra extract / iodine / juniperus sabina leaf / murex purpurea / posterior pituitary hormones / ... oral solution', 'activated charcoal / barberry extract / belladonna extract, usp / burdock root extract / croton eluteria bark extract / elymus repens whole extract / epinephrine / glycerin / glycyrrhiza glabra extract / iodine / liverwort / ... oral solution', 'canada goldenrod pollen extract / epinephrine / euphrasia officinalis preparation / histamine / liverwort / phosphorus / potassium iodide / pulsatilla koreana whole extract / silver ragweed pollen extract / sulfur oral solution', 'activated charcoal / araneus diadematus preparation / barberry extract / burdock root extract / calcium sulfide / conium maculatum preparation / epinephrine / greater celandine / hydrastis canadensis whole preparation / ... oral solution', 'astragalus preparation / echinacea angustifolia extract / epinephrine / hexafluorosilicate / juniper berry oil / oats preparation / phosphoric acid / picrate / pulsatilla koreana whole extract / saw palmetto extract / selenium / ... oral solution', 'epinephrine oral solution'], parent_term=drug\n",
      "entity=benzydamine; local oral, synonyms=None, parent_term=drug\n",
      "entity=acetylsalicylic acid; local oral, synonyms=None, parent_term=drug\n",
      "entity=adrenalone; local oral, synonyms=['other agents for local oral treatment', 'adrenalone'], parent_term=drug\n",
      "entity=amlexanox; local oral, synonyms=None, parent_term=drug\n",
      "entity=becaplermin; local oral, synonyms=None, parent_term=drug\n",
      "entity=drugs for acid related disorders, synonyms=None, parent_term=drug\n",
      "entity=antacids, synonyms=None, parent_term=drug\n"
     ]
    },
    {
     "name": "stderr",
     "output_type": "stream",
     "text": []
    },
    {
     "name": "stdout",
     "output_type": "stream",
     "text": [
      "entity=magnesium compounds, synonyms=None, parent_term=drug\n",
      "entity=magnesium carbonate; systemic, synonyms=['calcium fluoride / calcium phosphate (tribasic) / causticum preparation / conium maculatum preparation / hydrofluoric acid / magnesium carbonate / phosphorus / santonin / senecio vulgaris extract / silicon dioxide / sodium chloride / ... oral solution', 'magnesium carbonate / magnesium oxide oral tablet', 'aluminum hydroxide / attapulgite / magnesium carbonate oral solution', 'acetaminophen / calcium carbonate / magnesium carbonate / magnesium oxide oral tablet', 'barberry extract / canada goldenrod pollen extract / magnesium carbonate / populus tremuloides bark extract / saw palmetto extract / thuja occidentalis bark extract oral solution', 'aluminum hydroxide / atropine / calcium / magnesium carbonate / magnesium trisilicate / peppermint oil / sodium bicarbonate oral powder', 'aluminum hydroxide / dimethicone / magnesium carbonate / magnesium hydroxide chewable tablet', 'chamomile flowers / coccinella septempunctata preparation / coffee fruit preparation / magnesium carbonate / oyster shell calcium carbonate preparation / passion flower extract / phosphorus / sepia officinalis juice / ... oral solution', 'aspirin / calcium carbonate / magnesium carbonate / magnesium oxide oral tablet', 'alginic acid / calcium carbonate / magnesium carbonate oral suspension'], parent_term=drug\n",
      "entity=magnesium carbonate; systemic, synonyms=['calcium fluoride / calcium phosphate (tribasic) / causticum preparation / conium maculatum preparation / hydrofluoric acid / magnesium carbonate / phosphorus / santonin / senecio vulgaris extract / silicon dioxide / sodium chloride / ... oral solution', 'magnesium carbonate / magnesium oxide oral tablet', 'aluminum hydroxide / attapulgite / magnesium carbonate oral solution', 'acetaminophen / calcium carbonate / magnesium carbonate / magnesium oxide oral tablet', 'barberry extract / canada goldenrod pollen extract / magnesium carbonate / populus tremuloides bark extract / saw palmetto extract / thuja occidentalis bark extract oral solution', 'aluminum hydroxide / atropine / calcium / magnesium carbonate / magnesium trisilicate / peppermint oil / sodium bicarbonate oral powder', 'aluminum hydroxide / dimethicone / magnesium carbonate / magnesium hydroxide chewable tablet', 'chamomile flowers / coccinella septempunctata preparation / coffee fruit preparation / magnesium carbonate / oyster shell calcium carbonate preparation / passion flower extract / phosphorus / sepia officinalis juice / ... oral solution', 'aspirin / calcium carbonate / magnesium carbonate / magnesium oxide oral tablet', 'alginic acid / calcium carbonate / magnesium carbonate oral suspension'], parent_term=drug\n",
      "entity=magnesium oxide; systemic (magnesium compounds), synonyms=['ascorbic acid / beta carotene / biotin / calcium carbonate / chromium, chelated / copper / folic acid / iodine / magnesium oxide / manganese / molybdenum / niacinamide / pantothenate / potassium citrate / pyridoxine / riboflavin / ... oral tablet', 'ascorbic acid / beta carotene / biotin / calcium carbonate / copper sulfate / folic acid / magnesium oxide / niacinamide / pantothenate / potassium iodide / pyridoxine / riboflavin / thiamine / vitamin a / vitamin b 12 / vitamin d / ... oral tablet', 'ascorbic acid / biotin / calcium / chromic chloride / cupric oxide / ferrous fumarate / folic acid / magnesium oxide / manganese sulfate / niacinamide / pantothenate / phosphorus / potassium chloride / potassium iodide / pyridoxine / ... oral tablet', 'acetaminophen / calcium carbonate / magnesium carbonate / magnesium oxide oral tablet', 'calcium / ferrous fumarate / magnesium oxide / vitamin d3 / zinc gluconate oral tablet', 'ascorbic acid / biotin / calcium carbonate / choline / copper gluconate / folic acid / inositol / iodine / iron / magnesium oxide / methionine / niacin / niacinamide / pantothenate / pyridoxine / riboflavin / selenium / thiamine / ... oral tablet', 'ascorbic acid / biotin / calcium / chromic chloride / cupric oxide / folic acid / magnesium oxide / manganese sulfate / metavanadate / niacinamide / nickel sulfate / pantothenate / phosphorus / potassium chloride / potassium iodide / ... oral tablet', 'aluminum hydroxide / isopropamide / magnesium oxide / magnesium silicate oral granules', 'calcium carbonate / ferrous fumarate / magnesium oxide / vitamin d oral tablet', 'ascorbic acid / biotin / calcium / copper gluconate / ferrous fumarate / iodine / magnesium oxide / niacin / niacinamide / pantothenate / phosphorus / pyridoxine / riboflavin / thiamine / tocopheryl acid succinate,d-alpha / vitamin a / ... oral tablet'], parent_term=drug\n",
      "entity=magnesium oxide; systemic (magnesium compounds), synonyms=['ascorbic acid / beta carotene / biotin / calcium carbonate / chromium, chelated / copper / folic acid / iodine / magnesium oxide / manganese / molybdenum / niacinamide / pantothenate / potassium citrate / pyridoxine / riboflavin / ... oral tablet', 'ascorbic acid / beta carotene / biotin / calcium carbonate / copper sulfate / folic acid / magnesium oxide / niacinamide / pantothenate / potassium iodide / pyridoxine / riboflavin / thiamine / vitamin a / vitamin b 12 / vitamin d / ... oral tablet', 'ascorbic acid / biotin / calcium / chromic chloride / cupric oxide / ferrous fumarate / folic acid / magnesium oxide / manganese sulfate / niacinamide / pantothenate / phosphorus / potassium chloride / potassium iodide / pyridoxine / ... oral tablet', 'acetaminophen / calcium carbonate / magnesium carbonate / magnesium oxide oral tablet', 'calcium / ferrous fumarate / magnesium oxide / vitamin d3 / zinc gluconate oral tablet', 'ascorbic acid / biotin / calcium carbonate / choline / copper gluconate / folic acid / inositol / iodine / iron / magnesium oxide / methionine / niacin / niacinamide / pantothenate / pyridoxine / riboflavin / selenium / thiamine / ... oral tablet', 'ascorbic acid / biotin / calcium / chromic chloride / cupric oxide / folic acid / magnesium oxide / manganese sulfate / metavanadate / niacinamide / nickel sulfate / pantothenate / phosphorus / potassium chloride / potassium iodide / ... oral tablet', 'aluminum hydroxide / isopropamide / magnesium oxide / magnesium silicate oral granules', 'calcium carbonate / ferrous fumarate / magnesium oxide / vitamin d oral tablet', 'ascorbic acid / biotin / calcium / copper gluconate / ferrous fumarate / iodine / magnesium oxide / niacin / niacinamide / pantothenate / phosphorus / pyridoxine / riboflavin / thiamine / tocopheryl acid succinate,d-alpha / vitamin a / ... oral tablet'], parent_term=drug\n"
     ]
    },
    {
     "name": "stderr",
     "output_type": "stream",
     "text": []
    },
    {
     "name": "stdout",
     "output_type": "stream",
     "text": [
      "entity=magnesium hydroxide; oral (magnesium compounds), synonyms=['aluminum hydroxide / magnesium hydroxide / oxetacaine oral suspension', 'magnesium hydroxide oral lozenge', 'aluminum hydroxide / magnesium hydroxide / simethicone oral capsule', 'activated charcoal / magnesium hydroxide oral tablet', 'aluminum hydroxide / dimethicone / magnesium carbonate / magnesium hydroxide chewable tablet', 'aluminum hydroxide / magnesium hydroxide / simethicone oral solution', 'dimethicone / magnesium hydroxide oral tablet', 'aluminum hydroxide / magnesium hydroxide chewable tablet', 'magnesium hydroxide / microcrystalline wax / paraffin oral gel', 'magnesium hydroxide / mineral oil oral solution'], parent_term=drug\n",
      "entity=magnesium silicate; oral, topical, synonyms=['magnesium silicate oral solution', 'chlorophyllin copper complex / magnesium silicate / propantheline oral tablet', 'magnesium silicate chewable tablet', 'amylases / calcium carbonate / cinnamon bark / clove preparation / fennel extract / gentian preparation / ginger root / glycyrrhiza uralensis extract / lipase / magnesium silicate / sodium bicarbonate / ursodeoxycholate / ... oral powder', 'magnesium / magnesium silicate / zinc oxide topical ointment', 'aluminum hydroxide / isopropamide / magnesium oxide / magnesium silicate oral granules', 'chlorophyllin / magnesium silicate / propantheline oral tablet', 'chlorophyllin copper complex / magnesium silicate / propantheline oral powder', 'aluminum hydroxide / gastric mucins / magnesium oxide / magnesium silicate / methylbenactyzium oral granules', 'magnesium silicate'], parent_term=drug\n",
      "entity=magnesium compounds - combinations, synonyms=None, parent_term=drug\n",
      "entity=aluminium compounds, synonyms=None, parent_term=drug\n",
      "entity=aluminium hydroxide; systemic, synonyms=['aluminum hydroxide / magnesium hydroxide / oxetacaine oral suspension', 'aluminum hydroxide / attapulgite / magnesium carbonate oral solution', 'aluminum hydroxide / carbenoxolone oral suspension', 'aluminum hydroxide / magnesium hydroxide / simethicone oral capsule', 'aluminum hydroxide / belladonna alkaloids / kaolin / morphine chewable tablet', 'aluminum hydroxide / magnesium carbonate / suess wood root extract chewable tablet', 'aluminum hydroxide / atropine / calcium / magnesium carbonate / magnesium trisilicate / peppermint oil / sodium bicarbonate oral powder', 'aluminum hydroxide / dimethicone / magnesium carbonate / magnesium hydroxide chewable tablet', 'aluminum hydroxide / magnesium hydroxide / simethicone oral solution', 'aluminum hydroxide / isopropamide / magnesium oxide / magnesium silicate oral granules'], parent_term=drug\n",
      "entity=algeldrate; oral, synonyms=None, parent_term=drug\n",
      "entity=aluminium phosphate; systemic, synonyms=['aluminium phosphate', 'aluminum phosphate oral gel', 'aluminum hydroxide / aluminum phosphate / guar gum / magnesium hydroxide oral tablet', 'aluminum phosphate / tannic acid injectable solution', 'aluminum phosphate', 'aluminum phosphate chewable tablet', 'aluminum hydroxide / aluminum phosphate / guar gum / magnesium hydroxide oral suspension', 'aluminum phosphate oral solution', 'aluminum phosphate / dimethicone / magnesium hydroxide oral suspension', 'aluminum phosphate oral suspension'], parent_term=drug\n"
     ]
    },
    {
     "name": "stderr",
     "output_type": "stream",
     "text": []
    },
    {
     "name": "stdout",
     "output_type": "stream",
     "text": [
      "entity=dihydroxialumini sodium carbonate; oral, synonyms=['dihydroxyaluminum sodium carbonate oral suspension', 'dihydroxyaluminum sodium carbonate oral tablet', 'dihydroxyaluminum sodium carbonate / dimethicone oral tablet', 'dihydroxyaluminum sodium carbonate chewable tablet', 'dihydroxyaluminum sodium carbonate / simethicone oral tablet', 'aluminium compounds', 'dihydroxyaluminum sodium carbonate / simethicone oral suspension', 'dihydroxialumini sodium carbonate 4 g oral product', 'dihydroxyaluminum sodium carbonate'], parent_term=drug\n",
      "entity=aluminium acetoacetate, synonyms=None, parent_term=drug\n",
      "entity=aloglutamol; oral, synonyms=None, parent_term=drug\n",
      "entity=aluminium glycinate, synonyms=None, parent_term=drug\n",
      "entity=aluminium compounds - combinations, synonyms=None, parent_term=drug\n",
      "entity=calcium compounds, synonyms=None, parent_term=drug\n",
      "entity=calcium carbonate; systemic, synonyms=['ascorbic acid / beta carotene / biotin / calcium carbonate / chromium, chelated / copper / folic acid / iodine / magnesium oxide / manganese / molybdenum / niacinamide / pantothenate / potassium citrate / pyridoxine / riboflavin / ... oral tablet', 'ascorbic acid / beta carotene / biotin / calcium carbonate / copper sulfate / folic acid / magnesium oxide / niacinamide / pantothenate / potassium iodide / pyridoxine / riboflavin / thiamine / vitamin a / vitamin b 12 / vitamin d / ... oral tablet', 'calcium carbonate oral solution', 'calcium carbonate / phenobarbital oral tablet', 'acetaminophen / calcium carbonate / magnesium carbonate / magnesium oxide oral tablet', 'all-trans-retinol / alpha tocopherol / ascorbic acid / beta carotene / biotin / calcium carbonate / choline / chromium citrate / folic acid / inositol / iodine / magnesium chloride / manganese citrate / niacin / pantothenate / ... oral tablet', 'ascorbic acid / biotin / calcium carbonate / choline / copper gluconate / folic acid / inositol / iodine / iron / magnesium oxide / methionine / niacin / niacinamide / pantothenate / pyridoxine / riboflavin / selenium / thiamine / ... oral tablet', 'ascorbic acid / biotin / calcium carbonate / folic acid / magnesium / niacinamide / pantothenic acid / pyridoxine / riboflavin / thiamine / vitamin b 12 / zinc oral tablet', 'biodiastase / calcium carbonate / cinnamon bark / clove preparation / coptis chinensis root extract / coptis japonica root extract / fennel extract / ginger root / glycyrrhiza uralensis extract / magnesium aluminometasilicate type i-b / ... oral powder', 'calcium carbonate / ferrous fumarate / magnesium oxide / vitamin d oral tablet'], parent_term=drug\n",
      "entity=calcium carbonate; systemic, synonyms=['ascorbic acid / beta carotene / biotin / calcium carbonate / chromium, chelated / copper / folic acid / iodine / magnesium oxide / manganese / molybdenum / niacinamide / pantothenate / potassium citrate / pyridoxine / riboflavin / ... oral tablet', 'ascorbic acid / beta carotene / biotin / calcium carbonate / copper sulfate / folic acid / magnesium oxide / niacinamide / pantothenate / potassium iodide / pyridoxine / riboflavin / thiamine / vitamin a / vitamin b 12 / vitamin d / ... oral tablet', 'calcium carbonate oral solution', 'calcium carbonate / phenobarbital oral tablet', 'acetaminophen / calcium carbonate / magnesium carbonate / magnesium oxide oral tablet', 'all-trans-retinol / alpha tocopherol / ascorbic acid / beta carotene / biotin / calcium carbonate / choline / chromium citrate / folic acid / inositol / iodine / magnesium chloride / manganese citrate / niacin / pantothenate / ... oral tablet', 'ascorbic acid / biotin / calcium carbonate / choline / copper gluconate / folic acid / inositol / iodine / iron / magnesium oxide / methionine / niacin / niacinamide / pantothenate / pyridoxine / riboflavin / selenium / thiamine / ... oral tablet', 'ascorbic acid / biotin / calcium carbonate / folic acid / magnesium / niacinamide / pantothenic acid / pyridoxine / riboflavin / thiamine / vitamin b 12 / zinc oral tablet', 'biodiastase / calcium carbonate / cinnamon bark / clove preparation / coptis chinensis root extract / coptis japonica root extract / fennel extract / ginger root / glycyrrhiza uralensis extract / magnesium aluminometasilicate type i-b / ... oral powder', 'calcium carbonate / ferrous fumarate / magnesium oxide / vitamin d oral tablet'], parent_term=drug\n"
     ]
    },
    {
     "name": "stderr",
     "output_type": "stream",
     "text": [
      "Embedding Documents: 100%|██████████| 64/64 [00:01<00:00, 41.03doc/s]\n"
     ]
    },
    {
     "name": "stdout",
     "output_type": "stream",
     "text": [
      "entity=calcium silicate; oral, synonyms=['calcium silicate 6 g oral product', 'calcium silicate oral solution', 'ascorbic acid / beta carotene / biotin / calcium phosphate / calcium silicate / chromic chloride / cupric oxide / ferrous fumarate / folic acid / magnesium oxide / manganese sulfate / metavanadate / niacinamide / nickel sulfate / ... oral tablet', 'calcium silicate', 'calcium compounds'], parent_term=drug\n"
     ]
    },
    {
     "name": "stderr",
     "output_type": "stream",
     "text": [
      "1it [00:02,  2.18s/it]2024-09-06 20:08:16,765 - rag.utils - INFO - embed documents\n"
     ]
    },
    {
     "name": "stdout",
     "output_type": "stream",
     "text": [
      "entity=calcium compounds - combinations, synonyms=None, parent_term=drug\n",
      "entity=combinations and complexes of aluminium, calcium and magnesium compounds, synonyms=None, parent_term=drug\n",
      "entity=ordinary salt combinations, synonyms=None, parent_term=drug\n",
      "entity=magaldrate; systemic, synonyms=None, parent_term=drug\n",
      "entity=almagate; oral, synonyms=None, parent_term=drug\n",
      "entity=hydrotalcite; oral, synonyms=['dimethicone / hydrotalcite oral suspension', 'aluminum magnesium silicate / biodiastase / hops extract / hydrotalcite / methylmethionine sulfonium chloride / scopolia japonica / sodium bicarbonate / swertia japonica extract oral tablet', 'aluminum magnesium silicate / biodiastase / gentian preparation / hops extract / hydrotalcite / methylmethionine sulfonium chloride / scopolia japonica / sodium bicarbonate oral tablet', 'hydrotalcite chewable tablet', 'hydrotalcite / panthenol oral tablet', 'hydrotalcite oral tablet', 'hydrotalcite oral granules', 'azulene soluble / diasmin ss / hydrotalcite / l-glutamine / lipase / scopolia japonica / sodium bicarbonate / sucralfate oral tablet', 'hydrotalcite / simethicone oral suspension', 'hydrotalcite oral powder'], parent_term=drug\n",
      "entity=almasilate; systemic, synonyms=None, parent_term=drug\n",
      "entity=antacids with antiflatulents, synonyms=None, parent_term=drug\n",
      "entity=magaldrate and antiflatulents; systemic, synonyms=None, parent_term=drug\n",
      "entity=ordinary salt combinations and antiflatulents, synonyms=None, parent_term=drug\n",
      "entity=antacids with antispasmodics, synonyms=None, parent_term=drug\n",
      "entity=antacids with sodium bicarbonate, synonyms=None, parent_term=drug\n",
      "entity=antacids, other combinations, synonyms=None, parent_term=drug\n"
     ]
    },
    {
     "name": "stderr",
     "output_type": "stream",
     "text": []
    },
    {
     "name": "stdout",
     "output_type": "stream",
     "text": [
      "entity=drugs for peptic ulcer and gastro-oesophageal reflux disease (gord), synonyms=None, parent_term=drug\n",
      "entity=h2-receptor antagonists, synonyms=['h', 'drugs for peptic ulcer and gastro-oesophageal reflux disease (gord)'], parent_term=drug\n",
      "entity=cimetidine; systemic, synonyms=None, parent_term=drug\n",
      "entity=ranitidine; systemic, synonyms=None, parent_term=drug\n",
      "entity=famotidine; systemic, synonyms=None, parent_term=drug\n",
      "entity=nizatidine; systemic, synonyms=None, parent_term=drug\n",
      "entity=roxatidine; oral, synonyms=None, parent_term=drug\n",
      "entity=ranitidine bismuth citrate; oral, synonyms=['ranitidine oral tablet [tritec]', 'h2-receptor antagonists', 'ranitidine', 'ranitidine bismuth citrate 0.8 g oral product'], parent_term=drug\n",
      "entity=lafutidine; oral, synonyms=None, parent_term=drug\n",
      "entity=cimetidine, combinations; systemic, synonyms=None, parent_term=drug\n",
      "entity=famotidine, combinations; systemic, synonyms=None, parent_term=drug\n"
     ]
    },
    {
     "name": "stderr",
     "output_type": "stream",
     "text": []
    },
    {
     "name": "stdout",
     "output_type": "stream",
     "text": [
      "entity=misoprostol; oral, synonyms=None, parent_term=drug\n",
      "entity=enprostil; oral, synonyms=None, parent_term=drug\n",
      "entity=proton pump inhibitors, synonyms=['proton pump inhibitor', 'inhibitors proton pump', 'drugs for peptic ulcer and gastro-oesophageal reflux disease (gord)', 'proton pump inhibitor (substance)', 'inhibitor proton pump'], parent_term=drug\n",
      "entity=omeprazole; systemic, synonyms=None, parent_term=drug\n",
      "entity=pantoprazole; systemic, synonyms=None, parent_term=drug\n",
      "entity=lansoprazole; oral, synonyms=None, parent_term=drug\n",
      "entity=rabeprazole; oral, synonyms=None, parent_term=drug\n",
      "entity=esomeprazole; systemic, synonyms=None, parent_term=drug\n",
      "entity=dexlansoprazole; oral, synonyms=None, parent_term=drug\n",
      "entity=dexrabeprazole; oral, synonyms=None, parent_term=drug\n",
      "entity=vonoprazan; oral, synonyms=None, parent_term=drug\n",
      "entity=tegoprazan; oral, synonyms=None, parent_term=drug\n",
      "entity=lansoprazole, combinations; systemic, synonyms=None, parent_term=drug\n"
     ]
    },
    {
     "name": "stderr",
     "output_type": "stream",
     "text": []
    },
    {
     "name": "stdout",
     "output_type": "stream",
     "text": [
      "entity=rabeprazole, combinations; oral, synonyms=None, parent_term=drug\n",
      "entity=combinations for eradication of helicobacter pylori, synonyms=None, parent_term=drug\n",
      "entity=omeprazole, amoxicillin and metronidazole; systemic, synonyms=None, parent_term=drug\n",
      "entity=lansoprazole, tetracycline and metronidazole; systemic, synonyms=None, parent_term=drug\n",
      "entity=lansoprazole, amoxicillin and metronidazole; systemic, synonyms=None, parent_term=drug\n",
      "entity=pantoprazole, amoxicillin and clarithromycin; systemic, synonyms=None, parent_term=drug\n",
      "entity=omeprazole, amoxicillin and clarithromycin; systemic, synonyms=None, parent_term=drug\n",
      "entity=esomeprazole, amoxicillin and clarithromycin; systemic, synonyms=None, parent_term=drug\n",
      "entity=lansoprazole, amoxicillin and clarithromycin; systemic, synonyms=None, parent_term=drug\n",
      "entity=bismuth subcitrate, tetracycline and metronidazole; systemic, synonyms=None, parent_term=drug\n",
      "entity=lansoprazole, clarithromycin and tinidazole; systemic, synonyms=None, parent_term=drug\n",
      "entity=lansoprazole, amoxicillin and levofloxacin; systemic, synonyms=None, parent_term=drug\n",
      "entity=pantoprazole, amoxicillin, clarithromycin and metronidazole; systemic, synonyms=None, parent_term=drug\n",
      "entity=rabeprazole, amoxicillin and clarithromycin; systemic, synonyms=None, parent_term=drug\n",
      "entity=rabeprazole, amoxicillin and metronidazole; systemic, synonyms=None, parent_term=drug\n",
      "entity=vonoprazan, amoxicillin and clarithromycin; systemic, synonyms=None, parent_term=drug\n"
     ]
    },
    {
     "name": "stderr",
     "output_type": "stream",
     "text": [
      "Embedding Documents: 100%|██████████| 64/64 [00:01<00:00, 62.58doc/s]"
     ]
    },
    {
     "name": "stdout",
     "output_type": "stream",
     "text": [
      "entity=vonoprazan, amoxicillin and metronidazole; systemic, synonyms=None, parent_term=drug\n",
      "entity=other drugs for peptic ulcer and gastro-oesophageal reflux disease (gord), synonyms=None, parent_term=drug\n",
      "entity=carbenoxolone; oral, synonyms=None, parent_term=drug\n",
      "entity=sucralfate; oral, synonyms=None, parent_term=drug\n",
      "entity=pirenzepine; systemic, synonyms=None, parent_term=drug\n",
      "entity=methiosulfonium chloride; systemic, synonyms=None, parent_term=drug\n",
      "entity=bismuth subcitrate; oral, synonyms=['bismuth subcitrate oral solution', 'bismuth subcitrate chewable tablet', 'bismuth subcitrate / metronidazole / tetracycline oral capsule', 'bismuth subcitrate 0.48 g oral product', 'other drugs for peptic ulcer and gastro-oesophageal reflux disease (gord)', 'bismuth subcitrate oral tablet', 'bismuth subcitrate', 'bismuth subcitrate oral capsule'], parent_term=drug\n",
      "entity=proglumide; oral, synonyms=None, parent_term=drug\n",
      "entity=gefarnate; oral, synonyms=None, parent_term=drug\n",
      "entity=sulglicotide; oral, synonyms=None, parent_term=drug\n",
      "entity=acetoxolone; oral, synonyms=None, parent_term=drug\n"
     ]
    },
    {
     "name": "stderr",
     "output_type": "stream",
     "text": [
      "\n",
      "2it [00:03,  1.78s/it]2024-09-06 20:08:18,267 - rag.utils - INFO - embed documents\n"
     ]
    },
    {
     "name": "stdout",
     "output_type": "stream",
     "text": [
      "entity=troxipide; oral, synonyms=None, parent_term=drug\n",
      "entity=bismuth subnitrate; systemic, synonyms=['bismuth subnitrate injectable solution', 'bismuth subnitrate', 'bismuth subnitrate / calcium carbonate / magnesium carbonate oral tablet', 'bismuth subnitrate / frangula alnus bark extract / magnesium carbonate / sodium bicarbonate oral tablet', 'benzocaine / bismuth subnitrate / cerium oxalate oral tablet', 'aluminum hydroxide / bismuth subnitrate / magnesium hydroxide oral tablet', 'atropine / bismuth subnitrate / silver nitrate sublingual tablet', 'bismuth subnitrate / metronidazole / oxytetracycline injectable solution', 'bismuth subnitrate oral powder', 'bismuth subnitrate oral tablet'], parent_term=drug\n",
      "entity=alginic acid; systemic, synonyms=['alginic acid / magnesium alginate powder for oral solution', 'alginic acid / calcium carbonate / magnesium carbonate chewable tablet', 'alginic acid / citric acid / potassium citrate effervescent oral tablet', 'alginic acid / aluminum hydroxide / magnesium carbonate chewable tablet', 'alginic acid / calcium / magnesium carbonate chewable tablet', 'alginic acid / calcium / sodium bicarbonate oral suspension', 'alginic acid / zinc gluconate oral tablet', 'alginic acid / magnesium gluconate oral suspension', 'alginic acid / calcium carbonate / sodium bicarbonate oral tablet', 'alginic acid / aluminum carbonate / magnesium oral solution'], parent_term=drug\n",
      "entity=rebamipide; oral, synonyms=None, parent_term=drug\n",
      "entity=carbenoxolone, combinations excl. psycholeptics; oral, oral local, topical, vaginal, synonyms=None, parent_term=drug\n",
      "entity=carbenoxolone, combinations with psycholeptics; oral, oral local, topical, vaginal, synonyms=None, parent_term=drug\n",
      "entity=gefarnate, combinations with psycholeptics; oral, synonyms=None, parent_term=drug\n",
      "entity=other drugs for acid related disorders, synonyms=None, parent_term=drug\n",
      "entity=synthetic anticholinergics, esters with tertiary amino group, synonyms=None, parent_term=drug\n"
     ]
    },
    {
     "name": "stderr",
     "output_type": "stream",
     "text": []
    },
    {
     "name": "stdout",
     "output_type": "stream",
     "text": [
      "entity=oxyphencyclimine; oral, synonyms=None, parent_term=drug\n",
      "entity=camylofin; oral, rectal, synonyms=None, parent_term=drug\n",
      "entity=mebeverine; oral, synonyms=None, parent_term=drug\n",
      "entity=trimebutine; oral, synonyms=None, parent_term=drug\n",
      "entity=rociverine; oral, synonyms=None, parent_term=drug\n",
      "entity=dicycloverine; systemic, synonyms=None, parent_term=drug\n",
      "entity=dihexyverine; oral, rectal, synonyms=None, parent_term=drug\n",
      "entity=difemerine; systemic, synonyms=None, parent_term=drug\n",
      "entity=piperidolate; oral, synonyms=None, parent_term=drug\n",
      "entity=synthetic anticholinergics, quaternary ammonium compounds, synonyms=None, parent_term=drug\n",
      "entity=benzilone; oral, synonyms=None, parent_term=drug\n",
      "entity=glycopyrronium bromide; systemic, rectal, synonyms=None, parent_term=drug\n",
      "entity=oxyphenonium; oral, synonyms=None, parent_term=drug\n",
      "entity=penthienate; oral, synonyms=None, parent_term=drug\n",
      "entity=propantheline; systemic, synonyms=None, parent_term=drug\n",
      "entity=otilonium bromide; oral, synonyms=None, parent_term=drug\n"
     ]
    },
    {
     "name": "stderr",
     "output_type": "stream",
     "text": []
    },
    {
     "name": "stdout",
     "output_type": "stream",
     "text": [
      "entity=methantheline; oral, synonyms=None, parent_term=drug\n",
      "entity=tridihexethyl; oral, synonyms=None, parent_term=drug\n",
      "entity=isopropamide; oral, synonyms=None, parent_term=drug\n",
      "entity=hexocyclium; oral, synonyms=None, parent_term=drug\n",
      "entity=poldine; oral, synonyms=None, parent_term=drug\n",
      "entity=mepenzolate; oral, synonyms=None, parent_term=drug\n",
      "entity=bevonium; oral, synonyms=None, parent_term=drug\n",
      "entity=pipenzolate; oral, synonyms=None, parent_term=drug\n",
      "entity=diphemanil; oral, topical, synonyms=None, parent_term=drug\n",
      "entity=(2-benzhydryloxyethyl)diethyl-methylammonium iodide; oral, synonyms=['synthetic anticholinergics, quaternary ammonium compounds', '(2-benzhydryloxyethyl)diethyl-methylammonium iodide', '2-benzhydryloxyethyl)diethyl-methylammonium iodide 0.3 g oral product'], parent_term=drug\n",
      "entity=tiemonium iodide; systemic, synonyms=None, parent_term=drug\n",
      "entity=prifinium bromide; systemic, synonyms=None, parent_term=drug\n",
      "entity=timepidium bromide; systemic, synonyms=None, parent_term=drug\n",
      "entity=fenpiverinium; systemic, synonyms=None, parent_term=drug\n"
     ]
    },
    {
     "name": "stderr",
     "output_type": "stream",
     "text": []
    },
    {
     "name": "stdout",
     "output_type": "stream",
     "text": [
      "entity=oxyphenonium, combinations; ophthalmic, oral, synonyms=None, parent_term=drug\n",
      "entity=synthetic antispasmodics, amides with tertiary amines, synonyms=None, parent_term=drug\n",
      "entity=dimethylaminopropionylphenothiazine, synonyms=None, parent_term=drug\n",
      "entity=nicofetamide, synonyms=None, parent_term=drug\n",
      "entity=tiropramide; systemic, synonyms=None, parent_term=drug\n",
      "entity=papaverine and derivatives, synonyms=None, parent_term=drug\n",
      "entity=papaverine; systemic (papaverine and derivatives), synonyms=['diphenhydramine / dyphylline / ephedrine / noscapine / papaverine oral tablet', 'dehydrocholate / papaverine oral tablet', 'atropine / carboxymethylcellulose / magnesium / papaverine / phenobarbital oral granules', 'iodoquinol / papaverine / succinylsulfathiazole oral tablet', 'codeine / diphenhydramine / papaverine oral solution', 'butetamate / caffeine / guaifenesin / papaverine / theophylline oral tablet', 'biotin / niacinamide / oxytetracycline / papaverine / pyridoxine / riboflavin / thiamine / vitamin b 12 oral capsule', 'atropa belladonna fruiting top extract / caffeine / ephedrine / papaverine / trichloroacetaldehyde oral solution', 'escin / papaverine extended release oral capsule', 'codeine / noscapine / papaverine oral solution'], parent_term=drug\n",
      "entity=drotaverine; systemic, synonyms=None, parent_term=drug\n",
      "entity=moxaverine; oral, synonyms=None, parent_term=drug\n",
      "entity=serotonin receptor antagonists, synonyms=None, parent_term=drug\n",
      "entity=alosetron; oral, synonyms=None, parent_term=drug\n",
      "entity=other drugs for functional gastrointestinal disorders, synonyms=None, parent_term=drug\n",
      "entity=diisopromine; oral, synonyms=None, parent_term=drug\n"
     ]
    },
    {
     "name": "stderr",
     "output_type": "stream",
     "text": [
      "Embedding Documents: 100%|██████████| 64/64 [00:00<00:00, 64.35doc/s]\n"
     ]
    },
    {
     "name": "stdout",
     "output_type": "stream",
     "text": [
      "entity=chlorbenzoxamine; oral, synonyms=None, parent_term=drug\n",
      "entity=pinaverium; oral, synonyms=None, parent_term=drug\n",
      "entity=fenoverine; oral, synonyms=None, parent_term=drug\n",
      "entity=idanpramine, synonyms=None, parent_term=drug\n",
      "entity=alverine; oral, rectal, synonyms=None, parent_term=drug\n",
      "entity=trepibutone; oral, synonyms=None, parent_term=drug\n",
      "entity=isometheptene; oral, rectal, synonyms=None, parent_term=drug\n",
      "entity=caroverine; systemic, synonyms=None, parent_term=drug\n",
      "entity=phloroglucinol; systemic, synonyms=None, parent_term=drug\n",
      "entity=silicones; oral, synonyms=None, parent_term=drug\n",
      "entity=valethamate; systemic, synonyms=None, parent_term=drug\n",
      "entity=menthae piperitae aetheroleum; systemic, synonyms=None, parent_term=drug\n"
     ]
    },
    {
     "name": "stderr",
     "output_type": "stream",
     "text": [
      "3it [00:05,  1.63s/it]2024-09-06 20:08:19,717 - rag.utils - INFO - embed documents\n"
     ]
    },
    {
     "name": "stdout",
     "output_type": "stream",
     "text": [
      "entity=trimethyldiphenylpropylamine; systemic, synonyms=None, parent_term=drug\n",
      "entity=alverine, combinations; oral, rectal, synonyms=None, parent_term=drug\n",
      "entity=belladonna and derivatives, plain, synonyms=None, parent_term=drug\n",
      "entity=belladonna alkaloids, tertiary amines, synonyms=None, parent_term=drug\n",
      "entity=atropine; systemic, synonyms=['atropine / carboxymethylcellulose / magnesium / papaverine / phenobarbital oral granules', 'atropine / caffeine / drimia maritima bulb extract / ethaverine / guaifenesin / methaqualone / theobromine / theophylline oral tablet', 'atropine / hydroxocobalamin / niacin / phenobarbital / procaine injectable solution', 'atropine / chlorpheniramine / hyoscyamine / phenylephrine / scopolamine extended release oral tablet', 'anacardium occidentale fruit extract / atropine / charcoal / citrullus colocynthis fruit extract / collinsonia canadensis root extract / foeniculum vulgare whole extract / gonolobus cundurango / lycopodium clavatum whole extract / ... oral solution', 'aluminum hydroxide / atropine / calcium / magnesium carbonate / magnesium trisilicate / peppermint oil / sodium bicarbonate oral powder', 'acetaminophen / atropine / chlorpheniramine / phenylephrine oral capsule', '3-bromocamphor, (+-)- / atropine / caffeine / dyphylline / ephedrine / phenobarbital / prednisolone / riboflavin oral tablet', 'atropine / bile salts oral tablet', 'atropine / chlorpheniramine / ephedrine extended release oral tablet'], parent_term=drug\n",
      "entity=hyoscyamine; oral, synonyms=['ergotamine / hyoscyamine / pentobarbital / scopolamine oral tablet', 'hyoscyamine oral solution', 'atropine / chlorpheniramine / hyoscyamine / phenylephrine / scopolamine extended release oral tablet', 'hyoscyamine oral granules', 'ethylmorphine / hyoscyamine / nitroglycerin oral tablet', 'atropine / hyoscyamine / scopolamine oral suspension', 'hyoscyamine / methenamine oral tablet', 'hyoscyamine extended release oral capsule', 'hyoscyamine disintegrating oral tablet', 'hyoscyamine / methenamine / methylene blue / phenyl salicylate delayed release oral tablet'], parent_term=drug\n",
      "entity=belladonna total alkaloids; oral, synonyms=None, parent_term=drug\n",
      "entity=belladonna alkaloids, semisynthetic, quaternary ammonium compounds, synonyms=None, parent_term=drug\n",
      "entity=butylscopolamine; systemic, rectal, synonyms=None, parent_term=drug\n",
      "entity=methylatropine; oral, synonyms=None, parent_term=drug\n"
     ]
    },
    {
     "name": "stderr",
     "output_type": "stream",
     "text": []
    },
    {
     "name": "stdout",
     "output_type": "stream",
     "text": [
      "entity=methylscopolamine; systemic, synonyms=None, parent_term=drug\n",
      "entity=fentonium; oral, synonyms=None, parent_term=drug\n",
      "entity=cimetropium bromide, synonyms=None, parent_term=drug\n",
      "entity=homatropine methylbromide; systemic, synonyms=None, parent_term=drug\n",
      "entity=antispasmodics in combination with psycholeptics, synonyms=None, parent_term=drug\n",
      "entity=synthetic anticholinergic agents in combination with psycholeptics, synonyms=None, parent_term=drug\n",
      "entity=isopropamide and psycholeptics; oral, synonyms=None, parent_term=drug\n",
      "entity=clidinium and psycholeptics; oral, synonyms=None, parent_term=drug\n",
      "entity=oxyphencyclimine and psycholeptics; oral, synonyms=None, parent_term=drug\n",
      "entity=otilonium bromide and psycholeptics; oral, synonyms=None, parent_term=drug\n",
      "entity=glycopyrronium bromide and psycholeptics; systemic, synonyms=None, parent_term=drug\n",
      "entity=bevonium and psycholeptics, synonyms=None, parent_term=drug\n",
      "entity=ambutonium and psycholeptics; oral, synonyms=None, parent_term=drug\n",
      "entity=diphemanil and psycholeptics; oral, topical, synonyms=None, parent_term=drug\n",
      "entity=pipenzolate and psycholeptics; oral, synonyms=None, parent_term=drug\n",
      "entity=emepronium and psycholeptics; oral, synonyms=None, parent_term=drug\n"
     ]
    },
    {
     "name": "stderr",
     "output_type": "stream",
     "text": []
    },
    {
     "name": "stdout",
     "output_type": "stream",
     "text": [
      "entity=propantheline and psycholeptics; oral, rectal, urethral, synonyms=None, parent_term=drug\n",
      "entity=belladonna and derivatives in combination with psycholeptics, synonyms=None, parent_term=drug\n",
      "entity=methylscopolamine and psycholeptics; oral, rectal, synonyms=None, parent_term=drug\n",
      "entity=belladonna total alkaloids and psycholeptics; systemic, synonyms=None, parent_term=drug\n",
      "entity=atropine and psycholeptics; systemic, synonyms=None, parent_term=drug\n",
      "entity=homatropine methylbromide and psycholeptics; systemic, synonyms=None, parent_term=drug\n",
      "entity=hyoscyamine and psycholeptics; systemic, synonyms=None, parent_term=drug\n",
      "entity=other antispasmodics in combination with psycholeptics, synonyms=None, parent_term=drug\n",
      "entity=antispasmodics in combination with analgesics, synonyms=None, parent_term=drug\n",
      "entity=synthetic anticholinergic agents in combination with analgesics, synonyms=None, parent_term=drug\n",
      "entity=tropenzilone and analgesics, synonyms=None, parent_term=drug\n",
      "entity=pitofenone and analgesics; systemic, synonyms=None, parent_term=drug\n",
      "entity=bevonium and analgesics, synonyms=None, parent_term=drug\n",
      "entity=ciclonium and analgesics; systemic, synonyms=None, parent_term=drug\n",
      "entity=camylofin and analgesics; systemic, synonyms=None, parent_term=drug\n"
     ]
    },
    {
     "name": "stderr",
     "output_type": "stream",
     "text": []
    },
    {
     "name": "stdout",
     "output_type": "stream",
     "text": [
      "entity=trospium and analgesics; systemic, synonyms=None, parent_term=drug\n",
      "entity=tiemonium iodide and analgesics; oral, synonyms=None, parent_term=drug\n",
      "entity=belladonna and derivatives in combination with analgesics, synonyms=None, parent_term=drug\n",
      "entity=butylscopolamine and analgesics; systemic, synonyms=None, parent_term=drug\n",
      "entity=other antispasmodics in combination with analgesics, synonyms=None, parent_term=drug\n",
      "entity=antispasmodics and anticholinergics in combination with other drugs, synonyms=None, parent_term=drug\n",
      "entity=antispasmodics, psycholeptics and analgesics in combination, synonyms=None, parent_term=drug\n",
      "entity=antispasmodics in combination with other drugs, synonyms=None, parent_term=drug\n",
      "entity=propulsives, synonyms=None, parent_term=drug\n",
      "entity=propulsives, synonyms=None, parent_term=drug\n",
      "entity=metoclopramide; systemic, rectal, synonyms=None, parent_term=drug\n",
      "entity=cisapride; oral, rectal, synonyms=None, parent_term=drug\n",
      "entity=domperidone; systemic, rectal, synonyms=None, parent_term=drug\n",
      "entity=bromopride; systemic, synonyms=None, parent_term=drug\n",
      "entity=alizapride; systemic, synonyms=None, parent_term=drug\n"
     ]
    },
    {
     "name": "stderr",
     "output_type": "stream",
     "text": [
      "Embedding Documents: 100%|██████████| 64/64 [00:00<00:00, 67.61doc/s]\n"
     ]
    },
    {
     "name": "stdout",
     "output_type": "stream",
     "text": [
      "entity=clebopride; systemic, synonyms=None, parent_term=drug\n",
      "entity=itopride; oral, synonyms=None, parent_term=drug\n",
      "entity=cinitapride; oral, synonyms=None, parent_term=drug\n",
      "entity=mosapride; oral, synonyms=None, parent_term=drug\n",
      "entity=serotonin (5ht3) antagonists, synonyms=None, parent_term=drug\n",
      "entity=ondansetron; systemic, rectal, synonyms=None, parent_term=drug\n",
      "entity=granisetron; systemic, transdermal, synonyms=None, parent_term=drug\n",
      "entity=tropisetron; systemic, synonyms=None, parent_term=drug\n"
     ]
    },
    {
     "name": "stderr",
     "output_type": "stream",
     "text": [
      "4it [00:06,  1.53s/it]2024-09-06 20:08:21,102 - rag.utils - INFO - embed documents\n"
     ]
    },
    {
     "name": "stdout",
     "output_type": "stream",
     "text": [
      "entity=dolasetron; systemic, synonyms=None, parent_term=drug\n",
      "entity=palonosetron; systemic, synonyms=None, parent_term=drug\n",
      "entity=palonosetron, combinations; systemic, synonyms=None, parent_term=drug\n",
      "entity=other antiemetics, synonyms=None, parent_term=drug\n",
      "entity=scopolamine; systemic (antiemetics), synonyms=['ergotamine / hyoscyamine / pentobarbital / scopolamine oral tablet', 'atropine / chlorpheniramine / hyoscyamine / phenylephrine / scopolamine extended release oral tablet', 'ammi visnaga fruit extract / crataegus laevigata fruit / scopolamine / selenicereus grandiflorus stem extract oral tablet', 'scopolamine disintegrating oral tablet', 'scopolamine injection', 'papaveretum / scopolamine prefilled syringe', 'atropine / hyoscyamine / scopolamine oral suspension', 'scopolamine oral pellet', 'acetaminophen / caffeine / codeine / scopolamine oral tablet', 'scopolamine oral solution'], parent_term=drug\n",
      "entity=cerium oxalate; oral, synonyms=['cerium oxalate', 'other antiemetics', 'benzocaine / bismuth subnitrate / cerium oxalate oral tablet', 'beets preparation / cerium oxalate / citric acid / hydrastis canadensis whole preparation / nicotinamide adenine dinucleotide (nad) / oyster shell calcium carbonate preparation / selenium / silicon dioxide / succinic acid / sulfur / ... oral solution', 'cerium oxalate oral solution', 'bismuth subnitrate / cerium oxalate oral tablet', 'cerium oxalate / cocculus indicus oral solution'], parent_term=drug\n",
      "entity=chlorobutanol; systemic, synonyms=None, parent_term=drug\n",
      "entity=metopimazine; systemic, synonyms=None, parent_term=drug\n",
      "entity=dronabinol; inhalant, nasal, oral, topical, synonyms=None, parent_term=drug\n"
     ]
    },
    {
     "name": "stderr",
     "output_type": "stream",
     "text": []
    },
    {
     "name": "stdout",
     "output_type": "stream",
     "text": [
      "entity=nabilone; oral, synonyms=None, parent_term=drug\n",
      "entity=aprepitant; systemic, synonyms=None, parent_term=drug\n",
      "entity=rolapitant; oral, synonyms=None, parent_term=drug\n",
      "entity=scopolamine, combinations; systemic, synonyms=None, parent_term=drug\n",
      "entity=chlorobutanol, combinations; systemic, synonyms=None, parent_term=drug\n",
      "entity=bile and liver therapy, synonyms=None, parent_term=drug\n",
      "entity=bile therapy, synonyms=None, parent_term=drug\n",
      "entity=bile acids and derivatives, synonyms=None, parent_term=drug\n",
      "entity=chenodeoxycholic acid; oral, synonyms=None, parent_term=drug\n",
      "entity=ursodeoxycholic acid; oral, synonyms=['pancreatin / simethicone / ursodeoxycholate oral tablet', 'biodiastase / cellulase ap3 / lipase / pancreatin / prozyme 6 / simethicone / ursodeoxycholate oral tablet', 'biodiasmin-f 100 / biodiastase / lipase / prozyme 6 / riboflavin / thiamine / ursodeoxycholate oral tablet', 'biphenyl dimethyl dicarboxylate / ursodeoxycholate oral capsule', 'amylases / calcium carbonate / cinnamon bark / clove preparation / fennel extract / gentian preparation / ginger root / glycyrrhiza uralensis extract / lipase / magnesium silicate / sodium bicarbonate / ursodeoxycholate / ... oral powder', 'ursodeoxycholate oral tablet', 'biodiastase / lipase / ursodeoxycholate oral tablet', 'biodiastase / dimethicone / lipase / ursodeoxycholate oral tablet', 'ursodeoxycholate oral suspension', 'amylase / cellulase / pancreatin / pancrelipase / papain / pepsin a / ursodeoxycholate oral capsule'], parent_term=drug\n",
      "entity=cholic acid; oral, synonyms=['cholic acid oral capsule', 'cholate', 'atropine / bile salts / chelidonium majus extract / chionanthus virginicus bark extract / cholic acid / cynara scolymus leaf extract / lycopodium clavatum whole extract / mandragora officinarum preparation / ... oral solution', 'aloe extract / atropine / bile salts / cholic acid / curcuma xanthorrhiza oil / ipomoea purga root extract / mandragora officinarum preparation / papaverine oral tablet', 'cholic acid', 'bile acids and derivatives'], parent_term=drug\n"
     ]
    },
    {
     "name": "stderr",
     "output_type": "stream",
     "text": []
    },
    {
     "name": "stdout",
     "output_type": "stream",
     "text": [
      "entity=obeticholic acid; oral, synonyms=None, parent_term=drug\n",
      "entity=preparations for biliary tract therapy, synonyms=None, parent_term=drug\n",
      "entity=nicotinyl methylamide; systemic, synonyms=None, parent_term=drug\n",
      "entity=other drugs for bile therapy, synonyms=None, parent_term=drug\n",
      "entity=piprozolin; oral, synonyms=None, parent_term=drug\n",
      "entity=hymecromone; systemic, synonyms=None, parent_term=drug\n",
      "entity=cyclobutyrol; oral, synonyms=None, parent_term=drug\n",
      "entity=maralixibat chloride; systemic, synonyms=None, parent_term=drug\n",
      "entity=odevixibat; systemic, synonyms=None, parent_term=drug\n",
      "entity=liver therapy, lipotropics, synonyms=None, parent_term=drug\n",
      "entity=liver therapy, synonyms=None, parent_term=drug\n",
      "entity=arginine glutamate; systemic, synonyms=None, parent_term=drug\n",
      "entity=silymarin; systemic, synonyms=None, parent_term=drug\n",
      "entity=citiolone; oral, synonyms=None, parent_term=drug\n",
      "entity=epomediol; oral, synonyms=None, parent_term=drug\n"
     ]
    },
    {
     "name": "stderr",
     "output_type": "stream",
     "text": []
    },
    {
     "name": "stdout",
     "output_type": "stream",
     "text": [
      "entity=ornithine oxoglurate; systemic, synonyms=None, parent_term=drug\n",
      "entity=tidiacic arginine; oral, synonyms=None, parent_term=drug\n",
      "entity=glycyrrhizic acid; systemic, synonyms=None, parent_term=drug\n",
      "entity=metadoxine; systemic, synonyms=None, parent_term=drug\n",
      "entity=drugs for bile therapy and lipotropics in combination, synonyms=None, parent_term=drug\n",
      "entity=softeners, emollients, synonyms=None, parent_term=drug\n",
      "entity=liquid paraffin; oral, synonyms=['lactulose / paraffin / petrolatum oral gel', 'bismuth subcarbonate / kaolin / magnesium carbonate / mineral oil / mucilage oral powder', 'magnesium oxide / mineral oil oral suspension', 'centaurium erythraea preparation / chelidonium majus extract / fucus vesiculosus extract / juniperus communis whole extract / paraffin / sulfur / taraxacum officinale whole extract oral tablet', 'magnesium hydroxide / microcrystalline wax / paraffin oral gel', 'glycerin / mineral oil / phenolphthalein oral suspension', 'magnesium hydroxide / mineral oil oral solution', 'centaurium erythraea preparation / chelidonium majus extract / fucus vesiculosus extract / juniperus communis whole extract / paraffin / sulfur / taraxacum officinale whole extract oral solution', 'agar / paraffin / phenolphthalein oral suspension', 'arsenic / centella asiatica extract / mercuric cation / natural graphite / paraffin / silicon dioxide / solanum dulcamara stem extract / sulfur / toxicodendron pubescens leaf extract / urtica dioica preparation / ... oral solution'], parent_term=drug\n",
      "entity=docusate sodium; oral, synonyms=['docusate oral capsule', 'docusate / phenolphthalein oral capsule', 'bisacodyl / docusate delayed release oral tablet', 'docusate / spermaceti oral tablet', 'docusate / ferrous fumarate extended release oral tablet', 'docusate / yellow phenolphthalein oral tablet', 'bisacodyl / docusate oral tablet', 'docusate sodium 0.15 g oral product', 'casanthranol / docusate oral suspension', 'alpha tocopherol / ascorbic acid / cholecalciferol / docosahexaenoate / docusate / ferrous fumarate / folic acid / pyridoxine / tricalcium phosphate oral capsule'], parent_term=drug\n",
      "entity=liquid paraffin, combinations; topical, synonyms=None, parent_term=drug\n",
      "entity=contact laxatives, synonyms=None, parent_term=drug\n",
      "entity=oxyphenisatine; oral, synonyms=None, parent_term=drug\n"
     ]
    },
    {
     "name": "stderr",
     "output_type": "stream",
     "text": []
    },
    {
     "name": "stdout",
     "output_type": "stream",
     "text": [
      "entity=bisacodyl; oral, rectal, synonyms=None, parent_term=drug\n",
      "entity=dantron; oral, synonyms=None, parent_term=drug\n",
      "entity=phenolphthalein; oral, synonyms=['phenolphthalein oral gel', 'atropa belladonna fruiting top extract / chondrus crispus extract / peumus boldus leaf extract / phenolphthalein oral tablet', 'docusate / phenolphthalein oral capsule', 'bos taurus bile preparation / cascara sagrada / phenolphthalein oral tablet', 'docusate / phenolphthalein oral tablet', 'glycerin / mineral oil / phenolphthalein oral suspension', 'magnesium sulfate / phenolphthalein oral tablet', 'bile salts / capsicum oleoresin / cascara sagrada / papain / phenolphthalein oral tablet', 'agar / paraffin / phenolphthalein oral suspension', 'phenolphthalein chewable tablet'], parent_term=drug\n",
      "entity=castor oil; oral, synonyms=['castor oil oral ointment', 'castor oil / juniperus communis whole extract oral capsule', 'castor oil oral solution', 'anise oil / berberis vulgaris root extract / castor oil / chelidonium majus extract / cichorium intybus whole extract / citrullus colocynthis whole extract / cod liver oil / cumin oil / linseed oil / peppermint preparation / ... oral capsule', 'castor oil oral capsule', 'acorus calamus extract / berberis vulgaris whole extract / camphor / castor oil / cod liver oil / eucalyptus globulus pollen extract / flaxseed allergenic extract / foeniculum vulgare whole extract / juniperus communis whole extract / ... oral capsule', 'castor oil oral suspension', 'anise oil / berberis vulgaris root extract / castor oil / chelidonium majus extract / cichorium intybus whole extract / citrullus colocynthis whole extract / cod liver oil / linseed oil / peppermint preparation oral capsule', 'castor oil 20 g oral product', 'acetic acid / castor oil / salicylic acid oral solution'], parent_term=drug\n",
      "entity=senna glycosides; systemic, synonyms=None, parent_term=drug\n",
      "entity=cascara; systemic, synonyms=['bile salts / cascara sagrada / frangula alnus bark extract / rhubarb preparation / sennosides, usp oral tablet', 'cascara sagrada / cathine / frangula alnus bark extract / ononis campestris extract / orthosiphon / oxyphenisatin / rheum officinale whole extract oral tablet', 'cascara sagrada / cherry allergenic extract / ipecac / pinus strobus bark extract / sodium citrate oral solution', 'activated charcoal / alfalfa preparation / astragalus preparation / barberry extract / belladonna extract, usp / burdock root extract / cascara sagrada / croton eluteria bark extract / elymus repens whole extract / ... oral solution', 'cascara', 'cascara sagrada / pinus mugo subsp. mugo leafy twig extract / taraxacum officinale leaf extract oral solution', 'cascara sagrada / juglans cinerea branch bark-root bark extract / plantago seed / ulmus rubra bark extract oral capsule', 'aloe extract / cascara sagrada / juglans cinerea branch bark-root bark extract oral capsule', 'cascara sagrada / rhubarb preparation oral tablet', 'cascara sagrada / potassium iodide / sennosides, usp oral solution'], parent_term=drug\n",
      "entity=sodium picosulfate; oral, synonyms=None, parent_term=drug\n",
      "entity=bisoxatin; oral, synonyms=None, parent_term=drug\n"
     ]
    },
    {
     "name": "stderr",
     "output_type": "stream",
     "text": [
      "Embedding Documents: 100%|██████████| 64/64 [00:01<00:00, 52.83doc/s]\n"
     ]
    },
    {
     "name": "stdout",
     "output_type": "stream",
     "text": [
      "entity=contact laxatives in combination, synonyms=None, parent_term=drug\n",
      "entity=contact laxatives in combination with belladonna alkaloids, synonyms=None, parent_term=drug\n",
      "entity=bisacodyl, combinations; oral, rectal, synonyms=None, parent_term=drug\n",
      "entity=dantron, combinations; oral, synonyms=None, parent_term=drug\n",
      "entity=senna glycosides, combinations; systemic, synonyms=None, parent_term=drug\n",
      "entity=cascara, combinations; systemic, synonyms=None, parent_term=drug\n",
      "entity=sodium picosulfate, combinations; oral, topical, synonyms=None, parent_term=drug\n",
      "entity=bulk-forming laxatives, synonyms=['bulk-forming laxative (product)', 'bulk-forming laxative', 'bulk forming laxatives', 'bulk forming laxative'], parent_term=drug\n",
      "entity=ispaghula (psylla seeds); oral, synonyms=None, parent_term=drug\n",
      "entity=ethulose; oral, synonyms=None, parent_term=drug\n"
     ]
    },
    {
     "name": "stderr",
     "output_type": "stream",
     "text": [
      "5it [00:08,  1.59s/it]2024-09-06 20:08:22,779 - rag.utils - INFO - embed documents\n"
     ]
    },
    {
     "name": "stdout",
     "output_type": "stream",
     "text": [
      "entity=sterculia; oral, synonyms=None, parent_term=drug\n",
      "entity=linseed; oral, topical, synonyms=['linseed oil oil', 'coconut oil / linseed oil oral capsule', 'anise oil / berberis vulgaris root extract / castor oil / chelidonium majus extract / cichorium intybus whole extract / citrullus colocynthis whole extract / cod liver oil / cumin oil / linseed oil / peppermint preparation / ... oral capsule', 'linseed oil oral capsule', 'linseed oil oral lozenge', 'amber oil / clove oil / eucalyptus oil / linseed oil / methyl salicylate / mustard oil / peppermint oil / thyme oil / turpentine topical solution', 'linseed', 'anise oil / berberis vulgaris root extract / castor oil / chelidonium majus extract / cichorium intybus whole extract / citrullus colocynthis whole extract / cod liver oil / linseed oil / peppermint preparation oral capsule', 'linseed oil / senna leaves oral lozenge', 'linseed oil oral flakes'], parent_term=drug\n",
      "entity=methylcellulose; oral, synonyms=None, parent_term=drug\n",
      "entity=triticum (wheat fibre); oral, synonyms=['wheat bran extract', 'bulk-forming laxatives', 'triticum aestivum extract', 'glycyrrhizate / jujube fruit extract / triticum aestivum extract oral granules', 'triticum aestivum extract oral tablet', 'bovine brainstem extract / triticum aestivum extract oral tablet', 'triticum (wheat fibre) 10 g oral product'], parent_term=drug\n",
      "entity=polycarbophil calcium; oral, synonyms=['polycarbophil calcium 2.5 g oral product', 'bulk-forming laxatives', 'calcium polycarbophil / sennosides, usp oral tablet', 'calcium polycarbophil oral granules', 'calcium polycarbophil', 'calcium polycarbophil chewable tablet', 'calcium polycarbophil oral tablet'], parent_term=drug\n",
      "entity=ispaghula, combinations; systemic, synonyms=None, parent_term=drug\n"
     ]
    },
    {
     "name": "stderr",
     "output_type": "stream",
     "text": []
    },
    {
     "name": "stdout",
     "output_type": "stream",
     "text": [
      "entity=sterculia, combinations; oral, topical, synonyms=None, parent_term=drug\n",
      "entity=linseed, combinations; oral, topical, synonyms=None, parent_term=drug\n",
      "entity=osmotically acting laxatives, synonyms=None, parent_term=drug\n",
      "entity=magnesium carbonate; oral, synonyms=['calcium fluoride / calcium phosphate (tribasic) / causticum preparation / conium maculatum preparation / hydrofluoric acid / magnesium carbonate / phosphorus / santonin / senecio vulgaris extract / silicon dioxide / sodium chloride / ... oral solution', 'magnesium carbonate / magnesium oxide oral tablet', 'aluminum hydroxide / attapulgite / magnesium carbonate oral solution', 'acetaminophen / calcium carbonate / magnesium carbonate / magnesium oxide oral tablet', 'barberry extract / canada goldenrod pollen extract / magnesium carbonate / populus tremuloides bark extract / saw palmetto extract / thuja occidentalis bark extract oral solution', 'aluminum hydroxide / atropine / calcium / magnesium carbonate / magnesium trisilicate / peppermint oil / sodium bicarbonate oral powder', 'aluminum hydroxide / dimethicone / magnesium carbonate / magnesium hydroxide chewable tablet', 'chamomile flowers / coccinella septempunctata preparation / coffee fruit preparation / magnesium carbonate / oyster shell calcium carbonate preparation / passion flower extract / phosphorus / sepia officinalis juice / ... oral solution', 'aspirin / calcium carbonate / magnesium carbonate / magnesium oxide oral tablet', 'alginic acid / calcium carbonate / magnesium carbonate oral suspension'], parent_term=drug\n",
      "entity=magnesium carbonate; oral, synonyms=['calcium fluoride / calcium phosphate (tribasic) / causticum preparation / conium maculatum preparation / hydrofluoric acid / magnesium carbonate / phosphorus / santonin / senecio vulgaris extract / silicon dioxide / sodium chloride / ... oral solution', 'magnesium carbonate / magnesium oxide oral tablet', 'aluminum hydroxide / attapulgite / magnesium carbonate oral solution', 'acetaminophen / calcium carbonate / magnesium carbonate / magnesium oxide oral tablet', 'barberry extract / canada goldenrod pollen extract / magnesium carbonate / populus tremuloides bark extract / saw palmetto extract / thuja occidentalis bark extract oral solution', 'aluminum hydroxide / atropine / calcium / magnesium carbonate / magnesium trisilicate / peppermint oil / sodium bicarbonate oral powder', 'aluminum hydroxide / dimethicone / magnesium carbonate / magnesium hydroxide chewable tablet', 'chamomile flowers / coccinella septempunctata preparation / coffee fruit preparation / magnesium carbonate / oyster shell calcium carbonate preparation / passion flower extract / phosphorus / sepia officinalis juice / ... oral solution', 'aspirin / calcium carbonate / magnesium carbonate / magnesium oxide oral tablet', 'alginic acid / calcium carbonate / magnesium carbonate oral suspension'], parent_term=drug\n",
      "entity=magnesium oxide; oral, synonyms=['ascorbic acid / beta carotene / biotin / calcium carbonate / chromium, chelated / copper / folic acid / iodine / magnesium oxide / manganese / molybdenum / niacinamide / pantothenate / potassium citrate / pyridoxine / riboflavin / ... oral tablet', 'ascorbic acid / beta carotene / biotin / calcium carbonate / copper sulfate / folic acid / magnesium oxide / niacinamide / pantothenate / potassium iodide / pyridoxine / riboflavin / thiamine / vitamin a / vitamin b 12 / vitamin d / ... oral tablet', 'ascorbic acid / biotin / calcium / chromic chloride / cupric oxide / ferrous fumarate / folic acid / magnesium oxide / manganese sulfate / niacinamide / pantothenate / phosphorus / potassium chloride / potassium iodide / pyridoxine / ... oral tablet', 'acetaminophen / calcium carbonate / magnesium carbonate / magnesium oxide oral tablet', 'calcium / ferrous fumarate / magnesium oxide / vitamin d3 / zinc gluconate oral tablet', 'ascorbic acid / biotin / calcium carbonate / choline / copper gluconate / folic acid / inositol / iodine / iron / magnesium oxide / methionine / niacin / niacinamide / pantothenate / pyridoxine / riboflavin / selenium / thiamine / ... oral tablet', 'ascorbic acid / biotin / calcium / chromic chloride / cupric oxide / folic acid / magnesium oxide / manganese sulfate / metavanadate / niacinamide / nickel sulfate / pantothenate / phosphorus / potassium chloride / potassium iodide / ... oral tablet', 'aluminum hydroxide / isopropamide / magnesium oxide / magnesium silicate oral granules', 'calcium carbonate / ferrous fumarate / magnesium oxide / vitamin d oral tablet', 'ascorbic acid / biotin / calcium / copper gluconate / ferrous fumarate / iodine / magnesium oxide / niacin / niacinamide / pantothenate / phosphorus / pyridoxine / riboflavin / thiamine / tocopheryl acid succinate,d-alpha / vitamin a / ... oral tablet'], parent_term=drug\n",
      "entity=magnesium oxide; oral, synonyms=['ascorbic acid / beta carotene / biotin / calcium carbonate / chromium, chelated / copper / folic acid / iodine / magnesium oxide / manganese / molybdenum / niacinamide / pantothenate / potassium citrate / pyridoxine / riboflavin / ... oral tablet', 'ascorbic acid / beta carotene / biotin / calcium carbonate / copper sulfate / folic acid / magnesium oxide / niacinamide / pantothenate / potassium iodide / pyridoxine / riboflavin / thiamine / vitamin a / vitamin b 12 / vitamin d / ... oral tablet', 'ascorbic acid / biotin / calcium / chromic chloride / cupric oxide / ferrous fumarate / folic acid / magnesium oxide / manganese sulfate / niacinamide / pantothenate / phosphorus / potassium chloride / potassium iodide / pyridoxine / ... oral tablet', 'acetaminophen / calcium carbonate / magnesium carbonate / magnesium oxide oral tablet', 'calcium / ferrous fumarate / magnesium oxide / vitamin d3 / zinc gluconate oral tablet', 'ascorbic acid / biotin / calcium carbonate / choline / copper gluconate / folic acid / inositol / iodine / iron / magnesium oxide / methionine / niacin / niacinamide / pantothenate / pyridoxine / riboflavin / selenium / thiamine / ... oral tablet', 'ascorbic acid / biotin / calcium / chromic chloride / cupric oxide / folic acid / magnesium oxide / manganese sulfate / metavanadate / niacinamide / nickel sulfate / pantothenate / phosphorus / potassium chloride / potassium iodide / ... oral tablet', 'aluminum hydroxide / isopropamide / magnesium oxide / magnesium silicate oral granules', 'calcium carbonate / ferrous fumarate / magnesium oxide / vitamin d oral tablet', 'ascorbic acid / biotin / calcium / copper gluconate / ferrous fumarate / iodine / magnesium oxide / niacin / niacinamide / pantothenate / phosphorus / pyridoxine / riboflavin / thiamine / tocopheryl acid succinate,d-alpha / vitamin a / ... oral tablet'], parent_term=drug\n"
     ]
    },
    {
     "name": "stderr",
     "output_type": "stream",
     "text": []
    },
    {
     "name": "stdout",
     "output_type": "stream",
     "text": [
      "entity=magnesium peroxide; oral, synonyms=['magnesium peroxide', 'osmotically acting laxatives'], parent_term=drug\n",
      "entity=magnesium sulfate; oral, synonyms=['magnesium sulfate / peptones oral solution', 'calcium ascorbate / magnesium sulfate / potassium sulfate oral capsule', 'cascara sagrada / magnesium sulfate / peumus boldus leaf extract oral solution', 'apis mellifera preparation / arnica montana extract / bovine hypophysis extract / bovine umbilical cord extract / bryonia preparation / magnesium sulfate / tin / vespa crabro preparation / viscum album leaf extract oral tablet', 'ascorbic acid / beta carotene / biotin / ferrous sulfate / folic acid / magnesium sulfate / niacinamide / pantothenate / pyridoxine / thiamine / vitamin b 12 / vitamin e disintegrating oral tablet', 'aesculus hippocastanum bark extract / calcium fluoride / carnation oil / eucalyptus oil / krameria lappacea root extract / lavender oil / magnesium sulfate / myrrh extract / peppermint preparation / sage oil / silver nitrate oral solution', 'burdock root extract / glycyrrhiza glabra extract / magnesium sulfate / potassium iodide / potassium nitrate / sarsaparilla preparation / sennosides, usp oral solution', 'ascorbic acid / calcium lactophosphate / magnesium sulfate / rna oral capsule', 'cascara sagrada / magnesium sulfate / pancreatin / peptones / peumus boldus leaf extract oral solution', \"ascorbic acid / biotin / calcium carbonate / cyanocobalamin co57 / folic acid / magnesium carbonate / magnesium sulfate / niacinamide / pantothenate / pyridoxine / riboflavin 5'-phosphate / thiamine / zinc citrate tablet for oral suspension\"], parent_term=drug\n",
      "entity=mineral salts in combination; oral, synonyms=None, parent_term=drug\n",
      "entity=lactulose; oral, synonyms=None, parent_term=drug\n",
      "entity=lactitol; oral, synonyms=None, parent_term=drug\n",
      "entity=sodium sulfate; oral, synonyms=None, parent_term=drug\n",
      "entity=pentaerithrityl; oral, synonyms=None, parent_term=drug\n",
      "entity=macrogol; oral, synonyms=None, parent_term=drug\n",
      "entity=mannitol; oral, synonyms=['mannitol / sorbitol oral solution', 'atropa belladonna fruiting top extract / mannitol / phenobarbital / theophylline oral tablet', 'angelica archangelica leaf extract / ascorbic acid / chinese cinnamon extract / curcuma zedoria root extract / elettaria cardamomum whole extract / gentiana lutea root extract / mannitol / valeriana officinalis whole extract oral solution', 'betaine / mannitol / sorbitol oral solution', 'mannitol', 'mannitol oral solution', 'ficus carica flower extract / mannitol oral solution', 'mannitol / phenobarbital oral tablet', 'calcium chloride / histidine / magnesium chloride / mannitol / potassium chloride / potassium-hydrogen-2-oxopentandioat / sodium chloride / tryptophan oral solution', 'calcium / glutamate / glutathione / histidine / lactobionate / magnesium / mannitol / potassium / sodium oral solution'], parent_term=drug\n"
     ]
    },
    {
     "name": "stderr",
     "output_type": "stream",
     "text": []
    },
    {
     "name": "stdout",
     "output_type": "stream",
     "text": [
      "entity=sodium phosphate; oral (osmotically acting laxatives), synonyms=['sodium fluoride / sodium phosphate toothpaste', 'sodium phosphate oral solution', 'sodium phosphate / sodium sulfate oral tablet', 'sodium phosphate', 'potassium phosphate / sodium phosphate / sodium phosphate, dibasic oral tablet', 'sodium phosphate / sodium phosphate, monobasic oral solution', 'methenamine / sodium phosphate oral tablet', 'calcium phosphate / l-glutamic acid / magnesium chloride / manganese chloride / phosphoric acid / sodium phosphate oral solution', 'magnesium / manganese / potassium / sodium phosphate / vitamin b 12 oral tablet', 'sodium phosphate 50 g oral product'], parent_term=drug\n",
      "entity=sorbitol; oral, synonyms=['sorbitol oral solution', 'sorbitol oral lozenge', 'sorbitol', 'calcium / carboxymethylcellulose / phosphoric acid / potassium / sodium / sorbitol oral solution', 'glycerin / sorbitol / sucrose oral solution', 'sorbitol oral powder', 'arginine / sodium phosphate, monobasic / sodium sulfate / sorbitol oral solution', 'ascorbic acid / foeniculum vulgare whole extract / matricaria chamomilla flowering top oil / menglytate / mentha piperita extract / menthol / pimpinella anisum extract / pine needle oil (pinus mugo) / sorbitol / ... oral lozenge', 'esculin / grape seed extract / sorbitol oral solution', 'althaea officinalis leaf extract / sorbitol oral solution'], parent_term=drug\n",
      "entity=magnesium citrate; oral (osmotically acting laxatives), synonyms=['magnesium citrate / magnesium phosphate oral lozenge', 'calcium / calcium ascorbate / magnesium citrate / manganese citrate / silicon dioxide / vanadium / zinc citrate oral capsule', 'magnesium citrate / zinc sulfate oral capsule', 'ascorbic acid / beta carotene / biotin / calcium carbonate / choline / chromium citrate / copper gluconate / ferrous succinate / folic acid / inositol / iodine / magnesium citrate / manganese citrate / niacin / niacinamide / ... oral tablet', 'ascorbic acid / beta carotene / biotin / calcium citrate / choline / folic acid / inositol / magnesium citrate / methionine / niacinamide / pantothenic acid / pyridoxine / riboflavin / sulfur / thiamine / ... oral capsule', 'glutamate / magnesium citrate oral tablet', 'alpha tocopherol / ascorbic acid / beta carotene / biotin / calcium citrate / choline / chromium citrate / copper / ferric ammonium citrate / folic acid / magnesium citrate / manganese citrate / molybdenum / niacin / pantothenic acid / ... oral powder', 'ascorbic acid / magnesium citrate / potassium chloride / pyridoxine / vitamin a oral tablet', 'alpha tocopherol / ascorbic acid / beta carotene / biotin / calcium ascorbate / calcium citrate / choline / chromium, chelated / folic acid / inositol / magnesium citrate / manganese citrate / methionine / niacin / niacinamide / ... oral tablet', 'calcium / magnesium citrate / vitamin d3 oral solution'], parent_term=drug\n",
      "entity=magnesium citrate; oral (osmotically acting laxatives), synonyms=['magnesium citrate / magnesium phosphate oral lozenge', 'calcium / calcium ascorbate / magnesium citrate / manganese citrate / silicon dioxide / vanadium / zinc citrate oral capsule', 'magnesium citrate / zinc sulfate oral capsule', 'ascorbic acid / beta carotene / biotin / calcium carbonate / choline / chromium citrate / copper gluconate / ferrous succinate / folic acid / inositol / iodine / magnesium citrate / manganese citrate / niacin / niacinamide / ... oral tablet', 'ascorbic acid / beta carotene / biotin / calcium citrate / choline / folic acid / inositol / magnesium citrate / methionine / niacinamide / pantothenic acid / pyridoxine / riboflavin / sulfur / thiamine / ... oral capsule', 'glutamate / magnesium citrate oral tablet', 'alpha tocopherol / ascorbic acid / beta carotene / biotin / calcium citrate / choline / chromium citrate / copper / ferric ammonium citrate / folic acid / magnesium citrate / manganese citrate / molybdenum / niacin / pantothenic acid / ... oral powder', 'ascorbic acid / magnesium citrate / potassium chloride / pyridoxine / vitamin a oral tablet', 'alpha tocopherol / ascorbic acid / beta carotene / biotin / calcium ascorbate / calcium citrate / choline / chromium, chelated / folic acid / inositol / magnesium citrate / manganese citrate / methionine / niacin / niacinamide / ... oral tablet', 'calcium / magnesium citrate / vitamin d3 oral solution'], parent_term=drug\n",
      "entity=sodium tartrate; oral, synonyms=['osmotically acting laxatives', 'sodium tartrate oral solution', 'oxyquinoline / sodium tartrate oral solution', 'sodium tartrate'], parent_term=drug\n"
     ]
    },
    {
     "name": "stderr",
     "output_type": "stream",
     "text": []
    },
    {
     "name": "stdout",
     "output_type": "stream",
     "text": [
      "entity=lactulose, combinations; oral, synonyms=None, parent_term=drug\n",
      "entity=macrogol, combinations; oral, synonyms=None, parent_term=drug\n",
      "entity=enemas, synonyms=None, parent_term=drug\n",
      "entity=sodium phosphate; rectal, synonyms=['sodium phosphate / sodium phosphate, monobasic enema', 'sodium phosphate enema', 'sodium phosphate / sodium phosphate, monobasic rectal solution', 'sodium phosphate', 'enemas', 'sodium bicarbonate / sodium phosphate rectal suppository'], parent_term=drug\n",
      "entity=bisacodyl; rectal, synonyms=None, parent_term=drug\n",
      "entity=dantron, incl. combinations; rectal, synonyms=None, parent_term=drug\n",
      "entity=glycerol; rectal, synonyms=['glycerol', 'glycerin topical ointment', 'docusate / glycerin rectal solution', 'glycerin rectal solution', 'glycerin mucosal spray', 'glycerin topical cream', 'glycerin rectal gel', 'glycerin / petrolatum / phenylephrine / shark liver oil rectal cream', 'docusate / glycerin enema', 'glycerol formal'], parent_term=drug\n",
      "entity=oil; rectal, synonyms=['acetaminophen / eucalyptus oil / thiophene rectal suppository', 'dried yeast / shark liver oil rectal suppository', 'shark liver oil / tissue respiratory factor rectal suppository', 'mineral oil / petrolatum / phenylephrine / shark liver oil rectal ointment', 'citral / guaiacol / pinus sylvestris bark extract / terpineol / thymus oil rectal suppository', 'shark liver oil / tissue respiratory factor rectal ointment', 'aesculus hippocastanum seed oil / amylocaine / benzocaine / hamamelis virginiana leaf extract rectal ointment', 'shark liver oil / yeast cell extract rectal suppository', 'phenylephrine / shark liver oil rectal ointment', 'abies sibirica leaf oil / eucalyptus globulus pollen extract / oil of niaouli / terpin hydrate rectal suppository'], parent_term=drug\n"
     ]
    },
    {
     "name": "stderr",
     "output_type": "stream",
     "text": []
    },
    {
     "name": "stdout",
     "output_type": "stream",
     "text": [
      "entity=sorbitol; rectal, synonyms=['sorbitol mucous membrane topical solution', 'sorbitol', 'sodium citrate / sodium lauryl sulfoacetate / sorbitol enema', 'citric acid / dodecylbenzenesulfonic acid / sorbitol enema', 'sorbitol rectal solution', 'dodecyl sulfate / sodium citrate / sorbitol rectal solution', 'sodium citrate / sodium lauryl sulfoacetate / sorbitol rectal suspension', 'sorbitol topical ointment', 'docusate / sorbitol enema', 'sodium citrate / sodium lauryl sulfoacetate / sorbitol rectal solution'], parent_term=drug\n",
      "entity=docusate sodium, incl. combinations; rectal, synonyms=None, parent_term=drug\n",
      "entity=sodium lauryl sulfoacetate, incl. combinations; rectal, synonyms=None, parent_term=drug\n",
      "entity=combinations; rectal, synonyms=None, parent_term=drug\n",
      "entity=peripheral opioid receptor antagonists, synonyms=None, parent_term=drug\n",
      "entity=methylnaltrexone bromide; parenteral, synonyms=None, parent_term=drug\n",
      "entity=alvimopan; systemic, synonyms=None, parent_term=drug\n",
      "entity=naloxegol; oral, synonyms=None, parent_term=drug\n",
      "entity=naloxone; systemic (peripheral opioid receptor antagonists), synonyms=None, parent_term=drug\n",
      "entity=naldemedine; oral, synonyms=None, parent_term=drug\n",
      "entity=other drugs for constipation, synonyms=None, parent_term=drug\n",
      "entity=glycerol; oral, rectal, synonyms=['caraway oil / cardamom extract / cinnamon oil / cochineal / glycerin oral solution', 'glycerin oral gel', 'glycerin rectal solution', 'glycerin mouthwash', 'glucose / glycerin oral solution', 'benzoate / bromine / castanea sative leaf extract / drosera rotundifolia extract / emetine / ephedrine / glycerin / menthol / oryctolagus cuniculus lung preparation / plantago seed / primula veris flower extract / ... oral solution', 'glycerin / ipecac oral solution', 'benzalkonium / glycerin rectal suppository', 'capsicum extract / glycerin / licorice / molasses / peppermint oil oral suspension', 'alanine / aspartic acid / benzoate / dehydroacetic acid / ferrous cation / fluorine / glutamate / glycerin / magnesium / niacin / panthenol / phenoxyethanol / phosphoric acid / potassium / silicon / silicon dioxide / sodium / ... oral tablet'], parent_term=drug\n"
     ]
    },
    {
     "name": "stderr",
     "output_type": "stream",
     "text": []
    },
    {
     "name": "stdout",
     "output_type": "stream",
     "text": [
      "entity=carbon dioxide producing drugs, synonyms=None, parent_term=drug\n",
      "entity=lubiprostone; oral, synonyms=None, parent_term=drug\n",
      "entity=linaclotide; oral, synonyms=None, parent_term=drug\n",
      "entity=prucalopride; oral, synonyms=None, parent_term=drug\n",
      "entity=tegaserod; oral, synonyms=None, parent_term=drug\n",
      "entity=plecanatide; oral, synonyms=None, parent_term=drug\n",
      "entity=tenapanor; oral, synonyms=None, parent_term=drug\n",
      "entity=antidiarrheals, intestinal antiinflammatory/antiinfective agents, synonyms=None, parent_term=drug\n",
      "entity=intestinal antiinfectives, synonyms=None, parent_term=drug\n",
      "entity=neomycin; oral (antidiarrheals, intestinal antiinflammatory/antiinfective agents, antibiotics), synonyms=None, parent_term=drug\n",
      "entity=nystatin; oral, synonyms=None, parent_term=drug\n",
      "entity=natamycin; oral (antibiotics), synonyms=None, parent_term=drug\n",
      "entity=streptomycin; oral, synonyms=['citric acid / dihydrostreptomycin / kaolin / pectin / streptomycin / sulfaguanidine oral solution', 'bacitracin / citric acid / dihydrostreptomycin / kaolin / menadiol / pectin / streptomycin oral tablet', 'streptomycin oral capsule', 'aluminum oxide / kaolin / pectin / streptomycin oral solution', 'streptomycin'], parent_term=drug\n"
     ]
    },
    {
     "name": "stderr",
     "output_type": "stream",
     "text": [
      "Embedding Documents: 100%|██████████| 64/64 [00:01<00:00, 39.13doc/s]"
     ]
    },
    {
     "name": "stdout",
     "output_type": "stream",
     "text": [
      "entity=polymyxin b; oral, synonyms=['benzocaine / cetylpyridinium / polymyxin b / tyrothricin buccal tablet', 'polymyxin b 3 mu oral product', 'bacitracin / benzocaine / polymyxin b / tyrothricin oral lozenge', 'gramicidin / neomycin / polymyxin b oral solution', 'benzocaine / cetylpyridinium / polymyxin b / tyrothricin oral lozenge', 'dexamethasone / halethazole tartrate / neomycin / polymyxin b / tyrothricin oral paste', 'polymyxin b', 'dexamethasone / framycetin / polymyxin b oral paste', 'polymyxin b oral tablet'], parent_term=drug\n",
      "entity=paromomycin; oral, synonyms=None, parent_term=drug\n",
      "entity=amphotericin b; oral (antibiotics), synonyms=['amphotericin b / gramicidin / neomycin / tetracycline / triamcinolone oral tablet', 'amphotericin b', 'amphotericin b oral solution', 'amphotericin b oral lozenge', 'amphotericin b / tetracycline / triamcinolone oral tablet', 'amphotericin b oral suspension', 'amphotericin b 0.4 g oral product', 'amphotericin b / tetracycline oral capsule', 'amphotericin b oral capsule', 'amphotericin b / triamcinolone oral tablet'], parent_term=drug\n",
      "entity=kanamycin; oral, synonyms=None, parent_term=drug\n"
     ]
    },
    {
     "name": "stderr",
     "output_type": "stream",
     "text": [
      "\n",
      "6it [00:10,  1.75s/it]2024-09-06 20:08:24,853 - rag.utils - INFO - embed documents\n"
     ]
    },
    {
     "name": "stdout",
     "output_type": "stream",
     "text": [
      "entity=vancomycin; oral, synonyms=None, parent_term=drug\n",
      "entity=colistin; oral, synonyms=None, parent_term=drug\n",
      "entity=rifaximin; oral, synonyms=None, parent_term=drug\n",
      "entity=fidaxomicin; oral, synonyms=None, parent_term=drug\n",
      "entity=rifamycin; systemic, synonyms=None, parent_term=drug\n",
      "entity=neomycin, combinations; oral, synonyms=None, parent_term=drug\n",
      "entity=streptomycin, combinations; oral, synonyms=None, parent_term=drug\n",
      "entity=phthalylsulfathiazole; oral, synonyms=None, parent_term=drug\n",
      "entity=sulfaguanidine; oral, synonyms=['atropa belladonna fruiting top extract / bismuth / chloroxine / phthalylsulfathiazole / sulfaguanidine oral capsule', 'dihydrostreptomycin / sulfaguanidine oral tablet', 'sulfaguanidine 4 g oral product', 'sulfaguanidine oral solution', 'citric acid / dihydrostreptomycin / kaolin / pectin / streptomycin / sulfaguanidine oral solution', 'acacia catechu bark extract / albumin human, usp / atropa belladonna fruiting top extract / bismuth / chloroxine / formosulfathiazole / phthalylsulfathiazole / sulfaguanidine oral solution', 'bismuth / chloroxine / sulfaguanidine / sulfathiazole oral capsule', 'sulfaguanidine oral tablet', 'sulfaguanidine'], parent_term=drug\n",
      "entity=succinylsulfathiazole; oral, synonyms=None, parent_term=drug\n",
      "entity=miconazole; oral (imidazole derivatives), synonyms=None, parent_term=drug\n",
      "entity=other intestinal antiinfectives, synonyms=None, parent_term=drug\n",
      "entity=broxyquinoline; oral (intestinal antiinfectives), synonyms=None, parent_term=drug\n"
     ]
    },
    {
     "name": "stderr",
     "output_type": "stream",
     "text": [
      "\n"
     ]
    },
    {
     "name": "stdout",
     "output_type": "stream",
     "text": [
      "entity=acetarsol; oral, synonyms=None, parent_term=drug\n",
      "entity=nifuroxazide; oral, synonyms=None, parent_term=drug\n",
      "entity=nifurzide; oral, synonyms=None, parent_term=drug\n",
      "entity=intestinal adsorbents, synonyms=None, parent_term=drug\n",
      "entity=charcoal preparations, synonyms=None, parent_term=drug\n",
      "entity=medicinal charcoal; oral, synonyms=['activated charcoal oral powder', 'activated charcoal / belladonna extract, usp / copper / drosera rotundifolia extract / ipecac / lobelia inflata preparation / phosphorus / pulsatilla koreana whole extract / rumex crispus whole extract / ... oral solution', 'activated charcoal oral granules', 'activated charcoal', 'activated charcoal / astragalus preparation / barberry extract / bryonia preparation / cocculus indicus / echinacea angustifolia extract / hydrastis canadensis whole preparation / ledum palustre twig extract / ... oral solution', 'activated charcoal / astragalus preparation / candida parapsilosis / echinacea angustifolia extract / epinephrine / hydrastis canadensis whole preparation / iodine / lycopodium clavatum preparation / phosphoric acid / ... oral solution', 'activated charcoal / alfalfa preparation / astragalus preparation / barberry extract / belladonna extract, usp / burdock root extract / cascara sagrada / croton eluteria bark extract / elymus repens whole extract / ... oral solution', 'activated charcoal / magnesium hydroxide oral tablet', 'activated charcoal / apis mellifera ven protein / baptisia tinctoria extract / belladonna extract, usp / chamomile flowers / cinchona officinalis bark extract / echinacea angustifolia extract / phosphorus / poison ivy extract / ... oral solution', 'activated charcoal / alfalfa preparation / arctostaphylos uva-ursi leaf extract / barberry extract / carbo animalis preparation / greater celandine / lycopodium clavatum preparation / mercuric sulfide / ... oral solution'], parent_term=drug\n",
      "entity=medicinal charcoal; oral, synonyms=['activated charcoal oral powder', 'activated charcoal / belladonna extract, usp / copper / drosera rotundifolia extract / ipecac / lobelia inflata preparation / phosphorus / pulsatilla koreana whole extract / rumex crispus whole extract / ... oral solution', 'activated charcoal oral granules', 'activated charcoal', 'activated charcoal / astragalus preparation / barberry extract / bryonia preparation / cocculus indicus / echinacea angustifolia extract / hydrastis canadensis whole preparation / ledum palustre twig extract / ... oral solution', 'activated charcoal / astragalus preparation / candida parapsilosis / echinacea angustifolia extract / epinephrine / hydrastis canadensis whole preparation / iodine / lycopodium clavatum preparation / phosphoric acid / ... oral solution', 'activated charcoal / alfalfa preparation / astragalus preparation / barberry extract / belladonna extract, usp / burdock root extract / cascara sagrada / croton eluteria bark extract / elymus repens whole extract / ... oral solution', 'activated charcoal / magnesium hydroxide oral tablet', 'activated charcoal / apis mellifera ven protein / baptisia tinctoria extract / belladonna extract, usp / chamomile flowers / cinchona officinalis bark extract / echinacea angustifolia extract / phosphorus / poison ivy extract / ... oral solution', 'activated charcoal / alfalfa preparation / arctostaphylos uva-ursi leaf extract / barberry extract / carbo animalis preparation / greater celandine / lycopodium clavatum preparation / mercuric sulfide / ... oral solution'], parent_term=drug\n",
      "entity=medicinal charcoal, combinations; oral, synonyms=None, parent_term=drug\n",
      "entity=bismuth preparations, synonyms=None, parent_term=drug\n",
      "entity=other intestinal adsorbents, synonyms=None, parent_term=drug\n"
     ]
    },
    {
     "name": "stderr",
     "output_type": "stream",
     "text": [
      "Embedding Documents:  36%|███▌      | 23/64 [00:00<00:00, 53.09doc/s]\u001b[A"
     ]
    },
    {
     "name": "stdout",
     "output_type": "stream",
     "text": [
      "entity=pectin; oral, synonyms=['atropine / benzoate / hyoscyamine / kaolin / pectin / scopolamine oral solution', 'microcrystalline cellulose / pectin / silicon dioxide, colloidal oral powder', 'nifurzide / pectin oral suspension', 'carboxymethylcellulose / gelatin / pectin oral paste', 'atropine / hyoscyamine / kaolin / pectin / scopolamine oral suspension', 'attapulgite / opium / pectin oral capsule', 'kaolin / opium / pectin oral solution', 'bacitracin / citric acid / dihydrostreptomycin / kaolin / menadiol / pectin / streptomycin oral tablet', 'chamomile flowers / pectin oral solution', 'kaolin / pectin oral solution'], parent_term=drug\n",
      "entity=kaolin; oral, synonyms=['calcium carbonate / kaolin / morphine oral tablet', 'atropine / benzoate / hyoscyamine / kaolin / pectin / scopolamine oral solution', 'bismuth subcarbonate / kaolin / magnesium carbonate / mineral oil / mucilage oral powder', 'kaolin oral capsule', 'kaolin / salicylic acid paste', 'aluminum hydroxide / belladonna alkaloids / kaolin / morphine oral tablet', 'aluminum hydroxide / belladonna alkaloids / kaolin / morphine chewable tablet', 'calcium / kaolin oral suspension', 'atropine / hyoscyamine / kaolin / pectin / scopolamine oral suspension', 'kaolin / opium / pectin oral solution'], parent_term=drug\n",
      "entity=crospovidone; oral, synonyms=None, parent_term=drug\n",
      "entity=attapulgite; oral, synonyms=None, parent_term=drug\n",
      "entity=diosmectite; oral, synonyms=None, parent_term=drug\n",
      "entity=combinations; oral (intestinal adsorbents), synonyms=None, parent_term=drug\n",
      "entity=attapulgite, combinations; oral, synonyms=None, parent_term=drug\n",
      "entity=electrolytes with carbohydrates, synonyms=None, parent_term=drug\n",
      "entity=oral rehydration salt formulations, synonyms=None, parent_term=drug\n",
      "entity=antipropulsives, synonyms=None, parent_term=drug\n"
     ]
    },
    {
     "name": "stderr",
     "output_type": "stream",
     "text": []
    },
    {
     "name": "stdout",
     "output_type": "stream",
     "text": [
      "entity=antipropulsives, synonyms=None, parent_term=drug\n",
      "entity=diphenoxylate; oral, synonyms=None, parent_term=drug\n",
      "entity=opium; oral, synonyms=['colchicine / opium / tiemonium delayed release oral tablet', 'ipecac / opium oral powder', 'ambra grisea / gold / opium / strychnos ignatii preparation oral tablet', 'attapulgite / opium / pectin oral capsule', 'kaolin / opium / pectin oral solution', 'aspirin / caffeine / ipecac / opium oral capsule', 'acetic acid / benzoate / honey preparation / opium / squill extract oral lozenge', 'calcium carbonate / opium oral suspension', 'camphor / opium oral solution', 'opium'], parent_term=drug\n",
      "entity=loperamide; oral, synonyms=None, parent_term=drug\n",
      "entity=difenoxin; oral, synonyms=None, parent_term=drug\n",
      "entity=loperamide oxide; oral, synonyms=None, parent_term=drug\n",
      "entity=eluxadoline; oral, synonyms=None, parent_term=drug\n",
      "entity=morphine, combinations; oral, synonyms=None, parent_term=drug\n",
      "entity=loperamide, combinations; oral, synonyms=None, parent_term=drug\n",
      "entity=intestinal antiinflammatory agents, synonyms=None, parent_term=drug\n",
      "entity=corticosteroids acting locally, synonyms=None, parent_term=drug\n",
      "entity=prednisolone; rectal, synonyms=None, parent_term=drug\n",
      "entity=hydrocortisone; rectal, synonyms=None, parent_term=drug\n"
     ]
    },
    {
     "name": "stderr",
     "output_type": "stream",
     "text": []
    },
    {
     "name": "stdout",
     "output_type": "stream",
     "text": [
      "entity=prednisone; rectal, synonyms=None, parent_term=drug\n",
      "entity=betamethasone; rectal, synonyms=None, parent_term=drug\n",
      "entity=tixocortol; rectal, synonyms=None, parent_term=drug\n",
      "entity=budesonide; oral, local oral, synonyms=None, parent_term=drug\n",
      "entity=beclometasone; rectal, synonyms=None, parent_term=drug\n",
      "entity=cromoglicic acid; oral, synonyms=['cromoglycate oral powder', 'cromolyn oral capsule', 'cromoglycate oral tablet', 'cromolyn', 'cromoglycate / isoproterenol oral capsule', 'cromoglycate oral granules', 'cromoglycate', 'cromoglycate oral capsule', 'cromolyn oral granules', 'cromoglicic acid 0.8 g oral product'], parent_term=drug\n",
      "entity=aminosalicylic acid and similar agents, synonyms=None, parent_term=drug\n",
      "entity=sulfasalazine; oral, rectal, synonyms=None, parent_term=drug\n",
      "entity=mesalazine; oral, rectal, synonyms=None, parent_term=drug\n",
      "entity=olsalazine; oral, synonyms=None, parent_term=drug\n",
      "entity=balsalazide; oral, synonyms=None, parent_term=drug\n",
      "entity=antidiarrheal microorganisms, synonyms=None, parent_term=drug\n",
      "entity=antidiarrheal microorganisms, synonyms=None, parent_term=drug\n"
     ]
    },
    {
     "name": "stderr",
     "output_type": "stream",
     "text": [
      "Embedding Documents: 100%|██████████| 64/64 [00:01<00:00, 56.14doc/s]"
     ]
    },
    {
     "name": "stdout",
     "output_type": "stream",
     "text": [
      "entity=lactic acid producing organisms; oral, synonyms=None, parent_term=drug\n",
      "entity=saccharomyces boulardii; oral, synonyms=['saccharomyces boulardii powder for oral suspension', 'lactobacillus acidophilus / lactobacillus rhamnosus gg / saccharomyces boulardii oral capsule', 'acetaminophen / aspirin / caffeine / lactulose / saccharomyces boulardii / tetrahydrozoline oral tablet', 'saccharomyces boulardii 1 g oral product', 'saccharomyces boulardii', 'saccharomyces boulardii oral solution', 'saccharomyces boulardii chewable tablet', 'bifidobacterium bifidum / lactobacillus acidophilus / saccharomyces boulardii oral capsule', 'saccharomyces boulardii oral powder', 'saccharomyces boulardii oral capsule'], parent_term=drug\n",
      "entity=lactic acid producing organisms, combinations; oral, synonyms=None, parent_term=drug\n",
      "entity=other antidiarrheals, synonyms=None, parent_term=drug\n",
      "entity=other antidiarrheals, synonyms=None, parent_term=drug\n"
     ]
    },
    {
     "name": "stderr",
     "output_type": "stream",
     "text": [
      "\n",
      "7it [00:11,  1.70s/it]2024-09-06 20:08:26,436 - rag.utils - INFO - embed documents\n"
     ]
    },
    {
     "name": "stdout",
     "output_type": "stream",
     "text": [
      "entity=albumin tannate; oral, synonyms=['other antidiarrheals', 'albumin tannate', 'albumin tannate 3 g oral product', 'albumin tannate oral powder'], parent_term=drug\n",
      "entity=ceratonia; oral, synonyms=None, parent_term=drug\n",
      "entity=calcium compounds; oral, synonyms=None, parent_term=drug\n",
      "entity=racecadotril; oral, synonyms=None, parent_term=drug\n",
      "entity=crofelemer; oral, synonyms=None, parent_term=drug\n",
      "entity=albumin tannate, combinations; oral, synonyms=None, parent_term=drug\n",
      "entity=centrally acting antiobesity products, synonyms=None, parent_term=drug\n",
      "entity=phentermine; oral, synonyms=None, parent_term=drug\n",
      "entity=fenfluramine; oral (centrally acting antiobesity products), synonyms=None, parent_term=drug\n",
      "entity=amfepramone; oral, synonyms=None, parent_term=drug\n",
      "entity=dexfenfluramine; oral, synonyms=None, parent_term=drug\n",
      "entity=mazindol; oral, synonyms=None, parent_term=drug\n"
     ]
    },
    {
     "name": "stderr",
     "output_type": "stream",
     "text": []
    },
    {
     "name": "stdout",
     "output_type": "stream",
     "text": [
      "entity=etilamfetamine, synonyms=None, parent_term=drug\n",
      "entity=cathine; oral, synonyms=['cathine extended release oral tablet', 'cathine / etofylline oral solution', 'ascorbic acid / cathine / pyridoxine / thiamine extended release oral capsule', 'cascara sagrada / cathine / frangula alnus bark extract / ononis campestris extract / orthosiphon / oxyphenisatin / rheum officinale whole extract oral tablet', 'cathine oral capsule', 'caffeine / cathine / niacinamide / nikethamide / pyridoxine / thiamine / vitamin b 12 oral solution', 'acorus calamus extract / aloe extract / betula pubescens bark extract / cathine / frangula alnus bark extract / gentiana lutea root extract / phenolphthalein oral tablet', 'cathine oral tablet', 'aloe extract / cathine / docusate / frangula alnus bark extract / oxyphenisatin / rheum officinale whole extract / scopolia japonica oral tablet', 'benzoate / cathine oral solution'], parent_term=drug\n",
      "entity=clobenzorex; oral, synonyms=None, parent_term=drug\n",
      "entity=mefenorex; oral, synonyms=None, parent_term=drug\n",
      "entity=sibutramine; oral, synonyms=None, parent_term=drug\n",
      "entity=lorcaserin; oral, synonyms=None, parent_term=drug\n",
      "entity=setmelanotide; parenteral, synonyms=None, parent_term=drug\n",
      "entity=ephedrine, combinations; systemic, synonyms=None, parent_term=drug\n",
      "entity=bupropion and naltrexone; systemic, synonyms=None, parent_term=drug\n",
      "entity=peripherally acting antiobesity products, synonyms=None, parent_term=drug\n",
      "entity=orlistat; oral, synonyms=None, parent_term=drug\n",
      "entity=other antiobesity drugs, synonyms=None, parent_term=drug\n",
      "entity=rimonabant; oral, synonyms=None, parent_term=drug\n"
     ]
    },
    {
     "name": "stderr",
     "output_type": "stream",
     "text": []
    },
    {
     "name": "stdout",
     "output_type": "stream",
     "text": [
      "entity=enzyme preparations, synonyms=['enzyme preparation (product)'], parent_term=drug\n",
      "entity=diastase; inhalant, oral, synonyms=['ascorbic acid / choline / evening primrose extract / lipase / vitamin a / vitamin e / wheat germ oil oral tablet', 'amylases / calcium carbonate / cinnamon bark / clove preparation / fennel extract / gentian preparation / ginger root / glycyrrhiza uralensis extract / lipase / magnesium silicate / sodium bicarbonate / ursodeoxycholate / ... oral powder', 'biodiasmin-f 100 / biodiastase / lipase / prozyme 6 / riboflavin / thiamine / ursodeoxycholate oral tablet', 'amylases / cellulase / endopeptidases / lactase / lipase oral capsule', 'amylase / lipase / pancreatin / protease oral tablet', 'amylases / cellulase / lipase / newlase / pancreatin / prozyme oral granules', 'amylases / carica papaya preparation / endopeptidases / lipase oral tablet', 'alpha-amylase / amylase / ginseng root / protease / sodium bicarbonate oral tablet', 'amylases / calcium carbonate / cinnamon bark / clove preparation / coptis chinensis root extract / coptis japonica root extract / fennel extract / ginger root / glycyrrhiza uralensis extract / magnesium aluminometasilicate type i-b / ... oral powder', 'azintamide / cellulase / pancreatin oral tablet'], parent_term=drug\n",
      "entity=multienzymes (lipase, protease etc.), synonyms=None, parent_term=drug\n",
      "entity=pepsin; inhalant, oral, synonyms=['ammonium chloride / betaine / pancreatin / pepsin a oral tablet', 'comfrey leaf extract / manganese phytate / pepsin a oral capsule', 'dehydrocholate / pepsin a oral tablet', 'pepsin a', 'bos taurus bile preparation / bromelains / lipase / pancreatin / pepsin a oral tablet', 'betaine / pepsin a oral capsule', 'glutamate / pepsin a oral tablet', 'pepsin a oral powder', 'dehydrocholate / pancreatin / pepsin a oral tablet', 'ammonium chloride / betaine / pepsin a oral tablet'], parent_term=drug\n",
      "entity=tilactase; inhalant, oral, topical, synonyms=None, parent_term=drug\n",
      "entity=acid preparations, synonyms=None, parent_term=drug\n",
      "entity=glutamic acid hydrochloride; oral, synonyms=['cysteine / dehydrocholate / glutamate / glycine / papaverine oral tablet', 'glutamic acid hydrochloride 1.5 g oral product', 'glutamate / pepsin a oral tablet', 'cola acuminata seed extract / ginseng preparation / glutamate / niacinamide / pyridoxine / riboflavin / soybean lecithin / thiamine / vitamin b 12 / vitamin e oral capsule', 'glutamate / magnesium citrate oral tablet', 'glutamate / zinc chloride oral tablet', 'dehydrocholate / dihydroergotoxine / ergotamine / glutamate / hyoscyamine / nicotine / phenobarbital / quinidine / quinine / scopolamine / theobromine oral tablet', 'ferric citrate / glutamate / niacinamide / pyridoxine / soybean lecithin / thiamine oral solution', 'dehydrocholate / dihydroergotoxine / glutamate / niacin / quinidine / quinine / theobromine oral tablet', 'calcium / glutamate / glutathione / histidine / lactobionate / magnesium / mannitol / potassium / sodium oral solution'], parent_term=drug\n",
      "entity=betaine hydrochloride; oral, synonyms=['ammonium chloride / betaine / pancreatin / pepsin a oral tablet', 'ascorbic acid / betaine / ferrous fumarate / folic acid / niacinamide / pantothenate / riboflavin / thiamine / tocopheryl acid succinate,d-alpha / vitamin b 12 / vitamin b6 oral tablet', 'betaine / pepsin a oral capsule', 'ammonium chloride / betaine / pepsin a oral tablet', 'amylases / betaine / bromelains / lipase oral tablet', 'amylases / betaine / bromelains / cellulase / endopeptidases / lactase / lipase / papain oral tablet', 'betaine / folic acid / mecobalamin / pyridoxine oral capsule', 'betaine / bromelains / pancreatin / papain oral tablet', 'betaine / pancreatin / papain / peppermint preparation / pepsin a oral tablet', 'amylases / betaine / lipase / pepsin a oral tablet'], parent_term=drug\n"
     ]
    },
    {
     "name": "stderr",
     "output_type": "stream",
     "text": []
    },
    {
     "name": "stdout",
     "output_type": "stream",
     "text": [
      "entity=hydrochloric acid; systemic, synonyms=['araneus diadematus preparation / echinacea angustifolia extract / fucus vesiculosus extract / gelsemium sempervirens preparation / greater celandine / hydrastis canadensis whole preparation / hydrochloric acid / ... oral solution', 'hydrochloric acid', 'acetic acid / calcium / glucose / hydrochloric acid / magnesium / sodium injectable solution', 'hydrochloric acid oral solution', 'calcium chloride / glucose / glycerol mono(di)sodium phosphate / hydrochloric acid / magnesium chloride / malic acid / potassium chloride / sodium acetate trihydrate / sodium chloride injectable solution', 'araneus diadematus preparation / astragalus preparation / baptisia tinctoria extract / belladonna extract, usp / echinacea angustifolia extract / hydrastis canadensis whole preparation / hydrochloric acid / ipecac / iridium / ... oral solution', 'hydrochloric acid injectable solution', 'glucose / hydrochloric acid / xylitol injectable solution', 'acetic acid / calcium / hydrochloric acid / magnesium / potassium / sodium / xylitol injectable solution', 'acetic acid / alanine / ammonium chloride / arginine / glycerol mono(di)sodium phosphate / glycine / histidine / hydrochloric acid / isoleucine / leucine / lysine / phenylalanine / potassium lactate / proline / serine / taurine / ... injectable solution'], parent_term=drug\n",
      "entity=hydrochloric acid; systemic, synonyms=['araneus diadematus preparation / echinacea angustifolia extract / fucus vesiculosus extract / gelsemium sempervirens preparation / greater celandine / hydrastis canadensis whole preparation / hydrochloric acid / ... oral solution', 'hydrochloric acid', 'acetic acid / calcium / glucose / hydrochloric acid / magnesium / sodium injectable solution', 'hydrochloric acid oral solution', 'calcium chloride / glucose / glycerol mono(di)sodium phosphate / hydrochloric acid / magnesium chloride / malic acid / potassium chloride / sodium acetate trihydrate / sodium chloride injectable solution', 'araneus diadematus preparation / astragalus preparation / baptisia tinctoria extract / belladonna extract, usp / echinacea angustifolia extract / hydrastis canadensis whole preparation / hydrochloric acid / ipecac / iridium / ... oral solution', 'hydrochloric acid injectable solution', 'glucose / hydrochloric acid / xylitol injectable solution', 'acetic acid / calcium / hydrochloric acid / magnesium / potassium / sodium / xylitol injectable solution', 'acetic acid / alanine / ammonium chloride / arginine / glycerol mono(di)sodium phosphate / glycine / histidine / hydrochloric acid / isoleucine / leucine / lysine / phenylalanine / potassium lactate / proline / serine / taurine / ... injectable solution'], parent_term=drug\n",
      "entity=citric acid; oral, synonyms=['citric acid / glucose / potassium chloride / sodium bicarbonate / sodium chloride disintegrating oral tablet', 'citric acid / sodium / tartaric acid oral powder', '5-hydroxytryptophan / citric acid / pyridoxine oral capsule', 'calcium / citric acid / iron / magnesium / niacinamide / riboflavin / thiamine / vitamin b 12 / vitamin b6 oral solution', 'citric acid / nalidixate / sodium bicarbonate / sodium citrate oral granules', 'aspirin / citric acid / sodium bicarbonate granules for oral solution', 'citric acid / honey preparation / lemon oil / levomenthol oral lozenge', 'citric acid / stevioside / tartaric acid oral tablet', 'citric acid / magnesium oxide / picosulfurate powder for oral solution', 'citric acid / sodium bicarbonate / sodium carbonate / sodium citrate oral granules'], parent_term=drug\n",
      "entity=enzyme and acid preparations, combinations, synonyms=None, parent_term=drug\n",
      "entity=pepsin and acid preparations; systemic, synonyms=None, parent_term=drug\n",
      "entity=multienzymes and acid preparations; systemic, synonyms=None, parent_term=drug\n",
      "entity=drugs used in diabetes, synonyms=None, parent_term=drug\n",
      "entity=insulins and analogues, synonyms=None, parent_term=drug\n"
     ]
    },
    {
     "name": "stderr",
     "output_type": "stream",
     "text": []
    },
    {
     "name": "stdout",
     "output_type": "stream",
     "text": [
      "entity=insulins and analogues for injection, fast-acting, synonyms=None, parent_term=drug\n",
      "entity=insulin (human); parenteral (insulins and analog. for injection, fast-acting), synonyms=['insulin, isophane / regular insulin, human cartridge', 'regular insulin, human intramuscular solution', 'regular insulin, human cartridge', 'insulin, regular, human pen injector', 'insulin (human) 40 u parenteral product', 'insulin, isophane / regular insulin, human injectable solution', 'insulin, aspart, human / regular insulin, human injectable suspension', 'regular insulin, human injectable suspension', 'regular insulin, human dry powder inhaler', 'insulin, zinc, human / regular insulin, human injectable suspension'], parent_term=drug\n",
      "entity=insulin (beef); parenteral (insulins and analog. for injection, fast-acting), synonyms=['insulin, prompt zinc, beef-pork injectable suspension', 'insulin (beef)', 'insulin, regular, beef injection', 'insulin, prompt zinc, beef', 'insulin, regular, beef-pork', 'insulin, regular, beef injectable solution', 'insulin, pork / insulin, regular, beef injectable suspension', 'insulin, regular, beef-pork injectable solution', 'insulin, prompt zinc, beef injectable suspension', 'insulin, prompt zinc, beef-pork'], parent_term=drug\n",
      "entity=insulin (pork); parenteral (insulins and analog. for injection, fast-acting), synonyms=['insulin, pork prefilled syringe', 'insulin, regular, pork injectable solution', 'insulin isophane / insulin, regular, pork injectable suspension', 'insulin, prompt zinc, pork injectable solution', 'insulin, pork injectable suspension', 'insulin, pork / insulin, regular, beef injectable solution', 'insulin (pork) 40 u parenteral product', 'insulin, regular, pork injectable suspension', 'insulin, regular, beef-pork', 'insulin, regular, pork'], parent_term=drug\n",
      "entity=insulin lispro; parenteral (insulins and analog. for injection, fast-acting), synonyms=['insulin lispro / insulin, protamine lispro, human prefilled syringe', 'insulin lispro intramuscular solution', 'insulin lispro / insulin lispro protamine, human pen injector', 'insulin lispro injectable solution', 'insulin lispro', 'insulin lispro / insulin, protamine lispro, human cartridge', 'insulin lispro injectable suspension', 'insulin lispro cartridge', 'insulin lispro 40 u parenteral product', 'insulin lispro / insulin lispro protamine, human injectable suspension'], parent_term=drug\n",
      "entity=insulin aspart; parenteral (insulins and analog. for injection, fast-acting), synonyms=['insulin aspart injectable solution', 'insulin aspart 40 u parenteral product', 'insulin aspart, human', 'insulin aspart protamine, human / insulin aspart, human pen injector', 'insulin aspart, human / insulin degludec pen injector', 'insulin, aspart, human / regular insulin, human injectable suspension', 'insulin, aspart protamine, human / insulin, aspart, human prefilled syringe', 'insulin aspart protamine, human / insulin aspart, human injectable suspension', 'insulin, aspart protamine, human / insulin, aspart, human cartridge', 'insulin degludec / insulin, aspart, human injectable solution'], parent_term=drug\n"
     ]
    },
    {
     "name": "stderr",
     "output_type": "stream",
     "text": []
    },
    {
     "name": "stdout",
     "output_type": "stream",
     "text": [
      "entity=insulin glulisine; parenteral, synonyms=['insulin glulisine, human pen injector', 'insulin, glulisine, human cartridge', 'insulin glulisine 40 u parenteral product', 'insulins and analogues for injection, fast-acting', 'insulin glulisine, human injectable solution', 'insulin, glulisine, human prefilled syringe', 'insulin glulisine, human', 'insulin, glulisine, human injection'], parent_term=drug\n",
      "entity=combinations; parenteral (insulins and analog. for injection, fast-acting), synonyms=None, parent_term=drug\n",
      "entity=insulins and analogues for injection, intermediate-acting, synonyms=None, parent_term=drug\n",
      "entity=insulin (human); parenteral (insulins and analog. for injection, intermediate-acting), synonyms=['insulin, protamine zinc, beef / insulin, protamine zinc, beef-pork / insulin, protamine zinc, human / insulin, protamine zinc, pork injectable solution', 'insulin, protamine zinc, human', 'insulins and analogues for injection, intermediate-acting', 'insulin (human)', 'insulin (human) 40 u parenteral product', 'insulin, protamine zinc, human injectable suspension'], parent_term=drug\n",
      "entity=insulin (beef); parenteral (insulins and analog. for injection, intermediate-acting), synonyms=['lente insulin, beef-pork', 'insulin (beef)', 'insulin, protamine zinc, beef / insulin, protamine zinc, beef-pork / insulin, protamine zinc, human / insulin, protamine zinc, pork injectable solution', 'insulin, protamine zinc, beef injectable solution', 'insulin, prompt zinc, beef-pork injectable suspension', 'insulin, protamine zinc, beef-pork', 'insulin, protamine zinc, beef injectable suspension', 'insulin, protamine zinc, beef', 'insulin, prompt zinc, pork / insulin, protamine zinc, beef injectable suspension', 'insulin, prompt zinc, beef injectable suspension'], parent_term=drug\n",
      "entity=insulin (pork); parenteral (insulins and analog. for injection, intermediate-acting), synonyms=['insulin, protamine zinc, beef / insulin, protamine zinc, beef-pork / insulin, protamine zinc, human / insulin, protamine zinc, pork injectable solution', 'insulin, pork prefilled syringe', 'insulin, pork injectable suspension', 'insulin, pork / insulin, regular, beef injectable solution', 'insulin (pork) 40 u parenteral product', 'insulin, pork / insulin, regular, pork injectable solution', 'insulin, isophane / insulin, pork injectable solution', 'insulin, protamine zinc, beef-pork injectable suspension', 'lente insulin, beef-pork injectable suspension', 'insulin, prompt zinc, beef-pork injectable suspension'], parent_term=drug\n"
     ]
    },
    {
     "name": "stderr",
     "output_type": "stream",
     "text": []
    },
    {
     "name": "stdout",
     "output_type": "stream",
     "text": [
      "entity=insulin lispro; parenteral (insulins and analog. for injection, intermediate-acting), synonyms=['insulin lispro / insulin, protamine lispro, human prefilled syringe', 'insulin lispro intramuscular solution', 'insulin lispro / insulin lispro protamine, human pen injector', 'insulin lispro protamine, human', 'insulin lispro injectable solution', 'insulin lispro', 'insulin lispro / insulin, protamine lispro, human cartridge', 'insulin lispro injectable suspension', 'insulin lispro cartridge', 'insulin lispro 40 u parenteral product'], parent_term=drug\n",
      "entity=combinations; parenteral (insulins and analog. for injection, intermediate-acting), synonyms=None, parent_term=drug\n",
      "entity=insulins and analogues for injection, intermediate- or long-acting combined with fast-acting, synonyms=None, parent_term=drug\n",
      "entity=insulin (human); parenteral (insulins and analog. for injection, intermediate- or long-acting comb. with fast-acting), synonyms=['insulin, isophane / regular insulin, human cartridge', 'regular insulin, human intramuscular solution', 'regular insulin, human cartridge', 'insulin, regular, human pen injector', 'insulin (human) 40 u parenteral product', 'insulin, isophane / regular insulin, human injectable solution', 'insulin, aspart, human / regular insulin, human injectable suspension', 'regular insulin, human injectable suspension', 'insulin, zinc, human / regular insulin, human injectable suspension', 'insulin, regular, human injection'], parent_term=drug\n",
      "entity=insulin (beef); parenteral (insulins and analog. for injection, intermediate- or long-acting comb. with fast-acting), synonyms=['insulin glargine pen injector', 'insulin (beef)', 'insulin, protamine zinc, beef / insulin, protamine zinc, beef-pork / insulin, protamine zinc, human / insulin, protamine zinc, pork injectable solution', 'lente insulin, beef injectable suspension', 'insulin glargine injection', 'insulin, prompt zinc, pork injectable solution', 'insulin glargine / lixisenatide injectable solution', 'insulin, prompt zinc, beef injectable solution', 'insulin glargine cartridge', 'insulin, prompt zinc, pork / insulin, protamine zinc, beef injectable suspension'], parent_term=drug\n",
      "entity=insulin (pork); parenteral (insulins and analog. for injection, intermediate- or long-acting comb. with fast-acting), synonyms=['insulin, pork prefilled syringe', 'insulin, regular, pork injectable solution', 'insulin isophane / insulin, regular, pork injectable suspension', 'lente insulin, pork', 'insulin, prompt zinc, pork injectable solution', 'insulin, pork injectable suspension', 'insulin, pork / insulin, regular, beef injectable solution', 'insulin (pork) 40 u parenteral product', 'insulin, regular, pork injectable suspension', 'insulin, regular, pork'], parent_term=drug\n"
     ]
    },
    {
     "name": "stderr",
     "output_type": "stream",
     "text": [
      "Embedding Documents: 100%|██████████| 64/64 [00:01<00:00, 38.10doc/s]"
     ]
    },
    {
     "name": "stdout",
     "output_type": "stream",
     "text": [
      "entity=insulin lispro; parenteral (insulins and analog. for injection, intermediate- or long-acting comb. with fast-acting), synonyms=['insulin lispro intramuscular solution', 'insulin lispro / insulin, protamine lispro, human prefilled syringe', 'insulin lispro / insulin, protamine lispro, human injection', 'insulin lispro / insulin lispro protamine, human pen injector', 'insulin lispro protamine, human', 'insulin lispro injectable solution', 'insulin lispro', 'insulin lispro injectable suspension', 'insulin lispro cartridge', 'insulin lispro 40 u parenteral product'], parent_term=drug\n",
      "entity=insulin aspart; parenteral (insulins and analog. for injection, intermediate- or long-acting comb. with fast-acting), synonyms=['insulin aspart injectable solution', 'insulin aspart 40 u parenteral product', 'insulin aspart, human', 'insulin aspart protamine, human', 'insulin aspart protamine, human / insulin aspart, human pen injector', 'insulin degludec pen injector', 'insulin aspart, human / insulin degludec pen injector', 'insulin, aspart, human / regular insulin, human injectable suspension', 'insulin degludec prefilled syringe', 'insulin, aspart protamine, human / insulin, aspart, human prefilled syringe'], parent_term=drug\n",
      "entity=insulin degludec and insulin aspart; parenteral, synonyms=None, parent_term=drug\n",
      "entity=combinations; parenteral (insulins and analog. for injection, intermediate- or long-acting comb. with fast-acting), synonyms=None, parent_term=drug\n",
      "entity=insulins and analogues for injection, long-acting, synonyms=None, parent_term=drug\n"
     ]
    },
    {
     "name": "stderr",
     "output_type": "stream",
     "text": [
      "\n",
      "8it [00:13,  1.83s/it]2024-09-06 20:08:28,565 - rag.utils - INFO - embed documents\n"
     ]
    },
    {
     "name": "stdout",
     "output_type": "stream",
     "text": [
      "entity=insulin (human); parenteral (insulins and analog. for injection, long-acting), synonyms=['insulin, prompt zinc, human / ultralente insulin, human injectable suspension', 'insulins and analogues for injection, long-acting', 'ultralente insulin, human injectable suspension', 'ultralente insulin, human', 'insulin (human)', 'lente insulin, human injectable suspension', 'insulin (human) 40 u parenteral product'], parent_term=drug\n",
      "entity=insulin (beef); parenteral (insulins and analog. for injection, long-acting), synonyms=['insulin (beef)', 'insulins and analogues for injection, long-acting', 'ultralente insulin, beef injectable suspension', 'ultralente insulin, beef-pork', 'ultralente insulin, beef', 'insulin (beef) 40 u parenteral product', 'ultralente insulin, beef-pork injectable suspension'], parent_term=drug\n",
      "entity=insulin (pork); parenteral (insulins and analog. for injection, long-acting), synonyms=['insulin, pork prefilled syringe', 'insulin, pork / insulin, regular, pork injectable suspension', 'insulin, pork / insulin, regular, beef injectable suspension', 'insulin, pork / insulin, regular, pork injectable solution', 'insulin, isophane / insulin, pork injectable solution', 'insulin (pork)', 'insulin, pork injectable solution', 'ultralente insulin, beef-pork', 'ultralente insulin, beef-pork injectable suspension', 'insulin, pork injectable suspension'], parent_term=drug\n",
      "entity=insulin glargine; parenteral, synonyms=['insulin glargine pen injector', 'insulin glargine auto-injector', 'insulin glargine injectable solution', 'insulin glargine cartridge', 'insulin glargine injectable suspension', 'insulin glargine', 'insulin glargine / lixisenatide pen injector', 'insulin glargine injection', 'insulin glargine prefilled syringe', 'insulin glargine / lixisenatide injectable solution'], parent_term=drug\n"
     ]
    },
    {
     "name": "stderr",
     "output_type": "stream",
     "text": []
    },
    {
     "name": "stdout",
     "output_type": "stream",
     "text": [
      "entity=insulin detemir; parenteral, synonyms=['insulin detemir', 'insulin detemir injectable suspension', 'insulin detemir injectable solution', 'insulin detemir / insulin, isophane injectable suspension', 'insulin detemir prefilled syringe', 'insulin detemir injection', 'insulin detemir cartridge', 'insulin detemir 40 u parenteral product', 'insulin detemir pen injector', 'insulins and analogues for injection, long-acting'], parent_term=drug\n",
      "entity=insulin degludec; parenteral, synonyms=['insulin aspart, human / insulin degludec pen injector', 'insulin degludec 40 u parenteral product', 'insulin degludec 200 unt/ml injectable solution', 'insulin degludec injectable solution', 'insulin degludec / insulin, aspart, human injectable solution', 'insulin aspart / insulin degludec prefilled syringe', 'insulin degludec prefilled syringe', 'insulin degludec / liraglutide injectable solution', 'insulin degludec / liraglutide prefilled syringe', 'insulin degludec 100 unt/ml injectable solution box of 5'], parent_term=drug\n",
      "entity=combinations; parenteral (insulins and analog. for injection, long-acting), synonyms=None, parent_term=drug\n",
      "entity=insulin glargine and lixisenatide; systemic, synonyms=None, parent_term=drug\n",
      "entity=insulin degludec and liraglutide; parenteral, synonyms=None, parent_term=drug\n",
      "entity=insulins and analogues for inhalation, synonyms=None, parent_term=drug\n",
      "entity=insulin (human); inhalant, synonyms=['insulin human, rdna origin', 'insulin human, rdna origin inhalation powder', 'insulin (human)', 'insulin human, rdna origin dry powder inhaler', 'insulins and analogues for inhalation'], parent_term=drug\n",
      "entity=blood glucose lowering drugs, excl. insulins, synonyms=None, parent_term=drug\n"
     ]
    },
    {
     "name": "stderr",
     "output_type": "stream",
     "text": []
    },
    {
     "name": "stdout",
     "output_type": "stream",
     "text": [
      "entity=phenformin; oral, synonyms=None, parent_term=drug\n",
      "entity=metformin; oral, synonyms=None, parent_term=drug\n",
      "entity=buformin; oral, synonyms=None, parent_term=drug\n",
      "entity=sulfonylureas, synonyms=None, parent_term=drug\n",
      "entity=glibenclamide; oral, synonyms=None, parent_term=drug\n",
      "entity=chlorpropamide; oral, synonyms=None, parent_term=drug\n",
      "entity=tolbutamide; oral, synonyms=None, parent_term=drug\n",
      "entity=glibornuride; oral, synonyms=None, parent_term=drug\n",
      "entity=tolazamide; oral, synonyms=None, parent_term=drug\n",
      "entity=carbutamide; oral, synonyms=None, parent_term=drug\n",
      "entity=glipizide; oral, synonyms=None, parent_term=drug\n",
      "entity=gliquidone; oral, synonyms=None, parent_term=drug\n",
      "entity=gliclazide; oral, synonyms=None, parent_term=drug\n",
      "entity=metahexamide; oral, synonyms=None, parent_term=drug\n",
      "entity=glisoxepide; oral, synonyms=None, parent_term=drug\n"
     ]
    },
    {
     "name": "stderr",
     "output_type": "stream",
     "text": []
    },
    {
     "name": "stdout",
     "output_type": "stream",
     "text": [
      "entity=glimepiride; oral, synonyms=None, parent_term=drug\n",
      "entity=acetohexamide; oral, synonyms=None, parent_term=drug\n",
      "entity=sulfonamides (heterocyclic), synonyms=None, parent_term=drug\n",
      "entity=glymidine; oral, synonyms=None, parent_term=drug\n",
      "entity=combinations of oral blood glucose lowering drugs, synonyms=None, parent_term=drug\n",
      "entity=phenformin and sulfonylureas; oral, synonyms=None, parent_term=drug\n",
      "entity=metformin and sulfonylureas; systemic, synonyms=None, parent_term=drug\n",
      "entity=metformin and rosiglitazone; systemic, synonyms=None, parent_term=drug\n",
      "entity=glimepiride and rosiglitazone; oral, synonyms=None, parent_term=drug\n",
      "entity=metformin and pioglitazone; systemic, synonyms=None, parent_term=drug\n",
      "entity=glimepiride and pioglitazone; oral, synonyms=None, parent_term=drug\n",
      "entity=metformin and sitagliptin; systemic, synonyms=None, parent_term=drug\n",
      "entity=metformin and vildagliptin; systemic, synonyms=None, parent_term=drug\n",
      "entity=pioglitazone and alogliptin; oral, synonyms=None, parent_term=drug\n",
      "entity=metformin and saxagliptin; systemic, synonyms=None, parent_term=drug\n"
     ]
    },
    {
     "name": "stderr",
     "output_type": "stream",
     "text": []
    },
    {
     "name": "stdout",
     "output_type": "stream",
     "text": [
      "entity=metformin and linagliptin; systemic, synonyms=None, parent_term=drug\n",
      "entity=pioglitazone and sitagliptin; oral, synonyms=None, parent_term=drug\n",
      "entity=metformin and alogliptin; systemic, synonyms=None, parent_term=drug\n",
      "entity=metformin and repaglinide; systemic, synonyms=None, parent_term=drug\n",
      "entity=metformin and dapagliflozin; systemic, synonyms=None, parent_term=drug\n",
      "entity=metformin and canagliflozin; systemic, synonyms=None, parent_term=drug\n",
      "entity=metformin and acarbose; systemic, synonyms=None, parent_term=drug\n",
      "entity=metformin and gemigliptin; systemic, synonyms=None, parent_term=drug\n",
      "entity=linagliptin and empagliflozin; oral, synonyms=None, parent_term=drug\n",
      "entity=metformin and empagliflozin; systemic, synonyms=None, parent_term=drug\n",
      "entity=saxagliptin and dapagliflozin; oral, synonyms=None, parent_term=drug\n",
      "entity=metformin and evogliptin; systemic, synonyms=None, parent_term=drug\n",
      "entity=metformin and ertugliflozin; systemic, synonyms=None, parent_term=drug\n",
      "entity=sitagliptin and ertugliflozin; oral, synonyms=None, parent_term=drug\n",
      "entity=metformin, saxagliptin and dapagliflozin; systemic, synonyms=None, parent_term=drug\n"
     ]
    },
    {
     "name": "stderr",
     "output_type": "stream",
     "text": [
      "Embedding Documents: 100%|██████████| 64/64 [00:01<00:00, 54.46doc/s]\n"
     ]
    },
    {
     "name": "stdout",
     "output_type": "stream",
     "text": [
      "entity=metformin and lobeglitazone; systemic, synonyms=None, parent_term=drug\n",
      "entity=metformin, linagliptin and empagliflozin; systemic, synonyms=None, parent_term=drug\n",
      "entity=alpha glucosidase inhibitors, synonyms=['blood glucose lowering drugs, excl. insulins', 'alpha-glucoside inhibitor (substance)', 'alpha-glucosidase inhibitor', 'alpha glucoside inhibitors', 'alpha glucosides inhibitors', 'alpha glucosidase inhibitor'], parent_term=drug\n",
      "entity=acarbose; oral, synonyms=None, parent_term=drug\n",
      "entity=miglitol; oral, synonyms=None, parent_term=drug\n",
      "entity=voglibose; oral, synonyms=None, parent_term=drug\n",
      "entity=troglitazone; oral, synonyms=None, parent_term=drug\n"
     ]
    },
    {
     "name": "stderr",
     "output_type": "stream",
     "text": [
      "9it [00:15,  1.79s/it]2024-09-06 20:08:30,265 - rag.utils - INFO - embed documents\n"
     ]
    },
    {
     "name": "stdout",
     "output_type": "stream",
     "text": [
      "entity=rosiglitazone; oral, synonyms=None, parent_term=drug\n",
      "entity=pioglitazone; oral, synonyms=None, parent_term=drug\n",
      "entity=lobeglitazone; oral, synonyms=None, parent_term=drug\n",
      "entity=dipeptidyl peptidase 4 (dpp-4) inhibitors, synonyms=None, parent_term=drug\n",
      "entity=sitagliptin; oral, synonyms=None, parent_term=drug\n",
      "entity=vildagliptin; oral, synonyms=None, parent_term=drug\n",
      "entity=saxagliptin; oral, synonyms=None, parent_term=drug\n",
      "entity=alogliptin; oral, synonyms=None, parent_term=drug\n",
      "entity=linagliptin; oral, synonyms=None, parent_term=drug\n",
      "entity=gemigliptin; oral, synonyms=None, parent_term=drug\n",
      "entity=evogliptin; oral, synonyms=None, parent_term=drug\n",
      "entity=teneligliptin; oral, synonyms=None, parent_term=drug\n"
     ]
    },
    {
     "name": "stderr",
     "output_type": "stream",
     "text": []
    },
    {
     "name": "stdout",
     "output_type": "stream",
     "text": [
      "entity=sitagliptin and simvastatin; oral, topical, synonyms=None, parent_term=drug\n",
      "entity=gemigliptin and rosuvastatin; oral, synonyms=None, parent_term=drug\n",
      "entity=glucagon-like peptide-1 (glp-1) analogues, synonyms=None, parent_term=drug\n",
      "entity=exenatide; parenteral, synonyms=None, parent_term=drug\n",
      "entity=liraglutide; parenteral, synonyms=None, parent_term=drug\n",
      "entity=lixisenatide; parenteral, synonyms=None, parent_term=drug\n",
      "entity=albiglutide; parenteral, synonyms=None, parent_term=drug\n",
      "entity=dulaglutide; parenteral, synonyms=None, parent_term=drug\n",
      "entity=semaglutide; parenteral, synonyms=None, parent_term=drug\n",
      "entity=beinaglutide; systemic, synonyms=None, parent_term=drug\n",
      "entity=sodium-glucose co-transporter 2 (sglt2) inhibitors, synonyms=None, parent_term=drug\n",
      "entity=dapagliflozin; oral, synonyms=None, parent_term=drug\n",
      "entity=canagliflozin; oral, synonyms=None, parent_term=drug\n",
      "entity=empagliflozin; oral, synonyms=None, parent_term=drug\n",
      "entity=ertugliflozin; oral, synonyms=None, parent_term=drug\n",
      "entity=ipragliflozin; oral, synonyms=None, parent_term=drug\n"
     ]
    },
    {
     "name": "stderr",
     "output_type": "stream",
     "text": []
    },
    {
     "name": "stdout",
     "output_type": "stream",
     "text": [
      "entity=sotagliflozin; oral, synonyms=None, parent_term=drug\n",
      "entity=luseogliflozin; oral, synonyms=None, parent_term=drug\n",
      "entity=other blood glucose lowering drugs, excl. insulins, synonyms=None, parent_term=drug\n",
      "entity=guar gum; systemic, synonyms=['guar gum oral tablet', 'cellulose / guar gum / starch dry powder inhaler', 'asclepias tuberosa root extract / guar gum / horehound extract / lobelia inflata preparation / squill extract oral solution', 'guar gum / simethicone oral solution', 'guar gum chewable tablet', 'guar gum oral capsule', 'aluminum hydroxide / aluminum phosphate / guar gum / magnesium hydroxide oral tablet', 'apple pectin / guar gum chewable tablet', 'guar gum', 'guar gum oral powder'], parent_term=drug\n",
      "entity=repaglinide; oral, synonyms=None, parent_term=drug\n",
      "entity=nateglinide; oral, synonyms=None, parent_term=drug\n",
      "entity=pramlintide; parenteral, synonyms=None, parent_term=drug\n",
      "entity=benfluorex; oral, synonyms=None, parent_term=drug\n",
      "entity=mitiglinide; oral, synonyms=None, parent_term=drug\n",
      "entity=imeglimin; systemic, synonyms=None, parent_term=drug\n",
      "entity=other drugs used in diabetes, synonyms=None, parent_term=drug\n",
      "entity=aldose reductase inhibitors, synonyms=None, parent_term=drug\n",
      "entity=tolrestat; oral, synonyms=None, parent_term=drug\n"
     ]
    },
    {
     "name": "stderr",
     "output_type": "stream",
     "text": []
    },
    {
     "name": "stdout",
     "output_type": "stream",
     "text": [
      "entity=vitamins, synonyms=['alimentary tract and metabolism', 'vitamin'], parent_term=drug\n",
      "entity=multivitamins, combinations, synonyms=None, parent_term=drug\n",
      "entity=multivitamins with minerals, synonyms=None, parent_term=drug\n",
      "entity=multivitamins and iron; systemic, synonyms=None, parent_term=drug\n",
      "entity=multivitamins and calcium; systemic, synonyms=None, parent_term=drug\n",
      "entity=multivitamins and other minerals, incl. combinations; systemic, synonyms=None, parent_term=drug\n",
      "entity=multivitamins and trace elements; systemic, synonyms=None, parent_term=drug\n",
      "entity=multivitamins, other combinations, synonyms=None, parent_term=drug\n",
      "entity=multivitamins, plain, synonyms=None, parent_term=drug\n",
      "entity=multivitamins, plain, synonyms=None, parent_term=drug\n",
      "entity=vitamin a and d, incl. combinations of the two, synonyms=None, parent_term=drug\n",
      "entity=vitamin a, plain, synonyms=None, parent_term=drug\n",
      "entity=retinol (vit a); systemic, synonyms=['ascorbic acid / biotin / cholecalciferol / folic acid / niacinamide / pantothenate / pyridoxine / riboflavin / thiamine / vitamin a / vitamin b 12 / vitamin e / vitamin k 1 injectable solution', 'diphenhydramine / prednisolone / vitamin a oral tablet', 'ascorbic acid / beta carotene / biotin / calcium carbonate / chromium, chelated / copper / folic acid / iodine / magnesium oxide / manganese / molybdenum / niacinamide / pantothenate / potassium citrate / pyridoxine / riboflavin / ... oral tablet', 'ascorbic acid / beta carotene / biotin / calcium carbonate / copper sulfate / folic acid / magnesium oxide / niacinamide / pantothenate / potassium iodide / pyridoxine / riboflavin / thiamine / vitamin a / vitamin b 12 / vitamin d / ... oral tablet', 'biotin / calcium chloride / calcium citrate / caseins / cholecalciferol / copper sulfate / ferrous gluconate / folic acid / magnesium chloride / maltodextrin / manganese sulfate / niacinamide / palm oil / pantothenic acid / ... oral solution', 'ascorbic acid / biotin / calcium / chromic chloride / cupric oxide / ferrous fumarate / folic acid / magnesium oxide / manganese sulfate / niacinamide / pantothenate / phosphorus / potassium chloride / potassium iodide / pyridoxine / ... oral tablet', 'ascorbic acid / choline / evening primrose extract / lipase / vitamin a / vitamin e / wheat germ oil oral tablet', 'ascorbyl dipalmitate / beta carotene / biotin / calcium ascorbate / choline / folic acid / inositol / niacin / pantothenate / pyridoxine / riboflavin / selenium / thiamine / tocopheryl acid succinate,d-alpha / vitamin a / vitamin b 12 / ... oral capsule', 'alpha tocopherol / ascorbic acid / calcium lactate / folic acid / niacinamide / pyridoxine / riboflavin / thiamine / vitamin a / vitamin b 12 / vitamin d oral tablet', 'ascorbic acid / calcium phosphate (tribasic) / folic acid / niacinamide / pantothenate / pyridoxine / riboflavin / thiamine / vitamin a / vitamin b 12 / vitamin d oral tablet'], parent_term=drug\n"
     ]
    },
    {
     "name": "stderr",
     "output_type": "stream",
     "text": []
    },
    {
     "name": "stdout",
     "output_type": "stream",
     "text": [
      "entity=retinol (vit a); systemic, synonyms=['ascorbic acid / biotin / cholecalciferol / folic acid / niacinamide / pantothenate / pyridoxine / riboflavin / thiamine / vitamin a / vitamin b 12 / vitamin e / vitamin k 1 injectable solution', 'diphenhydramine / prednisolone / vitamin a oral tablet', 'ascorbic acid / beta carotene / biotin / calcium carbonate / chromium, chelated / copper / folic acid / iodine / magnesium oxide / manganese / molybdenum / niacinamide / pantothenate / potassium citrate / pyridoxine / riboflavin / ... oral tablet', 'ascorbic acid / beta carotene / biotin / calcium carbonate / copper sulfate / folic acid / magnesium oxide / niacinamide / pantothenate / potassium iodide / pyridoxine / riboflavin / thiamine / vitamin a / vitamin b 12 / vitamin d / ... oral tablet', 'biotin / calcium chloride / calcium citrate / caseins / cholecalciferol / copper sulfate / ferrous gluconate / folic acid / magnesium chloride / maltodextrin / manganese sulfate / niacinamide / palm oil / pantothenic acid / ... oral solution', 'ascorbic acid / biotin / calcium / chromic chloride / cupric oxide / ferrous fumarate / folic acid / magnesium oxide / manganese sulfate / niacinamide / pantothenate / phosphorus / potassium chloride / potassium iodide / pyridoxine / ... oral tablet', 'ascorbic acid / choline / evening primrose extract / lipase / vitamin a / vitamin e / wheat germ oil oral tablet', 'ascorbyl dipalmitate / beta carotene / biotin / calcium ascorbate / choline / folic acid / inositol / niacin / pantothenate / pyridoxine / riboflavin / selenium / thiamine / tocopheryl acid succinate,d-alpha / vitamin a / vitamin b 12 / ... oral capsule', 'alpha tocopherol / ascorbic acid / calcium lactate / folic acid / niacinamide / pyridoxine / riboflavin / thiamine / vitamin a / vitamin b 12 / vitamin d oral tablet', 'ascorbic acid / calcium phosphate (tribasic) / folic acid / niacinamide / pantothenate / pyridoxine / riboflavin / thiamine / vitamin a / vitamin b 12 / vitamin d oral tablet'], parent_term=drug\n",
      "entity=betacarotene; oral, topical, synonyms=None, parent_term=drug\n",
      "entity=vitamin a and d in combination, synonyms=None, parent_term=drug\n",
      "entity=vitamin d and analogues, synonyms=None, parent_term=drug\n",
      "entity=ergocalciferol; systemic, synonyms=None, parent_term=drug\n",
      "entity=dihydrotachysterol; oral, synonyms=['dihydrotachysterol oral tablet', 'dihydrotachysterol oral capsule', 'dihydrotachysterol oral solution', 'dihydrotachysterol', 'vitamin d and analogues'], parent_term=drug\n",
      "entity=alfacalcidol; systemic, synonyms=None, parent_term=drug\n",
      "entity=calcitriol; systemic, synonyms=None, parent_term=drug\n",
      "entity=colecalciferol; oral, synonyms=None, parent_term=drug\n",
      "entity=calcifediol; oral, topical, synonyms=None, parent_term=drug\n"
     ]
    },
    {
     "name": "stderr",
     "output_type": "stream",
     "text": [
      "Embedding Documents: 100%|██████████| 64/64 [00:01<00:00, 55.73doc/s]\n",
      "10it [00:17,  1.93s/it]2024-09-06 20:08:32,511 - rag.utils - INFO - embed documents\n"
     ]
    },
    {
     "name": "stdout",
     "output_type": "stream",
     "text": [
      "entity=vitamin d and analogues - combinations, synonyms=None, parent_term=drug\n",
      "entity=colecalciferol, combinations; systemic, synonyms=None, parent_term=drug\n",
      "entity=vitamin b1, plain and in combination with vitamin b6 and b12, synonyms=['vitamin b<n>1</n>, plain and in combination with vitamin b<n>6</n> and b<n>12</n>', 'vitamins'], parent_term=drug\n",
      "entity=vitamin b1, plain, synonyms=['vitamin b<n>1</n>, plain', 'vitamin b1, plain and in combination with vitamin b6 and b12'], parent_term=drug\n",
      "entity=thiamine (vit b1); systemic, synonyms=None, parent_term=drug\n",
      "entity=sulbutiamine; oral, synonyms=None, parent_term=drug\n",
      "entity=benfotiamine; oral, synonyms=None, parent_term=drug\n",
      "entity=vitamin b1 in combination with vitamin b6 and/or vitamin b12, synonyms=['vitamin b<n>1</n> in combination with vitamin b<n>6</n> and/or vitamin b<n>12</n>', 'vitamin b1, plain and in combination with vitamin b6 and b12'], parent_term=drug\n",
      "entity=vitamin b-complex, incl. combinations, synonyms=None, parent_term=drug\n",
      "entity=vitamin b-complex, plain, synonyms=None, parent_term=drug\n",
      "entity=vitamin b-complex with vitamin c, synonyms=None, parent_term=drug\n",
      "entity=vitamin b-complex with minerals, synonyms=None, parent_term=drug\n",
      "entity=vitamin b-complex with anabolic steroids, synonyms=None, parent_term=drug\n"
     ]
    },
    {
     "name": "stderr",
     "output_type": "stream",
     "text": []
    },
    {
     "name": "stdout",
     "output_type": "stream",
     "text": [
      "entity=vitamin b-complex, other combinations, synonyms=None, parent_term=drug\n",
      "entity=ascorbic acid (vitamin c), incl. combinations, synonyms=None, parent_term=drug\n",
      "entity=ascorbic acid (vitamin c), plain, synonyms=None, parent_term=drug\n",
      "entity=ascorbic acid (vit c); systemic, synonyms=['ascorbic acid / beta carotene / biotin / calcium carbonate / chromium, chelated / copper / folic acid / iodine / magnesium oxide / manganese / molybdenum / niacinamide / pantothenate / potassium citrate / pyridoxine / riboflavin / ... oral tablet', 'ascorbic acid / menadiol / rutin oral tablet', 'ascorbic acid / biotin / cholecalciferol / folic acid / niacinamide / pantothenate / pyridoxine / riboflavin / thiamine / vitamin a / vitamin b 12 / vitamin e / vitamin k 1 injectable solution', 'ascorbic acid / beta carotene / biotin / calcium carbonate / copper sulfate / folic acid / magnesium oxide / niacinamide / pantothenate / potassium iodide / pyridoxine / riboflavin / thiamine / vitamin a / vitamin b 12 / vitamin d / ... oral tablet', 'ascorbic acid / calcium phosphate (tribasic) / folic acid / niacinamide / pantothenate / pyridoxine / riboflavin / thiamine / vitamin a / vitamin b 12 / vitamin d oral tablet', 'ascorbic acid / vitamin b12 / zinc gluconate oral lozenge', 'alpha tocopherol / ascorbic acid / selenium oral capsule', \"4-aminobenzoic acid / ascorbic acid / dexpanthenol / niacinamide / procaine / riboflavin 5'-phosphate / thiamine / vitamin b6 injectable solution\", 'ascorbic acid / glucosamine oral capsule', 'ascorbic acid / beta carotene / biotin / calcium citrate / choline / chromium / copper / folic acid / inositol / iron,peptonized / magnesium amino acid chelate / manganese / molybdenum / niacin / niacinamide / pantothenate / potassium / ... oral tablet'], parent_term=drug\n",
      "entity=ascorbic acid (vit c); systemic, synonyms=['ascorbic acid / beta carotene / biotin / calcium carbonate / chromium, chelated / copper / folic acid / iodine / magnesium oxide / manganese / molybdenum / niacinamide / pantothenate / potassium citrate / pyridoxine / riboflavin / ... oral tablet', 'ascorbic acid / menadiol / rutin oral tablet', 'ascorbic acid / biotin / cholecalciferol / folic acid / niacinamide / pantothenate / pyridoxine / riboflavin / thiamine / vitamin a / vitamin b 12 / vitamin e / vitamin k 1 injectable solution', 'ascorbic acid / beta carotene / biotin / calcium carbonate / copper sulfate / folic acid / magnesium oxide / niacinamide / pantothenate / potassium iodide / pyridoxine / riboflavin / thiamine / vitamin a / vitamin b 12 / vitamin d / ... oral tablet', 'ascorbic acid / calcium phosphate (tribasic) / folic acid / niacinamide / pantothenate / pyridoxine / riboflavin / thiamine / vitamin a / vitamin b 12 / vitamin d oral tablet', 'ascorbic acid / vitamin b12 / zinc gluconate oral lozenge', 'alpha tocopherol / ascorbic acid / selenium oral capsule', \"4-aminobenzoic acid / ascorbic acid / dexpanthenol / niacinamide / procaine / riboflavin 5'-phosphate / thiamine / vitamin b6 injectable solution\", 'ascorbic acid / glucosamine oral capsule', 'ascorbic acid / beta carotene / biotin / calcium citrate / choline / chromium / copper / folic acid / inositol / iron,peptonized / magnesium amino acid chelate / manganese / molybdenum / niacin / niacinamide / pantothenate / potassium / ... oral tablet'], parent_term=drug\n",
      "entity=ascorbic acid (vitamin c), combinations, synonyms=None, parent_term=drug\n",
      "entity=ascorbic acid (vit c) and calcium; systemic, synonyms=['ascorbic acid / calcium ascorbate oral granules', 'ascorbic acid / calcium ascorbate oral capsule', 'ascorbic acid / calcium oral powder', 'ascorbic acid / calcium ascorbate extended release oral tablet', 'ascorbic acid (vit c) and calcium', 'ascorbic acid / calcium citrate / calcium phosphate oral tablet', 'ascorbic acid / calcium oral solution', 'alpha tocopherol / ascorbic acid / beta carotene / biotin / calcium ascorbate / calcium citrate / choline / chromium, chelated / folic acid / inositol / magnesium citrate / manganese citrate / methionine / niacin / niacinamide / ... oral tablet', 'ascorbic acid / biotin / calcium / calcium carbonate / ferrous fumarate / folic acid / magnesium gluconate / magnesium oxide / manganese sulfate / niacinamide / potassium iodide / riboflavin / thiamine / vitamin a / vitamin b 12 / ... oral tablet', 'ascorbic acid / calcium phosphate oral tablet'], parent_term=drug\n",
      "entity=other plain vitamin preparations, synonyms=None, parent_term=drug\n"
     ]
    },
    {
     "name": "stderr",
     "output_type": "stream",
     "text": []
    },
    {
     "name": "stdout",
     "output_type": "stream",
     "text": [
      "entity=other plain vitamin preparations, synonyms=None, parent_term=drug\n",
      "entity=nicotinamide; oral, synonyms=['ascorbic acid / beta carotene / biotin / calcium carbonate / chromium, chelated / copper / folic acid / iodine / magnesium oxide / manganese / molybdenum / niacinamide / pantothenate / potassium citrate / pyridoxine / riboflavin / ... oral tablet', 'ascorbic acid / beta carotene / biotin / calcium carbonate / copper sulfate / folic acid / magnesium oxide / niacinamide / pantothenate / potassium iodide / pyridoxine / riboflavin / thiamine / vitamin a / vitamin b 12 / vitamin d / ... oral tablet', 'biotin / calcium chloride / calcium citrate / caseins / cholecalciferol / copper sulfate / ferrous gluconate / folic acid / magnesium chloride / maltodextrin / manganese sulfate / niacinamide / palm oil / pantothenic acid / ... oral solution', 'ascorbic acid / biotin / calcium / chromic chloride / cupric oxide / ferrous fumarate / folic acid / magnesium oxide / manganese sulfate / niacinamide / pantothenate / phosphorus / potassium chloride / potassium iodide / pyridoxine / ... oral tablet', 'chloramphenicol / folic acid / niacinamide / pantothenic acid / pyridoxine / riboflavin / thiamine / vitamin b 12 oral capsule', 'alpha tocopherol / ascorbic acid / calcium lactate / folic acid / niacinamide / pyridoxine / riboflavin / thiamine / vitamin a / vitamin b 12 / vitamin d oral tablet', 'ascorbic acid / calcium phosphate (tribasic) / folic acid / niacinamide / pantothenate / pyridoxine / riboflavin / thiamine / vitamin a / vitamin b 12 / vitamin d oral tablet', 'ascorbic acid / biotin / calcium carbonate / choline / copper gluconate / folic acid / inositol / iodine / iron / magnesium oxide / methionine / niacin / niacinamide / pantothenate / pyridoxine / riboflavin / selenium / thiamine / ... oral tablet', 'ascorbic acid / biotin / calcium carbonate / folic acid / magnesium / niacinamide / pantothenic acid / pyridoxine / riboflavin / thiamine / vitamin b 12 / zinc oral tablet', 'dexpanthenol / niacinamide / riboflavin / thiamine / vitamin b 12 oral solution'], parent_term=drug\n",
      "entity=nicotinamide; oral, synonyms=['ascorbic acid / beta carotene / biotin / calcium carbonate / chromium, chelated / copper / folic acid / iodine / magnesium oxide / manganese / molybdenum / niacinamide / pantothenate / potassium citrate / pyridoxine / riboflavin / ... oral tablet', 'ascorbic acid / beta carotene / biotin / calcium carbonate / copper sulfate / folic acid / magnesium oxide / niacinamide / pantothenate / potassium iodide / pyridoxine / riboflavin / thiamine / vitamin a / vitamin b 12 / vitamin d / ... oral tablet', 'biotin / calcium chloride / calcium citrate / caseins / cholecalciferol / copper sulfate / ferrous gluconate / folic acid / magnesium chloride / maltodextrin / manganese sulfate / niacinamide / palm oil / pantothenic acid / ... oral solution', 'ascorbic acid / biotin / calcium / chromic chloride / cupric oxide / ferrous fumarate / folic acid / magnesium oxide / manganese sulfate / niacinamide / pantothenate / phosphorus / potassium chloride / potassium iodide / pyridoxine / ... oral tablet', 'chloramphenicol / folic acid / niacinamide / pantothenic acid / pyridoxine / riboflavin / thiamine / vitamin b 12 oral capsule', 'alpha tocopherol / ascorbic acid / calcium lactate / folic acid / niacinamide / pyridoxine / riboflavin / thiamine / vitamin a / vitamin b 12 / vitamin d oral tablet', 'ascorbic acid / calcium phosphate (tribasic) / folic acid / niacinamide / pantothenate / pyridoxine / riboflavin / thiamine / vitamin a / vitamin b 12 / vitamin d oral tablet', 'ascorbic acid / biotin / calcium carbonate / choline / copper gluconate / folic acid / inositol / iodine / iron / magnesium oxide / methionine / niacin / niacinamide / pantothenate / pyridoxine / riboflavin / selenium / thiamine / ... oral tablet', 'ascorbic acid / biotin / calcium carbonate / folic acid / magnesium / niacinamide / pantothenic acid / pyridoxine / riboflavin / thiamine / vitamin b 12 / zinc oral tablet', 'dexpanthenol / niacinamide / riboflavin / thiamine / vitamin b 12 oral solution'], parent_term=drug\n",
      "entity=pyridoxine (vit b6); systemic, synonyms=['ascorbic acid / beta carotene / biotin / calcium carbonate / chromium, chelated / copper / folic acid / iodine / magnesium oxide / manganese / molybdenum / niacinamide / pantothenate / potassium citrate / pyridoxine / riboflavin / ... oral tablet', 'ascorbic acid / biotin / cholecalciferol / folic acid / niacinamide / pantothenate / pyridoxine / riboflavin / thiamine / vitamin a / vitamin b 12 / vitamin e / vitamin k 1 injectable solution', 'ascorbic acid / beta carotene / biotin / calcium carbonate / copper sulfate / folic acid / magnesium oxide / niacinamide / pantothenate / potassium iodide / pyridoxine / riboflavin / thiamine / vitamin a / vitamin b 12 / vitamin d / ... oral tablet', 'magnesium / pyridoxine / thiamine oral tablet', 'ascorbic acid / calcium phosphate (tribasic) / folic acid / niacinamide / pantothenate / pyridoxine / riboflavin / thiamine / vitamin a / vitamin b 12 / vitamin d oral tablet', \"4-aminobenzoic acid / ascorbic acid / dexpanthenol / niacinamide / procaine / riboflavin 5'-phosphate / thiamine / vitamin b6 injectable solution\", 'chloramphenicol / folic acid / menadiol / niacinamide / pantothenic acid / pyridoxine / riboflavin / thiamine / vitamin b 12 oral tablet', 'biotin / calcium / cupric oxide / ferrous fumarate / folic acid / niacinamide / pantothenate / phosphorus / pyridoxine / riboflavin / sodium ascorbate / thiamine / vitamin a / vitamin b 12 / vitamin d / vitamin e oral tablet', 'crataegus laevigata fruit / dexpanthenol / ginseng preparation / niacinamide / pyridoxine / ribes nigrum flower bud extract / riboflavin / sodium oral solution', 'ascorbic acid / beta carotene / biotin / calcium citrate / choline / chromium / copper / folic acid / inositol / iron,peptonized / magnesium amino acid chelate / manganese / molybdenum / niacin / niacinamide / pantothenate / potassium / ... oral tablet'], parent_term=drug\n",
      "entity=pyridoxine (vit b6); systemic, synonyms=['ascorbic acid / beta carotene / biotin / calcium carbonate / chromium, chelated / copper / folic acid / iodine / magnesium oxide / manganese / molybdenum / niacinamide / pantothenate / potassium citrate / pyridoxine / riboflavin / ... oral tablet', 'ascorbic acid / biotin / cholecalciferol / folic acid / niacinamide / pantothenate / pyridoxine / riboflavin / thiamine / vitamin a / vitamin b 12 / vitamin e / vitamin k 1 injectable solution', 'ascorbic acid / beta carotene / biotin / calcium carbonate / copper sulfate / folic acid / magnesium oxide / niacinamide / pantothenate / potassium iodide / pyridoxine / riboflavin / thiamine / vitamin a / vitamin b 12 / vitamin d / ... oral tablet', 'magnesium / pyridoxine / thiamine oral tablet', 'ascorbic acid / calcium phosphate (tribasic) / folic acid / niacinamide / pantothenate / pyridoxine / riboflavin / thiamine / vitamin a / vitamin b 12 / vitamin d oral tablet', \"4-aminobenzoic acid / ascorbic acid / dexpanthenol / niacinamide / procaine / riboflavin 5'-phosphate / thiamine / vitamin b6 injectable solution\", 'chloramphenicol / folic acid / menadiol / niacinamide / pantothenic acid / pyridoxine / riboflavin / thiamine / vitamin b 12 oral tablet', 'biotin / calcium / cupric oxide / ferrous fumarate / folic acid / niacinamide / pantothenate / phosphorus / pyridoxine / riboflavin / sodium ascorbate / thiamine / vitamin a / vitamin b 12 / vitamin d / vitamin e oral tablet', 'crataegus laevigata fruit / dexpanthenol / ginseng preparation / niacinamide / pyridoxine / ribes nigrum flower bud extract / riboflavin / sodium oral solution', 'ascorbic acid / beta carotene / biotin / calcium citrate / choline / chromium / copper / folic acid / inositol / iron,peptonized / magnesium amino acid chelate / manganese / molybdenum / niacin / niacinamide / pantothenate / potassium / ... oral tablet'], parent_term=drug\n",
      "entity=tocopherol (vit e); systemic, synonyms=['ascorbic acid / biotin / cholecalciferol / folic acid / niacinamide / pantothenate / pyridoxine / riboflavin / thiamine / vitamin a / vitamin b 12 / vitamin e / vitamin k 1 injectable solution', 'ascorbic acid / beta carotene / biotin / calcium carbonate / chromium, chelated / copper / folic acid / iodine / magnesium oxide / manganese / molybdenum / niacinamide / pantothenate / potassium citrate / pyridoxine / riboflavin / ... oral tablet', 'ascorbic acid / beta carotene / biotin / calcium carbonate / copper sulfate / folic acid / magnesium oxide / niacinamide / pantothenate / potassium iodide / pyridoxine / riboflavin / thiamine / vitamin a / vitamin b 12 / vitamin d / ... oral tablet', 'biotin / calcium chloride / calcium citrate / caseins / cholecalciferol / copper sulfate / ferrous gluconate / folic acid / magnesium chloride / maltodextrin / manganese sulfate / niacinamide / palm oil / pantothenic acid / ... oral solution', 'ascorbic acid / biotin / calcium / chromic chloride / cupric oxide / ferrous fumarate / folic acid / magnesium oxide / manganese sulfate / niacinamide / pantothenate / phosphorus / potassium chloride / potassium iodide / pyridoxine / ... oral tablet', 'ascorbic acid / choline / evening primrose extract / lipase / vitamin a / vitamin e / wheat germ oil oral tablet', 'alpha tocopherol / ascorbic acid / calcium lactate / folic acid / niacinamide / pyridoxine / riboflavin / thiamine / vitamin a / vitamin b 12 / vitamin d oral tablet', 'black currant oil / vitamin e oral capsule', 'alpha tocopherol chewable tablet', 'ascorbic acid / grape seed extract / vitamin e oral capsule'], parent_term=drug\n"
     ]
    },
    {
     "name": "stderr",
     "output_type": "stream",
     "text": []
    },
    {
     "name": "stdout",
     "output_type": "stream",
     "text": [
      "entity=tocopherol (vit e); systemic, synonyms=['ascorbic acid / biotin / cholecalciferol / folic acid / niacinamide / pantothenate / pyridoxine / riboflavin / thiamine / vitamin a / vitamin b 12 / vitamin e / vitamin k 1 injectable solution', 'ascorbic acid / beta carotene / biotin / calcium carbonate / chromium, chelated / copper / folic acid / iodine / magnesium oxide / manganese / molybdenum / niacinamide / pantothenate / potassium citrate / pyridoxine / riboflavin / ... oral tablet', 'ascorbic acid / beta carotene / biotin / calcium carbonate / copper sulfate / folic acid / magnesium oxide / niacinamide / pantothenate / potassium iodide / pyridoxine / riboflavin / thiamine / vitamin a / vitamin b 12 / vitamin d / ... oral tablet', 'biotin / calcium chloride / calcium citrate / caseins / cholecalciferol / copper sulfate / ferrous gluconate / folic acid / magnesium chloride / maltodextrin / manganese sulfate / niacinamide / palm oil / pantothenic acid / ... oral solution', 'ascorbic acid / biotin / calcium / chromic chloride / cupric oxide / ferrous fumarate / folic acid / magnesium oxide / manganese sulfate / niacinamide / pantothenate / phosphorus / potassium chloride / potassium iodide / pyridoxine / ... oral tablet', 'ascorbic acid / choline / evening primrose extract / lipase / vitamin a / vitamin e / wheat germ oil oral tablet', 'alpha tocopherol / ascorbic acid / calcium lactate / folic acid / niacinamide / pyridoxine / riboflavin / thiamine / vitamin a / vitamin b 12 / vitamin d oral tablet', 'black currant oil / vitamin e oral capsule', 'alpha tocopherol chewable tablet', 'ascorbic acid / grape seed extract / vitamin e oral capsule'], parent_term=drug\n",
      "entity=riboflavin (vit b2); systemic, synonyms=None, parent_term=drug\n",
      "entity=biotin; systemic, synonyms=['ascorbic acid / biotin / cholecalciferol / folic acid / niacinamide / pantothenate / pyridoxine / riboflavin / thiamine / vitamin a / vitamin b 12 / vitamin e / vitamin k 1 injectable solution', 'ascorbic acid / beta carotene / biotin / calcium carbonate / chromium, chelated / copper / folic acid / iodine / magnesium oxide / manganese / molybdenum / niacinamide / pantothenate / potassium citrate / pyridoxine / riboflavin / ... oral tablet', 'ascorbyl dipalmitate / beta carotene / biotin / calcium ascorbate / choline / folic acid / inositol / niacin / pantothenate / pyridoxine / riboflavin / selenium / thiamine / tocopheryl acid succinate,d-alpha / vitamin a / vitamin b 12 / ... oral capsule', 'ascorbic acid / beta carotene / biotin / calcium carbonate / copper sulfate / folic acid / magnesium oxide / niacinamide / pantothenate / potassium iodide / pyridoxine / riboflavin / thiamine / vitamin a / vitamin b 12 / vitamin d / ... oral tablet', 'biotin / calcium chloride / calcium citrate / caseins / cholecalciferol / copper sulfate / ferrous gluconate / folic acid / magnesium chloride / maltodextrin / manganese sulfate / niacinamide / palm oil / pantothenic acid / ... oral solution', 'ascorbic acid / biotin / calcium / chromic chloride / cupric oxide / ferrous fumarate / folic acid / magnesium oxide / manganese sulfate / niacinamide / pantothenate / phosphorus / potassium chloride / potassium iodide / pyridoxine / ... oral tablet', 'all-trans-retinol / alpha tocopherol / ascorbic acid / beta carotene / biotin / calcium carbonate / choline / chromium citrate / folic acid / inositol / iodine / magnesium chloride / manganese citrate / niacin / pantothenate / ... oral tablet', 'ascorbic acid / biotin / calcium carbonate / choline / copper gluconate / folic acid / inositol / iodine / iron / magnesium oxide / methionine / niacin / niacinamide / pantothenate / pyridoxine / riboflavin / selenium / thiamine / ... oral tablet', 'biotin / ferrous cation / folic acid / methionine / niacin / pantothenic acid / pyridoxine / riboflavin / thiamine / vitamin a / vitamin b 12 / vitamin e oral tablet', 'alpha tocopherol / ascorbic acid / biotin / calcium amino acid chelate / chromium, chelated / copper / folic acid / iodine / iron succinyl milk protein complex / magnesium amino acid chelate / manganese / niacin / niacinamide / ... oral tablet'], parent_term=drug\n",
      "entity=biotin; systemic, synonyms=['ascorbic acid / biotin / cholecalciferol / folic acid / niacinamide / pantothenate / pyridoxine / riboflavin / thiamine / vitamin a / vitamin b 12 / vitamin e / vitamin k 1 injectable solution', 'ascorbic acid / beta carotene / biotin / calcium carbonate / chromium, chelated / copper / folic acid / iodine / magnesium oxide / manganese / molybdenum / niacinamide / pantothenate / potassium citrate / pyridoxine / riboflavin / ... oral tablet', 'ascorbyl dipalmitate / beta carotene / biotin / calcium ascorbate / choline / folic acid / inositol / niacin / pantothenate / pyridoxine / riboflavin / selenium / thiamine / tocopheryl acid succinate,d-alpha / vitamin a / vitamin b 12 / ... oral capsule', 'ascorbic acid / beta carotene / biotin / calcium carbonate / copper sulfate / folic acid / magnesium oxide / niacinamide / pantothenate / potassium iodide / pyridoxine / riboflavin / thiamine / vitamin a / vitamin b 12 / vitamin d / ... oral tablet', 'biotin / calcium chloride / calcium citrate / caseins / cholecalciferol / copper sulfate / ferrous gluconate / folic acid / magnesium chloride / maltodextrin / manganese sulfate / niacinamide / palm oil / pantothenic acid / ... oral solution', 'ascorbic acid / biotin / calcium / chromic chloride / cupric oxide / ferrous fumarate / folic acid / magnesium oxide / manganese sulfate / niacinamide / pantothenate / phosphorus / potassium chloride / potassium iodide / pyridoxine / ... oral tablet', 'all-trans-retinol / alpha tocopherol / ascorbic acid / beta carotene / biotin / calcium carbonate / choline / chromium citrate / folic acid / inositol / iodine / magnesium chloride / manganese citrate / niacin / pantothenate / ... oral tablet', 'ascorbic acid / biotin / calcium carbonate / choline / copper gluconate / folic acid / inositol / iodine / iron / magnesium oxide / methionine / niacin / niacinamide / pantothenate / pyridoxine / riboflavin / selenium / thiamine / ... oral tablet', 'biotin / ferrous cation / folic acid / methionine / niacin / pantothenic acid / pyridoxine / riboflavin / thiamine / vitamin a / vitamin b 12 / vitamin e oral tablet', 'alpha tocopherol / ascorbic acid / biotin / calcium amino acid chelate / chromium, chelated / copper / folic acid / iodine / iron succinyl milk protein complex / magnesium amino acid chelate / manganese / niacin / niacinamide / ... oral tablet'], parent_term=drug\n",
      "entity=pyridoxal phosphate; systemic, synonyms=None, parent_term=drug\n",
      "entity=inositol; oral, synonyms=['ascorbyl dipalmitate / beta carotene / biotin / calcium ascorbate / choline / folic acid / inositol / niacin / pantothenate / pyridoxine / riboflavin / selenium / thiamine / tocopheryl acid succinate,d-alpha / vitamin a / vitamin b 12 / ... oral capsule', 'ethaverine / etofylline / inositol / methaqualone oral tablet', 'all-trans-retinol / alpha tocopherol / ascorbic acid / beta carotene / biotin / calcium carbonate / choline / chromium citrate / folic acid / inositol / iodine / magnesium chloride / manganese citrate / niacin / pantothenate / ... oral tablet', 'ascorbic acid / biotin / calcium carbonate / choline / copper gluconate / folic acid / inositol / iodine / iron / magnesium oxide / methionine / niacin / niacinamide / pantothenate / pyridoxine / riboflavin / selenium / thiamine / ... oral tablet', 'beta carotene / biotin / calcium ascorbate / choline / folic acid / inositol / niacin / pantothenate / pyridoxine / riboflavin / selenium / thiamine / vitamin a / vitamin b 12 / vitamin e / zinc, chelated oral capsule', 'inositol chewable tablet', 'inositol oral solution', 'ascorbic acid / beta carotene / biotin / calcium citrate / choline / chromium / copper / folic acid / inositol / iron,peptonized / magnesium amino acid chelate / manganese / molybdenum / niacin / niacinamide / pantothenate / potassium / ... oral tablet', 'beta carotene / biotin / calcium ascorbate / calcium carbonate / choline / chromium, chelated / copper / folic acid / inositol / magnesium oxide / manganese / niacinamide / pantothenate / potassium citrate / potassium iodide / ... oral tablet', 'ascorbic acid / biotin / calcium carbonate / choline / copper sulfate / ferrous sulfate / folic acid / inositol / iodine / magnesium oxide / manganese gluconate / niacinamide / pantothenate / potassium gluconate / ... extended release oral tablet'], parent_term=drug\n"
     ]
    },
    {
     "name": "stderr",
     "output_type": "stream",
     "text": []
    },
    {
     "name": "stdout",
     "output_type": "stream",
     "text": [
      "entity=inositol; oral, synonyms=['ascorbyl dipalmitate / beta carotene / biotin / calcium ascorbate / choline / folic acid / inositol / niacin / pantothenate / pyridoxine / riboflavin / selenium / thiamine / tocopheryl acid succinate,d-alpha / vitamin a / vitamin b 12 / ... oral capsule', 'ethaverine / etofylline / inositol / methaqualone oral tablet', 'all-trans-retinol / alpha tocopherol / ascorbic acid / beta carotene / biotin / calcium carbonate / choline / chromium citrate / folic acid / inositol / iodine / magnesium chloride / manganese citrate / niacin / pantothenate / ... oral tablet', 'ascorbic acid / biotin / calcium carbonate / choline / copper gluconate / folic acid / inositol / iodine / iron / magnesium oxide / methionine / niacin / niacinamide / pantothenate / pyridoxine / riboflavin / selenium / thiamine / ... oral tablet', 'beta carotene / biotin / calcium ascorbate / choline / folic acid / inositol / niacin / pantothenate / pyridoxine / riboflavin / selenium / thiamine / vitamin a / vitamin b 12 / vitamin e / zinc, chelated oral capsule', 'inositol chewable tablet', 'inositol oral solution', 'ascorbic acid / beta carotene / biotin / calcium citrate / choline / chromium / copper / folic acid / inositol / iron,peptonized / magnesium amino acid chelate / manganese / molybdenum / niacin / niacinamide / pantothenate / potassium / ... oral tablet', 'beta carotene / biotin / calcium ascorbate / calcium carbonate / choline / chromium, chelated / copper / folic acid / inositol / magnesium oxide / manganese / niacinamide / pantothenate / potassium citrate / potassium iodide / ... oral tablet', 'ascorbic acid / biotin / calcium carbonate / choline / copper sulfate / ferrous sulfate / folic acid / inositol / iodine / magnesium oxide / manganese gluconate / niacinamide / pantothenate / potassium gluconate / ... extended release oral tablet'], parent_term=drug\n",
      "entity=tocofersolan; oral, synonyms=None, parent_term=drug\n",
      "entity=dexpanthenol; systemic, synonyms=None, parent_term=drug\n",
      "entity=calcium pantothenate; systemic, synonyms=['ascorbic acid / biotin / cholecalciferol / folic acid / niacinamide / pantothenate / pyridoxine / riboflavin / thiamine / vitamin a / vitamin b 12 / vitamin e / vitamin k 1 injectable solution', 'ascorbic acid / beta carotene / biotin / calcium carbonate / chromium, chelated / copper / folic acid / iodine / magnesium oxide / manganese / molybdenum / niacinamide / pantothenate / potassium citrate / pyridoxine / riboflavin / ... oral tablet', 'ascorbyl dipalmitate / beta carotene / biotin / calcium ascorbate / choline / folic acid / inositol / niacin / pantothenate / pyridoxine / riboflavin / selenium / thiamine / tocopheryl acid succinate,d-alpha / vitamin a / vitamin b 12 / ... oral capsule', 'ascorbic acid / beta carotene / biotin / calcium carbonate / copper sulfate / folic acid / magnesium oxide / niacinamide / pantothenate / potassium iodide / pyridoxine / riboflavin / thiamine / vitamin a / vitamin b 12 / vitamin d / ... oral tablet', 'biotin / calcium chloride / calcium citrate / caseins / cholecalciferol / copper sulfate / ferrous gluconate / folic acid / magnesium chloride / maltodextrin / manganese sulfate / niacinamide / palm oil / pantothenic acid / ... oral solution', 'ascorbic acid / biotin / calcium / chromic chloride / cupric oxide / ferrous fumarate / folic acid / magnesium oxide / manganese sulfate / niacinamide / pantothenate / phosphorus / potassium chloride / potassium iodide / pyridoxine / ... oral tablet', 'chloramphenicol / folic acid / niacinamide / pantothenic acid / pyridoxine / riboflavin / thiamine / vitamin b 12 oral capsule', 'ascorbic acid / calcium phosphate (tribasic) / folic acid / niacinamide / pantothenate / pyridoxine / riboflavin / thiamine / vitamin a / vitamin b 12 / vitamin d oral tablet', 'all-trans-retinol / alpha tocopherol / ascorbic acid / beta carotene / biotin / calcium carbonate / choline / chromium citrate / folic acid / inositol / iodine / magnesium chloride / manganese citrate / niacin / pantothenate / ... oral tablet', 'ascorbic acid / biotin / calcium carbonate / choline / copper gluconate / folic acid / inositol / iodine / iron / magnesium oxide / methionine / niacin / niacinamide / pantothenate / pyridoxine / riboflavin / selenium / thiamine / ... oral tablet'], parent_term=drug\n",
      "entity=calcium pantothenate; systemic, synonyms=['ascorbic acid / biotin / cholecalciferol / folic acid / niacinamide / pantothenate / pyridoxine / riboflavin / thiamine / vitamin a / vitamin b 12 / vitamin e / vitamin k 1 injectable solution', 'ascorbic acid / beta carotene / biotin / calcium carbonate / chromium, chelated / copper / folic acid / iodine / magnesium oxide / manganese / molybdenum / niacinamide / pantothenate / potassium citrate / pyridoxine / riboflavin / ... oral tablet', 'ascorbyl dipalmitate / beta carotene / biotin / calcium ascorbate / choline / folic acid / inositol / niacin / pantothenate / pyridoxine / riboflavin / selenium / thiamine / tocopheryl acid succinate,d-alpha / vitamin a / vitamin b 12 / ... oral capsule', 'ascorbic acid / beta carotene / biotin / calcium carbonate / copper sulfate / folic acid / magnesium oxide / niacinamide / pantothenate / potassium iodide / pyridoxine / riboflavin / thiamine / vitamin a / vitamin b 12 / vitamin d / ... oral tablet', 'biotin / calcium chloride / calcium citrate / caseins / cholecalciferol / copper sulfate / ferrous gluconate / folic acid / magnesium chloride / maltodextrin / manganese sulfate / niacinamide / palm oil / pantothenic acid / ... oral solution', 'ascorbic acid / biotin / calcium / chromic chloride / cupric oxide / ferrous fumarate / folic acid / magnesium oxide / manganese sulfate / niacinamide / pantothenate / phosphorus / potassium chloride / potassium iodide / pyridoxine / ... oral tablet', 'chloramphenicol / folic acid / niacinamide / pantothenic acid / pyridoxine / riboflavin / thiamine / vitamin b 12 oral capsule', 'ascorbic acid / calcium phosphate (tribasic) / folic acid / niacinamide / pantothenate / pyridoxine / riboflavin / thiamine / vitamin a / vitamin b 12 / vitamin d oral tablet', 'all-trans-retinol / alpha tocopherol / ascorbic acid / beta carotene / biotin / calcium carbonate / choline / chromium citrate / folic acid / inositol / iodine / magnesium chloride / manganese citrate / niacin / pantothenate / ... oral tablet', 'ascorbic acid / biotin / calcium carbonate / choline / copper gluconate / folic acid / inositol / iodine / iron / magnesium oxide / methionine / niacin / niacinamide / pantothenate / pyridoxine / riboflavin / selenium / thiamine / ... oral tablet'], parent_term=drug\n",
      "entity=pantethine; systemic, synonyms=None, parent_term=drug\n",
      "entity=other vitamin products, combinations, synonyms=None, parent_term=drug\n",
      "entity=combinations of vitamins, synonyms=None, parent_term=drug\n"
     ]
    },
    {
     "name": "stderr",
     "output_type": "stream",
     "text": []
    },
    {
     "name": "stdout",
     "output_type": "stream",
     "text": [
      "entity=vitamins with minerals, synonyms=None, parent_term=drug\n",
      "entity=vitamins, other combinations, synonyms=None, parent_term=drug\n",
      "entity=mineral supplements, synonyms=['mineral supplement (substance)', 'minerals supplement', 'alimentary tract and metabolism', 'mineral supplement', 'minerals supplements'], parent_term=drug\n",
      "entity=calcium, synonyms=['mineral supplements', 'factor iv', 'iv factor', 'ca', 'ca calcium', 'calciums'], parent_term=drug\n",
      "entity=calcium phosphate; oral, synonyms=['calcium phosphate', 'calcium phosphate / prasterone oral tablet', 'calcium phosphate / cholecalciferol effervescent oral tablet', 'calcium phosphate granules for oral suspension', 'calcium phosphate effervescent oral tablet', 'calcium / calcium fluoride / calcium phosphate / magnesium / silicon dioxide / vitamin d3 / zinc gluconate oral tablet', 'ascorbic acid / calcium phosphate / choline / deanol / ferrous fumarate / magnesium orotate / niacinamide / pyridoxine / riboflavin / thiamine / vitamin a / vitamin e oral capsule', 'ascorbic acid / calcium phosphate oral tablet', 'calcium phosphate / chromic chloride / magnesium oxide / manganese sulfate / selenite / silicon dioxide / sodium molybdate(vi) / vitamin d3 / zinc sulfate oral solution', 'calcium phosphate / procyanidolic oligomer oral capsule'], parent_term=drug\n",
      "entity=calcium glubionate; parenteral, synonyms=['calcium glubionate prefilled syringe', 'calcium glubionate injectable solution', 'calcium glubionate', 'calcium glubionate 2.75 g parenteral product', 'calcium'], parent_term=drug\n"
     ]
    },
    {
     "name": "stderr",
     "output_type": "stream",
     "text": []
    },
    {
     "name": "stdout",
     "output_type": "stream",
     "text": [
      "entity=calcium gluconate; systemic, synonyms=['calcium gluceptate / calcium gluconate oral solution', 'calcium gluconate / calcium levulinate injectable solution', 'calcium gluconate / calcium phosphate dibasic / phosphorus / vitamin d oral capsule', 'calcium gluconate / magnesium sulfate / potassium chloride / sodium chloride injectable solution', 'alanine / arginine / aspartic acid / calcium gluconate / cysteine / glucose / glutamate / glycine / histidine / isoleucine / leucine / lysine / magnesium / methionine / phenylalanine / proline / serine / sodium chloride / taurine / ... prefilled syringe', 'calcium gluconate oral suspension', 'calcium gluconate / niacinamide / phenobarbital oral tablet', 'calcium gluconate / calcium lactate / ergocalciferol oral solution', 'calcium gluconate injection', 'calcium gluconate / calcium lactate oral tablet'], parent_term=drug\n",
      "entity=calcium carbonate; oral, synonyms=['ascorbic acid / beta carotene / biotin / calcium carbonate / chromium, chelated / copper / folic acid / iodine / magnesium oxide / manganese / molybdenum / niacinamide / pantothenate / potassium citrate / pyridoxine / riboflavin / ... oral tablet', 'ascorbic acid / beta carotene / biotin / calcium carbonate / copper sulfate / folic acid / magnesium oxide / niacinamide / pantothenate / potassium iodide / pyridoxine / riboflavin / thiamine / vitamin a / vitamin b 12 / vitamin d / ... oral tablet', 'calcium carbonate oral solution', 'calcium carbonate / phenobarbital oral tablet', 'acetaminophen / calcium carbonate / magnesium carbonate / magnesium oxide oral tablet', 'all-trans-retinol / alpha tocopherol / ascorbic acid / beta carotene / biotin / calcium carbonate / choline / chromium citrate / folic acid / inositol / iodine / magnesium chloride / manganese citrate / niacin / pantothenate / ... oral tablet', 'ascorbic acid / biotin / calcium carbonate / choline / copper gluconate / folic acid / inositol / iodine / iron / magnesium oxide / methionine / niacin / niacinamide / pantothenate / pyridoxine / riboflavin / selenium / thiamine / ... oral tablet', 'ascorbic acid / biotin / calcium carbonate / folic acid / magnesium / niacinamide / pantothenic acid / pyridoxine / riboflavin / thiamine / vitamin b 12 / zinc oral tablet', 'biodiastase / calcium carbonate / cinnamon bark / clove preparation / coptis chinensis root extract / coptis japonica root extract / fennel extract / ginger root / glycyrrhiza uralensis extract / magnesium aluminometasilicate type i-b / ... oral powder', 'calcium carbonate / ferrous fumarate / magnesium oxide / vitamin d oral tablet'], parent_term=drug\n",
      "entity=calcium carbonate; oral, synonyms=['ascorbic acid / beta carotene / biotin / calcium carbonate / chromium, chelated / copper / folic acid / iodine / magnesium oxide / manganese / molybdenum / niacinamide / pantothenate / potassium citrate / pyridoxine / riboflavin / ... oral tablet', 'ascorbic acid / beta carotene / biotin / calcium carbonate / copper sulfate / folic acid / magnesium oxide / niacinamide / pantothenate / potassium iodide / pyridoxine / riboflavin / thiamine / vitamin a / vitamin b 12 / vitamin d / ... oral tablet', 'calcium carbonate oral solution', 'calcium carbonate / phenobarbital oral tablet', 'acetaminophen / calcium carbonate / magnesium carbonate / magnesium oxide oral tablet', 'all-trans-retinol / alpha tocopherol / ascorbic acid / beta carotene / biotin / calcium carbonate / choline / chromium citrate / folic acid / inositol / iodine / magnesium chloride / manganese citrate / niacin / pantothenate / ... oral tablet', 'ascorbic acid / biotin / calcium carbonate / choline / copper gluconate / folic acid / inositol / iodine / iron / magnesium oxide / methionine / niacin / niacinamide / pantothenate / pyridoxine / riboflavin / selenium / thiamine / ... oral tablet', 'ascorbic acid / biotin / calcium carbonate / folic acid / magnesium / niacinamide / pantothenic acid / pyridoxine / riboflavin / thiamine / vitamin b 12 / zinc oral tablet', 'biodiastase / calcium carbonate / cinnamon bark / clove preparation / coptis chinensis root extract / coptis japonica root extract / fennel extract / ginger root / glycyrrhiza uralensis extract / magnesium aluminometasilicate type i-b / ... oral powder', 'calcium carbonate / ferrous fumarate / magnesium oxide / vitamin d oral tablet'], parent_term=drug\n",
      "entity=calcium lactate; oral, synonyms=['alpha tocopherol / ascorbic acid / calcium lactate / folic acid / niacinamide / pyridoxine / riboflavin / thiamine / vitamin a / vitamin b 12 / vitamin d oral tablet', 'calcium lactate', 'ascorbic acid / calcium lactate / choline / manganese sulfate / thiamine / vitamin b 12 / vitamin b6 / vitamin e oral tablet', 'calcium lactate oral powder', 'calcium glycerophosphate / calcium lactate oral suspension', 'calcium lactate oral granules', 'calcium gluconate / calcium lactate / ergocalciferol oral solution', 'calcium gluconate / calcium lactate oral tablet', 'ascorbic acid / calcium lactate oral capsule', 'calcium lactate / vitamin a oral capsule'], parent_term=drug\n",
      "entity=calcium lactate gluconate; oral, synonyms=['alpha tocopherol / ascorbic acid / calcium lactate / folic acid / niacinamide / pyridoxine / riboflavin / thiamine / vitamin a / vitamin b 12 / vitamin d oral tablet', 'calcium lactate', 'ascorbic acid / calcium lactate / choline / manganese sulfate / thiamine / vitamin b 12 / vitamin b6 / vitamin e oral tablet', 'calcium lactate oral powder', 'calcium glycerophosphate / calcium lactate oral suspension', 'calcium lactate oral granules', 'calcium gluconate / calcium lactate / ergocalciferol oral solution', 'calcium gluconate / calcium lactate oral tablet', 'ascorbic acid / calcium lactate oral capsule', 'calcium lactate / vitamin a oral capsule'], parent_term=drug\n"
     ]
    },
    {
     "name": "stderr",
     "output_type": "stream",
     "text": []
    },
    {
     "name": "stdout",
     "output_type": "stream",
     "text": [
      "entity=calcium chloride; parenteral (calcium), synonyms=['calcium chloride / glucose prefilled syringe', 'acetylcysteine / alanine / ammonium chloride / arginine / calcium chloride / citric acid / glutamate / glycine / histidine / isoleucine / leucine / magnesium chloride / n-acetyltyrosine / phenylalanine / potassium chloride / ... injectable solution', 'calcium chloride / glucose / potassium chloride / sodium (s) lactate / sodium chloride injection', 'acetylcysteine / alanine / ammonium chloride / arginine / aspartic acid / calcium chloride / glucose / glutamate / glycine / histidine / isoleucine / leucine / lysine / magnesium chloride / malic acid / n-acetyltyrosine / ... injectable solution', 'alanine / arginine / calcium chloride / fish oils / glucose / glyceryl phosphate / glycine / histidine / isoleucine / leucine / lysine / magnesium sulfate / medium chain triglycerides / methionine / olive oil / phenylalanine / ... injectable suspension', 'calcium chloride / hydroxyethyl starch 130-0.4 / magnesium chloride / malic acid / potassium chloride / sodium acetate trihydrate / sodium chloride prefilled syringe', 'calcium chloride / magnesium chloride / potassium chloride / procaine / sodium chloride injectable solution', 'calcium chloride / hetastarch / magnesium chloride / potassium chloride / sodium acetate trihydrate / sodium chloride injectable solution', 'calcium chloride / magnesium chloride / potassium chloride / sodium acetate trihydrate / sodium chloride / zinc acetate injectable solution', 'calcium chloride / maltose / potassium chloride / sodium (s) lactate / sodium chloride injectable solution'], parent_term=drug\n",
      "entity=calcium chloride; parenteral (calcium), synonyms=['calcium chloride / glucose prefilled syringe', 'acetylcysteine / alanine / ammonium chloride / arginine / calcium chloride / citric acid / glutamate / glycine / histidine / isoleucine / leucine / magnesium chloride / n-acetyltyrosine / phenylalanine / potassium chloride / ... injectable solution', 'calcium chloride / glucose / potassium chloride / sodium (s) lactate / sodium chloride injection', 'acetylcysteine / alanine / ammonium chloride / arginine / aspartic acid / calcium chloride / glucose / glutamate / glycine / histidine / isoleucine / leucine / lysine / magnesium chloride / malic acid / n-acetyltyrosine / ... injectable solution', 'alanine / arginine / calcium chloride / fish oils / glucose / glyceryl phosphate / glycine / histidine / isoleucine / leucine / lysine / magnesium sulfate / medium chain triglycerides / methionine / olive oil / phenylalanine / ... injectable suspension', 'calcium chloride / hydroxyethyl starch 130-0.4 / magnesium chloride / malic acid / potassium chloride / sodium acetate trihydrate / sodium chloride prefilled syringe', 'calcium chloride / magnesium chloride / potassium chloride / procaine / sodium chloride injectable solution', 'calcium chloride / hetastarch / magnesium chloride / potassium chloride / sodium acetate trihydrate / sodium chloride injectable solution', 'calcium chloride / magnesium chloride / potassium chloride / sodium acetate trihydrate / sodium chloride / zinc acetate injectable solution', 'calcium chloride / maltose / potassium chloride / sodium (s) lactate / sodium chloride injectable solution'], parent_term=drug\n",
      "entity=calcium glycerylphosphate; systemic, synonyms=None, parent_term=drug\n",
      "entity=calcium citrate lysine complex; oral, synonyms=['biotin / calcium chloride / calcium citrate / caseins / cholecalciferol / copper sulfate / ferrous gluconate / folic acid / magnesium chloride / maltodextrin / manganese sulfate / niacinamide / palm oil / pantothenic acid / ... oral solution', 'calcium citrate / magnesium oxide / vitamin d oral tablet', 'calcium citrate', 'beta carotene / biotin / calcium ascorbate / calcium carbonate / calcium citrate / choline / chromium, chelated / copper / folic acid / inositol / iodine / iron succinyl milk protein complex / magnesium citrate / magnesium oxide / ... oral tablet', 'ascorbic acid / beta carotene / biotin / calcium citrate / choline / chromium / copper / folic acid / inositol / iron,peptonized / magnesium amino acid chelate / manganese / molybdenum / niacin / niacinamide / pantothenate / potassium / ... oral tablet', 'ascorbic acid / beta carotene / biotin / calcium citrate / choline / chromium, chelated / copper gluconate / folic acid / inositol / magnesium / manganese gluconate / molybdenum / niacin / niacinamide / pantothenate / potassium iodide / ... oral tablet', 'calcium citrate / magnesium citrate / vitamin d3 oral tablet', 'ascorbic acid / beta carotene / biotin / calcium citrate / choline / chromic chloride / folic acid / inositol / iodine / magnesium / manganese / molybdenum / niacinamide / pantothenic acid / pyridoxine / riboflavin / selenite / ... oral tablet', 'calcium citrate / calcium phosphate oral tablet', 'calcium citrate disintegrating oral tablet'], parent_term=drug\n",
      "entity=calcium citrate lysine complex; oral, synonyms=['biotin / calcium chloride / calcium citrate / caseins / cholecalciferol / copper sulfate / ferrous gluconate / folic acid / magnesium chloride / maltodextrin / manganese sulfate / niacinamide / palm oil / pantothenic acid / ... oral solution', 'calcium citrate / magnesium oxide / vitamin d oral tablet', 'calcium citrate', 'beta carotene / biotin / calcium ascorbate / calcium carbonate / calcium citrate / choline / chromium, chelated / copper / folic acid / inositol / iodine / iron succinyl milk protein complex / magnesium citrate / magnesium oxide / ... oral tablet', 'ascorbic acid / beta carotene / biotin / calcium citrate / choline / chromium / copper / folic acid / inositol / iron,peptonized / magnesium amino acid chelate / manganese / molybdenum / niacin / niacinamide / pantothenate / potassium / ... oral tablet', 'ascorbic acid / beta carotene / biotin / calcium citrate / choline / chromium, chelated / copper gluconate / folic acid / inositol / magnesium / manganese gluconate / molybdenum / niacin / niacinamide / pantothenate / potassium iodide / ... oral tablet', 'calcium citrate / magnesium citrate / vitamin d3 oral tablet', 'ascorbic acid / beta carotene / biotin / calcium citrate / choline / chromic chloride / folic acid / inositol / iodine / magnesium / manganese / molybdenum / niacinamide / pantothenic acid / pyridoxine / riboflavin / selenite / ... oral tablet', 'calcium citrate / calcium phosphate oral tablet', 'calcium citrate disintegrating oral tablet'], parent_term=drug\n"
     ]
    },
    {
     "name": "stderr",
     "output_type": "stream",
     "text": []
    },
    {
     "name": "stdout",
     "output_type": "stream",
     "text": [
      "entity=calcium glucoheptonate; oral, synonyms=['calcium gluceptate / calcium gluconate oral solution', 'calcium gluceptate oral solution', 'calcium glucoheptonate 3 g oral product', 'calcium gluceptate', 'calcium chloride / calcium gluceptate / calcium gluconate / calcium lactate / saccharomyces cerevisiae oral solution', 'calcium'], parent_term=drug\n",
      "entity=calcium citrate; oral, synonyms=['biotin / calcium chloride / calcium citrate / caseins / cholecalciferol / copper sulfate / ferrous gluconate / folic acid / magnesium chloride / maltodextrin / manganese sulfate / niacinamide / palm oil / pantothenic acid / ... oral solution', 'calcium citrate / magnesium oxide / vitamin d oral tablet', 'calcium citrate', 'beta carotene / biotin / calcium ascorbate / calcium carbonate / calcium citrate / choline / chromium, chelated / copper / folic acid / inositol / iodine / iron succinyl milk protein complex / magnesium citrate / magnesium oxide / ... oral tablet', 'ascorbic acid / beta carotene / biotin / calcium citrate / choline / chromium / copper / folic acid / inositol / iron,peptonized / magnesium amino acid chelate / manganese / molybdenum / niacin / niacinamide / pantothenate / potassium / ... oral tablet', 'ascorbic acid / beta carotene / biotin / calcium citrate / choline / chromium, chelated / copper gluconate / folic acid / inositol / magnesium / manganese gluconate / molybdenum / niacin / niacinamide / pantothenate / potassium iodide / ... oral tablet', 'calcium citrate / magnesium citrate / vitamin d3 oral tablet', 'ascorbic acid / beta carotene / biotin / calcium citrate / choline / chromic chloride / folic acid / inositol / iodine / magnesium / manganese / molybdenum / niacinamide / pantothenic acid / pyridoxine / riboflavin / selenite / ... oral tablet', 'calcium citrate / calcium phosphate oral tablet', 'calcium citrate disintegrating oral tablet'], parent_term=drug\n",
      "entity=calcium citrate; oral, synonyms=['biotin / calcium chloride / calcium citrate / caseins / cholecalciferol / copper sulfate / ferrous gluconate / folic acid / magnesium chloride / maltodextrin / manganese sulfate / niacinamide / palm oil / pantothenic acid / ... oral solution', 'calcium citrate / magnesium oxide / vitamin d oral tablet', 'calcium citrate', 'beta carotene / biotin / calcium ascorbate / calcium carbonate / calcium citrate / choline / chromium, chelated / copper / folic acid / inositol / iodine / iron succinyl milk protein complex / magnesium citrate / magnesium oxide / ... oral tablet', 'ascorbic acid / beta carotene / biotin / calcium citrate / choline / chromium / copper / folic acid / inositol / iron,peptonized / magnesium amino acid chelate / manganese / molybdenum / niacin / niacinamide / pantothenate / potassium / ... oral tablet', 'ascorbic acid / beta carotene / biotin / calcium citrate / choline / chromium, chelated / copper gluconate / folic acid / inositol / magnesium / manganese gluconate / molybdenum / niacin / niacinamide / pantothenate / potassium iodide / ... oral tablet', 'calcium citrate / magnesium citrate / vitamin d3 oral tablet', 'ascorbic acid / beta carotene / biotin / calcium citrate / choline / chromic chloride / folic acid / inositol / iodine / magnesium / manganese / molybdenum / niacinamide / pantothenic acid / pyridoxine / riboflavin / selenite / ... oral tablet', 'calcium citrate / calcium phosphate oral tablet', 'calcium citrate disintegrating oral tablet'], parent_term=drug\n",
      "entity=calcium (different salts in combination); oral, synonyms=['ascorbic acid / beta carotene / biotin / calcium carbonate / chromium, chelated / copper / folic acid / iodine / magnesium oxide / manganese / molybdenum / niacinamide / pantothenate / potassium citrate / pyridoxine / riboflavin / ... oral tablet', 'calcium / selenium / silicon / sulfur / thuja occidentalis preparation oral tablet', 'ascorbic acid / beta carotene / biotin / calcium carbonate / copper sulfate / folic acid / magnesium oxide / niacinamide / pantothenate / potassium iodide / pyridoxine / riboflavin / thiamine / vitamin a / vitamin b 12 / vitamin d / ... oral tablet', 'ascorbic acid / calcium phosphate (tribasic) / folic acid / niacinamide / pantothenate / pyridoxine / riboflavin / thiamine / vitamin a / vitamin b 12 / vitamin d oral tablet', 'calcium / iron / magnesium / vitamin d / zinc oral tablet', 'biotin / calcium / cupric oxide / ferrous fumarate / folic acid / niacinamide / pantothenate / phosphorus / pyridoxine / riboflavin / sodium ascorbate / thiamine / vitamin a / vitamin b 12 / vitamin d / vitamin e oral tablet', 'calcium / cholecalciferol disintegrating oral tablet', 'ascorbic acid / beta carotene / biotin / calcium citrate / choline / chromium / copper / folic acid / inositol / iron,peptonized / magnesium amino acid chelate / manganese / molybdenum / niacin / niacinamide / pantothenate / potassium / ... oral tablet', 'ascorbic acid / biotin / calcium carbonate / chromium, chelated / copper / folic acid / magnesium oxide / manganese / molybdenum / niacinamide / pantothenic acid / potassium iodide / pyridoxine / riboflavin / selenium / thiamine / ... oral tablet', 'ascorbic acid / biotin / calcium carbonate / choline / copper gluconate / ferrous fumarate / folic acid / inositol / magnesium oxide / manganese gluconate / niacin / pantothenate / potassium chloride / potassium iodide / pyridoxine / ... oral tablet'], parent_term=drug\n",
      "entity=calcium (different salts in combination); oral, synonyms=['ascorbic acid / beta carotene / biotin / calcium carbonate / chromium, chelated / copper / folic acid / iodine / magnesium oxide / manganese / molybdenum / niacinamide / pantothenate / potassium citrate / pyridoxine / riboflavin / ... oral tablet', 'calcium / selenium / silicon / sulfur / thuja occidentalis preparation oral tablet', 'ascorbic acid / beta carotene / biotin / calcium carbonate / copper sulfate / folic acid / magnesium oxide / niacinamide / pantothenate / potassium iodide / pyridoxine / riboflavin / thiamine / vitamin a / vitamin b 12 / vitamin d / ... oral tablet', 'ascorbic acid / calcium phosphate (tribasic) / folic acid / niacinamide / pantothenate / pyridoxine / riboflavin / thiamine / vitamin a / vitamin b 12 / vitamin d oral tablet', 'calcium / iron / magnesium / vitamin d / zinc oral tablet', 'biotin / calcium / cupric oxide / ferrous fumarate / folic acid / niacinamide / pantothenate / phosphorus / pyridoxine / riboflavin / sodium ascorbate / thiamine / vitamin a / vitamin b 12 / vitamin d / vitamin e oral tablet', 'calcium / cholecalciferol disintegrating oral tablet', 'ascorbic acid / beta carotene / biotin / calcium citrate / choline / chromium / copper / folic acid / inositol / iron,peptonized / magnesium amino acid chelate / manganese / molybdenum / niacin / niacinamide / pantothenate / potassium / ... oral tablet', 'ascorbic acid / biotin / calcium carbonate / chromium, chelated / copper / folic acid / magnesium oxide / manganese / molybdenum / niacinamide / pantothenic acid / potassium iodide / pyridoxine / riboflavin / selenium / thiamine / ... oral tablet', 'ascorbic acid / biotin / calcium carbonate / choline / copper gluconate / ferrous fumarate / folic acid / inositol / magnesium oxide / manganese gluconate / niacin / pantothenate / potassium chloride / potassium iodide / pyridoxine / ... oral tablet'], parent_term=drug\n"
     ]
    },
    {
     "name": "stderr",
     "output_type": "stream",
     "text": [
      "Embedding Documents: 100%|██████████| 64/64 [00:02<00:00, 30.93doc/s]\n"
     ]
    },
    {
     "name": "stdout",
     "output_type": "stream",
     "text": [
      "entity=calcium (different salts in combination); oral, synonyms=['ascorbic acid / beta carotene / biotin / calcium carbonate / chromium, chelated / copper / folic acid / iodine / magnesium oxide / manganese / molybdenum / niacinamide / pantothenate / potassium citrate / pyridoxine / riboflavin / ... oral tablet', 'calcium / selenium / silicon / sulfur / thuja occidentalis preparation oral tablet', 'ascorbic acid / beta carotene / biotin / calcium carbonate / copper sulfate / folic acid / magnesium oxide / niacinamide / pantothenate / potassium iodide / pyridoxine / riboflavin / thiamine / vitamin a / vitamin b 12 / vitamin d / ... oral tablet', 'ascorbic acid / calcium phosphate (tribasic) / folic acid / niacinamide / pantothenate / pyridoxine / riboflavin / thiamine / vitamin a / vitamin b 12 / vitamin d oral tablet', 'calcium / iron / magnesium / vitamin d / zinc oral tablet', 'biotin / calcium / cupric oxide / ferrous fumarate / folic acid / niacinamide / pantothenate / phosphorus / pyridoxine / riboflavin / sodium ascorbate / thiamine / vitamin a / vitamin b 12 / vitamin d / vitamin e oral tablet', 'calcium / cholecalciferol disintegrating oral tablet', 'ascorbic acid / beta carotene / biotin / calcium citrate / choline / chromium / copper / folic acid / inositol / iron,peptonized / magnesium amino acid chelate / manganese / molybdenum / niacin / niacinamide / pantothenate / potassium / ... oral tablet', 'ascorbic acid / biotin / calcium carbonate / chromium, chelated / copper / folic acid / magnesium oxide / manganese / molybdenum / niacinamide / pantothenic acid / potassium iodide / pyridoxine / riboflavin / selenium / thiamine / ... oral tablet', 'ascorbic acid / biotin / calcium carbonate / choline / copper gluconate / ferrous fumarate / folic acid / inositol / magnesium oxide / manganese gluconate / niacin / pantothenate / potassium chloride / potassium iodide / pyridoxine / ... oral tablet'], parent_term=drug\n",
      "entity=calcium laevulate; parenteral, synonyms=['calcium laevulate 1 g parenteral product', 'calcium gluconate / calcium levulinate injectable solution', 'calcium glycerophosphate / calcium levulinate injectable solution', 'calcium levulinate', 'calcium'], parent_term=drug\n"
     ]
    },
    {
     "name": "stderr",
     "output_type": "stream",
     "text": [
      "11it [00:20,  2.24s/it]2024-09-06 20:08:35,436 - rag.utils - INFO - embed documents\n"
     ]
    },
    {
     "name": "stdout",
     "output_type": "stream",
     "text": [
      "entity=calcium, combinations with vitamin d and/or other drugs, synonyms=None, parent_term=drug\n",
      "entity=potassium, synonyms=['potassiums', 'mineral supplements', 'element k'], parent_term=drug\n",
      "entity=potassium chloride; oral, synonyms=['ascorbic acid / chromium, chelated / copper / folic acid / magnesium / manganese / niacin / niacinamide / potassium chloride / riboflavin / selenium / sodium molybdate(vi) / thiamine / vanadium / vitamin b 12 / vitamin b6 / vitamin e / ... oral capsule', 'citric acid / glucose / potassium chloride / sodium bicarbonate / sodium chloride disintegrating oral tablet', 'calcium carbonate / choline / chromic chloride / copper sulfate / inositol / iodine / magnesium oxide / manganese sulfate / potassium chloride / selenite / sodium molybdate(vi) / vanadium / vitamin d / zinc sulfate oral tablet', 'biotin / calcium chloride / calcium citrate / caseins / cholecalciferol / copper sulfate / ferrous gluconate / folic acid / magnesium chloride / maltodextrin / manganese sulfate / niacinamide / palm oil / pantothenic acid / ... oral solution', 'ascorbic acid / biotin / calcium / chromic chloride / cupric oxide / ferrous fumarate / folic acid / magnesium oxide / manganese sulfate / niacinamide / pantothenate / phosphorus / potassium chloride / potassium iodide / pyridoxine / ... oral tablet', 'potassium chloride / red yeast rice / sodium chloride / sodium citrate oral powder', 'potassium chloride disintegrating oral tablet', 'ascorbic acid / beta carotene / biotin / calcium / chromium, chelated / copper / ferrous gluconate / folic acid / magnesium / manganese citrate / molybdenum / niacinamide / pantothenate / potassium chloride / potassium iodide / ... oral capsule', 'calcium phosphate (tribasic) / ferrous gluconate / magnesium phosphate / potassium bicarbonate / potassium chloride / potassium iodide / potassium sulfate oral powder', 'bendroflumethiazide / potassium chloride oral tablet'], parent_term=drug\n",
      "entity=potassium chloride; oral, synonyms=['ascorbic acid / chromium, chelated / copper / folic acid / magnesium / manganese / niacin / niacinamide / potassium chloride / riboflavin / selenium / sodium molybdate(vi) / thiamine / vanadium / vitamin b 12 / vitamin b6 / vitamin e / ... oral capsule', 'citric acid / glucose / potassium chloride / sodium bicarbonate / sodium chloride disintegrating oral tablet', 'calcium carbonate / choline / chromic chloride / copper sulfate / inositol / iodine / magnesium oxide / manganese sulfate / potassium chloride / selenite / sodium molybdate(vi) / vanadium / vitamin d / zinc sulfate oral tablet', 'biotin / calcium chloride / calcium citrate / caseins / cholecalciferol / copper sulfate / ferrous gluconate / folic acid / magnesium chloride / maltodextrin / manganese sulfate / niacinamide / palm oil / pantothenic acid / ... oral solution', 'ascorbic acid / biotin / calcium / chromic chloride / cupric oxide / ferrous fumarate / folic acid / magnesium oxide / manganese sulfate / niacinamide / pantothenate / phosphorus / potassium chloride / potassium iodide / pyridoxine / ... oral tablet', 'potassium chloride / red yeast rice / sodium chloride / sodium citrate oral powder', 'potassium chloride disintegrating oral tablet', 'ascorbic acid / beta carotene / biotin / calcium / chromium, chelated / copper / ferrous gluconate / folic acid / magnesium / manganese citrate / molybdenum / niacinamide / pantothenate / potassium chloride / potassium iodide / ... oral capsule', 'calcium phosphate (tribasic) / ferrous gluconate / magnesium phosphate / potassium bicarbonate / potassium chloride / potassium iodide / potassium sulfate oral powder', 'bendroflumethiazide / potassium chloride oral tablet'], parent_term=drug\n",
      "entity=potassium citrate; oral, synonyms=['ascorbic acid / beta carotene / biotin / calcium carbonate / chromium, chelated / copper / folic acid / iodine / magnesium oxide / manganese / molybdenum / niacinamide / pantothenate / potassium citrate / pyridoxine / riboflavin / ... oral tablet', 'biotin / calcium chloride / calcium citrate / caseins / cholecalciferol / copper sulfate / ferrous gluconate / folic acid / magnesium chloride / maltodextrin / manganese sulfate / niacinamide / palm oil / pantothenic acid / ... oral solution', 'potassium citrate effervescent oral tablet', 'all-trans-retinol / alpha tocopherol / ascorbic acid / beta carotene / biotin / calcium carbonate / choline / chromium citrate / folic acid / inositol / iodine / magnesium chloride / manganese citrate / niacin / pantothenate / ... oral tablet', 'ascorbic acid / beta carotene / biotin / chromic chloride / folic acid / magnesium oxide / manganese sulfate / methionine / molybdenum aspartate / niacin / niacinamide / pantothenate / potassium citrate / potassium iodide / pyridoxine / ... oral tablet', 'ascorbic acid / biotin / calcium / choline / ferric ammonium citrate / folic acid / inositol / magnesium oxide / manganese citrate / methionine / niacinamide / pantothenate / potassium citrate / pyridoxine / riboflavin / thiamine / ... oral tablet', 'ascorbic acid / beta carotene / biotin / calcium / chromium, chelated / folic acid / iodine / magnesium / manganese / molybdenum / niacin / niacinamide / pantothenic acid / potassium citrate / pyridoxine / riboflavin / selenium / ... oral capsule', 'beta carotene / biotin / calcium ascorbate / calcium carbonate / choline / chromium, chelated / copper / folic acid / inositol / magnesium oxide / manganese / niacinamide / pantothenate / potassium citrate / potassium iodide / ... oral tablet', 'ascorbic acid / biotin / calcium carbonate / chromium, chelated / ferrous fumarate / folic acid / magnesium oxide / molybdenum / niacinamide / pantothenate / potassium citrate / pyridoxine / riboflavin / selenium / thiamine / vitamin a / ... oral tablet', 'ascorbic acid / beta carotene / biotin / calcium / choline / chromium / copper gluconate / folic acid / inositol / iodine / iron succinyl milk protein complex / magnesium / manganese gluconate / methionine / niacinamide / pantothenate / ... oral tablet'], parent_term=drug\n",
      "entity=potassium citrate; oral, synonyms=['ascorbic acid / beta carotene / biotin / calcium carbonate / chromium, chelated / copper / folic acid / iodine / magnesium oxide / manganese / molybdenum / niacinamide / pantothenate / potassium citrate / pyridoxine / riboflavin / ... oral tablet', 'biotin / calcium chloride / calcium citrate / caseins / cholecalciferol / copper sulfate / ferrous gluconate / folic acid / magnesium chloride / maltodextrin / manganese sulfate / niacinamide / palm oil / pantothenic acid / ... oral solution', 'potassium citrate effervescent oral tablet', 'all-trans-retinol / alpha tocopherol / ascorbic acid / beta carotene / biotin / calcium carbonate / choline / chromium citrate / folic acid / inositol / iodine / magnesium chloride / manganese citrate / niacin / pantothenate / ... oral tablet', 'ascorbic acid / beta carotene / biotin / chromic chloride / folic acid / magnesium oxide / manganese sulfate / methionine / molybdenum aspartate / niacin / niacinamide / pantothenate / potassium citrate / potassium iodide / pyridoxine / ... oral tablet', 'ascorbic acid / biotin / calcium / choline / ferric ammonium citrate / folic acid / inositol / magnesium oxide / manganese citrate / methionine / niacinamide / pantothenate / potassium citrate / pyridoxine / riboflavin / thiamine / ... oral tablet', 'ascorbic acid / beta carotene / biotin / calcium / chromium, chelated / folic acid / iodine / magnesium / manganese / molybdenum / niacin / niacinamide / pantothenic acid / potassium citrate / pyridoxine / riboflavin / selenium / ... oral capsule', 'beta carotene / biotin / calcium ascorbate / calcium carbonate / choline / chromium, chelated / copper / folic acid / inositol / magnesium oxide / manganese / niacinamide / pantothenate / potassium citrate / potassium iodide / ... oral tablet', 'ascorbic acid / biotin / calcium carbonate / chromium, chelated / ferrous fumarate / folic acid / magnesium oxide / molybdenum / niacinamide / pantothenate / potassium citrate / pyridoxine / riboflavin / selenium / thiamine / vitamin a / ... oral tablet', 'ascorbic acid / beta carotene / biotin / calcium / choline / chromium / copper gluconate / folic acid / inositol / iodine / iron succinyl milk protein complex / magnesium / manganese gluconate / methionine / niacinamide / pantothenate / ... oral tablet'], parent_term=drug\n"
     ]
    },
    {
     "name": "stderr",
     "output_type": "stream",
     "text": []
    },
    {
     "name": "stdout",
     "output_type": "stream",
     "text": [
      "entity=potassium citrate; oral, synonyms=['ascorbic acid / beta carotene / biotin / calcium carbonate / chromium, chelated / copper / folic acid / iodine / magnesium oxide / manganese / molybdenum / niacinamide / pantothenate / potassium citrate / pyridoxine / riboflavin / ... oral tablet', 'biotin / calcium chloride / calcium citrate / caseins / cholecalciferol / copper sulfate / ferrous gluconate / folic acid / magnesium chloride / maltodextrin / manganese sulfate / niacinamide / palm oil / pantothenic acid / ... oral solution', 'potassium citrate effervescent oral tablet', 'all-trans-retinol / alpha tocopherol / ascorbic acid / beta carotene / biotin / calcium carbonate / choline / chromium citrate / folic acid / inositol / iodine / magnesium chloride / manganese citrate / niacin / pantothenate / ... oral tablet', 'ascorbic acid / beta carotene / biotin / chromic chloride / folic acid / magnesium oxide / manganese sulfate / methionine / molybdenum aspartate / niacin / niacinamide / pantothenate / potassium citrate / potassium iodide / pyridoxine / ... oral tablet', 'ascorbic acid / biotin / calcium / choline / ferric ammonium citrate / folic acid / inositol / magnesium oxide / manganese citrate / methionine / niacinamide / pantothenate / potassium citrate / pyridoxine / riboflavin / thiamine / ... oral tablet', 'ascorbic acid / beta carotene / biotin / calcium / chromium, chelated / folic acid / iodine / magnesium / manganese / molybdenum / niacin / niacinamide / pantothenic acid / potassium citrate / pyridoxine / riboflavin / selenium / ... oral capsule', 'beta carotene / biotin / calcium ascorbate / calcium carbonate / choline / chromium, chelated / copper / folic acid / inositol / magnesium oxide / manganese / niacinamide / pantothenate / potassium citrate / potassium iodide / ... oral tablet', 'ascorbic acid / biotin / calcium carbonate / chromium, chelated / ferrous fumarate / folic acid / magnesium oxide / molybdenum / niacinamide / pantothenate / potassium citrate / pyridoxine / riboflavin / selenium / thiamine / vitamin a / ... oral tablet', 'ascorbic acid / beta carotene / biotin / calcium / choline / chromium / copper gluconate / folic acid / inositol / iodine / iron succinyl milk protein complex / magnesium / manganese gluconate / methionine / niacinamide / pantothenate / ... oral tablet'], parent_term=drug\n",
      "entity=potassium hydrogentartrate; oral, synonyms=['potassium hydrogentartrate 7.5 g oral product', 'potassium'], parent_term=drug\n",
      "entity=potassium hydrogencarbonate; oral, synonyms=['potassium bicarbonate / potassium bitartrate disintegrating oral tablet', 'pancreatin / potassium bicarbonate / sodium bicarbonate oral tablet', 'potassium bicarbonate / sodium bicarbonate oral tablet', 'potassium bicarbonate / potassium bitartrate oral tablet', 'potassium bicarbonate', 'potassium bicarbonate oral tablet', 'ascorbic acid / beta carotene / potassium bicarbonate / riboflavin / selenium / vitamin e oral powder', 'potassium bicarbonate / potassium bitartrate effervescent oral tablet', 'potassium bicarbonate / potassium chloride disintegrating oral tablet', 'ammonium carbonate / camphor / canada balsam extract / capsicum extract / glycerin / menthol / pine needle oil (pinus mugo) / potassium bicarbonate oral solution'], parent_term=drug\n",
      "entity=potassium gluconate; oral, synonyms=None, parent_term=drug\n",
      "entity=potassium (different salts in combination), synonyms=None, parent_term=drug\n",
      "entity=potassium chloride, combinations; systemic, synonyms=None, parent_term=drug\n",
      "entity=other mineral supplements, synonyms=None, parent_term=drug\n",
      "entity=sodium chloride; oral, synonyms=['citric acid / glucose / potassium chloride / sodium bicarbonate / sodium chloride disintegrating oral tablet', 'calcium fluoride / calcium phosphate (tribasic) / causticum preparation / conium maculatum preparation / hydrofluoric acid / magnesium carbonate / phosphorus / santonin / senecio vulgaris extract / silicon dioxide / sodium chloride / ... oral solution', 'domiphen / sodium chloride / sodium fluoride toothpaste', 'baptisia tinctoria extract / boric acid / bryonia preparation / sodium chloride oral solution', 'activated charcoal / astragalus preparation / candida parapsilosis / echinacea angustifolia extract / epinephrine / hydrastis canadensis whole preparation / iodine / lycopodium clavatum preparation / phosphoric acid / ... oral solution', 'potassium chloride / red yeast rice / sodium chloride / sodium citrate oral powder', 'actaea racemosa whole extract / aesculus hippocastanum seed oil / citrullus colocynthis whole extract / phytolacca americana whole extract / sodium chloride / strontium carbonate preparation oral solution', 'alfalfa preparation / beets preparation / calendula officinalis extract / cobalt / copper / cupric acetate / echinacea angustifolia extract / elymus repens whole extract / greater celandine / iridium / larix decidua whole extract / ... oral solution', 'arnica montana extract / cinchona officinalis bark extract / comfrey leaf extract / eupatorium perfoliatum preparation / euphrasia officinalis preparation / gelsemium sempervirens preparation / hamamelis virginiana leaf extract / ... oral solution', 'sodium chloride oral solution'], parent_term=drug\n"
     ]
    },
    {
     "name": "stderr",
     "output_type": "stream",
     "text": []
    },
    {
     "name": "stdout",
     "output_type": "stream",
     "text": [
      "entity=sodium chloride; oral, synonyms=['citric acid / glucose / potassium chloride / sodium bicarbonate / sodium chloride disintegrating oral tablet', 'calcium fluoride / calcium phosphate (tribasic) / causticum preparation / conium maculatum preparation / hydrofluoric acid / magnesium carbonate / phosphorus / santonin / senecio vulgaris extract / silicon dioxide / sodium chloride / ... oral solution', 'domiphen / sodium chloride / sodium fluoride toothpaste', 'baptisia tinctoria extract / boric acid / bryonia preparation / sodium chloride oral solution', 'activated charcoal / astragalus preparation / candida parapsilosis / echinacea angustifolia extract / epinephrine / hydrastis canadensis whole preparation / iodine / lycopodium clavatum preparation / phosphoric acid / ... oral solution', 'potassium chloride / red yeast rice / sodium chloride / sodium citrate oral powder', 'actaea racemosa whole extract / aesculus hippocastanum seed oil / citrullus colocynthis whole extract / phytolacca americana whole extract / sodium chloride / strontium carbonate preparation oral solution', 'alfalfa preparation / beets preparation / calendula officinalis extract / cobalt / copper / cupric acetate / echinacea angustifolia extract / elymus repens whole extract / greater celandine / iridium / larix decidua whole extract / ... oral solution', 'arnica montana extract / cinchona officinalis bark extract / comfrey leaf extract / eupatorium perfoliatum preparation / euphrasia officinalis preparation / gelsemium sempervirens preparation / hamamelis virginiana leaf extract / ... oral solution', 'sodium chloride oral solution'], parent_term=drug\n",
      "entity=sodium sulfate; systemic, synonyms=None, parent_term=drug\n",
      "entity=zinc sulfate; oral, synonyms=['yohimbine / zinc sulfate oral tablet', 'calcium carbonate / choline / chromic chloride / copper sulfate / inositol / iodine / magnesium oxide / manganese sulfate / potassium chloride / selenite / sodium molybdate(vi) / vanadium / vitamin d / zinc sulfate oral tablet', 'biotin / calcium chloride / calcium citrate / caseins / cholecalciferol / copper sulfate / ferrous gluconate / folic acid / magnesium chloride / maltodextrin / manganese sulfate / niacinamide / palm oil / pantothenic acid / ... oral solution', 'ascorbic acid / biotin / calcium / chromic chloride / cupric oxide / ferrous fumarate / folic acid / magnesium oxide / manganese sulfate / niacinamide / pantothenate / phosphorus / potassium chloride / potassium iodide / pyridoxine / ... oral tablet', 'magnesium citrate / zinc sulfate oral capsule', 'ascorbic acid / zinc sulfate oral granules', 'calcium phosphate / chromic chloride / magnesium oxide / manganese sulfate / selenite / silicon dioxide / sodium molybdate(vi) / vitamin d3 / zinc sulfate oral solution', 'alpha tocopherol / calcium / chromium gluconate / copper sulfate / ferrous sulfate / iodine / magnesium oxide / manganese sulfate / potassium sulfate / selenite / sodium molybdate(vi) / vitamin b6 / zinc sulfate oral capsule', 'magnesium sulfate heptahydrate / riboflavin / thiamine / zinc sulfate oral tablet', 'ascorbic acid / niacinamide / pantothenate / riboflavin / thiamine / vitamin b 12 / vitamin b6 / vitamin e / zinc sulfate oral tablet'], parent_term=drug\n",
      "entity=zinc sulfate; oral, synonyms=['yohimbine / zinc sulfate oral tablet', 'calcium carbonate / choline / chromic chloride / copper sulfate / inositol / iodine / magnesium oxide / manganese sulfate / potassium chloride / selenite / sodium molybdate(vi) / vanadium / vitamin d / zinc sulfate oral tablet', 'biotin / calcium chloride / calcium citrate / caseins / cholecalciferol / copper sulfate / ferrous gluconate / folic acid / magnesium chloride / maltodextrin / manganese sulfate / niacinamide / palm oil / pantothenic acid / ... oral solution', 'ascorbic acid / biotin / calcium / chromic chloride / cupric oxide / ferrous fumarate / folic acid / magnesium oxide / manganese sulfate / niacinamide / pantothenate / phosphorus / potassium chloride / potassium iodide / pyridoxine / ... oral tablet', 'magnesium citrate / zinc sulfate oral capsule', 'ascorbic acid / zinc sulfate oral granules', 'calcium phosphate / chromic chloride / magnesium oxide / manganese sulfate / selenite / silicon dioxide / sodium molybdate(vi) / vitamin d3 / zinc sulfate oral solution', 'alpha tocopherol / calcium / chromium gluconate / copper sulfate / ferrous sulfate / iodine / magnesium oxide / manganese sulfate / potassium sulfate / selenite / sodium molybdate(vi) / vitamin b6 / zinc sulfate oral capsule', 'magnesium sulfate heptahydrate / riboflavin / thiamine / zinc sulfate oral tablet', 'ascorbic acid / niacinamide / pantothenate / riboflavin / thiamine / vitamin b 12 / vitamin b6 / vitamin e / zinc sulfate oral tablet'], parent_term=drug\n",
      "entity=zinc gluconate; systemic, synonyms=None, parent_term=drug\n",
      "entity=zinc protein complex; systemic, synonyms=['glycine zinc chelate', 'zinc aspartate delayed release oral tablet', 'zinc aspartate injectable solution', '(2-aminoethyl) dihydrogen phosphate monosodium / chromium aspartate / cobalt (ii) -hydrogen-dl-aspartate / copper (ii) -hydrogen-dl-aspartate / dexpanthenol / ferrous aspartate / magnesium aspartate / manganese aspartate / ... injection', 'zinc aspartate oral capsule', 'cobalt (ii) -hydrogen-dl-aspartate / copper (ii) -hydrogen-dl-aspartate / magnesium aspartate / manganese aspartate / potassium aspartate / zinc aspartate injectable solution', 'zinc glycinate', 'chromium aspartate / magnesium aspartate / manganese aspartate / zinc aspartate oral capsule', 'zinc aspartate injection', 'copper (ii) -hydrogen-dl-aspartate / dexpanthenol / magnesium aspartate / manganese aspartate / potassium aspartate / sodium chloride / xylitol / zinc aspartate injectable solution'], parent_term=drug\n"
     ]
    },
    {
     "name": "stderr",
     "output_type": "stream",
     "text": []
    },
    {
     "name": "stdout",
     "output_type": "stream",
     "text": [
      "entity=magnesium chloride; systemic, synonyms=['alanine / arginine / dibasic potassium phosphate / glucose / glycine / histidine / isoleucine / leucine / lysine / magnesium chloride / methionine / phenylalanine / proline / sodium acetate / sodium chloride / threonine / tryptophan / ... injection', 'biotin / calcium chloride / calcium citrate / caseins / cholecalciferol / copper sulfate / ferrous gluconate / folic acid / magnesium chloride / maltodextrin / manganese sulfate / niacinamide / palm oil / pantothenic acid / ... oral solution', 'glucose / magnesium chloride / potassium chloride / sodium acetate trihydrate / sodium chloride / sodium gluconate injection', 'canada goldenrod pollen extract / cinchona officinalis bark extract / greater celandine / hydrastis canadensis whole preparation / magnesium chloride / milk thistle extract / taraxacum officinale leaf extract oral solution', 'alfalfa preparation / beets preparation / calendula officinalis extract / cobalt / copper / cupric acetate / echinacea angustifolia extract / elymus repens whole extract / greater celandine / iridium / larix decidua whole extract / ... oral solution', 'magnesium chloride oral solution', 'all-trans-retinol / alpha tocopherol / ascorbic acid / beta carotene / biotin / calcium carbonate / choline / chromium citrate / folic acid / inositol / iodine / magnesium chloride / manganese citrate / niacin / pantothenate / ... oral tablet', 'acetylcysteine / alanine / ammonium chloride / arginine / calcium chloride / citric acid / glutamate / glycine / histidine / isoleucine / leucine / magnesium chloride / n-acetyltyrosine / phenylalanine / potassium chloride / ... injectable solution', 'acetylcysteine / alanine / ammonium chloride / arginine / aspartic acid / calcium chloride / glucose / glutamate / glycine / histidine / isoleucine / leucine / lysine / magnesium chloride / malic acid / n-acetyltyrosine / ... injectable solution', 'dibasic potassium phosphate / glucose / lactate / magnesium chloride / potassium chloride / sodium chloride / sodium phosphate, monobasic injectable solution'], parent_term=drug\n",
      "entity=magnesium chloride; systemic, synonyms=['alanine / arginine / dibasic potassium phosphate / glucose / glycine / histidine / isoleucine / leucine / lysine / magnesium chloride / methionine / phenylalanine / proline / sodium acetate / sodium chloride / threonine / tryptophan / ... injection', 'biotin / calcium chloride / calcium citrate / caseins / cholecalciferol / copper sulfate / ferrous gluconate / folic acid / magnesium chloride / maltodextrin / manganese sulfate / niacinamide / palm oil / pantothenic acid / ... oral solution', 'glucose / magnesium chloride / potassium chloride / sodium acetate trihydrate / sodium chloride / sodium gluconate injection', 'canada goldenrod pollen extract / cinchona officinalis bark extract / greater celandine / hydrastis canadensis whole preparation / magnesium chloride / milk thistle extract / taraxacum officinale leaf extract oral solution', 'alfalfa preparation / beets preparation / calendula officinalis extract / cobalt / copper / cupric acetate / echinacea angustifolia extract / elymus repens whole extract / greater celandine / iridium / larix decidua whole extract / ... oral solution', 'magnesium chloride oral solution', 'all-trans-retinol / alpha tocopherol / ascorbic acid / beta carotene / biotin / calcium carbonate / choline / chromium citrate / folic acid / inositol / iodine / magnesium chloride / manganese citrate / niacin / pantothenate / ... oral tablet', 'acetylcysteine / alanine / ammonium chloride / arginine / calcium chloride / citric acid / glutamate / glycine / histidine / isoleucine / leucine / magnesium chloride / n-acetyltyrosine / phenylalanine / potassium chloride / ... injectable solution', 'acetylcysteine / alanine / ammonium chloride / arginine / aspartic acid / calcium chloride / glucose / glutamate / glycine / histidine / isoleucine / leucine / lysine / magnesium chloride / malic acid / n-acetyltyrosine / ... injectable solution', 'dibasic potassium phosphate / glucose / lactate / magnesium chloride / potassium chloride / sodium chloride / sodium phosphate, monobasic injectable solution'], parent_term=drug\n",
      "entity=magnesium sulfate; systemic (magnesium), synonyms=['calcium ascorbate / magnesium sulfate / potassium sulfate oral capsule', 'ascorbic acid / beta carotene / biotin / ferrous sulfate / folic acid / magnesium sulfate / niacinamide / pantothenate / pyridoxine / thiamine / vitamin b 12 / vitamin e disintegrating oral tablet', 'aesculus hippocastanum bark extract / calcium fluoride / carnation oil / eucalyptus oil / krameria lappacea root extract / lavender oil / magnesium sulfate / myrrh extract / peppermint preparation / sage oil / silver nitrate oral solution', 'magnesium sulfate injectable solution', 'berberis vulgaris root extract / berberis vulgaris whole extract / bos taurus prostate gland preparation / granite / magnesium sulfate / oxalis montana leaf extract / urtica urens leaf extract / viscum album preparation injectable solution', 'magnesium sulfate / potassium sulfate / sodium sulfate oral powder', 'alanine / arginine / calcium chloride / fish oils / glucose / glyceryl phosphate / glycine / histidine / isoleucine / leucine / lysine / magnesium sulfate / medium chain triglycerides / methionine / olive oil / phenylalanine / ... injectable suspension', 'magnesium sulfate inhalant solution', 'magnesium sulfate / potassium bicarbonate / sodium bicarbonate oral solution', 'magnesium sulfate oral lozenge'], parent_term=drug\n",
      "entity=magnesium sulfate; systemic (magnesium), synonyms=['calcium ascorbate / magnesium sulfate / potassium sulfate oral capsule', 'ascorbic acid / beta carotene / biotin / ferrous sulfate / folic acid / magnesium sulfate / niacinamide / pantothenate / pyridoxine / thiamine / vitamin b 12 / vitamin e disintegrating oral tablet', 'aesculus hippocastanum bark extract / calcium fluoride / carnation oil / eucalyptus oil / krameria lappacea root extract / lavender oil / magnesium sulfate / myrrh extract / peppermint preparation / sage oil / silver nitrate oral solution', 'magnesium sulfate injectable solution', 'berberis vulgaris root extract / berberis vulgaris whole extract / bos taurus prostate gland preparation / granite / magnesium sulfate / oxalis montana leaf extract / urtica urens leaf extract / viscum album preparation injectable solution', 'magnesium sulfate / potassium sulfate / sodium sulfate oral powder', 'alanine / arginine / calcium chloride / fish oils / glucose / glyceryl phosphate / glycine / histidine / isoleucine / leucine / lysine / magnesium sulfate / medium chain triglycerides / methionine / olive oil / phenylalanine / ... injectable suspension', 'magnesium sulfate inhalant solution', 'magnesium sulfate / potassium bicarbonate / sodium bicarbonate oral solution', 'magnesium sulfate oral lozenge'], parent_term=drug\n",
      "entity=magnesium gluconate; oral, synonyms=['alpha tocopherol / ascorbic acid / biotin / calcium amino acid chelate / choline / chromium, chelated / copper / ergocalciferol / folic acid / inositol / iodine / iron succinyl milk protein complex / magnesium gluconate / manganese / ... oral tablet', 'magnesium gluconate sublingual tablet', 'magnesium gluconate powder for oral solution', 'alginic acid / magnesium gluconate oral suspension', 'magnesium gluconate / potassium chloride oral tablet', 'ascorbic acid / biotin / calcium / calcium carbonate / ferrous fumarate / folic acid / magnesium gluconate / magnesium oxide / manganese sulfate / niacinamide / potassium iodide / riboflavin / thiamine / vitamin a / vitamin b 12 / ... oral tablet', 'magnesium gluconate oral tablet', 'aluminum hydroxide / magnesium carbonate / magnesium gluconate / potassium bicarbonate chewable tablet', 'calcium gluconate / inositol / magnesium gluconate / niacinamide / pantothenic acid oral tablet', 'magnesium gluconate oral capsule'], parent_term=drug\n"
     ]
    },
    {
     "name": "stderr",
     "output_type": "stream",
     "text": []
    },
    {
     "name": "stdout",
     "output_type": "stream",
     "text": [
      "entity=magnesium citrate; oral (magnesium), synonyms=['magnesium citrate 2 g oral product', 'magnesium citrate / magnesium phosphate oral lozenge', 'calcium / calcium ascorbate / magnesium citrate / manganese citrate / silicon dioxide / vanadium / zinc citrate oral capsule', 'magnesium citrate / zinc sulfate oral capsule', 'ascorbic acid / beta carotene / biotin / calcium carbonate / choline / chromium citrate / copper gluconate / ferrous succinate / folic acid / inositol / iodine / magnesium citrate / manganese citrate / niacin / niacinamide / ... oral tablet', 'ascorbic acid / beta carotene / biotin / calcium citrate / choline / folic acid / inositol / magnesium citrate / methionine / niacinamide / pantothenic acid / pyridoxine / riboflavin / sulfur / thiamine / ... oral capsule', 'glutamate / magnesium citrate oral tablet', 'alpha tocopherol / ascorbic acid / beta carotene / biotin / calcium citrate / choline / chromium citrate / copper / ferric ammonium citrate / folic acid / magnesium citrate / manganese citrate / molybdenum / niacin / pantothenic acid / ... oral powder', 'ascorbic acid / magnesium citrate / potassium chloride / pyridoxine / vitamin a oral tablet', 'alpha tocopherol / ascorbic acid / beta carotene / biotin / calcium ascorbate / calcium citrate / choline / chromium, chelated / folic acid / inositol / magnesium citrate / manganese citrate / methionine / niacin / niacinamide / ... oral tablet'], parent_term=drug\n",
      "entity=magnesium citrate; oral (magnesium), synonyms=['magnesium citrate 2 g oral product', 'magnesium citrate / magnesium phosphate oral lozenge', 'calcium / calcium ascorbate / magnesium citrate / manganese citrate / silicon dioxide / vanadium / zinc citrate oral capsule', 'magnesium citrate / zinc sulfate oral capsule', 'ascorbic acid / beta carotene / biotin / calcium carbonate / choline / chromium citrate / copper gluconate / ferrous succinate / folic acid / inositol / iodine / magnesium citrate / manganese citrate / niacin / niacinamide / ... oral tablet', 'ascorbic acid / beta carotene / biotin / calcium citrate / choline / folic acid / inositol / magnesium citrate / methionine / niacinamide / pantothenic acid / pyridoxine / riboflavin / sulfur / thiamine / ... oral capsule', 'glutamate / magnesium citrate oral tablet', 'alpha tocopherol / ascorbic acid / beta carotene / biotin / calcium citrate / choline / chromium citrate / copper / ferric ammonium citrate / folic acid / magnesium citrate / manganese citrate / molybdenum / niacin / pantothenic acid / ... oral powder', 'ascorbic acid / magnesium citrate / potassium chloride / pyridoxine / vitamin a oral tablet', 'alpha tocopherol / ascorbic acid / beta carotene / biotin / calcium ascorbate / calcium citrate / choline / chromium, chelated / folic acid / inositol / magnesium citrate / manganese citrate / methionine / niacin / niacinamide / ... oral tablet'], parent_term=drug\n",
      "entity=magnesium aspartate; systemic, synonyms=['magnesium aspartate disintegrating oral tablet', 'leucine / lysine / magnesium aspartate / phenylalanine / valine granules for oral solution', 'magnesium aspartate effervescent oral tablet', 'magnesium aspartate oral solution', 'magnesium aspartate oral tablet', 'magnesium aspartate inhalation powder', 'magnesium aspartate', 'magnesium aspartate oral capsule', '(2-aminoethyl) dihydrogen phosphate monosodium / chromium aspartate / cobalt (ii) -hydrogen-dl-aspartate / copper (ii) -hydrogen-dl-aspartate / dexpanthenol / ferrous aspartate / magnesium aspartate / manganese aspartate / ... injection', 'hawthorn preparation / magnesium aspartate / potassium aspartate delayed release oral tablet'], parent_term=drug\n",
      "entity=magnesium lactate; systemic, synonyms=['magnesium lactate oral capsule', 'magnesium lactate oral tablet', 'magnesium lactate / vitamin b6 oral tablet', 'magnesium lactate extended release oral tablet', 'magnesium lactate / pyridoxine oral tablet', 'magnesium lactate / pyridoxine delayed release oral tablet', 'calcium gluceptate / glucose / magnesium lactate / potassium chloride / sodium acetate trihydrate / sodium chloride / sodium sulfate prefilled syringe', 'magnesium lactate oral solution', 'magnesium lactate'], parent_term=drug\n",
      "entity=magnesium pidolate; systemic, synonyms=None, parent_term=drug\n"
     ]
    },
    {
     "name": "stderr",
     "output_type": "stream",
     "text": []
    },
    {
     "name": "stdout",
     "output_type": "stream",
     "text": [
      "entity=magnesium orotate; oral, synonyms=None, parent_term=drug\n",
      "entity=magnesium oxide; systemic (magnesium), synonyms=['ascorbic acid / beta carotene / biotin / calcium carbonate / chromium, chelated / copper / folic acid / iodine / magnesium oxide / manganese / molybdenum / niacinamide / pantothenate / potassium citrate / pyridoxine / riboflavin / ... oral tablet', 'ascorbic acid / beta carotene / biotin / calcium carbonate / copper sulfate / folic acid / magnesium oxide / niacinamide / pantothenate / potassium iodide / pyridoxine / riboflavin / thiamine / vitamin a / vitamin b 12 / vitamin d / ... oral tablet', 'ascorbic acid / biotin / calcium / chromic chloride / cupric oxide / ferrous fumarate / folic acid / magnesium oxide / manganese sulfate / niacinamide / pantothenate / phosphorus / potassium chloride / potassium iodide / pyridoxine / ... oral tablet', 'acetaminophen / calcium carbonate / magnesium carbonate / magnesium oxide oral tablet', 'calcium / ferrous fumarate / magnesium oxide / vitamin d3 / zinc gluconate oral tablet', 'ascorbic acid / biotin / calcium carbonate / choline / copper gluconate / folic acid / inositol / iodine / iron / magnesium oxide / methionine / niacin / niacinamide / pantothenate / pyridoxine / riboflavin / selenium / thiamine / ... oral tablet', 'ascorbic acid / biotin / calcium / chromic chloride / cupric oxide / folic acid / magnesium oxide / manganese sulfate / metavanadate / niacinamide / nickel sulfate / pantothenate / phosphorus / potassium chloride / potassium iodide / ... oral tablet', 'aluminum hydroxide / isopropamide / magnesium oxide / magnesium silicate oral granules', 'calcium carbonate / ferrous fumarate / magnesium oxide / vitamin d oral tablet', 'ascorbic acid / biotin / calcium / copper gluconate / ferrous fumarate / iodine / magnesium oxide / niacin / niacinamide / pantothenate / phosphorus / pyridoxine / riboflavin / thiamine / tocopheryl acid succinate,d-alpha / vitamin a / ... oral tablet'], parent_term=drug\n",
      "entity=magnesium oxide; systemic (magnesium), synonyms=['ascorbic acid / beta carotene / biotin / calcium carbonate / chromium, chelated / copper / folic acid / iodine / magnesium oxide / manganese / molybdenum / niacinamide / pantothenate / potassium citrate / pyridoxine / riboflavin / ... oral tablet', 'ascorbic acid / beta carotene / biotin / calcium carbonate / copper sulfate / folic acid / magnesium oxide / niacinamide / pantothenate / potassium iodide / pyridoxine / riboflavin / thiamine / vitamin a / vitamin b 12 / vitamin d / ... oral tablet', 'ascorbic acid / biotin / calcium / chromic chloride / cupric oxide / ferrous fumarate / folic acid / magnesium oxide / manganese sulfate / niacinamide / pantothenate / phosphorus / potassium chloride / potassium iodide / pyridoxine / ... oral tablet', 'acetaminophen / calcium carbonate / magnesium carbonate / magnesium oxide oral tablet', 'calcium / ferrous fumarate / magnesium oxide / vitamin d3 / zinc gluconate oral tablet', 'ascorbic acid / biotin / calcium carbonate / choline / copper gluconate / folic acid / inositol / iodine / iron / magnesium oxide / methionine / niacin / niacinamide / pantothenate / pyridoxine / riboflavin / selenium / thiamine / ... oral tablet', 'ascorbic acid / biotin / calcium / chromic chloride / cupric oxide / folic acid / magnesium oxide / manganese sulfate / metavanadate / niacinamide / nickel sulfate / pantothenate / phosphorus / potassium chloride / potassium iodide / ... oral tablet', 'aluminum hydroxide / isopropamide / magnesium oxide / magnesium silicate oral granules', 'calcium carbonate / ferrous fumarate / magnesium oxide / vitamin d oral tablet', 'ascorbic acid / biotin / calcium / copper gluconate / ferrous fumarate / iodine / magnesium oxide / niacin / niacinamide / pantothenate / phosphorus / pyridoxine / riboflavin / thiamine / tocopheryl acid succinate,d-alpha / vitamin a / ... oral tablet'], parent_term=drug\n",
      "entity=magnesium (different salts in combination), synonyms=None, parent_term=drug\n",
      "entity=sodium fluoride; oral (fluoride), synonyms=['domiphen / sodium chloride / sodium fluoride toothpaste', 'monofluorophosphate / sodium fluoride oral gel', 'hydrofluoric acid / sodium fluoride oral gel', 'sodium fluoride oral gel', 'carbamide peroxide / sodium fluoride oral gel', 'calcium carbonate / sodium fluoride oral tablet', 'calcium fluoride / sodium fluoride oral suspension', 'sodium fluoride oral solution', 'sodium fluoride / xylitol mouthwash', 'ascorbic acid / folic acid / niacinamide / riboflavin / sodium fluoride / thiamine / vitamin a / vitamin b 12 / vitamin b6 / vitamin d / vitamin e oral tablet'], parent_term=drug\n",
      "entity=sodium monofluorophosphate; oral (fluoride), synonyms=['monofluorophosphate / sodium fluoride oral gel', 'calcium carbonate / monofluorophosphate oral tablet', 'conium maculatum preparation / crataegus laevigata fruit / cytisus scoparius flower extract / fluorine / galium aparine extract / hedera helix flowering twig extract / humulus lupulus whole extract / magnesium oral solution', 'fluorine oral solution', 'monofluorophosphate oral suspension', 'fluorine / iodine / manganese / sulfur / virola sebifera resin oral tablet', 'monofluorophosphate extended release oral tablet', 'benzocaine / fluorine / guaiazulene / polidocanol oral ointment', 'calcium / ferrous cation / fluorine / magnesium / potassium / silicon dioxide / sodium oral tablet', 'calcium / ferrous cation / fluorine / salicylic acid / silicon dioxide / zinc oxide oral tablet'], parent_term=drug\n"
     ]
    },
    {
     "name": "stderr",
     "output_type": "stream",
     "text": []
    },
    {
     "name": "stdout",
     "output_type": "stream",
     "text": [
      "entity=fluoride, combinations; systemic, synonyms=None, parent_term=drug\n",
      "entity=sodium selenate; oral, synonyms=['ascorbic acid / beta carotene / chromic chloride / cupric oxide / folic acid / magnesium oxide / manganese sulfate / niacinamide / pantothenate / potassium chloride / potassium iodide / pyridoxine / riboflavin / sodium molybdate(vi) / ... oral tablet', 'ascorbic acid / biotin / calcium / chromic chloride / cupric oxide / folic acid / magnesium oxide / manganese sulfate / metavanadate / niacinamide / nickel sulfate / pantothenate / phosphorus / potassium chloride / potassium iodide / ... oral tablet', 'alpha tocopherol / ascorbic acid / beta carotene / calcium / choline / chromic chloride / copper sulfate / ferrous fumarate / folic acid / inositol / magnesium oxide / manganese sulfate / methionine / molybdenum / niacinamide / ... oral tablet', 'ascorbic acid / beta carotene / cupric oxide / sodium selenate / vitamin e / zinc oxide oral tablet', 'ascorbic acid / sodium selenate / vitamin e oral tablet', 'ascorbic acid / beta carotene / calcium / cupric oxide / manganese sulfate / sodium selenate / vitamin e / zinc oxide oral tablet', 'alpha tocopherol / ascorbic acid / beta carotene / sodium selenate oral capsule', 'sodium selenate', 'sodium selenate 0.2 mg oral product', 'ascorbic acid / beta carotene / biotin / calcium / chromic chloride / cupric oxide / ferrous fumarate / folic acid / magnesium oxide / manganese sulfate / metavanadate / niacinamide / nickel sulfate / pantothenic acid / phosphorus / ... oral tablet'], parent_term=drug\n",
      "entity=sodium selenate; oral, synonyms=['ascorbic acid / beta carotene / chromic chloride / cupric oxide / folic acid / magnesium oxide / manganese sulfate / niacinamide / pantothenate / potassium chloride / potassium iodide / pyridoxine / riboflavin / sodium molybdate(vi) / ... oral tablet', 'ascorbic acid / biotin / calcium / chromic chloride / cupric oxide / folic acid / magnesium oxide / manganese sulfate / metavanadate / niacinamide / nickel sulfate / pantothenate / phosphorus / potassium chloride / potassium iodide / ... oral tablet', 'alpha tocopherol / ascorbic acid / beta carotene / calcium / choline / chromic chloride / copper sulfate / ferrous fumarate / folic acid / inositol / magnesium oxide / manganese sulfate / methionine / molybdenum / niacinamide / ... oral tablet', 'ascorbic acid / beta carotene / cupric oxide / sodium selenate / vitamin e / zinc oxide oral tablet', 'ascorbic acid / sodium selenate / vitamin e oral tablet', 'ascorbic acid / beta carotene / calcium / cupric oxide / manganese sulfate / sodium selenate / vitamin e / zinc oxide oral tablet', 'alpha tocopherol / ascorbic acid / beta carotene / sodium selenate oral capsule', 'sodium selenate', 'sodium selenate 0.2 mg oral product', 'ascorbic acid / beta carotene / biotin / calcium / chromic chloride / cupric oxide / ferrous fumarate / folic acid / magnesium oxide / manganese sulfate / metavanadate / niacinamide / nickel sulfate / pantothenic acid / phosphorus / ... oral tablet'], parent_term=drug\n",
      "entity=sodium selenite; systemic, synonyms=['calcium carbonate / choline / chromic chloride / copper sulfate / inositol / iodine / magnesium oxide / manganese sulfate / potassium chloride / selenite / sodium molybdate(vi) / vanadium / vitamin d / zinc sulfate oral tablet', 'sodium selenite 0.2 mg parenteral product | sodium selenite 0.2 mg oral product', 'ascorbic acid / beta carotene / biotin / calcium / chromium, chelated / copper / ferrous gluconate / folic acid / magnesium / manganese citrate / molybdenum / niacinamide / pantothenate / potassium chloride / potassium iodide / ... oral capsule', 'chromic chloride / copper chloride / ferrous chloride / manganese chloride / potassium iodide / selenite / sodium fluoride / sodium molybdate(vi) / zinc chloride injectable solution', 'selenite injectable solution', 'chromic chloride / copper chloride / ferrous chloride / manganese chloride / potassium iodide / selenite / sodium fluoride / sodium phosphate / zinc chloride injection', 'ascorbic acid / beta carotene / biotin / chromic chloride / folic acid / magnesium oxide / manganese sulfate / methionine / molybdenum aspartate / niacin / niacinamide / pantothenate / potassium citrate / potassium iodide / pyridoxine / ... oral tablet', 'calcium phosphate / chromic chloride / magnesium oxide / manganese sulfate / selenite / silicon dioxide / sodium molybdate(vi) / vitamin d3 / zinc sulfate oral solution', 'ascorbic acid / selenite / vitamin b 12 / zinc gluconate oral solution', 'alpha tocopherol / calcium / chromium gluconate / copper sulfate / ferrous sulfate / iodine / magnesium oxide / manganese sulfate / potassium sulfate / selenite / sodium molybdate(vi) / vitamin b6 / zinc sulfate oral capsule'], parent_term=drug\n",
      "entity=sodium selenite; systemic, synonyms=['calcium carbonate / choline / chromic chloride / copper sulfate / inositol / iodine / magnesium oxide / manganese sulfate / potassium chloride / selenite / sodium molybdate(vi) / vanadium / vitamin d / zinc sulfate oral tablet', 'sodium selenite 0.2 mg parenteral product | sodium selenite 0.2 mg oral product', 'ascorbic acid / beta carotene / biotin / calcium / chromium, chelated / copper / ferrous gluconate / folic acid / magnesium / manganese citrate / molybdenum / niacinamide / pantothenate / potassium chloride / potassium iodide / ... oral capsule', 'chromic chloride / copper chloride / ferrous chloride / manganese chloride / potassium iodide / selenite / sodium fluoride / sodium molybdate(vi) / zinc chloride injectable solution', 'selenite injectable solution', 'chromic chloride / copper chloride / ferrous chloride / manganese chloride / potassium iodide / selenite / sodium fluoride / sodium phosphate / zinc chloride injection', 'ascorbic acid / beta carotene / biotin / chromic chloride / folic acid / magnesium oxide / manganese sulfate / methionine / molybdenum aspartate / niacin / niacinamide / pantothenate / potassium citrate / potassium iodide / pyridoxine / ... oral tablet', 'calcium phosphate / chromic chloride / magnesium oxide / manganese sulfate / selenite / silicon dioxide / sodium molybdate(vi) / vitamin d3 / zinc sulfate oral solution', 'ascorbic acid / selenite / vitamin b 12 / zinc gluconate oral solution', 'alpha tocopherol / calcium / chromium gluconate / copper sulfate / ferrous sulfate / iodine / magnesium oxide / manganese sulfate / potassium sulfate / selenite / sodium molybdate(vi) / vitamin b6 / zinc sulfate oral capsule'], parent_term=drug\n"
     ]
    },
    {
     "name": "stderr",
     "output_type": "stream",
     "text": []
    },
    {
     "name": "stdout",
     "output_type": "stream",
     "text": [
      "entity=other mineral products, synonyms=None, parent_term=drug\n",
      "entity=anabolic agents for systemic use, synonyms=None, parent_term=drug\n",
      "entity=anabolic steroids, synonyms=None, parent_term=drug\n",
      "entity=androstan derivatives, synonyms=None, parent_term=drug\n",
      "entity=androstanolone; systemic (androstan derivatives), synonyms=None, parent_term=drug\n",
      "entity=stanozolol; systemic, synonyms=None, parent_term=drug\n",
      "entity=metandienone; oral, synonyms=None, parent_term=drug\n",
      "entity=metenolone; systemic, synonyms=None, parent_term=drug\n",
      "entity=oxymetholone; oral, synonyms=None, parent_term=drug\n",
      "entity=quinbolone; systemic, synonyms=None, parent_term=drug\n",
      "entity=prasterone; systemic, synonyms=None, parent_term=drug\n",
      "entity=oxandrolone; systemic, synonyms=None, parent_term=drug\n",
      "entity=norethandrolone; systemic, synonyms=None, parent_term=drug\n",
      "entity=nandrolone; parenteral, synonyms=None, parent_term=drug\n",
      "entity=ethylestrenol; oral, synonyms=None, parent_term=drug\n"
     ]
    },
    {
     "name": "stderr",
     "output_type": "stream",
     "text": [
      "Embedding Documents: 100%|██████████| 64/64 [00:01<00:00, 32.97doc/s]"
     ]
    },
    {
     "name": "stdout",
     "output_type": "stream",
     "text": [
      "entity=oxabolone cipionate; systemic, synonyms=None, parent_term=drug\n",
      "entity=other anabolic agents, synonyms=None, parent_term=drug\n",
      "entity=appetite stimulants, synonyms=['drugs stimulating appetite', 'alimentary tract and metabolism', 'stimulant appetite', 'appetite stimulant', 'appetite drug stimulating'], parent_term=drug\n",
      "entity=amino acids and derivatives, synonyms=None, parent_term=drug\n",
      "entity=levocarnitine; systemic, synonyms=None, parent_term=drug\n",
      "entity=ademetionine; systemic, synonyms=None, parent_term=drug\n",
      "entity=glutamine; systemic, synonyms=['glutamine / serine / vitamin b 12 extended release oral tablet', 'alanine / arginine / aspartic acid / glutamate / glutamine / histidine / isoleucine / leucine / lysine / methionine / phenylalanine / proline / serine / threonine / tryptophan / tyrosine / valine injectable solution', 'glutamine / phosphatidylserine / vitamin b 12 oral capsule', 'glutamine oral powder', 'glutamine inhalation powder', 'glutamine / tyrosine oral capsule', 'glutamine', 'acetylcysteine / alanine / arginine / calcium / glutamine / glycine / histidine / isoleucine / leucine / lysine / magnesium / methionine / phenylalanine / potassium / proline / serine / sodium / threonine / tryptophan / ... injectable solution', 'glutamine / phosphatidylserine / vitamin b 12 oral solution', 'acetylcysteine / alanine / arginine / asparagine / glutamine / glycine / histidine / isoleucine / leucine / lysine / methionine / n-acetyltyrosine / phenylalanine / proline / serine / taurine / threonine / tryptophan / valine / ... injectable solution'], parent_term=drug\n",
      "entity=mercaptamine; oral, synonyms=None, parent_term=drug\n"
     ]
    },
    {
     "name": "stderr",
     "output_type": "stream",
     "text": [
      "\n",
      "12it [00:23,  2.28s/it]2024-09-06 20:08:37,828 - rag.utils - INFO - embed documents\n"
     ]
    },
    {
     "name": "stdout",
     "output_type": "stream",
     "text": [
      "entity=carglumic acid; oral, synonyms=['carglumic acid', 'carglumic acid oral tablet', 'carglumic acid disintegrating oral tablet', 'carglumic acid tablet for oral suspension', 'amino acids and derivatives', 'carglumic acid 0.2 g oral product'], parent_term=drug\n",
      "entity=betaine; oral, synonyms=['ammonium chloride / betaine / pancreatin / pepsin a oral tablet', 'ascorbic acid / betaine / ferrous fumarate / folic acid / niacinamide / pantothenate / riboflavin / thiamine / tocopheryl acid succinate,d-alpha / vitamin b 12 / vitamin b6 oral tablet', 'betaine / pepsin a oral capsule', 'ammonium chloride / betaine / pepsin a oral tablet', 'amylases / betaine / bromelains / lipase oral tablet', 'amylases / betaine / bromelains / cellulase / endopeptidases / lactase / lipase / papain oral tablet', 'betaine 6 g oral product', 'betaine / folic acid / mecobalamin / pyridoxine oral capsule', 'betaine / bromelains / pancreatin / papain oral tablet', 'betaine / pancreatin / papain / peppermint preparation / pepsin a oral tablet'], parent_term=drug\n",
      "entity=metreleptin; oral, synonyms=None, parent_term=drug\n",
      "entity=alglucerase; parenteral, synonyms=None, parent_term=drug\n",
      "entity=imiglucerase; parenteral, synonyms=None, parent_term=drug\n",
      "entity=agalsidase alfa; parenteral, synonyms=None, parent_term=drug\n",
      "entity=agalsidase beta; parenteral, synonyms=None, parent_term=drug\n",
      "entity=laronidase; parenteral, synonyms=None, parent_term=drug\n"
     ]
    },
    {
     "name": "stderr",
     "output_type": "stream",
     "text": []
    },
    {
     "name": "stdout",
     "output_type": "stream",
     "text": [
      "entity=sacrosidase; oral, synonyms=None, parent_term=drug\n",
      "entity=alglucosidase alfa; parenteral, synonyms=['alglucosidase alfa injectable solution', 'alglucosidase alfa injection', 'alglucosidase alfa intravenous solution', 'alglucosidase alfa 0.1 g parenteral product', 'alglucosidase alfa prefilled syringe', 'enzymes', 'alglucosidase alfa injectable suspension', 'alglucosidase alfa'], parent_term=drug\n",
      "entity=galsulfase; parenteral, synonyms=None, parent_term=drug\n",
      "entity=idursulfase; parenteral, synonyms=None, parent_term=drug\n",
      "entity=velaglucerase alfa; parenteral, synonyms=['velaglucerase alfa', 'velaglucerase alfa 300 u parenteral product', 'velaglucerase alfa prefilled syringe', 'velaglucerase alfa intravenous solution', 'velaglucerase alfa injectable suspension', 'velaglucerase alfa injection', 'velaglucerase alfa injectable solution', 'enzymes'], parent_term=drug\n",
      "entity=taliglucerase alfa; parenteral, synonyms=None, parent_term=drug\n",
      "entity=elosulfase alfa; parenteral, synonyms=None, parent_term=drug\n",
      "entity=asfotase alfa; parenteral, synonyms=None, parent_term=drug\n",
      "entity=sebelipase alfa; parenteral, synonyms=None, parent_term=drug\n",
      "entity=velmanase alfa; parenteral, synonyms=None, parent_term=drug\n"
     ]
    },
    {
     "name": "stderr",
     "output_type": "stream",
     "text": []
    },
    {
     "name": "stdout",
     "output_type": "stream",
     "text": [
      "entity=idursulfase beta; parenteral, synonyms=None, parent_term=drug\n",
      "entity=cerliponase alfa; systemic, synonyms=None, parent_term=drug\n",
      "entity=vestronidase alfa; parenteral, synonyms=None, parent_term=drug\n",
      "entity=pegvaliase; parenteral, synonyms=None, parent_term=drug\n",
      "entity=pegunigalsidase alfa; systemic, synonyms=None, parent_term=drug\n",
      "entity=various alimentary tract and metabolism products, synonyms=None, parent_term=drug\n",
      "entity=thioctic acid; systemic, synonyms=['rutin / thiamine / thioctate oral capsule', 'sodium / thioctate injectable solution', 'thiamine / thioctate oral tablet', 'chromium / thioctate oral capsule', 'aconitum napellus extract / adenosine triphosphate / ascorbic acid / barium / beta vulgaris extract / cerium / citric acid / coenzyme a / cysteine / flavin-adenine dinucleotide / fumarate / magnesium / malic acid / manganese / ... injectable solution', 'pantothenic acid / thiamine / thioctate oral tablet', 'thioctic acid 0.6 g parenteral product | thioctic acid 0.6 g oral product', 'thioctate oral granules', 'alpha-ketoglutaric acid / bile salts / calcium / chelidonium majus extract / cholesterol / cinchona bark extract / cynara scolymus leaf extract / fumarate / histamine / lycopodium clavatum whole extract / malic acid / ... injectable solution', 'thioctate oral tablet'], parent_term=drug\n",
      "entity=anethole trithione; oral, synonyms=None, parent_term=drug\n",
      "entity=sodium phenylbutyrate; oral, synonyms=['phenyl butyrate oral tablet', 'phenyl butyrate', 'sodium phenylbutyrate 20 g oral product', 'phenyl butyrate oral granules', 'phenylbutyrate', 'phenylbutyrate oral capsule', 'phenylbutyrate oral granules', 'phenylbutyrate oral suspension', 'phenylbutyrate oral solution', 'phenylbutyrate oral powder'], parent_term=drug\n",
      "entity=nitisinone; oral, synonyms=None, parent_term=drug\n",
      "entity=zinc acetate; oral, synonyms=['citrus aurantium leafy twig oil / copper gluconate / dl-lactic acid / ferric cation / fructose / fucus vesiculosus extract / magnesium / manganese / prunus armeniaca leaf extract / prunus spinosa fruit extract / ... oral solution', 'zinc acetate oral capsule', 'zinc acetate', 'anacardium occidentale fruit extract / anamirta cocculus whole extract / calcium / cinchona bark extract / conium maculatum preparation / ginseng preparation / matricaria chamomilla flowering top oil / phosphoric acid / picrate / ... oral solution', 'alpha tocopherol / ascorbic acid / beta carotene / selenium dioxide / zinc acetate oral capsule', 'sweetleaf preparation / zinc acetate oral lozenge', 'copper carbonate / zinc acetate oral tablet', 'cobalt / nickel / zinc acetate oral tablet', 'zinc acetate oral tablet', 'bismuth subcarbonate / eugenol / polystyrene sulfonate / zinc acetate / zinc oxide oral solution'], parent_term=drug\n"
     ]
    },
    {
     "name": "stderr",
     "output_type": "stream",
     "text": []
    },
    {
     "name": "stdout",
     "output_type": "stream",
     "text": [
      "entity=miglustat; oral, synonyms=None, parent_term=drug\n",
      "entity=sapropterin; oral, synonyms=None, parent_term=drug\n",
      "entity=teduglutide; parenteral, synonyms=None, parent_term=drug\n",
      "entity=glycerol phenylbutyrate; oral, synonyms=None, parent_term=drug\n",
      "entity=eliglustat; oral, synonyms=None, parent_term=drug\n",
      "entity=sodium benzoate; systemic, synonyms=['benzoate oral granules', 'ammonium / benzoate / codeine / foeniculum vulgare whole extract / guaiacum officinale resin / guaifenesin / menthol / pimpinella anisum extract / primula veris flower extract / thymus vulgaris whole extract oral solution', 'apis mellifera ven protein / apocynum androsaemifolium root extract / arctostaphylos uva-ursi leaf extract / barberry extract / benzoate / canada goldenrod pollen extract / lycopodium clavatum preparation / potassium carbonate / ... oral solution', 'atropa belladonna fruiting top extract / benzoate / berberis vulgaris whole extract / caulophyllum thalictroides root extract / iron / juniperus communis whole extract / lithium / salicylic acid / sodium / ... oral solution', 'benzoate / berberis vulgaris whole extract / eupatorium perfoliatum preparation / guaiacum officinale resin / potassium / rhododendron aureum leaf extract / toxicodendron pubescens leaf extract oral solution', 'benzoate / phosphoric acid / potassium / procaine injectable solution', 'benzenesulfonic acid / benzoate / castanea sative leaf extract / codeine / ephedrine / plantago seed / thymus vulgaris whole extract oral solution', 'benzoate / caffeine oral solution', 'ammonium / benzoate / codeine / glycyrrhiza glabra extract / guaifenesin / hedera helix flowering twig extract oral solution', 'atropa belladonna fruiting top extract / benzoate / caulophyllum thalictroides root extract / colchicum autumnale whole extract / juniperus sabina leaf / ledum palustre twig extract / panax quinquefolius whole extract / ... oral solution'], parent_term=drug\n",
      "entity=sodium benzoate; systemic, synonyms=['benzoate oral granules', 'ammonium / benzoate / codeine / foeniculum vulgare whole extract / guaiacum officinale resin / guaifenesin / menthol / pimpinella anisum extract / primula veris flower extract / thymus vulgaris whole extract oral solution', 'apis mellifera ven protein / apocynum androsaemifolium root extract / arctostaphylos uva-ursi leaf extract / barberry extract / benzoate / canada goldenrod pollen extract / lycopodium clavatum preparation / potassium carbonate / ... oral solution', 'atropa belladonna fruiting top extract / benzoate / berberis vulgaris whole extract / caulophyllum thalictroides root extract / iron / juniperus communis whole extract / lithium / salicylic acid / sodium / ... oral solution', 'benzoate / berberis vulgaris whole extract / eupatorium perfoliatum preparation / guaiacum officinale resin / potassium / rhododendron aureum leaf extract / toxicodendron pubescens leaf extract oral solution', 'benzoate / phosphoric acid / potassium / procaine injectable solution', 'benzenesulfonic acid / benzoate / castanea sative leaf extract / codeine / ephedrine / plantago seed / thymus vulgaris whole extract oral solution', 'benzoate / caffeine oral solution', 'ammonium / benzoate / codeine / glycyrrhiza glabra extract / guaifenesin / hedera helix flowering twig extract oral solution', 'atropa belladonna fruiting top extract / benzoate / caulophyllum thalictroides root extract / colchicum autumnale whole extract / juniperus sabina leaf / ledum palustre twig extract / panax quinquefolius whole extract / ... oral solution'], parent_term=drug\n",
      "entity=trientine; oral, synonyms=None, parent_term=drug\n",
      "entity=uridine triacetate; oral, synonyms=None, parent_term=drug\n",
      "entity=migalastat; oral, synonyms=None, parent_term=drug\n",
      "entity=telotristat; oral, synonyms=None, parent_term=drug\n"
     ]
    },
    {
     "name": "stderr",
     "output_type": "stream",
     "text": []
    },
    {
     "name": "stdout",
     "output_type": "stream",
     "text": [
      "entity=givosiran; parenteral, synonyms=None, parent_term=drug\n",
      "entity=triheptanoin; oral, synonyms=None, parent_term=drug\n",
      "entity=lumasiran; parenteral, synonyms=None, parent_term=drug\n",
      "entity=fosdenopterin; systemic, synonyms=None, parent_term=drug\n",
      "entity=lonafarnib; oral, synonyms=None, parent_term=drug\n",
      "entity=sodium benzoate and sodium phenylacetate; systemic, synonyms=['benzoate / phenylacetate injection', 'sodium benzoate and sodium phenylacetate', 'various alimentary tract and metabolism products', 'sodium', 'benzoate / phenylacetate oral solution', 'benzoate'], parent_term=drug\n",
      "entity=blood and blood forming organs, synonyms=None, parent_term=drug\n",
      "entity=vitamin k antagonists, synonyms=None, parent_term=drug\n",
      "entity=dicoumarol; oral, synonyms=None, parent_term=drug\n",
      "entity=phenindione; oral, synonyms=None, parent_term=drug\n",
      "entity=warfarin; systemic, synonyms=None, parent_term=drug\n",
      "entity=phenprocoumon; oral, synonyms=None, parent_term=drug\n",
      "entity=acenocoumarol; oral, synonyms=None, parent_term=drug\n"
     ]
    },
    {
     "name": "stderr",
     "output_type": "stream",
     "text": []
    },
    {
     "name": "stdout",
     "output_type": "stream",
     "text": [
      "entity=ethyl biscoumacetate; oral, synonyms=['vitamin k antagonists', 'ethyl biscoumacetate 0.6 g oral product'], parent_term=drug\n",
      "entity=clorindione; oral, synonyms=None, parent_term=drug\n",
      "entity=tioclomarol; oral, synonyms=None, parent_term=drug\n",
      "entity=fluindione; oral, synonyms=None, parent_term=drug\n",
      "entity=heparin group, synonyms=None, parent_term=drug\n",
      "entity=heparin; parenteral, synonyms=['heparin 10 tu parenteral product', 'heparin 25000 unt/ml prefilled syringe box of 2', '5 ml heparin 25000 unt/ml prefilled syringe', '0.2 ml heparin 25000 unt/ml prefilled syringe by a a h', 'heparin 25000 unt/ml prefilled syringe box of 20', '0.2 ml heparin 25000 unt/ml prefilled syringe by wockhardt', 'heparin 25000 unt/ml prefilled syringe box of 50', 'dihydroergotamine / heparin prefilled syringe', 'heparin 25000 unt/ml prefilled syringe box of 25', 'heparin / niacin / salicylic acid injectable solution'], parent_term=drug\n",
      "entity=antithrombin iii; parenteral, synonyms=['antithrombin iii injectable suspension', 'antithrombin iii', 'antithrombin iii / factor ix / factor x / prothrombin injectable solution', 'antithrombin iii / factor ix / factor x / prothrombin injection', 'antithrombin iii prefilled syringe', 'antithrombin iii 2.1 tu parenteral product', 'heparin group', 'antithrombin iii injection', 'antithrombin iii / factor ix / factor vii / factor x / protein c / prothrombin injectable solution', 'antithrombin iii injectable solution'], parent_term=drug\n",
      "entity=dalteparin; parenteral, synonyms=None, parent_term=drug\n",
      "entity=enoxaparin; parenteral, synonyms=None, parent_term=drug\n"
     ]
    },
    {
     "name": "stderr",
     "output_type": "stream",
     "text": [
      "Embedding Documents: 100%|██████████| 64/64 [00:01<00:00, 48.88doc/s]\n"
     ]
    },
    {
     "name": "stdout",
     "output_type": "stream",
     "text": [
      "entity=nadroparin; parenteral, synonyms=None, parent_term=drug\n",
      "entity=parnaparin; parenteral, synonyms=None, parent_term=drug\n"
     ]
    },
    {
     "name": "stderr",
     "output_type": "stream",
     "text": [
      "13it [00:25,  2.22s/it]2024-09-06 20:08:39,886 - rag.utils - INFO - embed documents\n"
     ]
    },
    {
     "name": "stdout",
     "output_type": "stream",
     "text": [
      "entity=reviparin; parenteral, synonyms=None, parent_term=drug\n",
      "entity=danaparoid; parenteral, synonyms=None, parent_term=drug\n",
      "entity=tinzaparin; parenteral, synonyms=None, parent_term=drug\n",
      "entity=sulodexide; systemic, synonyms=None, parent_term=drug\n",
      "entity=bemiparin; parenteral, synonyms=None, parent_term=drug\n",
      "entity=heparin, combinations; systemic, synonyms=None, parent_term=drug\n",
      "entity=platelet aggregation inhibitors excl. heparin, synonyms=None, parent_term=drug\n",
      "entity=ditazole, synonyms=None, parent_term=drug\n",
      "entity=clopidogrel; oral, synonyms=None, parent_term=drug\n",
      "entity=ticlopidine; oral, synonyms=None, parent_term=drug\n",
      "entity=acetylsalicylic acid; oral (platelet aggregation inhibitors excl. heparin), synonyms=['aspirin / chlorpheniramine / pseudoephedrine oral solution', 'aspirin / phenobarbital oral capsule', 'acetaminophen / aspirin / caffeine / lactulose / saccharomyces boulardii / tetrahydrozoline oral tablet', 'aspirin / bromhexine / codeine oral tablet', 'aspirin / isosorbide extended release oral capsule', 'aspirin / chlormezanone oral tablet', 'aspirin / omeprazole delayed release oral tablet', 'aspirin / pseudoephedrine oral solution', 'acetaminophen / aspirin / butalbital / caffeine / codeine oral tablet', 'aspirin / calcium carbonate / magnesium carbonate / magnesium oxide oral tablet'], parent_term=drug\n",
      "entity=dipyridamole; systemic, synonyms=None, parent_term=drug\n",
      "entity=carbasalate calcium; oral (platelet aggregation inhibitors excl. heparin), synonyms=['platelet aggregation inhibitors excl. heparin', 'carbasalate calcium', 'carbasalate calcium oral tablet', 'carbasalate calcium 1 tablet oral product', 'carbasalate calcium / codeine / phenacetin oral tablet'], parent_term=drug\n"
     ]
    },
    {
     "name": "stderr",
     "output_type": "stream",
     "text": []
    },
    {
     "name": "stdout",
     "output_type": "stream",
     "text": [
      "entity=epoprostenol; parenteral, synonyms=None, parent_term=drug\n",
      "entity=indobufen; oral, synonyms=None, parent_term=drug\n",
      "entity=iloprost; inhalant, parenteral, synonyms=None, parent_term=drug\n",
      "entity=abciximab; parenteral, synonyms=None, parent_term=drug\n",
      "entity=aloxiprin; systemic, synonyms=None, parent_term=drug\n",
      "entity=eptifibatide; parenteral, synonyms=None, parent_term=drug\n",
      "entity=tirofiban; parenteral, synonyms=None, parent_term=drug\n",
      "entity=triflusal; oral, synonyms=None, parent_term=drug\n",
      "entity=beraprost; oral, synonyms=None, parent_term=drug\n",
      "entity=treprostinil; parenteral, synonyms=None, parent_term=drug\n",
      "entity=prasugrel; oral, synonyms=None, parent_term=drug\n",
      "entity=cilostazol; oral, synonyms=None, parent_term=drug\n",
      "entity=ticagrelor; oral, synonyms=None, parent_term=drug\n",
      "entity=cangrelor; parenteral, synonyms=None, parent_term=drug\n",
      "entity=vorapaxar; oral, synonyms=None, parent_term=drug\n",
      "entity=selexipag; oral, synonyms=None, parent_term=drug\n"
     ]
    },
    {
     "name": "stderr",
     "output_type": "stream",
     "text": []
    },
    {
     "name": "stdout",
     "output_type": "stream",
     "text": [
      "entity=platelet aggregation inhibitors excl. heparin - combinations, synonyms=None, parent_term=drug\n",
      "entity=acetylsalicylic acid, combinations with proton pump inhibitors; systemic, synonyms=None, parent_term=drug\n",
      "entity=streptokinase; parenteral, synonyms=None, parent_term=drug\n",
      "entity=alteplase; parenteral, synonyms=None, parent_term=drug\n",
      "entity=anistreplase; parenteral, synonyms=None, parent_term=drug\n",
      "entity=urokinase; parenteral, synonyms=None, parent_term=drug\n",
      "entity=fibrinolysin; parenteral, topical, vaginal, synonyms=['ocriplasmin prefilled syringe', 'chloramphenicol / deoxyribonucleases / plasmin topical ointment', 'deoxyribonucleases / plasmin injectable solution', 'deoxyribonucleases / plasmin topical powder', 'deoxyribonucleases / plasmin topical ointment', 'factor xiii / fibrinogen concentrate (human) / plasma protein fraction / plasmafibronectin / plasmin / proteins topical solution', 'factor xiii / fibrinogen concentrate (human) / plasma protein fraction / plasmafibronectin / plasmin topical solution', 'ocriplasmin injectable solution', 'fibrinolysin', 'ocriplasmin injection'], parent_term=drug\n",
      "entity=brinase; oral, synonyms=None, parent_term=drug\n",
      "entity=reteplase; parenteral, synonyms=None, parent_term=drug\n",
      "entity=ancrod; parenteral, synonyms=None, parent_term=drug\n",
      "entity=drotrecogin alfa (activated); parenteral, synonyms=None, parent_term=drug\n",
      "entity=tenecteplase; parenteral, synonyms=None, parent_term=drug\n",
      "entity=protein c; parenteral, synonyms=['factor ix / factor vii / factor x / protein c / protein s / prothrombin injection', 'protein c injectable solution', 'factor ix / factor vii / factor x / protein c / protein s / prothrombin injectable solution', 'factor ix / factor vii / factor x / protein c / protein s / thrombin prefilled syringe', 'protein c', 'factor ix / factor vii / factor x / protein c / protein s / thrombin injectable solution', 'protein c injection', 'factor ix / factor vii / factor x / protein c / protein s / prothrombin injectable suspension', 'antithrombin iii / factor ix / factor vii / factor x / protein c / prothrombin injectable solution', 'protein c prefilled syringe'], parent_term=drug\n"
     ]
    },
    {
     "name": "stderr",
     "output_type": "stream",
     "text": []
    },
    {
     "name": "stdout",
     "output_type": "stream",
     "text": [
      "entity=direct thrombin inhibitors, synonyms=None, parent_term=drug\n",
      "entity=desirudin; parenteral, synonyms=None, parent_term=drug\n",
      "entity=lepirudin; parenteral, synonyms=None, parent_term=drug\n",
      "entity=argatroban; parenteral, synonyms=None, parent_term=drug\n",
      "entity=melagatran; parenteral, synonyms=None, parent_term=drug\n",
      "entity=ximelagatran; oral, synonyms=None, parent_term=drug\n",
      "entity=bivalirudin; parenteral, synonyms=None, parent_term=drug\n",
      "entity=dabigatran etexilate; oral, synonyms=None, parent_term=drug\n",
      "entity=direct factor xa inhibitors, synonyms=None, parent_term=drug\n",
      "entity=rivaroxaban; oral, synonyms=None, parent_term=drug\n",
      "entity=apixaban; oral, synonyms=None, parent_term=drug\n",
      "entity=edoxaban; oral, synonyms=None, parent_term=drug\n",
      "entity=betrixaban; oral, synonyms=None, parent_term=drug\n",
      "entity=other antithrombotic agents, synonyms=None, parent_term=drug\n",
      "entity=defibrotide; parenteral, synonyms=None, parent_term=drug\n",
      "entity=dermatan sulfate, synonyms=None, parent_term=drug\n"
     ]
    },
    {
     "name": "stderr",
     "output_type": "stream",
     "text": [
      "Embedding Documents: 100%|██████████| 64/64 [00:01<00:00, 57.91doc/s]"
     ]
    },
    {
     "name": "stdout",
     "output_type": "stream",
     "text": [
      "entity=fondaparinux; parenteral, synonyms=None, parent_term=drug\n",
      "entity=caplacizumab; parenteral, synonyms=None, parent_term=drug\n",
      "entity=antihemorrhagics, synonyms=['blood and blood forming organs', 'antihemorrhagic'], parent_term=drug\n",
      "entity=antifibrinolytics, synonyms=['antifibrinolytic', 'antifibrinolytic agents', 'antifibrinolytic agent', 'antihemorrhagics', 'antiplasmins'], parent_term=drug\n",
      "entity=aminocaproic acid; systemic, synonyms=['6-aminocaproic acid injection', '6-aminocaproic acid oral powder', '6-aminocaproic acid injectable solution', 'aminocaproate', '6-aminocaproic acid oral solution', '6-aminocaproic acid / thromboplastin injectable solution', '6-aminocaproic acid', 'aminocaproate oral tablet', 'aminocaproic acid', '6-aminocaproic acid oral tablet'], parent_term=drug\n",
      "entity=tranexamic acid; systemic, synonyms=['tranexamic acid oral granules', 'tranexamic acid oral tablet', 'tranexamic acid', 'tranexamic acid oral powder', 'tranexamic acid 2 g parenteral product | tranexamic acid 2 g oral product', 'protein concentrate coagulable / tranexamic acid prefilled syringe', 'tranexamic acid oral suspension', 'tranexamic acid oral capsule', 'tranexamic acid injection', 'tranexamic acid delayed release oral tablet'], parent_term=drug\n"
     ]
    },
    {
     "name": "stderr",
     "output_type": "stream",
     "text": [
      "\n",
      "14it [00:26,  2.02s/it]2024-09-06 20:08:41,451 - rag.utils - INFO - embed documents\n"
     ]
    },
    {
     "name": "stdout",
     "output_type": "stream",
     "text": [
      "entity=aminomethylbenzoic acid; oral, synonyms=['4-aminomethylbenzoic acid oral tablet', 'amino acids', '4-aminomethylbenzoic acid', 'aminomethylbenzoic acid 0.25 g oral product'], parent_term=drug\n",
      "entity=proteinase inhibitors, synonyms=None, parent_term=drug\n",
      "entity=aprotinin; parenteral, synonyms=None, parent_term=drug\n",
      "entity=alfa1 antitrypsin; parenteral, synonyms=['alpha 1-antitrypsin', 'alfa1 antitrypsin', 'proteinase inhibitors', 'alfa1 antitrypsin 0.6 g parenteral product', 'alpha 1-antitrypsin injectable suspension', 'alpha 1-antitrypsin injection', 'alpha 1-antitrypsin injectable solution', 'alpha 1-antitrypsin prefilled syringe'], parent_term=drug\n",
      "entity=camostat; oral, synonyms=None, parent_term=drug\n",
      "entity=ulinastatin; parenteral, synonyms=None, parent_term=drug\n",
      "entity=vitamin k and other hemostatics, synonyms=None, parent_term=drug\n",
      "entity=phytomenadione; systemic, synonyms=None, parent_term=drug\n",
      "entity=menadione; systemic, synonyms=['vitamin k3', 'menadione', 'vitamin k', 'vitamin k3 injectable solution', 'vitamin k3 injectable suspension', 'vitamin k3 oral tablet'], parent_term=drug\n"
     ]
    },
    {
     "name": "stderr",
     "output_type": "stream",
     "text": []
    },
    {
     "name": "stdout",
     "output_type": "stream",
     "text": [
      "entity=fibrinogen, human; parenteral, synonyms=['aprotinin / calcium chloride / factor xiii / fibrinogen / thrombin injectable solution', 'aprotinin / factor xiii / fibrinogen prefilled syringe', 'fibrinogen / thrombin injectable solution', 'aprotinin / fibrinogen prefilled syringe', 'fibrinogen prefilled syringe', 'aprotinin / calcium / factor xiii / fibrinogen / fibronectin / plasma protein fraction / plasmin / thrombin injectable solution', 'fibrinogen, human', 'fibrinogen concentrate (human) injectable solution', 'factor xiii / fibrinogen prefilled syringe', 'fibrinogen injectable solution'], parent_term=drug\n",
      "entity=local hemostatics, synonyms=None, parent_term=drug\n",
      "entity=absorbable gelatin sponge; topical, synonyms=['gelatin drug implant', 'absorbable gelatin sponge', 'gelatin medicated pad', 'carboxymethylcellulose / gelatin / pectin oral paste', 'gelatin transdermal system', 'gelatin topical powder', 'gelatin topical cream', 'carboxymethylcellulose / gelatin / pectin topical cream', 'carboxymethylcellulose / gelatin / pectin transdermal system', 'gelatin'], parent_term=drug\n",
      "entity=oxidized cellulose; topical, synonyms=None, parent_term=drug\n",
      "entity=tetragalacturonic acid hydroxymethylester; topical, synonyms=None, parent_term=drug\n",
      "entity=adrenalone; topical, synonyms=['adrenalone / tetracaine topical powder', 'local hemostatics', 'adrenalone'], parent_term=drug\n",
      "entity=thrombin; topical, synonyms=['sodium chloride / thrombin topical powder', 'calcium chloride / fibrinogen concentrate (human) / thrombin topical solution', 'fibrinogen / thrombin topical foam', 'thrombin topical spray', 'fibrinogen / thrombin topical solution', '5 ml thrombin 1000 unt/ml topical solution', 'fibrinogen concentrate (human) / thrombin drug implant', 'human clottable protein / thrombin topical solution', 'sodium chloride / thrombin topical solution', 'collagen / fibrinogen concentrate (human) / thrombin transdermal system'], parent_term=drug\n"
     ]
    },
    {
     "name": "stderr",
     "output_type": "stream",
     "text": []
    },
    {
     "name": "stdout",
     "output_type": "stream",
     "text": [
      "entity=collagen; topical, synonyms=['collagen medicated pad', 'collagen topical solution', 'collagen / gentamicin topical cream', 'collagen topical cream', 'collagen topical gel', 'collagen topical foam', 'ascorbic acid / collagen topical gel', 'carbohydrate / collagen / proteins topical powder', 'cellulose / collagen transdermal system', 'collagen / tretinoin topical cream'], parent_term=drug\n",
      "entity=calcium alginate; topical, synonyms=['local hemostatics', 'calcium alginate topical powder', 'alginic acid / calcium alginate / domiphen topical solution', 'calcium alginate topical spray', 'calcium alginate'], parent_term=drug\n",
      "entity=epinephrine; topical, synonyms=['epinephrine / lidocaine medicated patch', 'aceclidine / epinephrine prefilled applicator', 'epinephrine / glucose / lidocaine / povidone-iodine / tetracaine topical solution', 'epinephrine 0.001 mg/ml / lidocaine 0.04 mg/ml / tetracaine 0.005 mg/ml topical gel', 'epinephrine / lidocaine / tetracaine topical gel', 'epinephrine / pilocarpine / thimerosal prefilled applicator', 'epinephrine / lidocaine topical solution', 'ambroxol / epinephrine / sodium / thimerosal prefilled applicator', 'epinephrine prefilled applicator', 'epinephrine / guanethidine prefilled applicator'], parent_term=drug\n",
      "entity=combinations; topical (local hemostatics), synonyms=None, parent_term=drug\n",
      "entity=blood coagulation factors, synonyms=None, parent_term=drug\n",
      "entity=coagulation factor ix, ii, vii and x in combination; parenteral, synonyms=None, parent_term=drug\n",
      "entity=coagulation factor viii; parenteral, topical, urethral, synonyms=None, parent_term=drug\n",
      "entity=factor viii inhibitor bypassing activity; parenteral, synonyms=None, parent_term=drug\n"
     ]
    },
    {
     "name": "stderr",
     "output_type": "stream",
     "text": []
    },
    {
     "name": "stdout",
     "output_type": "stream",
     "text": [
      "entity=coagulation factor ix; parenteral, synonyms=None, parent_term=drug\n",
      "entity=coagulation factor vii; parenteral, synonyms=None, parent_term=drug\n",
      "entity=von willebrand factor and coagulation factor viii in combination; parenteral, topical, urethral, synonyms=None, parent_term=drug\n",
      "entity=coagulation factor xiii; parenteral, topical, synonyms=None, parent_term=drug\n",
      "entity=coagulation factor viia; parenteral, synonyms=None, parent_term=drug\n",
      "entity=von willebrand factor; parenteral, synonyms=None, parent_term=drug\n",
      "entity=catridecacog; parenteral, topical, synonyms=None, parent_term=drug\n",
      "entity=coagulation factor x; parenteral, synonyms=['factor x injection', 'antithrombin iii / factor ix / factor x / prothrombin injectable solution', 'factor ix / factor vii / factor x / protein c / protein s / prothrombin injectable solution', 'factor ix / factor vii / factor x / protein c / protein s / thrombin injectable solution', 'antithrombin iii / factor ix / factor vii / factor x / protein c / prothrombin injectable solution', 'coagulation factor x', 'factor x', 'factor ix / factor vii / factor x / prothrombin injectable solution', 'factor ix / factor vii / factor x / plasma protein fraction / prothrombin injectable solution', 'factor ix / factor vii / factor x / protein c / protein s / thrombin prefilled syringe'], parent_term=drug\n",
      "entity=susoctocog alfa; parenteral, topical, urethral, synonyms=None, parent_term=drug\n",
      "entity=thrombin; parenteral, topical, synonyms=['calcium chloride / thrombin prefilled syringe', 'thrombin injection', 'aprotinin / calcium chloride / factor xiii / fibrinogen / thrombin injectable solution', 'sodium chloride / thrombin topical powder', 'fibrinogen / thrombin injectable solution', 'aprotinin / calcium / factor xiii / fibrinogen / fibronectin / plasma protein fraction / plasmin / thrombin injectable solution', 'factor ix / factor vii / factor x / protein c / protein s / thrombin injectable solution', 'calcium chloride / fibrinogen concentrate (human) / thrombin topical solution', 'fibrinogen / thrombin topical foam', 'thrombin topical spray'], parent_term=drug\n"
     ]
    },
    {
     "name": "stderr",
     "output_type": "stream",
     "text": []
    },
    {
     "name": "stdout",
     "output_type": "stream",
     "text": [
      "entity=other systemic hemostatics, synonyms=None, parent_term=drug\n",
      "entity=etamsylate; systemic, synonyms=None, parent_term=drug\n",
      "entity=carbazochrome; systemic, synonyms=None, parent_term=drug\n",
      "entity=batroxobin; systemic, synonyms=None, parent_term=drug\n",
      "entity=romiplostim; parenteral, synonyms=None, parent_term=drug\n",
      "entity=eltrombopag; oral, synonyms=None, parent_term=drug\n",
      "entity=emicizumab; parenteral, synonyms=None, parent_term=drug\n",
      "entity=lusutrombopag; systemic, synonyms=None, parent_term=drug\n",
      "entity=avatrombopag; systemic, synonyms=None, parent_term=drug\n",
      "entity=fostamatinib; systemic, synonyms=None, parent_term=drug\n",
      "entity=antianemic preparations, synonyms=None, parent_term=drug\n",
      "entity=iron preparations, synonyms=None, parent_term=drug\n",
      "entity=iron bivalent, oral preparations, synonyms=None, parent_term=drug\n",
      "entity=ferrous glycine sulfate; oral, synonyms=['ferrous glycine sulfate 0.2 g oral product', 'ferrous glycine sulfate oral tablet', 'ferrous glycine sulfate / folic acid extended release oral tablet', 'ferrous glycine sulfate / folic acid oral capsule', 'ferrous glycine sulfate', 'ferrous glycine sulfate oral solution', 'ferrous glycine sulfate delayed release oral tablet', 'iron bivalent, oral preparations', 'ferrous glycine sulfate oral capsule', 'ferrous glycine sulfate extended release oral tablet'], parent_term=drug\n"
     ]
    },
    {
     "name": "stderr",
     "output_type": "stream",
     "text": []
    },
    {
     "name": "stdout",
     "output_type": "stream",
     "text": [
      "entity=ferrous fumarate; oral, synonyms=['ascorbic acid / biotin / calcium / chromic chloride / cupric oxide / ferrous fumarate / folic acid / magnesium oxide / manganese sulfate / niacinamide / pantothenate / phosphorus / potassium chloride / potassium iodide / pyridoxine / ... oral tablet', 'calcium / ferrous fumarate / magnesium oxide / vitamin d3 / zinc gluconate oral tablet', 'calcium carbonate / ferrous fumarate / magnesium oxide / vitamin d oral tablet', 'biotin / calcium / cupric oxide / ferrous fumarate / folic acid / niacinamide / pantothenate / phosphorus / pyridoxine / riboflavin / sodium ascorbate / thiamine / vitamin a / vitamin b 12 / vitamin d / vitamin e oral tablet', 'ascorbic acid / biotin / calcium / copper gluconate / ferrous fumarate / iodine / magnesium oxide / niacin / niacinamide / pantothenate / phosphorus / pyridoxine / riboflavin / thiamine / tocopheryl acid succinate,d-alpha / vitamin a / ... oral tablet', 'biotin / calcium / copper gluconate / ferrous fumarate / folic acid / iodine / manganese gluconate / niacin / pantothenate / vitamin b 12 / zinc citrate oral tablet', 'ascorbic acid / biotin / calcium carbonate / chromium, chelated / ferrous fumarate / folic acid / magnesium oxide / molybdenum / niacinamide / pantothenate / potassium citrate / pyridoxine / riboflavin / selenium / thiamine / vitamin a / ... oral tablet', 'ascorbic acid / biotin / calcium carbonate / choline / copper gluconate / ferrous fumarate / folic acid / inositol / magnesium oxide / manganese gluconate / niacin / pantothenate / potassium chloride / potassium iodide / pyridoxine / ... oral tablet', 'alpha tocopherol / ascorbic acid / biotin / calcium / choline / copper sulfate / ferrous fumarate / folic acid / inositol / iodine / magnesium oxide / manganese sulfate / niacinamide / pantothenate / potassium sulfate / pyridoxine / ... oral capsule', 'ascorbic acid / ferrous fumarate / folic acid oral capsule'], parent_term=drug\n",
      "entity=ferrous fumarate; oral, synonyms=['ascorbic acid / biotin / calcium / chromic chloride / cupric oxide / ferrous fumarate / folic acid / magnesium oxide / manganese sulfate / niacinamide / pantothenate / phosphorus / potassium chloride / potassium iodide / pyridoxine / ... oral tablet', 'calcium / ferrous fumarate / magnesium oxide / vitamin d3 / zinc gluconate oral tablet', 'calcium carbonate / ferrous fumarate / magnesium oxide / vitamin d oral tablet', 'biotin / calcium / cupric oxide / ferrous fumarate / folic acid / niacinamide / pantothenate / phosphorus / pyridoxine / riboflavin / sodium ascorbate / thiamine / vitamin a / vitamin b 12 / vitamin d / vitamin e oral tablet', 'ascorbic acid / biotin / calcium / copper gluconate / ferrous fumarate / iodine / magnesium oxide / niacin / niacinamide / pantothenate / phosphorus / pyridoxine / riboflavin / thiamine / tocopheryl acid succinate,d-alpha / vitamin a / ... oral tablet', 'biotin / calcium / copper gluconate / ferrous fumarate / folic acid / iodine / manganese gluconate / niacin / pantothenate / vitamin b 12 / zinc citrate oral tablet', 'ascorbic acid / biotin / calcium carbonate / chromium, chelated / ferrous fumarate / folic acid / magnesium oxide / molybdenum / niacinamide / pantothenate / potassium citrate / pyridoxine / riboflavin / selenium / thiamine / vitamin a / ... oral tablet', 'ascorbic acid / biotin / calcium carbonate / choline / copper gluconate / ferrous fumarate / folic acid / inositol / magnesium oxide / manganese gluconate / niacin / pantothenate / potassium chloride / potassium iodide / pyridoxine / ... oral tablet', 'alpha tocopherol / ascorbic acid / biotin / calcium / choline / copper sulfate / ferrous fumarate / folic acid / inositol / iodine / magnesium oxide / manganese sulfate / niacinamide / pantothenate / potassium sulfate / pyridoxine / ... oral capsule', 'ascorbic acid / ferrous fumarate / folic acid oral capsule'], parent_term=drug\n",
      "entity=ferrous gluconate; oral, synonyms=['ferrous gluconate / liver extract / niacin / riboflavin / thiamine / vitamin b6 oral tablet', 'ascorbic acid / calcium / ferrous gluconate / magnesium / vitamin a / vitamin d3 oral tablet', 'ascorbic acid / dexpanthenol / ferrous gluconate / niacinamide / pyridoxine / riboflavin / thiamine / vitamin a / vitamin b 12 / vitamin d oral solution', 'ascorbic acid / beta carotene / biotin / calcium / chromium, chelated / copper gluconate / ferrous gluconate / folic acid / magnesium oxide / manganese / niacinamide / pantothenate / potassium citrate / potassium iodide / riboflavin / ... oral tablet', 'ferrous fumarate / ferrous gluconate oral tablet', 'biotin / calcium chloride / calcium citrate / caseins / cholecalciferol / copper sulfate / ferrous gluconate / folic acid / magnesium chloride / maltodextrin / manganese sulfate / niacinamide / palm oil / pantothenic acid / ... oral solution', 'ascorbic acid / calcium glycerophosphate / ferrous gluconate / niacinamide / riboflavin / thiamine / vitamin b6 oral solution', 'calcium carbonate / ferrous gluconate / magnesium carbonate oral capsule', 'ascorbic acid / beta carotene / biotin / calcium / chromium, chelated / copper / ferrous gluconate / folic acid / magnesium / manganese citrate / molybdenum / niacinamide / pantothenate / potassium chloride / potassium iodide / ... oral capsule', 'ferrous gluconate delayed release oral tablet'], parent_term=drug\n",
      "entity=ferrous gluconate; oral, synonyms=['ferrous gluconate / liver extract / niacin / riboflavin / thiamine / vitamin b6 oral tablet', 'ascorbic acid / calcium / ferrous gluconate / magnesium / vitamin a / vitamin d3 oral tablet', 'ascorbic acid / dexpanthenol / ferrous gluconate / niacinamide / pyridoxine / riboflavin / thiamine / vitamin a / vitamin b 12 / vitamin d oral solution', 'ascorbic acid / beta carotene / biotin / calcium / chromium, chelated / copper gluconate / ferrous gluconate / folic acid / magnesium oxide / manganese / niacinamide / pantothenate / potassium citrate / potassium iodide / riboflavin / ... oral tablet', 'ferrous fumarate / ferrous gluconate oral tablet', 'biotin / calcium chloride / calcium citrate / caseins / cholecalciferol / copper sulfate / ferrous gluconate / folic acid / magnesium chloride / maltodextrin / manganese sulfate / niacinamide / palm oil / pantothenic acid / ... oral solution', 'ascorbic acid / calcium glycerophosphate / ferrous gluconate / niacinamide / riboflavin / thiamine / vitamin b6 oral solution', 'calcium carbonate / ferrous gluconate / magnesium carbonate oral capsule', 'ascorbic acid / beta carotene / biotin / calcium / chromium, chelated / copper / ferrous gluconate / folic acid / magnesium / manganese citrate / molybdenum / niacinamide / pantothenate / potassium chloride / potassium iodide / ... oral capsule', 'ferrous gluconate delayed release oral tablet'], parent_term=drug\n",
      "entity=ferrous carbonate; oral, synonyms=['ferrous carbonate oral solution', 'ferrous carbonate / natural graphite / rosa centifolia flower extract oral solution', 'ferrous carbonate oral tablet', 'ferrous carbonate', 'iron bivalent, oral preparations', 'ferrous carbonate oral paste', 'ferrous carbonate / phosphorus / silicones oral tablet', 'ferrous carbonate 0.2 g oral product'], parent_term=drug\n"
     ]
    },
    {
     "name": "stderr",
     "output_type": "stream",
     "text": []
    },
    {
     "name": "stdout",
     "output_type": "stream",
     "text": [
      "entity=ferrous chloride; oral, synonyms=['ferrous chloride 0.2 g oral product', 'ascorbic acid / ferrous chloride oral solution', 'iron bivalent, oral preparations', 'ferrous chloride'], parent_term=drug\n",
      "entity=ferrous succinate; oral, synonyms=['ferrous succinate', 'ferrous succinate oral granules', 'ferrous succinate oral solution', 'ascorbic acid / beta carotene / biotin / calcium carbonate / choline / chromium citrate / copper gluconate / ferrous succinate / folic acid / inositol / iodine / magnesium citrate / manganese citrate / niacin / niacinamide / ... oral tablet', 'calcium ascorbate / copper / copper fumarate / copper glutarate / copper maleate / copper succinate / ferric citrate / ferrous fumarate / ferrous succinate / folic acid / iodine / iron / magnesium malate / manganese citrate / ... oral tablet', 'ferrous succinate oral tablet', 'biotin / calcium ascorbate / choline / ferric citrate / ferrous fumarate / ferrous succinate / folic acid / inositol / iron / niacinamide / pantothenate / pyridoxine / riboflavin / thiamine / vitamin b 12 oral tablet', 'ferrous succinate / succinic acid oral tablet', 'ferrous succinate delayed release oral tablet', 'ferrous succinate 0.2 g oral product'], parent_term=drug\n",
      "entity=ferrous sulfate; oral, synonyms=['ferrous sulfate oral solution', 'angelica sinensis preparation / ferrous sulfate / hyoscyamus niger extract / salvia officinalis flowering top extract / silver nitrate oral pellet', 'ascorbic acid / ferrous sulfate extended release oral tablet', 'ascorbic acid / beta carotene / biotin / ferrous sulfate / folic acid / magnesium sulfate / niacinamide / pantothenate / pyridoxine / thiamine / vitamin b 12 / vitamin e disintegrating oral tablet', 'ferrous sulfate delayed release oral capsule', 'ascorbic acid / calcium / copper sulfate / ferrous sulfate / niacinamide / pantothenate / pyridoxine / riboflavin / thiamine / vitamin a / vitamin b 12 / vitamin d oral tablet', 'ascorbic acid / ferrous sulfate oral capsule', 'alpha tocopherol / calcium / chromium gluconate / copper sulfate / ferrous sulfate / iodine / magnesium oxide / manganese sulfate / potassium sulfate / selenite / sodium molybdate(vi) / vitamin b6 / zinc sulfate oral capsule', 'ferrous sulfate / niacinamide / pyridoxine / riboflavin / thiamine / vitamin b 12 oral solution', 'ascorbic acid / biotin / calcium carbonate / choline / copper sulfate / ferrous sulfate / folic acid / inositol / iodine / magnesium oxide / manganese gluconate / niacinamide / pantothenate / potassium gluconate / ... extended release oral tablet'], parent_term=drug\n",
      "entity=ferrous sulfate; oral, synonyms=['ferrous sulfate oral solution', 'angelica sinensis preparation / ferrous sulfate / hyoscyamus niger extract / salvia officinalis flowering top extract / silver nitrate oral pellet', 'ascorbic acid / ferrous sulfate extended release oral tablet', 'ascorbic acid / beta carotene / biotin / ferrous sulfate / folic acid / magnesium sulfate / niacinamide / pantothenate / pyridoxine / thiamine / vitamin b 12 / vitamin e disintegrating oral tablet', 'ferrous sulfate delayed release oral capsule', 'ascorbic acid / calcium / copper sulfate / ferrous sulfate / niacinamide / pantothenate / pyridoxine / riboflavin / thiamine / vitamin a / vitamin b 12 / vitamin d oral tablet', 'ascorbic acid / ferrous sulfate oral capsule', 'alpha tocopherol / calcium / chromium gluconate / copper sulfate / ferrous sulfate / iodine / magnesium oxide / manganese sulfate / potassium sulfate / selenite / sodium molybdate(vi) / vitamin b6 / zinc sulfate oral capsule', 'ferrous sulfate / niacinamide / pyridoxine / riboflavin / thiamine / vitamin b 12 oral solution', 'ascorbic acid / biotin / calcium carbonate / choline / copper sulfate / ferrous sulfate / folic acid / inositol / iodine / magnesium oxide / manganese gluconate / niacinamide / pantothenate / potassium gluconate / ... extended release oral tablet'], parent_term=drug\n",
      "entity=ferrous tartrate; oral, synonyms=['ferrous tartrate 0.2 g oral product', 'ferrous tartrate oral solution', 'ferrous tartrate', 'iron bivalent, oral preparations'], parent_term=drug\n"
     ]
    },
    {
     "name": "stderr",
     "output_type": "stream",
     "text": []
    },
    {
     "name": "stdout",
     "output_type": "stream",
     "text": [
      "entity=ferrous aspartate; oral, synonyms=['ferrous aspartate oral tablet', 'ferrous aspartate 0.2 g oral product', 'ferrous aspartate', 'iron bivalent, oral preparations'], parent_term=drug\n",
      "entity=ferrous ascorbate; oral, synonyms=['ascorbic acid / ferrous ascorbate / niacinamide / pantothenate / pyridoxine / riboflavin / thiamine oral tablet', 'ferrous ascorbate', 'ferrous ascorbate oral capsule', 'ferrous ascorbate 0.2 g oral product', 'iron bivalent, oral preparations'], parent_term=drug\n",
      "entity=ferrous iodine; oral, synonyms=['ferrous iodine', 'calcium iodide / ferrous iodide / nitric acid / phosphoric acid / sulfur iodide oral solution', 'ferrous iodide oral solution', 'baptisia tinctoria extract / barium carbonate / bromine / conium maculatum preparation / ferrous iodide / oyster shell calcium carbonate preparation / phytolacca americana whole extract / poison ivy extract / silicon dioxide oral solution', 'activated charcoal / ferrous iodide / fucus vesiculosus extract / ginkgo biloba extract / greater celandine / iodine / iridium / oyster shell calcium carbonate preparation / posterior pituitary hormones / potassium iodide / ... oral solution', 'ferrous iodide', 'ferrous iodide oral granules', 'ferrous iodide / potassium chloride / potassium dichromate / potassium iodide oral tablet', 'activated charcoal / epinephrine / ferrous iodide / fucus vesiculosus extract / iodine / oyster shell calcium carbonate preparation / phosphoric acid / posterior pituitary hormones / potassium iodide / spongia tosta oral solution', 'activated charcoal / borago officinialis whole extract / ferrous iodide / fucus vesiculosus extract / greater celandine / iodine / liverwort / milk fat, cow / oyster shell calcium carbonate preparation / posterior pituitary hormones / ... oral solution'], parent_term=drug\n",
      "entity=ferrous iodine; oral, synonyms=['ferrous iodine', 'calcium iodide / ferrous iodide / nitric acid / phosphoric acid / sulfur iodide oral solution', 'ferrous iodide oral solution', 'baptisia tinctoria extract / barium carbonate / bromine / conium maculatum preparation / ferrous iodide / oyster shell calcium carbonate preparation / phytolacca americana whole extract / poison ivy extract / silicon dioxide oral solution', 'activated charcoal / ferrous iodide / fucus vesiculosus extract / ginkgo biloba extract / greater celandine / iodine / iridium / oyster shell calcium carbonate preparation / posterior pituitary hormones / potassium iodide / ... oral solution', 'ferrous iodide', 'ferrous iodide oral granules', 'ferrous iodide / potassium chloride / potassium dichromate / potassium iodide oral tablet', 'activated charcoal / epinephrine / ferrous iodide / fucus vesiculosus extract / iodine / oyster shell calcium carbonate preparation / phosphoric acid / posterior pituitary hormones / potassium iodide / spongia tosta oral solution', 'activated charcoal / borago officinialis whole extract / ferrous iodide / fucus vesiculosus extract / greater celandine / iodine / liverwort / milk fat, cow / oyster shell calcium carbonate preparation / posterior pituitary hormones / ... oral solution'], parent_term=drug\n",
      "entity=ferrous sodium citrate; oral, synonyms=['calcium phosphate dibasic / chromium gluconate / ferric citrate / magnesium oxide / manganese sulfate / potassium chloride / selenite / sodium molybdate(vi) / zinc sulfate oral capsule', 'ferrous sodium citrate', 'ferric citrate oral solution', 'alpha tocopherol / beta carotene / biotin / calcium ascorbate / calcium citrate / choline / chromium, chelated / copper / ferric citrate / folic acid / inositol / iodine / magnesium citrate / manganese citrate / niacinamide / ... oral tablet', 'ferric citrate', 'calcium ascorbate / copper / copper fumarate / copper glutarate / copper maleate / copper succinate / ferric citrate / ferrous fumarate / ferrous succinate / folic acid / iodine / iron / magnesium malate / manganese citrate / ... oral tablet', 'ferrous sodium citrate 0.2 g oral product', 'biotin / calcium ascorbate / choline / ferric citrate / ferrous fumarate / ferrous succinate / folic acid / inositol / iron / niacinamide / pantothenate / pyridoxine / riboflavin / thiamine / vitamin b 12 oral tablet', 'ascorbic acid / ferric citrate / hawthorn berry / hawthorn preparation / leonurus cardiaca extract / niacinamide / pyridoxine / riboflavin / thiamine / vitamin b 12 oral solution', 'ferric citrate oral granules'], parent_term=drug\n"
     ]
    },
    {
     "name": "stderr",
     "output_type": "stream",
     "text": [
      "Embedding Documents: 100%|██████████| 64/64 [00:01<00:00, 34.90doc/s]\n"
     ]
    },
    {
     "name": "stdout",
     "output_type": "stream",
     "text": [
      "entity=ferrous sodium citrate; oral, synonyms=['calcium phosphate dibasic / chromium gluconate / ferric citrate / magnesium oxide / manganese sulfate / potassium chloride / selenite / sodium molybdate(vi) / zinc sulfate oral capsule', 'ferrous sodium citrate', 'ferric citrate oral solution', 'alpha tocopherol / beta carotene / biotin / calcium ascorbate / calcium citrate / choline / chromium, chelated / copper / ferric citrate / folic acid / inositol / iodine / magnesium citrate / manganese citrate / niacinamide / ... oral tablet', 'ferric citrate', 'calcium ascorbate / copper / copper fumarate / copper glutarate / copper maleate / copper succinate / ferric citrate / ferrous fumarate / ferrous succinate / folic acid / iodine / iron / magnesium malate / manganese citrate / ... oral tablet', 'ferrous sodium citrate 0.2 g oral product', 'biotin / calcium ascorbate / choline / ferric citrate / ferrous fumarate / ferrous succinate / folic acid / inositol / iron / niacinamide / pantothenate / pyridoxine / riboflavin / thiamine / vitamin b 12 oral tablet', 'ascorbic acid / ferric citrate / hawthorn berry / hawthorn preparation / leonurus cardiaca extract / niacinamide / pyridoxine / riboflavin / thiamine / vitamin b 12 oral solution', 'ferric citrate oral granules'], parent_term=drug\n"
     ]
    },
    {
     "name": "stderr",
     "output_type": "stream",
     "text": [
      "15it [00:29,  2.21s/it]2024-09-06 20:08:44,091 - rag.utils - INFO - embed documents\n"
     ]
    },
    {
     "name": "stdout",
     "output_type": "stream",
     "text": [
      "entity=iron trivalent, oral preparations, synonyms=None, parent_term=drug\n",
      "entity=ferric sodium citrate; oral, synonyms=['calcium phosphate dibasic / chromium gluconate / ferric citrate / magnesium oxide / manganese sulfate / potassium chloride / selenite / sodium molybdate(vi) / zinc sulfate oral capsule', 'ferric citrate oral solution', 'alpha tocopherol / beta carotene / biotin / calcium ascorbate / calcium citrate / choline / chromium, chelated / copper / ferric citrate / folic acid / inositol / iodine / magnesium citrate / manganese citrate / niacinamide / ... oral tablet', 'ferric citrate', 'calcium ascorbate / copper / copper fumarate / copper glutarate / copper maleate / copper succinate / ferric citrate / ferrous fumarate / ferrous succinate / folic acid / iodine / iron / magnesium malate / manganese citrate / ... oral tablet', 'biotin / calcium ascorbate / choline / ferric citrate / ferrous fumarate / ferrous succinate / folic acid / inositol / iron / niacinamide / pantothenate / pyridoxine / riboflavin / thiamine / vitamin b 12 oral tablet', 'ascorbic acid / ferric citrate / hawthorn berry / hawthorn preparation / leonurus cardiaca extract / niacinamide / pyridoxine / riboflavin / thiamine / vitamin b 12 oral solution', 'ferric citrate oral granules', 'ferric sodium citrate 0.75 g oral product', 'calcium / chromium, chelated / copper / ferric citrate / iodine / magnesium citrate / manganese / potassium citrate / selenium / vanadium / vitamin e / zinc citrate oral tablet'], parent_term=drug\n",
      "entity=ferric sodium citrate; oral, synonyms=['calcium phosphate dibasic / chromium gluconate / ferric citrate / magnesium oxide / manganese sulfate / potassium chloride / selenite / sodium molybdate(vi) / zinc sulfate oral capsule', 'ferric citrate oral solution', 'alpha tocopherol / beta carotene / biotin / calcium ascorbate / calcium citrate / choline / chromium, chelated / copper / ferric citrate / folic acid / inositol / iodine / magnesium citrate / manganese citrate / niacinamide / ... oral tablet', 'ferric citrate', 'calcium ascorbate / copper / copper fumarate / copper glutarate / copper maleate / copper succinate / ferric citrate / ferrous fumarate / ferrous succinate / folic acid / iodine / iron / magnesium malate / manganese citrate / ... oral tablet', 'biotin / calcium ascorbate / choline / ferric citrate / ferrous fumarate / ferrous succinate / folic acid / inositol / iron / niacinamide / pantothenate / pyridoxine / riboflavin / thiamine / vitamin b 12 oral tablet', 'ascorbic acid / ferric citrate / hawthorn berry / hawthorn preparation / leonurus cardiaca extract / niacinamide / pyridoxine / riboflavin / thiamine / vitamin b 12 oral solution', 'ferric citrate oral granules', 'ferric sodium citrate 0.75 g oral product', 'calcium / chromium, chelated / copper / ferric citrate / iodine / magnesium citrate / manganese / potassium citrate / selenium / vanadium / vitamin e / zinc citrate oral tablet'], parent_term=drug\n",
      "entity=saccharated iron oxide; oral, synonyms=['saccharated iron oxide', 'saccharated iron oxide 0.11 g oral product', 'iron sucrose', 'iron trivalent, oral preparations'], parent_term=drug\n",
      "entity=sodium feredetate; oral, synonyms=['iron trivalent, oral preparations', 'sodium ironedetate', 'sodium feredetate 0.17 g oral product', 'sodium ironedetate oral solution'], parent_term=drug\n"
     ]
    },
    {
     "name": "stderr",
     "output_type": "stream",
     "text": []
    },
    {
     "name": "stdout",
     "output_type": "stream",
     "text": [
      "entity=ferric hydroxide; oral, synonyms=['ferric hydroxide oral solution', 'ferric hydroxide / leucovorin oral solution', 'ferric hydroxide oral suspension', 'ferric hydroxide / ferric nitrate / ferrous phosphate / stannic oxide oral tablet', 'ferric hydroxide', 'iron trivalent, oral preparations', 'ferric hydroxide / folic acid oral tablet'], parent_term=drug\n",
      "entity=ferric oxide polymaltose complexes; oral, synonyms=None, parent_term=drug\n",
      "entity=chondroitin sulfate-iron complex; oral, synonyms=['calcium / chromium, chelated / copper / iodine / iron succinyl milk protein complex / magnesium oxide / manganese / potassium,chelated / selenium / vitamin d / zinc, chelated oral tablet', 'polysaccharide iron complex oral tablet', 'chondroitin sulfates / dimethyl sulfoxide / glucosamine oral tablet', 'chondroitin sulfates / glucosamine oral capsule', 'alpha tocopherol / ascorbic acid / biotin / calcium amino acid chelate / chromium, chelated / copper / folic acid / iodine / iron succinyl milk protein complex / magnesium amino acid chelate / manganese / niacin / niacinamide / ... oral tablet', 'chondroitin sulfates / glucosamine / vitamin e oral tablet', 'beta carotene / biotin / calcium ascorbate / calcium carbonate / calcium citrate / choline / chromium, chelated / copper / folic acid / inositol / iodine / iron succinyl milk protein complex / magnesium citrate / magnesium oxide / ... oral tablet', 'ascorbic acid / ferrous bisglycinate / polysaccharide iron complex oral capsule', 'ascorbic acid / beta carotene / biotin / calcium / choline / chromium / copper gluconate / folic acid / inositol / iodine / iron succinyl milk protein complex / magnesium / manganese gluconate / methionine / niacinamide / pantothenate / ... oral tablet', 'ascorbic acid / biotin / copper / folic acid / iron succinyl milk protein complex / molybdenum / niacin / pantothenate / pyridoxine / riboflavin / thiamine / vitamin b 12 oral capsule'], parent_term=drug\n",
      "entity=chondroitin sulfate-iron complex; oral, synonyms=['calcium / chromium, chelated / copper / iodine / iron succinyl milk protein complex / magnesium oxide / manganese / potassium,chelated / selenium / vitamin d / zinc, chelated oral tablet', 'polysaccharide iron complex oral tablet', 'chondroitin sulfates / dimethyl sulfoxide / glucosamine oral tablet', 'chondroitin sulfates / glucosamine oral capsule', 'alpha tocopherol / ascorbic acid / biotin / calcium amino acid chelate / chromium, chelated / copper / folic acid / iodine / iron succinyl milk protein complex / magnesium amino acid chelate / manganese / niacin / niacinamide / ... oral tablet', 'chondroitin sulfates / glucosamine / vitamin e oral tablet', 'beta carotene / biotin / calcium ascorbate / calcium carbonate / calcium citrate / choline / chromium, chelated / copper / folic acid / inositol / iodine / iron succinyl milk protein complex / magnesium citrate / magnesium oxide / ... oral tablet', 'ascorbic acid / ferrous bisglycinate / polysaccharide iron complex oral capsule', 'ascorbic acid / beta carotene / biotin / calcium / choline / chromium / copper gluconate / folic acid / inositol / iodine / iron succinyl milk protein complex / magnesium / manganese gluconate / methionine / niacinamide / pantothenate / ... oral tablet', 'ascorbic acid / biotin / copper / folic acid / iron succinyl milk protein complex / molybdenum / niacin / pantothenate / pyridoxine / riboflavin / thiamine / vitamin b 12 oral capsule'], parent_term=drug\n",
      "entity=ferric acetyl transferrin; oral, synonyms=None, parent_term=drug\n",
      "entity=ferric proteinsuccinylate; oral, synonyms=None, parent_term=drug\n",
      "entity=ferric maltol; oral, synonyms=None, parent_term=drug\n",
      "entity=iron, parenteral preparations; parenteral, synonyms=['iron preparations', 'iron, parenteral preparations 0.1 g parenteral product'], parent_term=drug\n"
     ]
    },
    {
     "name": "stderr",
     "output_type": "stream",
     "text": []
    },
    {
     "name": "stdout",
     "output_type": "stream",
     "text": [
      "entity=iron in combination with folic acid, synonyms=None, parent_term=drug\n",
      "entity=ferrous amino acid complex; systemic, synonyms=['copper sulfate / ferrous fumarate / folic acid / manganese sulfate / niacinamide / pantothenate / polysaccharide iron complex / pyridoxine / riboflavin / sodium ascorbate / thiamine / vitamin b12 / zinc sulfate oral capsule', 'folic acid / polysaccharide iron complex oral tablet', 'polysaccharide iron complex oral tablet', 'ascorbic acid / cholecalciferol / cuprous oxide / folic acid / magnesium oxide / niacin / polysaccharide iron complex / potassium iodide / pyridoxine / riboflavin / thiamine / vitamin a / vitamin b12 / vitamin e / zinc oxide oral capsule', 'ferrous fumarate / folic acid / polysaccharide iron complex oral capsule', 'polysaccharide iron complex oral solution', 'calcium ascorbate / ferrous asparto glycinate / polysaccharide iron complex / succinic acid oral capsule', 'folic acid / polysaccharide iron complex oral solution', 'calcium ascorbate / calcium threonate / ferrous asparto glycinate / folic acid / polysaccharide iron complex / succinic acid / vitamin b12 oral capsule', 'polysaccharide iron complex'], parent_term=drug\n",
      "entity=ferrous fumarate, combinations; systemic (iron in comb. with folic acid), synonyms=['ascorbic acid / biotin / calcium / chromic chloride / cupric oxide / ferrous fumarate / folic acid / magnesium oxide / manganese sulfate / niacinamide / pantothenate / phosphorus / potassium chloride / potassium iodide / pyridoxine / ... oral tablet', 'calcium / ferrous fumarate / magnesium oxide / vitamin d3 / zinc gluconate oral tablet', 'calcium carbonate / ferrous fumarate / magnesium oxide / vitamin d oral tablet', 'biotin / calcium / cupric oxide / ferrous fumarate / folic acid / niacinamide / pantothenate / phosphorus / pyridoxine / riboflavin / sodium ascorbate / thiamine / vitamin a / vitamin b 12 / vitamin d / vitamin e oral tablet', 'ascorbic acid / biotin / calcium / copper gluconate / ferrous fumarate / iodine / magnesium oxide / niacin / niacinamide / pantothenate / phosphorus / pyridoxine / riboflavin / thiamine / tocopheryl acid succinate,d-alpha / vitamin a / ... oral tablet', 'biotin / calcium / copper gluconate / ferrous fumarate / folic acid / iodine / manganese gluconate / niacin / pantothenate / vitamin b 12 / zinc citrate oral tablet', 'ascorbic acid / biotin / calcium carbonate / chromium, chelated / ferrous fumarate / folic acid / magnesium oxide / molybdenum / niacinamide / pantothenate / potassium citrate / pyridoxine / riboflavin / selenium / thiamine / vitamin a / ... oral tablet', 'ascorbic acid / biotin / calcium carbonate / choline / copper gluconate / ferrous fumarate / folic acid / inositol / magnesium oxide / manganese gluconate / niacin / pantothenate / potassium chloride / potassium iodide / pyridoxine / ... oral tablet', 'alpha tocopherol / ascorbic acid / biotin / calcium / choline / copper sulfate / ferrous fumarate / folic acid / inositol / iodine / magnesium oxide / manganese sulfate / niacinamide / pantothenate / potassium sulfate / pyridoxine / ... oral capsule', 'ascorbic acid / ferrous fumarate / folic acid oral capsule'], parent_term=drug\n",
      "entity=ferrous fumarate, combinations; systemic (iron in comb. with folic acid), synonyms=['ascorbic acid / biotin / calcium / chromic chloride / cupric oxide / ferrous fumarate / folic acid / magnesium oxide / manganese sulfate / niacinamide / pantothenate / phosphorus / potassium chloride / potassium iodide / pyridoxine / ... oral tablet', 'calcium / ferrous fumarate / magnesium oxide / vitamin d3 / zinc gluconate oral tablet', 'calcium carbonate / ferrous fumarate / magnesium oxide / vitamin d oral tablet', 'biotin / calcium / cupric oxide / ferrous fumarate / folic acid / niacinamide / pantothenate / phosphorus / pyridoxine / riboflavin / sodium ascorbate / thiamine / vitamin a / vitamin b 12 / vitamin d / vitamin e oral tablet', 'ascorbic acid / biotin / calcium / copper gluconate / ferrous fumarate / iodine / magnesium oxide / niacin / niacinamide / pantothenate / phosphorus / pyridoxine / riboflavin / thiamine / tocopheryl acid succinate,d-alpha / vitamin a / ... oral tablet', 'biotin / calcium / copper gluconate / ferrous fumarate / folic acid / iodine / manganese gluconate / niacin / pantothenate / vitamin b 12 / zinc citrate oral tablet', 'ascorbic acid / biotin / calcium carbonate / chromium, chelated / ferrous fumarate / folic acid / magnesium oxide / molybdenum / niacinamide / pantothenate / potassium citrate / pyridoxine / riboflavin / selenium / thiamine / vitamin a / ... oral tablet', 'ascorbic acid / biotin / calcium carbonate / choline / copper gluconate / ferrous fumarate / folic acid / inositol / magnesium oxide / manganese gluconate / niacin / pantothenate / potassium chloride / potassium iodide / pyridoxine / ... oral tablet', 'alpha tocopherol / ascorbic acid / biotin / calcium / choline / copper sulfate / ferrous fumarate / folic acid / inositol / iodine / magnesium oxide / manganese sulfate / niacinamide / pantothenate / potassium sulfate / pyridoxine / ... oral capsule', 'ascorbic acid / ferrous fumarate / folic acid oral capsule'], parent_term=drug\n",
      "entity=ferrous sulfate, combinations; systemic, synonyms=None, parent_term=drug\n",
      "entity=ferric oxide polymaltose complexes; systemic, synonyms=None, parent_term=drug\n",
      "entity=ferrous gluconate; systemic, synonyms=None, parent_term=drug\n",
      "entity=iron in other combinations, synonyms=None, parent_term=drug\n"
     ]
    },
    {
     "name": "stderr",
     "output_type": "stream",
     "text": []
    },
    {
     "name": "stdout",
     "output_type": "stream",
     "text": [
      "entity=iron, vitamin b12 and folic acid; systemic, synonyms=['iron, vitamin b12 and folic acid', 'iron', 'cobalt / copper sulfate / ferrous cation / folic acid / manganese / vitamin b 12 oral tablet', 'alpha tocopherol / ascorbic acid / biotin / calcium / chromium / copper / ergocalciferol / folic acid / iodine / iron / magnesium / manganese / molybdenum / niacinamide / pantothenic acid / phosphorus / potassium / pyridoxine / ... oral tablet', 'arnica extract / ascorbic acid / bromelains / calendula officinalis extract / chelidonium majus extract / ferrous cation / filipendula ulmaria flower extract / folic acid / hamamelis virginiana whole extract / magnesium / niacinamide / ... oral solution', 'ascorbic acid / biotin / calcium carbonate / choline / chromium, chelated / copper gluconate / ergocalciferol / folic acid / inositol / iodine / iron / magnesium oxide / methionine / niacinamide / pantothenate / potassium gluconate / ... oral tablet', 'ascorbic acid / calcium / cobalt / cupric oxide / dexpanthenol / ergocalciferol / ferrous cation / folic acid / iodine / magnesium / manganese / molybdenum / niacinamide / pyridoxine / riboflavin / thiamine / vitamin a / vitamin b 12 / ... oral capsule', 'biotin / ferrous cation / folic acid / methionine / niacinamide / pantothenic acid / pyridoxine / riboflavin / rutin / thiamine / vitamin a / vitamin b 12 / vitamin e oral tablet', 'ascorbic acid / biotin / calcium carbonate / choline / copper gluconate / folic acid / inositol / iodine / iron / magnesium oxide / methionine / niacin / niacinamide / pantothenate / pyridoxine / riboflavin / selenium / thiamine / ... oral tablet', 'ascorbic acid / biotin / cholecalciferol / cocarboxylase / cola nut extract / ferrous cation / folic acid / hesperidin / n-acetylmethionine / nicotine / orotic acid / pantothenic acid / pyridoxine / riboflavin / ... oral tablet'], parent_term=drug\n",
      "entity=iron, vitamin b12 and folic acid; systemic, synonyms=['iron, vitamin b12 and folic acid', 'iron', 'cobalt / copper sulfate / ferrous cation / folic acid / manganese / vitamin b 12 oral tablet', 'alpha tocopherol / ascorbic acid / biotin / calcium / chromium / copper / ergocalciferol / folic acid / iodine / iron / magnesium / manganese / molybdenum / niacinamide / pantothenic acid / phosphorus / potassium / pyridoxine / ... oral tablet', 'arnica extract / ascorbic acid / bromelains / calendula officinalis extract / chelidonium majus extract / ferrous cation / filipendula ulmaria flower extract / folic acid / hamamelis virginiana whole extract / magnesium / niacinamide / ... oral solution', 'ascorbic acid / biotin / calcium carbonate / choline / chromium, chelated / copper gluconate / ergocalciferol / folic acid / inositol / iodine / iron / magnesium oxide / methionine / niacinamide / pantothenate / potassium gluconate / ... oral tablet', 'ascorbic acid / calcium / cobalt / cupric oxide / dexpanthenol / ergocalciferol / ferrous cation / folic acid / iodine / magnesium / manganese / molybdenum / niacinamide / pyridoxine / riboflavin / thiamine / vitamin a / vitamin b 12 / ... oral capsule', 'biotin / ferrous cation / folic acid / methionine / niacinamide / pantothenic acid / pyridoxine / riboflavin / rutin / thiamine / vitamin a / vitamin b 12 / vitamin e oral tablet', 'ascorbic acid / biotin / calcium carbonate / choline / copper gluconate / folic acid / inositol / iodine / iron / magnesium oxide / methionine / niacin / niacinamide / pantothenate / pyridoxine / riboflavin / selenium / thiamine / ... oral tablet', 'ascorbic acid / biotin / cholecalciferol / cocarboxylase / cola nut extract / ferrous cation / folic acid / hesperidin / n-acetylmethionine / nicotine / orotic acid / pantothenic acid / pyridoxine / riboflavin / ... oral tablet'], parent_term=drug\n",
      "entity=iron, multivitamins and folic acid; systemic, synonyms=None, parent_term=drug\n",
      "entity=iron and multivitamins; systemic, synonyms=None, parent_term=drug\n",
      "entity=iron, multivitamins and minerals; systemic, synonyms=None, parent_term=drug\n",
      "entity=various combinations; systemic, synonyms=None, parent_term=drug\n",
      "entity=vitamin b12 and folic acid, synonyms=['vitamin b<n>12</n> and folic acid', 'antianemic preparations'], parent_term=drug\n",
      "entity=vitamin b12 (cyanocobalamin and analogues), synonyms=None, parent_term=drug\n",
      "entity=cyanocobalamin; nasal, systemic, synonyms=None, parent_term=drug\n"
     ]
    },
    {
     "name": "stderr",
     "output_type": "stream",
     "text": [
      "Embedding Documents: 100%|██████████| 40/40 [00:00<00:00, 40.54doc/s]\n"
     ]
    },
    {
     "name": "stdout",
     "output_type": "stream",
     "text": [
      "entity=cyanocobalamin tannin complex; parenteral, synonyms=None, parent_term=drug\n",
      "entity=hydroxocobalamin; parenteral, synonyms=None, parent_term=drug\n",
      "entity=cobamamide; systemic, synonyms=None, parent_term=drug\n",
      "entity=mecobalamin; systemic, synonyms=None, parent_term=drug\n",
      "entity=cyanocobalamin, combinations; systemic, synonyms=None, parent_term=drug\n",
      "entity=hydroxocobalamin, combinations; systemic, synonyms=None, parent_term=drug\n",
      "entity=folic acid and derivatives, synonyms=None, parent_term=drug\n",
      "entity=folic acid; systemic (folic acid and derivatives), synonyms=None, parent_term=drug\n",
      "entity=folic acid, combinations; systemic, synonyms=None, parent_term=drug\n",
      "entity=other antianemic preparations, synonyms=None, parent_term=drug\n"
     ]
    },
    {
     "name": "stderr",
     "output_type": "stream",
     "text": [
      "16it [00:30,  1.93s/it]\n"
     ]
    }
   ],
   "source": [
    "from langchain_qdrant import FastEmbedSparse, RetrievalMode\n",
    "from langchain_qdrant import QdrantVectorStore\n",
    "from qdrant_client import QdrantClient\n",
    "from qdrant_client.http.models import Distance, VectorParams\n",
    "import qdrant_client.http.models as rest\n",
    "\n",
    "sparse_embeddings = FastEmbedSparse(model_name=\"Qdrant/bm42-all-minilm-l6-v2-attentions\")\n",
    "vector_store = QdrantVectorStore.from_documents(\n",
    "    docs,\n",
    "    embedding=embeddings,\n",
    "    url='komal.qdrant.137.120.31.148.nip.io', \n",
    "    port=443,\n",
    "    https = True,\n",
    "    vector_name ='omop_dense_vector',\n",
    "    sparse_vector_name = 'omop_sparse_vector',\n",
    "    sparse_embedding=sparse_embeddings,\n",
    "    collection_name=\"icare4cvd_custom_collection\",\n",
    "    \n",
    "    retrieval_mode=RetrievalMode.HYBRID,\n",
    "    vector_params  = { \n",
    "    \"size\": 768,\n",
    "    \"distance\": Distance.COSINE,\n",
    "    \"hnsw_config\": rest.HnswConfigDiff(\n",
    "            m=16,\n",
    "            ef_construct=64,\n",
    "            payload_m = 16 \n",
    "        ),\n",
    "    \n",
    "    \"quantization_config\":rest.ScalarQuantization(\n",
    "            scalar=rest.ScalarQuantizationConfig(\n",
    "                type=rest.ScalarType.INT8,\n",
    "                quantile=0.99,\n",
    "                always_ram=True,\n",
    "            ),\n",
    "        ),\n",
    "    \"on_disk\":True\n",
    "    },\n",
    "    sparse_vector_params = {\n",
    "        \"modifier\":rest.Modifier.IDF,\n",
    "        \"index\":{\n",
    "            \"full_scan_threshold\":20000,\n",
    "            \"on_disk\":True\n",
    "        } \n",
    "    },\n",
    "    force_recreate=True    \n",
    "    \n",
    ")\n",
    "\n"
   ]
  },
  {
   "cell_type": "code",
   "execution_count": 4,
   "metadata": {},
   "outputs": [
    {
     "name": "stderr",
     "output_type": "stream",
     "text": [
      "2024-09-06 20:08:45,609 - rag.utils - INFO - Final Embedding: torch.Size([768])\n"
     ]
    },
    {
     "name": "stdout",
     "output_type": "stream",
     "text": [
      "results: [Document(metadata={'concept_class': 'atc 1st', 'domain': 'drug', 'has_answers': '', 'is_standard': 'C', 'label': 'alimentary tract and metabolism', 'parent_term': '', 'scode': 'A', 'sid': '21600001', 'synonyms': '', 'vector': [[0.055979568511247635, -0.29887762665748596, 0.44734054803848267, -0.2205943465232849, 0.22514361143112183, -0.16349554061889648, 0.29436439275741577, 0.3582160770893097, -0.10512715578079224, 0.3218802809715271, -0.2537801265716553, -0.2312815934419632, 0.4727074205875397, 0.08076423406600952, -1.3948839902877808, 0.1963689774274826, -0.10144656896591188, -0.06201427802443504, 0.17835527658462524, 0.305111825466156, 0.11926195025444032, 0.21886682510375977, -0.33678650856018066, -0.5477790832519531, -0.3273129463195801, -0.2729000151157379, -0.2479577958583832, 0.07131101191043854, -0.03796863555908203, -0.2083923816680908, 0.4726697206497192, 0.32677286863327026, 0.02321099489927292, 0.470431923866272, 0.3219035267829895, -0.3457314670085907, 0.25644633173942566, 0.34543949365615845, -0.03198184072971344, 0.2795325815677643, 0.027605995535850525, -0.1940741986036301, -0.15370938181877136, -0.08307354897260666, -0.013073958456516266, 0.2369321584701538, 0.21678847074508667, 0.2496025711297989, 0.04709412157535553, 0.11771677434444427, 0.8719683885574341, -0.4617854356765747, 0.16195708513259888, -0.3102058172225952, 0.6485127210617065, 0.1393144428730011, 0.34871941804885864, 0.057700298726558685, -0.4329559803009033, 0.08635502308607101, -0.4066666066646576, 0.1522044837474823, -0.32424187660217285, -0.2832762598991394, 0.27975553274154663, -0.24386711418628693, -0.6078788042068481, 0.019298791885375977, -0.3144769072532654, -0.3526766896247864, 0.6130643486976624, -0.09801359474658966, -0.23416538536548617, 0.22468048334121704, -0.024939924478530884, 0.026283089071512222, 0.341781347990036, -0.615828812122345, 0.5923384428024292, -0.07122208923101425, -0.4180755615234375, 0.1430129110813141, -0.5230331420898438, 0.22546657919883728, -0.8937298059463501, 0.09277689456939696, 0.003245294094085694, 0.2068590521812439, -0.3228546977043152, 0.4307098686695099, 0.4083307981491089, -0.0389079749584198, -0.6667635440826416, 0.023354873061180115, 0.08707289397716522, -0.2882944941520691, -0.18361693620681763, 0.009824320673942566, -0.014938943088054655, -0.23880596458911896, -0.6843146681785583, 0.1918381899595261, 0.13577450811862946, 0.216571643948555, -0.8233131170272827, 0.09081238508224489, 0.455254465341568, 0.03576244041323662, -0.9462567567825316, -0.47930699586868286, 0.5877424478530884, -0.9304051399230956, -0.46849125623703, 0.45979443192481995, -0.6128175258636475, 0.8058874607086182, 0.1620793342590332, -0.03117997944355011, -0.5432199239730835, 0.5420427918434143, -0.958063006401062, 0.4892400801181793, -0.24261273443698883, -0.1595190018415451, -0.169610857963562, -0.1271456778049469, 0.12169155478477478, 0.04127413034439087, -0.6622632145881653, 0.6306124925613403, 0.2244831919670105, -0.9053388237953186, 0.32587653398513794, -0.18374617397785187, -0.5982618927955627, 0.09605059027671814, 0.0968710631132126, 0.2822199761867523, -0.32416051626205444, 0.2232133001089096, -0.6234409213066101, 0.07140031456947327, -0.28771984577178955, -0.0763992965221405, -0.2828601598739624, -0.9091426730155944, -0.474412739276886, 0.2238088995218277, 0.059077609330415726, -0.1222558096051216, -0.05435652285814285, -0.3288397192955017, -0.6907073259353638, -0.1829664707183838, 0.31019237637519836, 0.34926077723503113, -0.6102843284606934, 0.6094857454299927, -0.6032783389091492, -0.1096971333026886, 0.573651909828186, -0.21627171337604523, 0.34797146916389465, 0.2276929616928101, -0.22299346327781677, 0.601925253868103, -0.16577312350273132, -0.6268705129623413, -0.7149078845977783, -0.16073206067085266, -0.2583230137825012, 0.1270158290863037, -0.22429035604000092, 0.298936665058136, -0.0157456174492836, -0.223631352186203, -0.0953812301158905, 0.06301310658454895, -0.41696298122406006, 0.18080975115299225, -0.2890685200691223, -0.48113399744033813, 0.017295606434345245, -0.6899420619010925, 0.15175600349903107, -0.6968432664871216, -0.6234042644500732, 0.03401990234851837, 0.07460038363933563, 0.07947301864624023, 0.28631407022476196, 0.2208075225353241, -0.557517409324646, -0.32568657398223877, -0.681856632232666, -0.2148856669664383, 0.25050151348114014, 0.792624831199646, 0.7109423875808716, 0.3100205063819885, -0.20159609615802765, 0.341381698846817, -0.8235955238342285, -0.4319563508033752, 0.07015485316514969, -0.2668748199939728, 0.961333394050598, 0.03896409273147583, 0.2469492703676224, -0.1370762437582016, -0.09058129787445068, 0.6547113656997681, -0.06613478064537048, -0.11639738082885742, 0.11648312956094742, -0.0642261654138565, 0.5036960244178772, 0.49365872144699097, 0.07696846127510071, -0.05038268864154816, -0.0944688841700554, -0.6861947774887085, -0.04273995757102966, -0.1952117830514908, 0.05461117625236511, 0.019991669803857803, -0.3097466826438904, -0.024595685303211212, -0.09991329908370972, 0.03118406981229782, -0.3998417854309082, -0.7362319231033325, -0.17523795366287231, 0.6653837561607361, 0.2861522436141968, 0.35288387537002563, -1.1081658601760864, 0.7775778770446777, -0.07847078889608383, 0.19743259251117704, 0.4732118546962738, -0.6772875189781189, -0.24812360107898712, 0.1820400059223175, 0.07526885718107224, 0.348410427570343, 0.978963017463684, -0.17499476671218872, -1.130997657775879, -0.09181791543960573, -0.06951027363538742, 0.10825757682323456, 0.3005121946334839, -0.7254077792167664, 0.14171111583709717, 0.472992479801178, -0.21039313077926636, -0.9811775088310242, 0.3392421305179596, 0.118479922413826, -0.13483089208602905, -0.06820150464773178, -0.23018231987953183, 0.4983624219894409, 0.6216660141944885, -0.032075073570013046, -0.01449376344680786, -0.0012976229190826416, -0.5855234861373901, -0.6589557528495789, -0.08285154402256012, 0.362488329410553, 0.7536672353744507, -0.28372442722320557, -0.10245873034000395, -0.7410688996315002, -0.32135021686553955, -0.9457149505615234, 0.05711949244141579, -1.0274550914764404, 0.2189904898405075, 0.6464012861251831, -0.37326666712760925, -0.02889275550842285, 0.24072498083114624, 0.6066639423370361, 0.08583786338567734, -0.2558329105377197, -0.7271353006362915, -0.10178742557764052, -0.11162802577018738, -0.08248624205589294, -0.028387486934661865, 0.48661938309669495, 0.4349369406700134, -0.4975356161594391, -0.23021173477172852, 0.5444194078445435, 0.01576601341366768, 0.1004221886396408, 0.3484771251678467, -0.7278611660003662, 0.28314685821533203, 0.01564132422208786, 0.5395137667655945, 0.03458689525723457, -0.7817518711090088, 0.36091092228889465, 0.04199764132499695, -0.062439508736133575, 0.04983590543270111, 0.1995336711406708, 0.14634156227111816, 0.9933232665061952, -0.19956916570663452, 0.1434863954782486, 0.17814838886260986, -0.194629430770874, -0.225120946764946, 0.00253419578075409, -0.21946918964385984, -0.15950064361095428, 0.050844527781009674, -0.032474227249622345, -0.3788723945617676, -0.043558038771152496, -0.28588756918907166, -0.6312697529792786, 0.1985636800527573, -0.16836853325366974, 0.5629567503929138, 0.17176596820354462, 0.3344026505947113, -0.3281686305999756, -0.09612727165222168, 0.42871224880218506, -0.3197600841522217, 0.37946581840515137, 0.6483813524246216, 0.18422472476959229, 0.08554583787918091, 1.092372179031372, 0.4463522136211395, 0.5077607035636902, -0.14344197511672974, -0.1703798770904541, -0.19700738787651065, -0.30001482367515564, 0.093668133020401, -0.014484201557934284, 0.34368714690208435, -0.2089402973651886, -0.45429787039756775, -0.11133067309856416, 0.1215059757232666, 0.43111878633499146, -0.6813279390335083, -0.4408676028251648, -0.27697157859802246, 0.11699248850345612, 0.006867788732051849, 0.043049156665802, 0.17818482220172882, 0.40006023645401, 0.3820483982563019, -0.1819478869438171, 0.01630854606628418, -0.3370038568973541, -0.060496166348457336, -0.575968861579895, -0.4599645137786865, 0.2325727641582489, 0.2596200108528137, 0.3760415911674499, 0.28737151622772217, 0.2629217505455017, 0.2649635672569275, -0.12149176001548768, -0.08598850667476654, -0.19084466993808744, 1.1438554525375366, -0.05139092728495598, 0.3289101719856262, 0.5185786485671997, 0.7964463829994202, -0.11184817552566528, -0.05263090133666992, -0.35877954959869385, 0.030383864417672157, -0.6084526181221008, -1.4627094268798828, 0.6627998352050781, -0.012329768389463425, 0.32887712121009827, -0.35424625873565674, -0.8313363790512085, -0.12599217891693115, 0.2302822470664978, -0.05037161707878113, -0.07126946747303009, 0.14633232355117798, 0.10898125171661376, 0.3667215704917908, 0.0738983228802681, -0.06771907210350037, 0.09898456931114195, 0.5637212991714478, 0.33179956674575806, -0.33627501130104065, 0.4733070731163025, -0.0239401888102293, 0.5412242412567139, 0.2894933223724365, 0.2338755428791046, -0.2201249003410339, 0.23590655624866488, -0.16999347507953644, 0.7856754064559937, -0.7965188026428223, -0.5262760519981384, 0.7643119692802429, -0.09408443421125412, -0.37972521781921387, 0.08467245101928711, -5.911953449249268, 0.021251142024993896, 0.04266979917883873, -0.12027700245380402, 0.09052358567714693, 0.3929397463798523, -0.15193051099777222, 0.8530153036117554, -0.211193323135376, 0.12041956186294556, 0.29263627529144287, 0.3591235876083374, -0.24455887079238892, -0.302458256483078, -0.3718140125274658, -0.16572120785713196, 0.3955146968364715, 0.17124953866004944, -0.3392602801322937, 0.059792228043079376, 0.042565420269966125, 0.433538556098938, -0.2145521938800812, -0.39150744676589966, 0.03141148388385773, -0.40512460470199585, 0.3935858011245727, 0.41609078645706177, -0.3769017457962036, 0.38651418685913086, 0.15118589997291565, 0.5396642088890076, -0.5806807279586792, -0.5710201263427734, 0.19703859090805056, 0.1712169051170349, 0.0073098838329315186, -0.540370523929596, -0.3112906217575073, -0.3975548148155213, 0.2918711006641388, 0.4625796675682068, 0.4458421468734741, 0.27273809909820557, -0.13119255006313324, -0.4032078683376312, -0.4161316454410553, -1.0666054487228394, -0.5799804925918579, -0.27939456701278687, 0.5854097008705139, -0.07498357445001602, 0.5331909656524658, -0.7737603783607483, -1.0174747705459597, 0.07869592308998108, 0.7121602296829224, -0.3337032198905945, -0.04205993935465813, 0.22877150774002075, -0.2858791947364807, -0.6528607606887817, 0.1860614567995071, -0.002531975507736206, 0.23807308077812195, -0.4336864650249481, -0.35214897990226746, -0.305520236492157, 0.07278139144182205, 0.09643501788377762, 0.1326037049293518, 0.3168480396270752, 0.3764476478099823, 0.6704927682876587, 0.058821238577365875, 0.4579737186431885, -0.41977572441101074, -0.04551537707448006, 1.4296472072601318, -0.4654410481452942, 0.1903916448354721, -0.2600594758987427, -0.6079299449920654, 0.4107961058616638, 0.15375378727912903, -0.22062374651432037, 0.3659425377845764, -0.6238313913345337, 0.38846731185913086, 0.31184130907058716, 0.3027535676956177, 0.10258431732654572, -0.8957492113113403, 0.32087671756744385, 0.14676305651664734, -0.7739238142967224, 0.3174440264701843, 0.11337614059448242, -0.008752793073654175, 0.3499325215816498, -0.44620341062545776, -0.2477627396583557, -0.3795066773891449, 0.09128139168024064, 0.393404096364975, -0.8455832600593567, 0.42928364872932434, 0.4253597855567932, 0.04978132992982864, 0.004043594002723694, 0.16984957456588745, 0.3084943890571594, -0.12441558390855788, -0.12477034330368042, -0.04851368069648743, -0.2998356819152832, -0.10565195232629776, -0.3726916015148163, -0.15072762966156006, 0.2570512592792511, -0.1553950309753418, 0.6634300947189331, -0.794028639793396, -0.6875505447387695, 0.04139968752861023, 0.7760411500930786, 0.1750417202711105, -0.2613644003868103, 1.257204294204712, -0.888458788394928, -0.2891984283924103, 0.5013675689697266, -0.713909387588501, 1.1036027669906616, -0.13385522365570068, -0.04755398631095886, -0.4717619717121124, -0.34221604466438293, 0.12959718704223633, -0.1931752860546112, -0.2005344033241272, 0.43349704146385193, -0.00404570996761322, 1.340561866760254, -0.30584287643432617, -0.7897770404815674, 0.4848519563674927, -0.1716827154159546, -0.14446516335010529, 0.22249288856983185, -0.15942591428756714, -0.5988030433654785, 0.10526781529188156, 0.6984716653823853, -0.0011008977890014648, -0.3254932463169098, 0.17446579039096832, -1.130331039428711, -0.19679422676563263, 0.026882272213697433, -0.043009161949157715, -0.1446782499551773, -0.0604204386472702, 0.8550271987915039, -0.43607404828071594, 0.8545483350753784, 0.5882936120033264, -0.5410410761833191, 0.11499817669391632, 0.48111265897750854, 0.8586175441741943, -0.4988299608230591, -0.08532232791185379, -0.3725971579551697, 0.022063935175538063, -0.3160208761692047, -0.22342245280742645, -0.08700321614742279, -0.5585231184959412, -0.5360560417175293, -0.2834174335002899, 0.7828921675682068, -0.0993940532207489, -0.27267569303512573, -0.048208124935626984, -0.34028592705726624, -0.6309592127799988, 0.5940203666687012, 0.5955176949501038, -0.009478770196437836, 0.08984609693288803, 0.40744665265083313, -0.06285134702920914, -0.9093496203422546, 0.17697548866271973, 0.46719247102737427, 0.5837330222129822, 0.16570760309696198, -0.6111623048782349, -0.087232306599617, 0.16925963759422302, -0.1970941722393036, -0.2723434865474701, -0.2694387435913086, 0.21333763003349304, 0.5423793792724609, -0.628150224685669, 0.7460473775863647, 0.15787456929683685, 0.1180199533700943, 0.01593206822872162, 0.013111494481563568, -0.10192304849624634, -0.2806036174297333, -0.2909906804561615, -0.5335814952850342, 0.003883328288793564, 0.2569655179977417, -0.6218522191047668, -0.2531612813472748, 0.3762779235839844, 0.25010356307029724, 0.2958325147628784, 0.18818415701389313, -0.36756205558776855, 1.188969612121582, 0.2435336410999298, 0.09168992936611176, -0.1911899447441101, -0.1146891862154007, 0.2829192280769348, -0.3902184069156647, 0.15582120418548584, 0.3441772162914276, 0.37062129378318787, 0.28694015741348267, -0.23705743253231049, -0.08961130678653717, 0.16220006346702576, -0.2220556437969208, -0.23915213346481323, -0.14865344762802124, -0.1980883032083511, 0.12036949396133424, 0.44562768936157227, 0.5030288696289062, -0.5068864822387695, -0.3185969591140747, -0.2425658255815506, 0.1046743243932724, -0.05979616567492485, -0.47243285179138184, -0.4247638881206513, -0.7263894081115723, -0.3125153183937073, 0.3977782726287842, 0.3445141911506653, -0.2326761782169342, 0.4294393062591553, -0.4909222722053528, -0.8298884034156799, -0.2425512671470642, 0.6044754981994629, -0.18510770797729492, -0.3638254702091217, 0.044219039380550385, 0.25804609060287476, 0.3863243460655213, 0.4132939577102661, 0.4412097930908203, -0.6421245336532593, -0.5108829140663147, 0.17424413561820984, 0.4196888208389282, 0.4042696356773377, -0.0589044950902462, -0.1325945109128952, 0.24347266554832456, 0.19919854402542111, -0.2406492829322815, -0.20406147837638855, 0.2973563075065613, 0.185689240694046, 0.02395725250244141, 0.2045305073261261, -0.34324198961257935, 0.13039548695087433, 0.07005073130130768, -0.23149028420448303, -0.7410596609115601, -0.4404052495956421, -0.06636063754558563, 0.28649401664733887, -0.5335102677345276, -0.08331526815891266, 0.6778018474578857, -0.15311262011528015, 1.0967687368392944, -0.2130124270915985, 0.5879903435707092, 0.30785977840423584, 0.13969433307647705, 0.15393275022506714, -0.002279818058013916, 0.5767356753349304, -0.27939295768737793, -0.04308237135410309, -0.6174602508544922, 0.2436523139476776, 1.2578250169754028, 0.2998322546482086, -0.6074566841125488, -0.11569945514202118, -0.4515652656555176, -0.21490567922592163, -0.02181705087423325, -0.8293631076812744, 0.2789539396762848, -0.2364565134048462, 0.0796428769826889, 0.6537368297576904, 0.569108247756958, 0.3820646405220032, -0.0589715950191021, 0.1831478476524353, 0.6408451795578003, -0.21257419884204865, -0.40289655327796936, -0.528916597366333, -0.3392798900604248, -0.11629093438386916, -0.23268267512321472, -0.25376513600349426, 0.842057466506958, -0.44383716583251953, -0.1491224765777588, 0.23016151785850525, -0.17537516355514526, -0.4918963313102722, 0.4095397889614105, -0.3022014796733856, 0.36830735206604, 1.1072919368743896, 0.4111403822898865]], 'vocab': 'atc', '_id': 'fa036ebd-d0c2-436b-9e5f-d83630c5c867', '_collection_name': 'concept_mapping'}, page_content='<ent>alimentary tract and metabolism</ent><syn></syn><domain>drug</domain>'), Document(metadata={'concept_class': 'atc 2nd', 'domain': 'drug', 'has_answers': '', 'is_standard': 'C', 'label': 'vitamins', 'parent_term': 'alimentary tract and metabolism', 'scode': 'A11', 'sid': '21600800', 'synonyms': 'alimentary tract and metabolism;;vitamin', 'vector': [[0.1282873898744583, -0.34327444434165955, 0.12484278529882432, -1.0773259401321411, 0.2729923129081726, -0.3501938283443451, 0.17257630825042725, 0.2033934146165848, 0.06342712044715881, 0.4296303689479828, -0.2013828605413437, 0.6140047907829285, 0.13071180880069733, 0.1819148510694504, -0.8300278186798096, 0.18489140272140503, -0.33410099148750305, -0.12990935146808624, 0.3661061227321625, 0.2705487310886383, -0.04653605818748474, 0.15754665434360504, -0.3034186065196991, -0.8499090075492859, -0.004018356557935476, -0.5208038687705994, -0.448995441198349, -0.12750235199928284, 0.6526150107383728, -0.391708642244339, 0.5109289884567261, 0.5421886444091797, -0.8027172088623047, 0.24819640815258023, -0.060979753732681274, -0.11074510961771011, -0.19047431647777557, 0.3049546182155609, 0.4466366767883301, 0.10739081352949142, 0.5076689720153809, 0.19154232740402224, 0.22511206567287445, 0.4495803117752075, -0.6341429352760315, 0.8156203627586365, -0.0343562550842762, -0.29251429438591003, 0.1397397369146347, -0.7420556545257568, 0.7378599643707275, -0.35192230343818665, 0.16935336589813232, -0.37864741683006287, 0.30192264914512634, -0.05412377789616585, 0.28175970911979675, -0.26699313521385193, 0.9860202670097352, -0.27309200167655945, -0.28842103481292725, -0.4359732568264008, -0.0422646589577198, 0.17312341928482056, -0.11499988287687302, -0.17142611742019653, 0.16579924523830414, 0.25542137026786804, 0.3026045262813568, 0.2879308760166168, 0.34061774611473083, 0.6897757053375244, 0.05592374876141548, 0.11107064038515092, -0.02282758615911007, -0.2024886459112167, 0.5300189256668091, -0.47756266593933105, -0.3131053149700165, 0.4247766733169556, -0.3744250237941742, -0.0010422865161672237, -0.01425724197179079, 0.10098397731781006, -0.8673645853996277, -0.0901024043560028, 0.11890559643507004, 0.14946110546588898, 0.14639806747436523, 0.02900358848273754, 0.4034788906574249, 0.4074286222457886, -0.4130841195583343, -0.26961466670036316, -0.13797281682491302, -0.25381526350975037, 0.24902212619781497, 0.1860872507095337, -0.04034150764346123, -0.3524404466152191, -0.9640423655509948, 0.1649475395679474, -0.1275661587715149, 0.4672251641750336, -1.0731436014175415, 0.03656550124287605, 0.2932370901107788, 0.2686026096343994, -1.1164205074310305, -0.7433604598045349, 0.2053639441728592, -0.6724597811698914, -0.2571747601032257, 0.3529485762119293, -0.9999003410339355, 0.2500113546848297, 0.5538069605827332, 0.2380351275205612, -0.2816692292690277, 0.38115763664245605, -0.7061247825622559, 0.2852167785167694, -0.3401014506816864, -0.3793019950389862, 0.08744313567876816, -0.4827601015567779, 0.09040164947509766, 0.5604754090309143, -0.7796816229820251, 0.6468167304992676, 0.13698072731494904, -0.9011866450309752, 0.07824528962373734, -0.5519872903823853, -0.5455911755561829, 0.2572610080242157, -0.29400792717933655, 0.14956416189670563, 0.05754206702113152, -0.22140641510486603, -0.6710497736930847, -0.06505396217107773, -0.04872870817780495, -0.024113116785883904, -0.47986212372779846, -0.450152188539505, -0.5434776544570923, 0.3485863208770752, 0.31600940227508545, 0.015491760335862637, -0.11341176182031631, -0.07827442139387131, -0.7242183089256287, -0.16379877924919128, 0.18680959939956665, 0.4769976139068603, -0.014294862747192385, 0.4439377784729004, -0.769432008266449, -0.29169848561286926, 0.04196961224079132, -0.26076337695121765, 0.9617293477058412, 0.20064644515514377, 0.045524269342422485, 0.818164050579071, 0.12056633830070496, -0.19081054627895355, -1.0296789407730105, -0.28975173830986023, 0.15776033699512482, 0.2871311902999878, -0.20992660522460935, -0.06334743648767471, 0.4125286638736725, 0.14290928840637207, -0.5781466960906982, -0.1946316808462143, -0.3677705228328705, 0.30598723888397217, -0.05862538889050484, -1.0414217710494995, 0.13141591846942902, -0.9461917877197266, -0.1839966326951981, -0.31624165177345276, -0.3317439556121826, -0.3526235818862915, 0.2525862455368042, 0.023661330342292786, 0.17567233741283417, 0.1553119570016861, -0.40013253688812256, 0.16379550099372864, -0.3977724611759186, -0.7646344304084778, 0.19110284745693207, 0.7892773747444153, 0.4503461420536041, 0.1979651004076004, -0.2830653488636017, 0.446338027715683, -0.5897346138954163, -0.18274575471878052, -0.14318425953388214, -0.3931322395801544, 0.5167208909988403, -0.32515156269073486, 0.3817194700241089, 0.1849408894777298, 0.07825497537851334, 0.4726242125034332, -0.05692486464977264, 0.243208572268486, 0.4183247983455658, 0.008095900528132915, 0.5636322498321533, -0.044272322207689285, -0.14912237226963043, 0.2692781686782837, 0.4411731958389282, -0.5396089553833008, -0.0005641977186314762, -0.20481513440608975, 0.29119768738746643, 0.25432920455932617, -0.5897107124328613, -0.3724464178085327, -0.3773734867572784, 0.13164353370666504, -0.6813173890113831, -0.45379170775413513, 0.20500712096691132, 0.9343579411506652, 0.15623125433921814, 0.6187363266944885, -0.4023473560810089, 0.743927001953125, -0.09066150337457655, 0.4436359405517578, 0.1170455440878868, -0.3940099179744721, -0.41788986325263977, 0.6156837344169617, -0.009237605147063732, 0.8501572012901306, 1.1887248754501345, -0.25037750601768494, -1.1993802785873413, -0.13135172426700592, 0.08966851979494095, 0.06856419891119003, 0.8359726071357727, -0.2955741286277771, -0.25819340348243713, 0.24462099373340607, -0.7464275360107422, -0.20522575080394745, 0.03959086537361145, -0.1120920404791832, -0.2930983603000641, 0.13531194627285004, 0.18497811257839203, 0.6107355356216431, 0.7390453219413757, 0.09186629205942154, -0.11367335915565492, 0.10679622739553452, -0.650052547454834, -0.8203079700469971, -0.6533166766166687, 0.519989550113678, 0.30949971079826355, -0.3871149122714996, -0.4778648912906647, 0.04700685665011406, 0.20331072807312012, -0.728998601436615, -0.3741963803768158, -0.1964731365442276, -0.16659097373485565, 0.9644746780395508, 0.3933162391185761, -0.2733577787876129, 0.13923820853233335, 0.6145836710929871, -0.1682131141424179, -0.3452214300632477, -0.4970869719982147, -0.015633806586265564, -0.4206397533416748, 0.2212943285703659, 0.5489571690559387, 0.006694593001157045, 1.039302945137024, 0.0443098358809948, -0.1434185653924942, -0.053933728486299515, -0.4053332805633545, 0.18257372081279755, 0.21068961918354032, -0.8715169429779053, -0.28221428394317627, -0.33190077543258667, 0.2198200225830078, 0.2599075138568878, -0.5914777517318726, -0.16825872659683228, 0.1975528746843338, -0.11178642511367798, -0.27834099531173706, 0.5628547072410583, 0.6624114513397217, 0.9973900318145752, -0.09944415092468262, -0.5547279715538025, 0.8934006094932556, -0.6563857197761536, -0.23715977370738983, 0.2769993245601654, -0.4093271493911743, -0.45988693833351135, 0.06074562296271324, 0.021603763103485107, -0.40726789832115173, 0.1292676478624344, -0.4251529276371002, -0.7358903884887695, 0.23432718217372897, 0.10041763633489607, 0.913425624370575, 0.3496841490268707, 0.03920596092939377, 0.44237908720970154, -0.8303112983703613, 0.07833073288202286, 0.07071416825056076, 0.757129967212677, 0.7186412811279297, 0.14833030104637146, -0.07330944389104843, 0.3155348300933838, 0.1947365254163742, 0.439235121011734, -0.6285451054573059, 0.24262170493602753, 0.20790189504623413, -0.25389808416366577, 0.34947314858436584, -0.3027017414569855, -0.09809570759534836, -0.4994963109493256, -0.2396504282951355, 0.08419352769851685, 0.22176611423492432, 0.322005033493042, -0.3204723298549652, -0.2499538213014603, 0.01092854142189026, 0.1353832632303238, -0.13920806348323822, -0.2116791605949402, -0.02147236466407776, 0.8229898810386658, 0.5890185832977295, -0.7384576797485352, 0.28260692954063416, -0.15934032201766968, 0.4669051170349121, -1.204716682434082, -0.8115572929382324, 0.05432922765612602, 0.05680909752845764, 0.6048202514648438, 0.062199294567108154, -0.06778120249509811, 0.056814830750226974, 0.0071500688791275024, -0.2426183968782425, -0.13642407953739166, 0.8820052742958069, -0.14516973495483398, -0.05328899994492531, 0.3911928236484528, 0.7653078436851501, 0.06364378333091736, -0.3859306573867798, -0.5921416878700256, 0.1927310675382614, -0.8686237335205078, -1.3052080869674685, 0.7072350382804871, 0.1982322484254837, -0.06365237385034561, -0.5047815442085266, -0.19318024814128876, 0.15207087993621826, 0.1929853707551956, -0.45573726296424866, -0.2492336630821228, 0.5576514005661011, 0.13918837904930115, -0.2251346856355667, -0.15169250965118408, -0.1893860101699829, -0.23533649742603305, 0.21530991792678833, 0.5753502249717712, -0.0385487899184227, 0.2987086772918701, -0.24370501935482025, 0.07617741078138351, 1.0604814291000366, -0.2226243019104004, -0.491768479347229, 0.2316383570432663, 0.07915452867746353, 0.2460780888795853, 0.04459385946393013, 0.16054648160934448, 0.5848169922828674, 0.42869460582733154, -0.04333295300602913, 0.8935825228691101, -5.062488555908203, 0.16369237005710602, -0.20012973248958588, 0.21629105508327484, 0.14351946115493774, 0.25277623534202576, -0.2707757353782654, 1.0451985597610474, -0.5315197110176086, -0.04601570963859558, 0.09888968616724014, -0.1516965627670288, -0.2902039587497711, -0.04718739911913872, -0.27174824476242065, -0.46573832631111145, 0.4164506494998932, 0.12992370128631592, -0.1673957109451294, 0.29517099261283875, -0.29969775676727295, -0.45113644003868103, -0.021494895219802856, -0.2167069911956787, 0.1656084507703781, -0.8003491759300232, -0.09508690983057022, 0.4688151776790619, 0.3154682219028473, -0.2243873625993729, 0.6278995871543884, 0.1459120362997055, -0.8021907806396484, 0.11210957169532776, 0.4098854064941406, 0.0325431264936924, -0.6645431518554688, -0.3791145384311676, -0.10980620235204697, -0.16800104081630707, 0.5589314103126526, -0.022503027692437172, -0.10480590909719469, 0.08166147023439407, -0.3107105791568756, -0.642840564250946, 0.11845733970403673, -0.135161355137825, -0.26115408539772034, -0.9754047989845276, 0.047665148973464966, -0.17592525482177734, 0.223713681101799, -0.4059074819087982, -0.648113489151001, 0.38983675837516785, 0.3238695561885834, -0.057353075593709946, -0.5402610301971436, 0.11306392401456831, -0.22111813724040985, -0.4940246641635895, -0.24935252964496613, -0.47599267959594727, 0.1470029503107071, -0.5894222259521484, -0.6372011303901672, 0.17701618373394012, 0.13747234642505646, 0.07489269226789474, 0.6609895825386047, 0.06095709279179573, 0.24051892757415771, -0.46475109457969666, 0.6311184763908386, 0.4544880390167236, -0.32419881224632263, -0.030879808589816093, 1.311648726463318, -0.6241652369499207, 0.25518810749053955, -0.0978873148560524, -0.04330497980117798, -0.3910740911960602, 0.05496155843138695, -0.023815125226974487, 0.4615088701248169, -0.72284334897995, 0.7794201374053955, 0.029880860820412636, 0.2609834671020508, 0.1992584466934204, -0.7053934931755066, 0.22432301938533783, 0.2200467586517334, -0.3583885431289673, 0.8921154141426086, 0.11337194591760635, -0.36923250555992126, 0.919001281261444, -0.7589952349662781, -0.4514613449573517, -0.4205543994903565, 0.19483812153339383, 0.365799218416214, -0.6917014122009277, 0.30418458580970764, -0.1966072916984558, -0.07106254249811172, 0.05922411382198334, -0.10082989931106567, 0.3135567903518677, 0.4187711179256439, -0.4474773705005646, 0.17512743175029755, -0.11024320870637894, -0.21385563910007477, -0.5013661980628967, -0.0964801087975502, 0.18664830923080444, -0.03858653083443642, 0.7196030020713806, -0.459660917520523, -0.5973069667816162, 0.4082832336425781, 0.9198038578033448, 0.23769909143447876, -0.43933865427970886, 0.41684362292289734, -1.107762336730957, -0.3562185764312744, 0.5301551222801208, -0.6459519267082214, 1.5592546463012695, -0.2263378947973251, 0.3372986316680908, 0.3257075846195221, -0.7125707268714905, 0.031546976417303085, -0.20128792524337769, -0.1725066900253296, 0.4207901656627655, -0.3016813397407532, 1.0883758068084717, -0.3958023488521576, -0.25276076793670654, -0.013463337905704977, 0.04983269050717354, 0.19216859340667725, -0.38279542326927185, -0.369322270154953, -0.5561336874961853, -0.089451365172863, 0.8245856761932373, -0.7197644710540771, 0.13621827960014343, 0.007608279585838318, -0.8504109382629395, -0.14984291791915894, 0.4491502344608307, -0.03995109722018242, 0.5591422915458679, -0.2673656940460205, 0.7833539843559265, -0.7949729561805725, 0.34986814856529236, 0.7117803692817688, -0.5589714646339417, 0.2045660763978958, 0.1372259110212326, 0.4397116899490357, -0.09648975729942322, -0.14226727187633514, -0.6138371825218201, 0.043971821665763855, -0.4698404371738434, 0.014836137183010578, -0.16509868204593658, 0.019164523109793663, -0.0013271173229441049, -0.1720043271780014, 0.6928735375404358, -0.3275117576122284, 0.03761019185185432, -0.03583914414048195, -0.5547165274620056, -0.4804382026195526, -0.042417120188474655, 0.929686725139618, 0.1702512353658676, -0.1357761025428772, 0.4465823173522949, -0.5870148539543152, -0.2497595101594925, -0.3282296359539032, 0.1851557046175003, -0.04990285634994507, -0.12873928248882294, -0.4135673344135285, 0.5829896926879883, -0.49949002265930176, 0.07641655951738358, -0.4614221751689911, -0.3293721377849579, 0.018325189128518105, 0.6145195364952087, -0.4803948402404785, 1.3796697854995728, 0.14204037189483645, -0.17448876798152924, 0.3744957745075226, -0.4073622524738312, 0.15735627710819244, -0.25089696049690247, -0.5554323792457581, -0.20343749225139615, 0.10645578056573868, 0.06599169969558716, -0.5641632080078125, -0.3044542670249939, 0.34096768498420715, 0.3881641924381256, 0.24327664077281952, -0.016760652884840965, 0.11634290963411333, 1.2314985990524292, -0.30756014585494995, 0.15800482034683228, 0.18015120923519137, 0.07954766601324081, 0.1430799812078476, -0.19739437103271484, 0.5477917790412903, -0.07227642089128494, 0.08643993735313416, 0.03400174900889397, -0.46291041374206543, -0.35453855991363525, -0.3581189215183258, -0.16965781152248385, -0.6048120856285095, 0.09201105684041976, -0.3282727897167206, 0.0591375045478344, 0.7046828866004944, 0.6821295619010925, -0.3127068281173706, -0.16488946974277496, -0.3696701228618622, 0.10969781875610352, -0.12825073301792145, -0.1778424233198166, -0.6529269814491272, -0.17760811746120453, 0.12124639749526978, 0.014804840087890623, -0.051260221749544144, 0.20785899460315704, 0.5408129692077637, -0.15244850516319275, -0.44051316380500793, -0.3757918179035187, 0.6031410098075867, -0.5308342576026917, -0.6138931512832642, 0.08740613609552383, 0.9434208869934082, 0.36750397086143494, -0.03737686946988106, 0.0689331516623497, -0.46302786469459534, -0.019495448097586632, -0.013160177506506445, 0.27793392539024353, 0.48388513922691345, 0.039550770074129105, -0.10905077308416368, 0.3891126811504364, 0.22538353502750397, 0.13167743384838104, -0.10106592625379562, 0.37691131234169006, 0.2998700439929962, -0.30287986993789673, -0.3153897523880005, -0.4910832941532135, -0.1556015908718109, -0.24925704300403595, -0.2025080174207687, -0.2349478155374527, -0.6605257987976074, 0.20863057672977448, -0.2554302215576172, -0.7004785537719727, -0.7919194102287292, 0.25315016508102417, -0.1135261133313179, 1.1402029991149902, -0.3990389406681061, 0.32645925879478455, -0.04678388312458992, 0.25785160064697266, 0.4666379988193512, 0.046193744987249374, 0.8655697703361511, 0.1164473071694374, -0.1981828808784485, -0.25624367594718933, 0.4169593155384064, 0.8963251709938049, 0.3449234664440155, -0.5056318640708923, -0.012867704033851624, 0.10406473278999329, -0.7333025932312012, -0.15271438658237457, -0.5355997085571289, 0.4464908838272095, -0.22949586808681488, -0.08602779358625412, 0.6785346865653992, -0.0560387521982193, 0.26984110474586487, -0.3174045979976654, 0.19005294144153595, 0.27039262652397156, -0.05685679614543915, -0.30022111535072327, -0.5696641802787781, -0.6553290486335754, 0.1556539684534073, 0.2423740029335022, 0.1410026103258133, 0.4116494655609131, -0.2696402370929718, -0.010017956607043743, 0.4231944084167481, 0.33256271481513977, -1.0253695249557495, 0.3471800982952118, -0.25033271312713623, 0.4682895243167877, 0.6660318374633789, 0.22824202477931976]], 'vocab': 'atc', '_id': '03b070c9-9e17-4414-954f-abed36888b4b', '_collection_name': 'concept_mapping'}, page_content='<ent>vitamins</ent><syn>alimentary tract and metabolism;;vitamin</syn><domain>drug</domain>')]\n",
      "* <ent>alimentary tract and metabolism</ent><syn></syn><domain>drug</domain> [{'concept_class': 'atc 1st', 'domain': 'drug', 'has_answers': '', 'is_standard': 'C', 'label': 'alimentary tract and metabolism', 'parent_term': '', 'scode': 'A', 'sid': '21600001', 'synonyms': '', 'vector': [[0.055979568511247635, -0.29887762665748596, 0.44734054803848267, -0.2205943465232849, 0.22514361143112183, -0.16349554061889648, 0.29436439275741577, 0.3582160770893097, -0.10512715578079224, 0.3218802809715271, -0.2537801265716553, -0.2312815934419632, 0.4727074205875397, 0.08076423406600952, -1.3948839902877808, 0.1963689774274826, -0.10144656896591188, -0.06201427802443504, 0.17835527658462524, 0.305111825466156, 0.11926195025444032, 0.21886682510375977, -0.33678650856018066, -0.5477790832519531, -0.3273129463195801, -0.2729000151157379, -0.2479577958583832, 0.07131101191043854, -0.03796863555908203, -0.2083923816680908, 0.4726697206497192, 0.32677286863327026, 0.02321099489927292, 0.470431923866272, 0.3219035267829895, -0.3457314670085907, 0.25644633173942566, 0.34543949365615845, -0.03198184072971344, 0.2795325815677643, 0.027605995535850525, -0.1940741986036301, -0.15370938181877136, -0.08307354897260666, -0.013073958456516266, 0.2369321584701538, 0.21678847074508667, 0.2496025711297989, 0.04709412157535553, 0.11771677434444427, 0.8719683885574341, -0.4617854356765747, 0.16195708513259888, -0.3102058172225952, 0.6485127210617065, 0.1393144428730011, 0.34871941804885864, 0.057700298726558685, -0.4329559803009033, 0.08635502308607101, -0.4066666066646576, 0.1522044837474823, -0.32424187660217285, -0.2832762598991394, 0.27975553274154663, -0.24386711418628693, -0.6078788042068481, 0.019298791885375977, -0.3144769072532654, -0.3526766896247864, 0.6130643486976624, -0.09801359474658966, -0.23416538536548617, 0.22468048334121704, -0.024939924478530884, 0.026283089071512222, 0.341781347990036, -0.615828812122345, 0.5923384428024292, -0.07122208923101425, -0.4180755615234375, 0.1430129110813141, -0.5230331420898438, 0.22546657919883728, -0.8937298059463501, 0.09277689456939696, 0.003245294094085694, 0.2068590521812439, -0.3228546977043152, 0.4307098686695099, 0.4083307981491089, -0.0389079749584198, -0.6667635440826416, 0.023354873061180115, 0.08707289397716522, -0.2882944941520691, -0.18361693620681763, 0.009824320673942566, -0.014938943088054655, -0.23880596458911896, -0.6843146681785583, 0.1918381899595261, 0.13577450811862946, 0.216571643948555, -0.8233131170272827, 0.09081238508224489, 0.455254465341568, 0.03576244041323662, -0.9462567567825316, -0.47930699586868286, 0.5877424478530884, -0.9304051399230956, -0.46849125623703, 0.45979443192481995, -0.6128175258636475, 0.8058874607086182, 0.1620793342590332, -0.03117997944355011, -0.5432199239730835, 0.5420427918434143, -0.958063006401062, 0.4892400801181793, -0.24261273443698883, -0.1595190018415451, -0.169610857963562, -0.1271456778049469, 0.12169155478477478, 0.04127413034439087, -0.6622632145881653, 0.6306124925613403, 0.2244831919670105, -0.9053388237953186, 0.32587653398513794, -0.18374617397785187, -0.5982618927955627, 0.09605059027671814, 0.0968710631132126, 0.2822199761867523, -0.32416051626205444, 0.2232133001089096, -0.6234409213066101, 0.07140031456947327, -0.28771984577178955, -0.0763992965221405, -0.2828601598739624, -0.9091426730155944, -0.474412739276886, 0.2238088995218277, 0.059077609330415726, -0.1222558096051216, -0.05435652285814285, -0.3288397192955017, -0.6907073259353638, -0.1829664707183838, 0.31019237637519836, 0.34926077723503113, -0.6102843284606934, 0.6094857454299927, -0.6032783389091492, -0.1096971333026886, 0.573651909828186, -0.21627171337604523, 0.34797146916389465, 0.2276929616928101, -0.22299346327781677, 0.601925253868103, -0.16577312350273132, -0.6268705129623413, -0.7149078845977783, -0.16073206067085266, -0.2583230137825012, 0.1270158290863037, -0.22429035604000092, 0.298936665058136, -0.0157456174492836, -0.223631352186203, -0.0953812301158905, 0.06301310658454895, -0.41696298122406006, 0.18080975115299225, -0.2890685200691223, -0.48113399744033813, 0.017295606434345245, -0.6899420619010925, 0.15175600349903107, -0.6968432664871216, -0.6234042644500732, 0.03401990234851837, 0.07460038363933563, 0.07947301864624023, 0.28631407022476196, 0.2208075225353241, -0.557517409324646, -0.32568657398223877, -0.681856632232666, -0.2148856669664383, 0.25050151348114014, 0.792624831199646, 0.7109423875808716, 0.3100205063819885, -0.20159609615802765, 0.341381698846817, -0.8235955238342285, -0.4319563508033752, 0.07015485316514969, -0.2668748199939728, 0.961333394050598, 0.03896409273147583, 0.2469492703676224, -0.1370762437582016, -0.09058129787445068, 0.6547113656997681, -0.06613478064537048, -0.11639738082885742, 0.11648312956094742, -0.0642261654138565, 0.5036960244178772, 0.49365872144699097, 0.07696846127510071, -0.05038268864154816, -0.0944688841700554, -0.6861947774887085, -0.04273995757102966, -0.1952117830514908, 0.05461117625236511, 0.019991669803857803, -0.3097466826438904, -0.024595685303211212, -0.09991329908370972, 0.03118406981229782, -0.3998417854309082, -0.7362319231033325, -0.17523795366287231, 0.6653837561607361, 0.2861522436141968, 0.35288387537002563, -1.1081658601760864, 0.7775778770446777, -0.07847078889608383, 0.19743259251117704, 0.4732118546962738, -0.6772875189781189, -0.24812360107898712, 0.1820400059223175, 0.07526885718107224, 0.348410427570343, 0.978963017463684, -0.17499476671218872, -1.130997657775879, -0.09181791543960573, -0.06951027363538742, 0.10825757682323456, 0.3005121946334839, -0.7254077792167664, 0.14171111583709717, 0.472992479801178, -0.21039313077926636, -0.9811775088310242, 0.3392421305179596, 0.118479922413826, -0.13483089208602905, -0.06820150464773178, -0.23018231987953183, 0.4983624219894409, 0.6216660141944885, -0.032075073570013046, -0.01449376344680786, -0.0012976229190826416, -0.5855234861373901, -0.6589557528495789, -0.08285154402256012, 0.362488329410553, 0.7536672353744507, -0.28372442722320557, -0.10245873034000395, -0.7410688996315002, -0.32135021686553955, -0.9457149505615234, 0.05711949244141579, -1.0274550914764404, 0.2189904898405075, 0.6464012861251831, -0.37326666712760925, -0.02889275550842285, 0.24072498083114624, 0.6066639423370361, 0.08583786338567734, -0.2558329105377197, -0.7271353006362915, -0.10178742557764052, -0.11162802577018738, -0.08248624205589294, -0.028387486934661865, 0.48661938309669495, 0.4349369406700134, -0.4975356161594391, -0.23021173477172852, 0.5444194078445435, 0.01576601341366768, 0.1004221886396408, 0.3484771251678467, -0.7278611660003662, 0.28314685821533203, 0.01564132422208786, 0.5395137667655945, 0.03458689525723457, -0.7817518711090088, 0.36091092228889465, 0.04199764132499695, -0.062439508736133575, 0.04983590543270111, 0.1995336711406708, 0.14634156227111816, 0.9933232665061952, -0.19956916570663452, 0.1434863954782486, 0.17814838886260986, -0.194629430770874, -0.225120946764946, 0.00253419578075409, -0.21946918964385984, -0.15950064361095428, 0.050844527781009674, -0.032474227249622345, -0.3788723945617676, -0.043558038771152496, -0.28588756918907166, -0.6312697529792786, 0.1985636800527573, -0.16836853325366974, 0.5629567503929138, 0.17176596820354462, 0.3344026505947113, -0.3281686305999756, -0.09612727165222168, 0.42871224880218506, -0.3197600841522217, 0.37946581840515137, 0.6483813524246216, 0.18422472476959229, 0.08554583787918091, 1.092372179031372, 0.4463522136211395, 0.5077607035636902, -0.14344197511672974, -0.1703798770904541, -0.19700738787651065, -0.30001482367515564, 0.093668133020401, -0.014484201557934284, 0.34368714690208435, -0.2089402973651886, -0.45429787039756775, -0.11133067309856416, 0.1215059757232666, 0.43111878633499146, -0.6813279390335083, -0.4408676028251648, -0.27697157859802246, 0.11699248850345612, 0.006867788732051849, 0.043049156665802, 0.17818482220172882, 0.40006023645401, 0.3820483982563019, -0.1819478869438171, 0.01630854606628418, -0.3370038568973541, -0.060496166348457336, -0.575968861579895, -0.4599645137786865, 0.2325727641582489, 0.2596200108528137, 0.3760415911674499, 0.28737151622772217, 0.2629217505455017, 0.2649635672569275, -0.12149176001548768, -0.08598850667476654, -0.19084466993808744, 1.1438554525375366, -0.05139092728495598, 0.3289101719856262, 0.5185786485671997, 0.7964463829994202, -0.11184817552566528, -0.05263090133666992, -0.35877954959869385, 0.030383864417672157, -0.6084526181221008, -1.4627094268798828, 0.6627998352050781, -0.012329768389463425, 0.32887712121009827, -0.35424625873565674, -0.8313363790512085, -0.12599217891693115, 0.2302822470664978, -0.05037161707878113, -0.07126946747303009, 0.14633232355117798, 0.10898125171661376, 0.3667215704917908, 0.0738983228802681, -0.06771907210350037, 0.09898456931114195, 0.5637212991714478, 0.33179956674575806, -0.33627501130104065, 0.4733070731163025, -0.0239401888102293, 0.5412242412567139, 0.2894933223724365, 0.2338755428791046, -0.2201249003410339, 0.23590655624866488, -0.16999347507953644, 0.7856754064559937, -0.7965188026428223, -0.5262760519981384, 0.7643119692802429, -0.09408443421125412, -0.37972521781921387, 0.08467245101928711, -5.911953449249268, 0.021251142024993896, 0.04266979917883873, -0.12027700245380402, 0.09052358567714693, 0.3929397463798523, -0.15193051099777222, 0.8530153036117554, -0.211193323135376, 0.12041956186294556, 0.29263627529144287, 0.3591235876083374, -0.24455887079238892, -0.302458256483078, -0.3718140125274658, -0.16572120785713196, 0.3955146968364715, 0.17124953866004944, -0.3392602801322937, 0.059792228043079376, 0.042565420269966125, 0.433538556098938, -0.2145521938800812, -0.39150744676589966, 0.03141148388385773, -0.40512460470199585, 0.3935858011245727, 0.41609078645706177, -0.3769017457962036, 0.38651418685913086, 0.15118589997291565, 0.5396642088890076, -0.5806807279586792, -0.5710201263427734, 0.19703859090805056, 0.1712169051170349, 0.0073098838329315186, -0.540370523929596, -0.3112906217575073, -0.3975548148155213, 0.2918711006641388, 0.4625796675682068, 0.4458421468734741, 0.27273809909820557, -0.13119255006313324, -0.4032078683376312, -0.4161316454410553, -1.0666054487228394, -0.5799804925918579, -0.27939456701278687, 0.5854097008705139, -0.07498357445001602, 0.5331909656524658, -0.7737603783607483, -1.0174747705459597, 0.07869592308998108, 0.7121602296829224, -0.3337032198905945, -0.04205993935465813, 0.22877150774002075, -0.2858791947364807, -0.6528607606887817, 0.1860614567995071, -0.002531975507736206, 0.23807308077812195, -0.4336864650249481, -0.35214897990226746, -0.305520236492157, 0.07278139144182205, 0.09643501788377762, 0.1326037049293518, 0.3168480396270752, 0.3764476478099823, 0.6704927682876587, 0.058821238577365875, 0.4579737186431885, -0.41977572441101074, -0.04551537707448006, 1.4296472072601318, -0.4654410481452942, 0.1903916448354721, -0.2600594758987427, -0.6079299449920654, 0.4107961058616638, 0.15375378727912903, -0.22062374651432037, 0.3659425377845764, -0.6238313913345337, 0.38846731185913086, 0.31184130907058716, 0.3027535676956177, 0.10258431732654572, -0.8957492113113403, 0.32087671756744385, 0.14676305651664734, -0.7739238142967224, 0.3174440264701843, 0.11337614059448242, -0.008752793073654175, 0.3499325215816498, -0.44620341062545776, -0.2477627396583557, -0.3795066773891449, 0.09128139168024064, 0.393404096364975, -0.8455832600593567, 0.42928364872932434, 0.4253597855567932, 0.04978132992982864, 0.004043594002723694, 0.16984957456588745, 0.3084943890571594, -0.12441558390855788, -0.12477034330368042, -0.04851368069648743, -0.2998356819152832, -0.10565195232629776, -0.3726916015148163, -0.15072762966156006, 0.2570512592792511, -0.1553950309753418, 0.6634300947189331, -0.794028639793396, -0.6875505447387695, 0.04139968752861023, 0.7760411500930786, 0.1750417202711105, -0.2613644003868103, 1.257204294204712, -0.888458788394928, -0.2891984283924103, 0.5013675689697266, -0.713909387588501, 1.1036027669906616, -0.13385522365570068, -0.04755398631095886, -0.4717619717121124, -0.34221604466438293, 0.12959718704223633, -0.1931752860546112, -0.2005344033241272, 0.43349704146385193, -0.00404570996761322, 1.340561866760254, -0.30584287643432617, -0.7897770404815674, 0.4848519563674927, -0.1716827154159546, -0.14446516335010529, 0.22249288856983185, -0.15942591428756714, -0.5988030433654785, 0.10526781529188156, 0.6984716653823853, -0.0011008977890014648, -0.3254932463169098, 0.17446579039096832, -1.130331039428711, -0.19679422676563263, 0.026882272213697433, -0.043009161949157715, -0.1446782499551773, -0.0604204386472702, 0.8550271987915039, -0.43607404828071594, 0.8545483350753784, 0.5882936120033264, -0.5410410761833191, 0.11499817669391632, 0.48111265897750854, 0.8586175441741943, -0.4988299608230591, -0.08532232791185379, -0.3725971579551697, 0.022063935175538063, -0.3160208761692047, -0.22342245280742645, -0.08700321614742279, -0.5585231184959412, -0.5360560417175293, -0.2834174335002899, 0.7828921675682068, -0.0993940532207489, -0.27267569303512573, -0.048208124935626984, -0.34028592705726624, -0.6309592127799988, 0.5940203666687012, 0.5955176949501038, -0.009478770196437836, 0.08984609693288803, 0.40744665265083313, -0.06285134702920914, -0.9093496203422546, 0.17697548866271973, 0.46719247102737427, 0.5837330222129822, 0.16570760309696198, -0.6111623048782349, -0.087232306599617, 0.16925963759422302, -0.1970941722393036, -0.2723434865474701, -0.2694387435913086, 0.21333763003349304, 0.5423793792724609, -0.628150224685669, 0.7460473775863647, 0.15787456929683685, 0.1180199533700943, 0.01593206822872162, 0.013111494481563568, -0.10192304849624634, -0.2806036174297333, -0.2909906804561615, -0.5335814952850342, 0.003883328288793564, 0.2569655179977417, -0.6218522191047668, -0.2531612813472748, 0.3762779235839844, 0.25010356307029724, 0.2958325147628784, 0.18818415701389313, -0.36756205558776855, 1.188969612121582, 0.2435336410999298, 0.09168992936611176, -0.1911899447441101, -0.1146891862154007, 0.2829192280769348, -0.3902184069156647, 0.15582120418548584, 0.3441772162914276, 0.37062129378318787, 0.28694015741348267, -0.23705743253231049, -0.08961130678653717, 0.16220006346702576, -0.2220556437969208, -0.23915213346481323, -0.14865344762802124, -0.1980883032083511, 0.12036949396133424, 0.44562768936157227, 0.5030288696289062, -0.5068864822387695, -0.3185969591140747, -0.2425658255815506, 0.1046743243932724, -0.05979616567492485, -0.47243285179138184, -0.4247638881206513, -0.7263894081115723, -0.3125153183937073, 0.3977782726287842, 0.3445141911506653, -0.2326761782169342, 0.4294393062591553, -0.4909222722053528, -0.8298884034156799, -0.2425512671470642, 0.6044754981994629, -0.18510770797729492, -0.3638254702091217, 0.044219039380550385, 0.25804609060287476, 0.3863243460655213, 0.4132939577102661, 0.4412097930908203, -0.6421245336532593, -0.5108829140663147, 0.17424413561820984, 0.4196888208389282, 0.4042696356773377, -0.0589044950902462, -0.1325945109128952, 0.24347266554832456, 0.19919854402542111, -0.2406492829322815, -0.20406147837638855, 0.2973563075065613, 0.185689240694046, 0.02395725250244141, 0.2045305073261261, -0.34324198961257935, 0.13039548695087433, 0.07005073130130768, -0.23149028420448303, -0.7410596609115601, -0.4404052495956421, -0.06636063754558563, 0.28649401664733887, -0.5335102677345276, -0.08331526815891266, 0.6778018474578857, -0.15311262011528015, 1.0967687368392944, -0.2130124270915985, 0.5879903435707092, 0.30785977840423584, 0.13969433307647705, 0.15393275022506714, -0.002279818058013916, 0.5767356753349304, -0.27939295768737793, -0.04308237135410309, -0.6174602508544922, 0.2436523139476776, 1.2578250169754028, 0.2998322546482086, -0.6074566841125488, -0.11569945514202118, -0.4515652656555176, -0.21490567922592163, -0.02181705087423325, -0.8293631076812744, 0.2789539396762848, -0.2364565134048462, 0.0796428769826889, 0.6537368297576904, 0.569108247756958, 0.3820646405220032, -0.0589715950191021, 0.1831478476524353, 0.6408451795578003, -0.21257419884204865, -0.40289655327796936, -0.528916597366333, -0.3392798900604248, -0.11629093438386916, -0.23268267512321472, -0.25376513600349426, 0.842057466506958, -0.44383716583251953, -0.1491224765777588, 0.23016151785850525, -0.17537516355514526, -0.4918963313102722, 0.4095397889614105, -0.3022014796733856, 0.36830735206604, 1.1072919368743896, 0.4111403822898865]], 'vocab': 'atc', '_id': 'fa036ebd-d0c2-436b-9e5f-d83630c5c867', '_collection_name': 'concept_mapping'}]\n",
      "* <ent>vitamins</ent><syn>alimentary tract and metabolism;;vitamin</syn><domain>drug</domain> [{'concept_class': 'atc 2nd', 'domain': 'drug', 'has_answers': '', 'is_standard': 'C', 'label': 'vitamins', 'parent_term': 'alimentary tract and metabolism', 'scode': 'A11', 'sid': '21600800', 'synonyms': 'alimentary tract and metabolism;;vitamin', 'vector': [[0.1282873898744583, -0.34327444434165955, 0.12484278529882432, -1.0773259401321411, 0.2729923129081726, -0.3501938283443451, 0.17257630825042725, 0.2033934146165848, 0.06342712044715881, 0.4296303689479828, -0.2013828605413437, 0.6140047907829285, 0.13071180880069733, 0.1819148510694504, -0.8300278186798096, 0.18489140272140503, -0.33410099148750305, -0.12990935146808624, 0.3661061227321625, 0.2705487310886383, -0.04653605818748474, 0.15754665434360504, -0.3034186065196991, -0.8499090075492859, -0.004018356557935476, -0.5208038687705994, -0.448995441198349, -0.12750235199928284, 0.6526150107383728, -0.391708642244339, 0.5109289884567261, 0.5421886444091797, -0.8027172088623047, 0.24819640815258023, -0.060979753732681274, -0.11074510961771011, -0.19047431647777557, 0.3049546182155609, 0.4466366767883301, 0.10739081352949142, 0.5076689720153809, 0.19154232740402224, 0.22511206567287445, 0.4495803117752075, -0.6341429352760315, 0.8156203627586365, -0.0343562550842762, -0.29251429438591003, 0.1397397369146347, -0.7420556545257568, 0.7378599643707275, -0.35192230343818665, 0.16935336589813232, -0.37864741683006287, 0.30192264914512634, -0.05412377789616585, 0.28175970911979675, -0.26699313521385193, 0.9860202670097352, -0.27309200167655945, -0.28842103481292725, -0.4359732568264008, -0.0422646589577198, 0.17312341928482056, -0.11499988287687302, -0.17142611742019653, 0.16579924523830414, 0.25542137026786804, 0.3026045262813568, 0.2879308760166168, 0.34061774611473083, 0.6897757053375244, 0.05592374876141548, 0.11107064038515092, -0.02282758615911007, -0.2024886459112167, 0.5300189256668091, -0.47756266593933105, -0.3131053149700165, 0.4247766733169556, -0.3744250237941742, -0.0010422865161672237, -0.01425724197179079, 0.10098397731781006, -0.8673645853996277, -0.0901024043560028, 0.11890559643507004, 0.14946110546588898, 0.14639806747436523, 0.02900358848273754, 0.4034788906574249, 0.4074286222457886, -0.4130841195583343, -0.26961466670036316, -0.13797281682491302, -0.25381526350975037, 0.24902212619781497, 0.1860872507095337, -0.04034150764346123, -0.3524404466152191, -0.9640423655509948, 0.1649475395679474, -0.1275661587715149, 0.4672251641750336, -1.0731436014175415, 0.03656550124287605, 0.2932370901107788, 0.2686026096343994, -1.1164205074310305, -0.7433604598045349, 0.2053639441728592, -0.6724597811698914, -0.2571747601032257, 0.3529485762119293, -0.9999003410339355, 0.2500113546848297, 0.5538069605827332, 0.2380351275205612, -0.2816692292690277, 0.38115763664245605, -0.7061247825622559, 0.2852167785167694, -0.3401014506816864, -0.3793019950389862, 0.08744313567876816, -0.4827601015567779, 0.09040164947509766, 0.5604754090309143, -0.7796816229820251, 0.6468167304992676, 0.13698072731494904, -0.9011866450309752, 0.07824528962373734, -0.5519872903823853, -0.5455911755561829, 0.2572610080242157, -0.29400792717933655, 0.14956416189670563, 0.05754206702113152, -0.22140641510486603, -0.6710497736930847, -0.06505396217107773, -0.04872870817780495, -0.024113116785883904, -0.47986212372779846, -0.450152188539505, -0.5434776544570923, 0.3485863208770752, 0.31600940227508545, 0.015491760335862637, -0.11341176182031631, -0.07827442139387131, -0.7242183089256287, -0.16379877924919128, 0.18680959939956665, 0.4769976139068603, -0.014294862747192385, 0.4439377784729004, -0.769432008266449, -0.29169848561286926, 0.04196961224079132, -0.26076337695121765, 0.9617293477058412, 0.20064644515514377, 0.045524269342422485, 0.818164050579071, 0.12056633830070496, -0.19081054627895355, -1.0296789407730105, -0.28975173830986023, 0.15776033699512482, 0.2871311902999878, -0.20992660522460935, -0.06334743648767471, 0.4125286638736725, 0.14290928840637207, -0.5781466960906982, -0.1946316808462143, -0.3677705228328705, 0.30598723888397217, -0.05862538889050484, -1.0414217710494995, 0.13141591846942902, -0.9461917877197266, -0.1839966326951981, -0.31624165177345276, -0.3317439556121826, -0.3526235818862915, 0.2525862455368042, 0.023661330342292786, 0.17567233741283417, 0.1553119570016861, -0.40013253688812256, 0.16379550099372864, -0.3977724611759186, -0.7646344304084778, 0.19110284745693207, 0.7892773747444153, 0.4503461420536041, 0.1979651004076004, -0.2830653488636017, 0.446338027715683, -0.5897346138954163, -0.18274575471878052, -0.14318425953388214, -0.3931322395801544, 0.5167208909988403, -0.32515156269073486, 0.3817194700241089, 0.1849408894777298, 0.07825497537851334, 0.4726242125034332, -0.05692486464977264, 0.243208572268486, 0.4183247983455658, 0.008095900528132915, 0.5636322498321533, -0.044272322207689285, -0.14912237226963043, 0.2692781686782837, 0.4411731958389282, -0.5396089553833008, -0.0005641977186314762, -0.20481513440608975, 0.29119768738746643, 0.25432920455932617, -0.5897107124328613, -0.3724464178085327, -0.3773734867572784, 0.13164353370666504, -0.6813173890113831, -0.45379170775413513, 0.20500712096691132, 0.9343579411506652, 0.15623125433921814, 0.6187363266944885, -0.4023473560810089, 0.743927001953125, -0.09066150337457655, 0.4436359405517578, 0.1170455440878868, -0.3940099179744721, -0.41788986325263977, 0.6156837344169617, -0.009237605147063732, 0.8501572012901306, 1.1887248754501345, -0.25037750601768494, -1.1993802785873413, -0.13135172426700592, 0.08966851979494095, 0.06856419891119003, 0.8359726071357727, -0.2955741286277771, -0.25819340348243713, 0.24462099373340607, -0.7464275360107422, -0.20522575080394745, 0.03959086537361145, -0.1120920404791832, -0.2930983603000641, 0.13531194627285004, 0.18497811257839203, 0.6107355356216431, 0.7390453219413757, 0.09186629205942154, -0.11367335915565492, 0.10679622739553452, -0.650052547454834, -0.8203079700469971, -0.6533166766166687, 0.519989550113678, 0.30949971079826355, -0.3871149122714996, -0.4778648912906647, 0.04700685665011406, 0.20331072807312012, -0.728998601436615, -0.3741963803768158, -0.1964731365442276, -0.16659097373485565, 0.9644746780395508, 0.3933162391185761, -0.2733577787876129, 0.13923820853233335, 0.6145836710929871, -0.1682131141424179, -0.3452214300632477, -0.4970869719982147, -0.015633806586265564, -0.4206397533416748, 0.2212943285703659, 0.5489571690559387, 0.006694593001157045, 1.039302945137024, 0.0443098358809948, -0.1434185653924942, -0.053933728486299515, -0.4053332805633545, 0.18257372081279755, 0.21068961918354032, -0.8715169429779053, -0.28221428394317627, -0.33190077543258667, 0.2198200225830078, 0.2599075138568878, -0.5914777517318726, -0.16825872659683228, 0.1975528746843338, -0.11178642511367798, -0.27834099531173706, 0.5628547072410583, 0.6624114513397217, 0.9973900318145752, -0.09944415092468262, -0.5547279715538025, 0.8934006094932556, -0.6563857197761536, -0.23715977370738983, 0.2769993245601654, -0.4093271493911743, -0.45988693833351135, 0.06074562296271324, 0.021603763103485107, -0.40726789832115173, 0.1292676478624344, -0.4251529276371002, -0.7358903884887695, 0.23432718217372897, 0.10041763633489607, 0.913425624370575, 0.3496841490268707, 0.03920596092939377, 0.44237908720970154, -0.8303112983703613, 0.07833073288202286, 0.07071416825056076, 0.757129967212677, 0.7186412811279297, 0.14833030104637146, -0.07330944389104843, 0.3155348300933838, 0.1947365254163742, 0.439235121011734, -0.6285451054573059, 0.24262170493602753, 0.20790189504623413, -0.25389808416366577, 0.34947314858436584, -0.3027017414569855, -0.09809570759534836, -0.4994963109493256, -0.2396504282951355, 0.08419352769851685, 0.22176611423492432, 0.322005033493042, -0.3204723298549652, -0.2499538213014603, 0.01092854142189026, 0.1353832632303238, -0.13920806348323822, -0.2116791605949402, -0.02147236466407776, 0.8229898810386658, 0.5890185832977295, -0.7384576797485352, 0.28260692954063416, -0.15934032201766968, 0.4669051170349121, -1.204716682434082, -0.8115572929382324, 0.05432922765612602, 0.05680909752845764, 0.6048202514648438, 0.062199294567108154, -0.06778120249509811, 0.056814830750226974, 0.0071500688791275024, -0.2426183968782425, -0.13642407953739166, 0.8820052742958069, -0.14516973495483398, -0.05328899994492531, 0.3911928236484528, 0.7653078436851501, 0.06364378333091736, -0.3859306573867798, -0.5921416878700256, 0.1927310675382614, -0.8686237335205078, -1.3052080869674685, 0.7072350382804871, 0.1982322484254837, -0.06365237385034561, -0.5047815442085266, -0.19318024814128876, 0.15207087993621826, 0.1929853707551956, -0.45573726296424866, -0.2492336630821228, 0.5576514005661011, 0.13918837904930115, -0.2251346856355667, -0.15169250965118408, -0.1893860101699829, -0.23533649742603305, 0.21530991792678833, 0.5753502249717712, -0.0385487899184227, 0.2987086772918701, -0.24370501935482025, 0.07617741078138351, 1.0604814291000366, -0.2226243019104004, -0.491768479347229, 0.2316383570432663, 0.07915452867746353, 0.2460780888795853, 0.04459385946393013, 0.16054648160934448, 0.5848169922828674, 0.42869460582733154, -0.04333295300602913, 0.8935825228691101, -5.062488555908203, 0.16369237005710602, -0.20012973248958588, 0.21629105508327484, 0.14351946115493774, 0.25277623534202576, -0.2707757353782654, 1.0451985597610474, -0.5315197110176086, -0.04601570963859558, 0.09888968616724014, -0.1516965627670288, -0.2902039587497711, -0.04718739911913872, -0.27174824476242065, -0.46573832631111145, 0.4164506494998932, 0.12992370128631592, -0.1673957109451294, 0.29517099261283875, -0.29969775676727295, -0.45113644003868103, -0.021494895219802856, -0.2167069911956787, 0.1656084507703781, -0.8003491759300232, -0.09508690983057022, 0.4688151776790619, 0.3154682219028473, -0.2243873625993729, 0.6278995871543884, 0.1459120362997055, -0.8021907806396484, 0.11210957169532776, 0.4098854064941406, 0.0325431264936924, -0.6645431518554688, -0.3791145384311676, -0.10980620235204697, -0.16800104081630707, 0.5589314103126526, -0.022503027692437172, -0.10480590909719469, 0.08166147023439407, -0.3107105791568756, -0.642840564250946, 0.11845733970403673, -0.135161355137825, -0.26115408539772034, -0.9754047989845276, 0.047665148973464966, -0.17592525482177734, 0.223713681101799, -0.4059074819087982, -0.648113489151001, 0.38983675837516785, 0.3238695561885834, -0.057353075593709946, -0.5402610301971436, 0.11306392401456831, -0.22111813724040985, -0.4940246641635895, -0.24935252964496613, -0.47599267959594727, 0.1470029503107071, -0.5894222259521484, -0.6372011303901672, 0.17701618373394012, 0.13747234642505646, 0.07489269226789474, 0.6609895825386047, 0.06095709279179573, 0.24051892757415771, -0.46475109457969666, 0.6311184763908386, 0.4544880390167236, -0.32419881224632263, -0.030879808589816093, 1.311648726463318, -0.6241652369499207, 0.25518810749053955, -0.0978873148560524, -0.04330497980117798, -0.3910740911960602, 0.05496155843138695, -0.023815125226974487, 0.4615088701248169, -0.72284334897995, 0.7794201374053955, 0.029880860820412636, 0.2609834671020508, 0.1992584466934204, -0.7053934931755066, 0.22432301938533783, 0.2200467586517334, -0.3583885431289673, 0.8921154141426086, 0.11337194591760635, -0.36923250555992126, 0.919001281261444, -0.7589952349662781, -0.4514613449573517, -0.4205543994903565, 0.19483812153339383, 0.365799218416214, -0.6917014122009277, 0.30418458580970764, -0.1966072916984558, -0.07106254249811172, 0.05922411382198334, -0.10082989931106567, 0.3135567903518677, 0.4187711179256439, -0.4474773705005646, 0.17512743175029755, -0.11024320870637894, -0.21385563910007477, -0.5013661980628967, -0.0964801087975502, 0.18664830923080444, -0.03858653083443642, 0.7196030020713806, -0.459660917520523, -0.5973069667816162, 0.4082832336425781, 0.9198038578033448, 0.23769909143447876, -0.43933865427970886, 0.41684362292289734, -1.107762336730957, -0.3562185764312744, 0.5301551222801208, -0.6459519267082214, 1.5592546463012695, -0.2263378947973251, 0.3372986316680908, 0.3257075846195221, -0.7125707268714905, 0.031546976417303085, -0.20128792524337769, -0.1725066900253296, 0.4207901656627655, -0.3016813397407532, 1.0883758068084717, -0.3958023488521576, -0.25276076793670654, -0.013463337905704977, 0.04983269050717354, 0.19216859340667725, -0.38279542326927185, -0.369322270154953, -0.5561336874961853, -0.089451365172863, 0.8245856761932373, -0.7197644710540771, 0.13621827960014343, 0.007608279585838318, -0.8504109382629395, -0.14984291791915894, 0.4491502344608307, -0.03995109722018242, 0.5591422915458679, -0.2673656940460205, 0.7833539843559265, -0.7949729561805725, 0.34986814856529236, 0.7117803692817688, -0.5589714646339417, 0.2045660763978958, 0.1372259110212326, 0.4397116899490357, -0.09648975729942322, -0.14226727187633514, -0.6138371825218201, 0.043971821665763855, -0.4698404371738434, 0.014836137183010578, -0.16509868204593658, 0.019164523109793663, -0.0013271173229441049, -0.1720043271780014, 0.6928735375404358, -0.3275117576122284, 0.03761019185185432, -0.03583914414048195, -0.5547165274620056, -0.4804382026195526, -0.042417120188474655, 0.929686725139618, 0.1702512353658676, -0.1357761025428772, 0.4465823173522949, -0.5870148539543152, -0.2497595101594925, -0.3282296359539032, 0.1851557046175003, -0.04990285634994507, -0.12873928248882294, -0.4135673344135285, 0.5829896926879883, -0.49949002265930176, 0.07641655951738358, -0.4614221751689911, -0.3293721377849579, 0.018325189128518105, 0.6145195364952087, -0.4803948402404785, 1.3796697854995728, 0.14204037189483645, -0.17448876798152924, 0.3744957745075226, -0.4073622524738312, 0.15735627710819244, -0.25089696049690247, -0.5554323792457581, -0.20343749225139615, 0.10645578056573868, 0.06599169969558716, -0.5641632080078125, -0.3044542670249939, 0.34096768498420715, 0.3881641924381256, 0.24327664077281952, -0.016760652884840965, 0.11634290963411333, 1.2314985990524292, -0.30756014585494995, 0.15800482034683228, 0.18015120923519137, 0.07954766601324081, 0.1430799812078476, -0.19739437103271484, 0.5477917790412903, -0.07227642089128494, 0.08643993735313416, 0.03400174900889397, -0.46291041374206543, -0.35453855991363525, -0.3581189215183258, -0.16965781152248385, -0.6048120856285095, 0.09201105684041976, -0.3282727897167206, 0.0591375045478344, 0.7046828866004944, 0.6821295619010925, -0.3127068281173706, -0.16488946974277496, -0.3696701228618622, 0.10969781875610352, -0.12825073301792145, -0.1778424233198166, -0.6529269814491272, -0.17760811746120453, 0.12124639749526978, 0.014804840087890623, -0.051260221749544144, 0.20785899460315704, 0.5408129692077637, -0.15244850516319275, -0.44051316380500793, -0.3757918179035187, 0.6031410098075867, -0.5308342576026917, -0.6138931512832642, 0.08740613609552383, 0.9434208869934082, 0.36750397086143494, -0.03737686946988106, 0.0689331516623497, -0.46302786469459534, -0.019495448097586632, -0.013160177506506445, 0.27793392539024353, 0.48388513922691345, 0.039550770074129105, -0.10905077308416368, 0.3891126811504364, 0.22538353502750397, 0.13167743384838104, -0.10106592625379562, 0.37691131234169006, 0.2998700439929962, -0.30287986993789673, -0.3153897523880005, -0.4910832941532135, -0.1556015908718109, -0.24925704300403595, -0.2025080174207687, -0.2349478155374527, -0.6605257987976074, 0.20863057672977448, -0.2554302215576172, -0.7004785537719727, -0.7919194102287292, 0.25315016508102417, -0.1135261133313179, 1.1402029991149902, -0.3990389406681061, 0.32645925879478455, -0.04678388312458992, 0.25785160064697266, 0.4666379988193512, 0.046193744987249374, 0.8655697703361511, 0.1164473071694374, -0.1981828808784485, -0.25624367594718933, 0.4169593155384064, 0.8963251709938049, 0.3449234664440155, -0.5056318640708923, -0.012867704033851624, 0.10406473278999329, -0.7333025932312012, -0.15271438658237457, -0.5355997085571289, 0.4464908838272095, -0.22949586808681488, -0.08602779358625412, 0.6785346865653992, -0.0560387521982193, 0.26984110474586487, -0.3174045979976654, 0.19005294144153595, 0.27039262652397156, -0.05685679614543915, -0.30022111535072327, -0.5696641802787781, -0.6553290486335754, 0.1556539684534073, 0.2423740029335022, 0.1410026103258133, 0.4116494655609131, -0.2696402370929718, -0.010017956607043743, 0.4231944084167481, 0.33256271481513977, -1.0253695249557495, 0.3471800982952118, -0.25033271312713623, 0.4682895243167877, 0.6660318374633789, 0.22824202477931976]], 'vocab': 'atc', '_id': '03b070c9-9e17-4414-954f-abed36888b4b', '_collection_name': 'concept_mapping'}]\n"
     ]
    }
   ],
   "source": [
    "results = vector_store.similarity_search(\n",
    "    \"alimentary canal\",\n",
    "    score_threshold=0.7,\n",
    "    k=2\n",
    ")\n",
    "print(f\"results: {results}\")\n",
    "for res in results:\n",
    "    print(f\"* {res.page_content} [{res.metadata}]\")"
   ]
  },
  {
   "cell_type": "code",
   "execution_count": null,
   "metadata": {},
   "outputs": [],
   "source": []
  },
  {
   "cell_type": "code",
   "execution_count": 5,
   "metadata": {},
   "outputs": [],
   "source": [
    "# uuids = [str(uuid4()) for _ in range(len(docs))]\n",
    "# vector_store.add_documents(documents=docs, ids=uuids)"
   ]
  },
  {
   "cell_type": "code",
   "execution_count": null,
   "metadata": {},
   "outputs": [],
   "source": []
  }
 ],
 "metadata": {
  "kernelspec": {
   "display_name": "Python 3",
   "language": "python",
   "name": "python3"
  },
  "language_info": {
   "codemirror_mode": {
    "name": "ipython",
    "version": 3
   },
   "file_extension": ".py",
   "mimetype": "text/x-python",
   "name": "python",
   "nbconvert_exporter": "python",
   "pygments_lexer": "ipython3",
   "version": "3.10.12"
  }
 },
 "nbformat": 4,
 "nbformat_minor": 2
}
